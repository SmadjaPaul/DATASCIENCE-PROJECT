{
 "cells": [
  {
   "cell_type": "markdown",
   "metadata": {
    "Collapsed": "false"
   },
   "source": [
    "# Introduction\n",
    "\n",
    "Mes notebook ont été initialisés grâce à plusieurs sources fournies autour du concours [Kaggle](https://www.kaggle.com/c/home-credit-default-risk) sur le risque de défaut de paiement de crédit immobilier : données du crédit immobilier, carnets de notes des concurrents, fils de discussion impliquant l'hôte et les concurrents.\n",
    "\n",
    "Alors que l'objectif des concurrents est d'obtenir le meilleure score (AUC) par tous les moyens, nous nous concentrerons plutôt sur la capacité à fournir des décisions interprétables, y compris la possibilité d'explorer le cas f'un client.\n",
    "\n",
    "# Notebooks et tableau de bord\n",
    "Ce projet comportent 7 Notebook différents :\n",
    "\n",
    "* Projet7_AED : axé sur l'analyse exploratoire des données\n",
    "* Projet7_kaggle_FE1_FE2 : axé sur l'ingénierie des caractéristiques\n",
    "* Projet7_kaggle_FS: axé sur une première sélection des caractéristiques agnostiques du modèle\n",
    "* Projet7_Modelisation_pycaret : se concentre sur l'évaluation de différent modéles\n",
    "* Actuel : Projet7_Modelisation : se concentre sur l'amélioration des modéles selectionné précedament\n",
    "* Projet7_Interprétation : se concentre sur l'interprétation du modèle\n",
    "\n",
    "+ 2 fichiers python contenant le code du Dashboard et de l'api."
   ]
  },
  {
   "cell_type": "raw",
   "metadata": {
    "Collapsed": "false"
   },
   "source": [
    "# checking PEP8 conformity\n",
    "%load_ext pycodestyle_magic\n",
    "%pycodestyle_on"
   ]
  },
  {
   "cell_type": "raw",
   "metadata": {
    "Collapsed": "false",
    "jupyter": {
     "outputs_hidden": true
    }
   },
   "source": [
    "# install dependencies\n",
    "# numpy==1.13.1\n",
    "!pip install numpy\n",
    "!pip install hyperopt\n",
    "# scipy==0.19.1\n",
    "!pip install scipy\n",
    "!pip install keyboard"
   ]
  },
  {
   "cell_type": "markdown",
   "metadata": {
    "Collapsed": "false",
    "toc-hr-collapsed": true
   },
   "source": [
    "# **IMPORT DES DONNÉES**\n",
    "Nous importons les données déjà pré-traitées :\n",
    "* jointures\n",
    "* aggrégations des variables numériques\n",
    "* encodage fréquenciel normé des variables catégorielles\n",
    "* variables sélectionnées sur la base:\n",
    "    * du taux de remplissage\n",
    "    * des corrélations\n",
    "    * de la features importances d'un modèle (LightGBM)\n",
    "* etc."
   ]
  },
  {
   "cell_type": "markdown",
   "metadata": {
    "Collapsed": "false"
   },
   "source": [
    "## Chargement des librairies"
   ]
  },
  {
   "cell_type": "code",
   "execution_count": 1,
   "metadata": {
    "Collapsed": "false"
   },
   "outputs": [],
   "source": [
    "# import 'data stack' libraries\n",
    "import pandas as pd\n",
    "import numpy as np\n",
    "import matplotlib.pyplot as plt\n",
    "\n",
    "# increase the maximum number of columns to display\n",
    "pd.set_option(\"display.max_columns\", 1000)  # Maximum number of columns\n",
    "pd.set_option(\"display.max_rows\", 1000)  # Maximum number of columns"
   ]
  },
  {
   "cell_type": "markdown",
   "metadata": {
    "Collapsed": "false"
   },
   "source": [
    "## Chargement des données"
   ]
  },
  {
   "cell_type": "code",
   "execution_count": 2,
   "metadata": {
    "Collapsed": "false",
    "_uuid": "e8384e3033ee466ab3c426d8330822e974ad3c1b"
   },
   "outputs": [
    {
     "output_type": "stream",
     "name": "stdout",
     "text": [
      "Training set full shape:  (307511, 344)\nTesting set full shape:  (48744, 343)\n"
     ]
    }
   ],
   "source": [
    "train = pd.read_csv('data/raw/m_train_small.csv')\n",
    "test = pd.read_csv('data/raw/m_test_small.csv')\n",
    "\n",
    "print('Training set full shape: ', train.shape)\n",
    "print('Testing set full shape: ' , test.shape)"
   ]
  },
  {
   "cell_type": "code",
   "execution_count": 3,
   "metadata": {
    "Collapsed": "false"
   },
   "outputs": [
    {
     "output_type": "execute_result",
     "data": {
      "text/plain": [
       "installments_NUM_INSTALMENT_VERSION_min_sum  \\\n",
       "0                                               19.0    \n",
       "1                                               25.0    \n",
       "2                                                3.0    \n",
       "3                                               17.0    \n",
       "4                                               66.0    \n",
       "\n",
       "   previous_loans_CODE_REJECT_REASON_CLIENT_count_norm  \\\n",
       "0                                                0.0     \n",
       "1                                                0.0     \n",
       "2                                                0.0     \n",
       "3                                                0.0     \n",
       "4                                                0.0     \n",
       "\n",
       "   previous_loans_NAME_PORTFOLIO_XNA_count_norm  \\\n",
       "0                                      0.000000   \n",
       "1                                      0.000000   \n",
       "2                                      0.000000   \n",
       "3                                      0.333333   \n",
       "4                                      0.000000   \n",
       "\n",
       "   previous_loans_PRODUCT_COMBINATION_Card X-Sell_count_norm  \\\n",
       "0                                           0.000000           \n",
       "1                                           0.000000           \n",
       "2                                           0.000000           \n",
       "3                                           0.111111           \n",
       "4                                           0.000000           \n",
       "\n",
       "   previous_loans_CNT_PAYMENT_min  \\\n",
       "0                            24.0   \n",
       "1                             6.0   \n",
       "2                             4.0   \n",
       "3                             0.0   \n",
       "4                            10.0   \n",
       "\n",
       "   previous_loans_WEEKDAY_APPR_PROCESS_START_FRIDAY_count_norm  \\\n",
       "0                                           0.000000             \n",
       "1                                           0.333333             \n",
       "2                                           1.000000             \n",
       "3                                           0.000000             \n",
       "4                                           0.166667             \n",
       "\n",
       "   client_cash_NAME_CONTRACT_STATUS_Signed_count_norm_max  \\\n",
       "0                                           0.000000        \n",
       "1                                           0.000000        \n",
       "2                                           0.000000        \n",
       "3                                           0.000000        \n",
       "4                                           0.076923        \n",
       "\n",
       "   client_bureau_balance_MONTHS_BALANCE_max_sum  \\\n",
       "0                                        -124.0   \n",
       "1                                           0.0   \n",
       "2                                           0.0   \n",
       "3                                           NaN   \n",
       "4                                           0.0   \n",
       "\n",
       "   client_bureau_balance_STATUS_X_count_norm_sum  \\\n",
       "0                                       1.295455   \n",
       "1                                       0.000000   \n",
       "2                                       0.000000   \n",
       "3                                            NaN   \n",
       "4                                       0.000000   \n",
       "\n",
       "   previous_loans_WEEKDAY_APPR_PROCESS_START_TUESDAY_count_norm  \\\n",
       "0                                           0.000000              \n",
       "1                                           0.000000              \n",
       "2                                           0.000000              \n",
       "3                                           0.111111              \n",
       "4                                           0.000000              \n",
       "\n",
       "   previous_loans_NAME_SELLER_INDUSTRY_Construction_count_norm  \\\n",
       "0                                           0.000000             \n",
       "1                                           0.000000             \n",
       "2                                           0.000000             \n",
       "3                                           0.111111             \n",
       "4                                           0.000000             \n",
       "\n",
       "   bureau_CREDIT_TYPE_Consumer credit_count_norm  \\\n",
       "0                                            0.5   \n",
       "1                                            0.5   \n",
       "2                                            1.0   \n",
       "3                                            NaN   \n",
       "4                                            1.0   \n",
       "\n",
       "   previous_loans_NAME_SELLER_INDUSTRY_Furniture_count_norm  \\\n",
       "0                                           0.000000          \n",
       "1                                           0.333333          \n",
       "2                                           0.000000          \n",
       "3                                           0.000000          \n",
       "4                                           0.000000          \n",
       "\n",
       "   previous_loans_NAME_SELLER_INDUSTRY_Connectivity_count  \\\n",
       "0                                                0.0        \n",
       "1                                                0.0        \n",
       "2                                                1.0        \n",
       "3                                                0.0        \n",
       "4                                                1.0        \n",
       "\n",
       "   previous_loans_PRODUCT_COMBINATION_Cash Street: middle_count_norm  \\\n",
       "0                                                0.0                   \n",
       "1                                                0.0                   \n",
       "2                                                0.0                   \n",
       "3                                                0.0                   \n",
       "4                                                0.0                   \n",
       "\n",
       "   previous_loans_NAME_YIELD_GROUP_high_count  \\\n",
       "0                                         0.0   \n",
       "1                                         0.0   \n",
       "2                                         0.0   \n",
       "3                                         2.0   \n",
       "4                                         3.0   \n",
       "\n",
       "   client_bureau_balance_STATUS_X_count_sum  \\\n",
       "0                                      15.0   \n",
       "1                                       0.0   \n",
       "2                                       0.0   \n",
       "3                                       NaN   \n",
       "4                                       0.0   \n",
       "\n",
       "   client_bureau_balance_STATUS_1_count_norm_min  \\\n",
       "0                                            0.0   \n",
       "1                                            NaN   \n",
       "2                                            NaN   \n",
       "3                                            NaN   \n",
       "4                                            NaN   \n",
       "\n",
       "   client_bureau_balance_STATUS_X_count_max  \\\n",
       "0                                       3.0   \n",
       "1                                       NaN   \n",
       "2                                       NaN   \n",
       "3                                       NaN   \n",
       "4                                       NaN   \n",
       "\n",
       "   previous_loans_PRODUCT_COMBINATION_POS mobile with interest_count_norm  \\\n",
       "0                                           0.000000                        \n",
       "1                                           0.000000                        \n",
       "2                                           0.000000                        \n",
       "3                                           0.000000                        \n",
       "4                                           0.166667                        \n",
       "\n",
       "   previous_loans_PRODUCT_COMBINATION_POS industry without interest_count_norm  \\\n",
       "0                                                0.0                             \n",
       "1                                                0.0                             \n",
       "2                                                0.0                             \n",
       "3                                                0.0                             \n",
       "4                                                0.0                             \n",
       "\n",
       "   client_credit_AMT_RECEIVABLE_PRINCIPAL_sum_sum  \\\n",
       "0                                             NaN   \n",
       "1                                             NaN   \n",
       "2                                             NaN   \n",
       "3                                             0.0   \n",
       "4                                             NaN   \n",
       "\n",
       "   client_credit_CNT_DRAWINGS_ATM_CURRENT_sum_sum  \\\n",
       "0                                             NaN   \n",
       "1                                             NaN   \n",
       "2                                             NaN   \n",
       "3                                             0.0   \n",
       "4                                             NaN   \n",
       "\n",
       "   client_bureau_balance_STATUS_1_count_norm_sum  \\\n",
       "0                                       2.045455   \n",
       "1                                       0.000000   \n",
       "2                                       0.000000   \n",
       "3                                            NaN   \n",
       "4                                       0.000000   \n",
       "\n",
       "   previous_loans_PRODUCT_COMBINATION_POS household with interest_count_norm  \\\n",
       "0                                           0.000000                           \n",
       "1                                           0.333333                           \n",
       "2                                           0.000000                           \n",
       "3                                           0.111111                           \n",
       "4                                           0.166667                           \n",
       "\n",
       "   ORGANIZATION_TYPE_School  client_bureau_balance_STATUS_1_count_max  \\\n",
       "0                         0                                       6.0   \n",
       "1                         1                                       NaN   \n",
       "2                         0                                       NaN   \n",
       "3                         0                                       NaN   \n",
       "4                         0                                       NaN   \n",
       "\n",
       "   previous_loans_NAME_CASH_LOAN_PURPOSE_Repairs_count_norm  FLAG_PHONE  \\\n",
       "0                                                0.0                  1   \n",
       "1                                                0.0                  1   \n",
       "2                                                0.0                  1   \n",
       "3                                                0.0                  0   \n",
       "4                                                0.0                  0   \n",
       "\n",
       "   previous_loans_PRODUCT_COMBINATION_Cash_count_norm  \\\n",
       "0                                           0.000000    \n",
       "1                                           0.000000    \n",
       "2                                           0.000000    \n",
       "3                                           0.222222    \n",
       "4                                           0.000000    \n",
       "\n",
       "   client_bureau_balance_STATUS_X_count_norm_max  CNT_FAM_MEMBERS  \\\n",
       "0                                            0.5              1.0   \n",
       "1                                            NaN              2.0   \n",
       "2                                            NaN              1.0   \n",
       "3                                            NaN              2.0   \n",
       "4                                            NaN              1.0   \n",
       "\n",
       "   client_bureau_balance_STATUS_X_count_min  \\\n",
       "0                                       0.0   \n",
       "1                                       NaN   \n",
       "2                                       NaN   \n",
       "3                                       NaN   \n",
       "4                                       NaN   \n",
       "\n",
       "   client_cash_NAME_CONTRACT_STATUS_Active_count_norm_min  \\\n",
       "0                                           1.000000        \n",
       "1                                           0.875000        \n",
       "2                                           0.750000        \n",
       "3                                           0.666667        \n",
       "4                                           0.846154        \n",
       "\n",
       "   WALLSMATERIAL_MODE_Panel  ORGANIZATION_TYPE_Bank  \\\n",
       "0                         0                       0   \n",
       "1                         0                       0   \n",
       "2                         0                       0   \n",
       "3                         0                       0   \n",
       "4                         0                       0   \n",
       "\n",
       "   previous_loans_PRODUCT_COMBINATION_POS household without interest_count_norm  \\\n",
       "0                                                0.0                              \n",
       "1                                                0.0                              \n",
       "2                                                0.0                              \n",
       "3                                                0.0                              \n",
       "4                                                0.0                              \n",
       "\n",
       "   client_credit_CNT_DRAWINGS_CURRENT_max_sum  \\\n",
       "0                                         NaN   \n",
       "1                                         NaN   \n",
       "2                                         NaN   \n",
       "3                                         0.0   \n",
       "4                                         NaN   \n",
       "\n",
       "   client_installments_NUM_INSTALMENT_NUMBER_min_max  \\\n",
       "0                                                1.0   \n",
       "1                                                1.0   \n",
       "2                                                1.0   \n",
       "3                                                1.0   \n",
       "4                                                1.0   \n",
       "\n",
       "   client_credit_AMT_PAYMENT_CURRENT_min_sum  \\\n",
       "0                                        NaN   \n",
       "1                                        NaN   \n",
       "2                                        NaN   \n",
       "3                                        0.0   \n",
       "4                                        NaN   \n",
       "\n",
       "   previous_loans_WEEKDAY_APPR_PROCESS_START_WEDNESDAY_count_norm  \\\n",
       "0                                                0.0                \n",
       "1                                                0.0                \n",
       "2                                                0.0                \n",
       "3                                                0.0                \n",
       "4                                                0.0                \n",
       "\n",
       "   previous_loans_WEEKDAY_APPR_PROCESS_START_WEDNESDAY_count  \\\n",
       "0                                                0.0           \n",
       "1                                                0.0           \n",
       "2                                                0.0           \n",
       "3                                                0.0           \n",
       "4                                                0.0           \n",
       "\n",
       "   client_cash_NAME_CONTRACT_STATUS_Completed_count_norm_sum  \\\n",
       "0                                                0.0           \n",
       "1                                                2.0           \n",
       "2                                                1.0           \n",
       "3                                                2.0           \n",
       "4                                                3.0           \n",
       "\n",
       "   previous_loans_NAME_CLIENT_TYPE_Repeater_count  \\\n",
       "0                                             0.0   \n",
       "1                                             1.0   \n",
       "2                                             0.0   \n",
       "3                                             8.0   \n",
       "4                                             5.0   \n",
       "\n",
       "   client_credit_NAME_CONTRACT_STATUS_Completed_count_norm_mean  \\\n",
       "0                                                NaN              \n",
       "1                                                NaN              \n",
       "2                                                NaN              \n",
       "3                                                0.0              \n",
       "4                                                NaN              \n",
       "\n",
       "   bureau_AMT_ANNUITY_min  previous_loans_NAME_PRODUCT_TYPE_XNA_count  \\\n",
       "0                     0.0                                         1.0   \n",
       "1                     NaN                                         2.0   \n",
       "2                     NaN                                         1.0   \n",
       "3                     NaN                                         5.0   \n",
       "4                     NaN                                         2.0   \n",
       "\n",
       "   previous_loans_NAME_GOODS_CATEGORY_Mobile_count_norm  \\\n",
       "0                                                0.0      \n",
       "1                                                0.0      \n",
       "2                                                1.0      \n",
       "3                                                0.0      \n",
       "4                                                0.0      \n",
       "\n",
       "   client_credit_AMT_PAYMENT_TOTAL_CURRENT_max_max  \\\n",
       "0                                              NaN   \n",
       "1                                              NaN   \n",
       "2                                              NaN   \n",
       "3                                              0.0   \n",
       "4                                              NaN   \n",
       "\n",
       "   previous_loans_CODE_REJECT_REASON_VERIF_count_norm  \\\n",
       "0                                                0.0    \n",
       "1                                                0.0    \n",
       "2                                                0.0    \n",
       "3                                                0.0    \n",
       "4                                                0.0    \n",
       "\n",
       "   client_cash_NAME_CONTRACT_STATUS_Completed_count_norm_min  \\\n",
       "0                                               0.00           \n",
       "1                                               0.00           \n",
       "2                                               0.25           \n",
       "3                                               0.00           \n",
       "4                                               0.00           \n",
       "\n",
       "   previous_loans_NAME_SELLER_INDUSTRY_Consumer electronics_count  \\\n",
       "0                                                0.0                \n",
       "1                                                1.0                \n",
       "2                                                0.0                \n",
       "3                                                1.0                \n",
       "4                                                3.0                \n",
       "\n",
       "   previous_loans_NAME_TYPE_SUITE_Children_count_norm  \\\n",
       "0                                                0.0    \n",
       "1                                                0.0    \n",
       "2                                                0.0    \n",
       "3                                                0.0    \n",
       "4                                                0.0    \n",
       "\n",
       "   previous_loans_DAYS_FIRST_DRAWING_min  \\\n",
       "0                               365243.0   \n",
       "1                               365243.0   \n",
       "2                               365243.0   \n",
       "3                               365243.0   \n",
       "4                               365243.0   \n",
       "\n",
       "   previous_loans_CHANNEL_TYPE_Regional / Local_count_norm  \\\n",
       "0                                           0.000000         \n",
       "1                                           0.000000         \n",
       "2                                           1.000000         \n",
       "3                                           0.000000         \n",
       "4                                           0.166667         \n",
       "\n",
       "   client_cash_CNT_INSTALMENT_min_min  \\\n",
       "0                                24.0   \n",
       "1                                 6.0   \n",
       "2                                 3.0   \n",
       "3                                 1.0   \n",
       "4                                10.0   \n",
       "\n",
       "   client_credit_AMT_CREDIT_LIMIT_ACTUAL_min_min  \\\n",
       "0                                            NaN   \n",
       "1                                            NaN   \n",
       "2                                            NaN   \n",
       "3                                       270000.0   \n",
       "4                                            NaN   \n",
       "\n",
       "   client_installments_NUM_INSTALMENT_VERSION_sum_min  \\\n",
       "0                                               20.0    \n",
       "1                                                6.0    \n",
       "2                                                4.0    \n",
       "3                                                2.0    \n",
       "4                                               10.0    \n",
       "\n",
       "   previous_loans_CODE_REJECT_REASON_LIMIT_count_norm  \\\n",
       "0                                           0.000000    \n",
       "1                                           0.000000    \n",
       "2                                           0.000000    \n",
       "3                                           0.111111    \n",
       "4                                           0.000000    \n",
       "\n",
       "   client_credit_NAME_CONTRACT_STATUS_Signed_count_norm_mean  \\\n",
       "0                                                NaN           \n",
       "1                                                NaN           \n",
       "2                                                NaN           \n",
       "3                                                0.0           \n",
       "4                                                NaN           \n",
       "\n",
       "   client_credit_SK_DPD_mean_mean  TARGET  SK_ID_CURR  \n",
       "0                             NaN       1      100002  \n",
       "1                             NaN       0      100003  \n",
       "2                             NaN       0      100004  \n",
       "3                             0.0       0      100006  \n",
       "4                             NaN       0      100007  "
      ],
      "text/html": "<div>\n<style scoped>\n    .dataframe tbody tr th:only-of-type {\n        vertical-align: middle;\n    }\n\n    .dataframe tbody tr th {\n        vertical-align: top;\n    }\n\n    .dataframe thead th {\n        text-align: right;\n    }\n</style>\n<table border=\"1\" class=\"dataframe\">\n  <thead>\n    <tr style=\"text-align: right;\">\n      <th></th>\n      <th>EXT_SOURCE_1</th>\n      <th>EXT_SOURCE_2</th>\n      <th>client_installments_AMT_PAYMENT_min_sum</th>\n      <th>EXT_SOURCE_3</th>\n      <th>DAYS_BIRTH</th>\n      <th>AMT_CREDIT</th>\n      <th>AMT_ANNUITY</th>\n      <th>DAYS_EMPLOYED</th>\n      <th>bureau_DAYS_CREDIT_max</th>\n      <th>OWN_CAR_AGE</th>\n      <th>bureau_AMT_CREDIT_SUM_DEBT_mean</th>\n      <th>bureau_DAYS_CREDIT_ENDDATE_max</th>\n      <th>DAYS_ID_PUBLISH</th>\n      <th>bureau_AMT_CREDIT_MAX_OVERDUE_mean</th>\n      <th>previous_loans_CNT_PAYMENT_mean</th>\n      <th>client_cash_CNT_INSTALMENT_FUTURE_min_max</th>\n      <th>bureau_DAYS_ENDDATE_FACT_max</th>\n      <th>CODE_GENDER_F</th>\n      <th>DAYS_REGISTRATION</th>\n      <th>DAYS_LAST_PHONE_CHANGE</th>\n      <th>previous_loans_NAME_CONTRACT_STATUS_Refused_count_norm</th>\n      <th>client_installments_DAYS_INSTALMENT_max_max</th>\n      <th>client_credit_AMT_RECIVABLE_mean_min</th>\n      <th>client_cash_SK_DPD_DEF_sum_max</th>\n      <th>REGION_POPULATION_RELATIVE</th>\n      <th>bureau_AMT_CREDIT_SUM_mean</th>\n      <th>bureau_DAYS_CREDIT_mean</th>\n      <th>bureau_AMT_CREDIT_SUM_max</th>\n      <th>bureau_DAYS_CREDIT_sum</th>\n      <th>previous_loans_AMT_DOWN_PAYMENT_max</th>\n      <th>client_cash_CNT_INSTALMENT_max_mean</th>\n      <th>client_cash_CNT_INSTALMENT_FUTURE_min_mean</th>\n      <th>client_installments_NUM_INSTALMENT_VERSION_mean_max</th>\n      <th>client_installments_AMT_INSTALMENT_max_max</th>\n      <th>client_installments_AMT_PAYMENT_max_min</th>\n      <th>client_credit_CNT_DRAWINGS_CURRENT_max_max</th>\n      <th>previous_loans_RATE_DOWN_PAYMENT_sum</th>\n      <th>client_installments_AMT_PAYMENT_sum_mean</th>\n      <th>client_installments_AMT_INSTALMENT_min_min</th>\n      <th>bureau_DAYS_CREDIT_UPDATE_max</th>\n      <th>bureau_AMT_CREDIT_SUM_DEBT_max</th>\n      <th>client_credit_AMT_DRAWINGS_CURRENT_mean_max</th>\n      <th>bureau_AMT_CREDIT_SUM_sum</th>\n      <th>LANDAREA_AVG</th>\n      <th>previous_loans_SELLERPLACE_AREA_max</th>\n      <th>previous_loans_PRODUCT_COMBINATION_Cash X-Sell: low_count_norm</th>\n      <th>previous_loans_NAME_YIELD_GROUP_high_count_norm</th>\n      <th>previous_loans_CNT_PAYMENT_max</th>\n      <th>bureau_DAYS_CREDIT_UPDATE_mean</th>\n      <th>previous_loans_DAYS_DECISION_mean</th>\n      <th>previous_loans_DAYS_LAST_DUE_1ST_VERSION_max</th>\n      <th>bureau_DAYS_CREDIT_ENDDATE_sum</th>\n      <th>NAME_EDUCATION_TYPE_Higher education</th>\n      <th>client_cash_MONTHS_BALANCE_sum_mean</th>\n      <th>AMT_INCOME_TOTAL</th>\n      <th>previous_loans_RATE_DOWN_PAYMENT_max</th>\n      <th>bureau_AMT_CREDIT_SUM_min</th>\n      <th>client_cash_CNT_INSTALMENT_max_max</th>\n      <th>previous_loans_CNT_PAYMENT_sum</th>\n      <th>bureau_AMT_CREDIT_SUM_LIMIT_mean</th>\n      <th>bureau_DAYS_CREDIT_min</th>\n      <th>NAME_FAMILY_STATUS_Married</th>\n      <th>APARTMENTS_AVG</th>\n      <th>bureau_CREDIT_ACTIVE_Active_count</th>\n      <th>client_installments_AMT_INSTALMENT_min_mean</th>\n      <th>bureau_CREDIT_TYPE_Mortgage_count_norm</th>\n      <th>YEARS_BEGINEXPLUATATION_AVG</th>\n      <th>client_cash_MONTHS_BALANCE_max_mean</th>\n      <th>client_installments_NUM_INSTALMENT_NUMBER_max_mean</th>\n      <th>client_installments_NUM_INSTALMENT_VERSION_max_mean</th>\n      <th>previous_loans_DAYS_FIRST_DUE_min</th>\n      <th>client_installments_AMT_PAYMENT_mean_sum</th>\n      <th>client_installments_DAYS_ENTRY_PAYMENT_sum_max</th>\n      <th>previous_loans_NAME_YIELD_GROUP_low_action_count_norm</th>\n      <th>previous_loans_HOUR_APPR_PROCESS_START_mean</th>\n      <th>previous_loans_NAME_CONTRACT_STATUS_Approved_count_norm</th>\n      <th>previous_loans_DAYS_DECISION_sum</th>\n      <th>previous_loans_AMT_ANNUITY_mean</th>\n      <th>previous_loans_AMT_DOWN_PAYMENT_mean</th>\n      <th>previous_loans_RATE_DOWN_PAYMENT_mean</th>\n      <th>previous_loans_DAYS_DECISION_max</th>\n      <th>REGION_RATING_CLIENT</th>\n      <th>client_cash_MONTHS_BALANCE_sum_max</th>\n      <th>NAME_CONTRACT_TYPE_Cash loans</th>\n      <th>client_installments_AMT_PAYMENT_sum_min</th>\n      <th>client_installments_DAYS_ENTRY_PAYMENT_max_min</th>\n      <th>client_installments_AMT_INSTALMENT_mean_mean</th>\n      <th>client_installments_DAYS_INSTALMENT_min_max</th>\n      <th>BASEMENTAREA_AVG</th>\n      <th>client_installments_AMT_PAYMENT_max_mean</th>\n      <th>previous_loans_PRODUCT_COMBINATION_Cash X-Sell: high_count_norm</th>\n      <th>bureau_AMT_CREDIT_SUM_LIMIT_max</th>\n      <th>bureau_DAYS_ENDDATE_FACT_min</th>\n      <th>bureau_DAYS_ENDDATE_FACT_mean</th>\n      <th>previous_loans_SELLERPLACE_AREA_min</th>\n      <th>client_installments_AMT_PAYMENT_max_sum</th>\n      <th>client_cash_NAME_CONTRACT_STATUS_Active_count_norm_mean</th>\n      <th>client_installments_AMT_INSTALMENT_min_max</th>\n      <th>bureau_DAYS_CREDIT_ENDDATE_mean</th>\n      <th>bureau_CREDIT_ACTIVE_Active_count_norm</th>\n      <th>bureau_DAYS_CREDIT_ENDDATE_min</th>\n      <th>previous_loans_NAME_YIELD_GROUP_low_normal_count_norm</th>\n      <th>NONLIVINGAREA_AVG</th>\n      <th>previous_loans_NAME_PRODUCT_TYPE_walk-in_count_norm</th>\n      <th>client_installments_DAYS_ENTRY_PAYMENT_min_sum</th>\n      <th>DEF_60_CNT_SOCIAL_CIRCLE</th>\n      <th>previous_loans_AMT_ANNUITY_min</th>\n      <th>client_installments_AMT_INSTALMENT_mean_min</th>\n      <th>client_cash_CNT_INSTALMENT_mean_min</th>\n      <th>client_installments_AMT_INSTALMENT_sum_sum</th>\n      <th>client_installments_NUM_INSTALMENT_VERSION_sum_mean</th>\n      <th>previous_loans_DAYS_LAST_DUE_1ST_VERSION_min</th>\n      <th>client_installments_AMT_INSTALMENT_mean_max</th>\n      <th>client_credit_AMT_DRAWINGS_POS_CURRENT_sum_sum</th>\n      <th>previous_loans_AMT_GOODS_PRICE_min</th>\n      <th>client_cash_counts_mean</th>\n      <th>client_cash_SK_DPD_max_sum</th>\n      <th>previous_loans_AMT_ANNUITY_max</th>\n      <th>previous_loans_DAYS_LAST_DUE_sum</th>\n      <th>client_installments_AMT_INSTALMENT_min_sum</th>\n      <th>FLAG_DOCUMENT_3</th>\n      <th>client_bureau_balance_STATUS_C_count_norm_max</th>\n      <th>client_credit_AMT_DRAWINGS_ATM_CURRENT_mean_sum</th>\n      <th>previous_loans_NAME_CLIENT_TYPE_Refreshed_count_norm</th>\n      <th>bureau_AMT_ANNUITY_mean</th>\n      <th>client_bureau_balance_STATUS_0_count_sum</th>\n      <th>client_cash_CNT_INSTALMENT_FUTURE_min_sum</th>\n      <th>client_cash_CNT_INSTALMENT_min_mean</th>\n      <th>COMMONAREA_AVG</th>\n      <th>client_credit_CNT_DRAWINGS_ATM_CURRENT_sum_mean</th>\n      <th>client_cash_NAME_CONTRACT_STATUS_Completed_count_norm_mean</th>\n      <th>HOUR_APPR_PROCESS_START</th>\n      <th>client_credit_AMT_CREDIT_LIMIT_ACTUAL_mean_mean</th>\n      <th>previous_loans_NAME_PRODUCT_TYPE_XNA_count_norm</th>\n      <th>YEARS_BUILD_AVG</th>\n      <th>FLOORSMAX_AVG</th>\n      <th>previous_loans_NAME_TYPE_SUITE_Unaccompanied_count_norm</th>\n      <th>previous_loans_NAME_PORTFOLIO_POS_count_norm</th>\n      <th>previous_loans_DAYS_TERMINATION_min</th>\n      <th>previous_loans_AMT_APPLICATION_max</th>\n      <th>DEF_30_CNT_SOCIAL_CIRCLE</th>\n      <th>client_bureau_balance_STATUS_0_count_norm_mean</th>\n      <th>client_bureau_balance_MONTHS_BALANCE_mean_min</th>\n      <th>bureau_CREDIT_TYPE_Credit card_count_norm</th>\n      <th>bureau_CREDIT_TYPE_Microloan_count_norm</th>\n      <th>previous_loans_PRODUCT_COMBINATION_Cash Street: low_count_norm</th>\n      <th>client_credit_MONTHS_BALANCE_max_sum</th>\n      <th>previous_loans_DAYS_FIRST_DUE_mean</th>\n      <th>client_cash_CNT_INSTALMENT_sum_min</th>\n      <th>previous_loans_PRODUCT_COMBINATION_POS industry with interest_count_norm</th>\n      <th>previous_loans_AMT_CREDIT_min</th>\n      <th>client_bureau_balance_STATUS_X_count_norm_mean</th>\n      <th>client_credit_AMT_BALANCE_min_max</th>\n      <th>AMT_REQ_CREDIT_BUREAU_QRT</th>\n      <th>client_installments_NUM_INSTALMENT_VERSION_sum_sum</th>\n      <th>bureau_CREDIT_TYPE_Car loan_count_norm</th>\n      <th>ELEVATORS_AVG</th>\n      <th>NAME_INCOME_TYPE_Working</th>\n      <th>previous_loans_RATE_DOWN_PAYMENT_min</th>\n      <th>client_credit_AMT_CREDIT_LIMIT_ACTUAL_sum_sum</th>\n      <th>client_credit_CNT_DRAWINGS_ATM_CURRENT_max_sum</th>\n      <th>client_cash_counts_sum</th>\n      <th>REG_CITY_NOT_LIVE_CITY</th>\n      <th>previous_loans_NAME_YIELD_GROUP_middle_count_norm</th>\n      <th>FLAG_DOCUMENT_18</th>\n      <th>previous_loans_CODE_REJECT_REASON_HC_count_norm</th>\n      <th>previous_loans_NAME_CLIENT_TYPE_New_count_norm</th>\n      <th>NAME_EDUCATION_TYPE_Secondary / secondary special</th>\n      <th>client_bureau_balance_STATUS_0_count_norm_sum</th>\n      <th>client_credit_AMT_CREDIT_LIMIT_ACTUAL_max_sum</th>\n      <th>previous_loans_CHANNEL_TYPE_Channel of corporate sales_count_norm</th>\n      <th>client_bureau_balance_MONTHS_BALANCE_sum_min</th>\n      <th>previous_loans_DAYS_FIRST_DUE_sum</th>\n      <th>previous_loans_DAYS_LAST_DUE_1ST_VERSION_mean</th>\n      <th>previous_loans_NAME_GOODS_CATEGORY_Furniture_count_norm</th>\n      <th>previous_loans_HOUR_APPR_PROCESS_START_max</th>\n      <th>client_credit_AMT_CREDIT_LIMIT_ACTUAL_sum_max</th>\n      <th>client_installments_NUM_INSTALMENT_VERSION_sum_max</th>\n      <th>bureau_CREDIT_TYPE_Credit card_count</th>\n      <th>client_bureau_balance_STATUS_C_count_norm_mean</th>\n      <th>ORGANIZATION_TYPE_Self-employed</th>\n      <th>client_cash_NAME_CONTRACT_STATUS_Completed_count_sum</th>\n      <th>client_credit_AMT_DRAWINGS_POS_CURRENT_mean_sum</th>\n      <th>client_cash_MONTHS_BALANCE_max_sum</th>\n      <th>bureau_CREDIT_ACTIVE_Closed_count</th>\n      <th>previous_loans_NAME_PAYMENT_TYPE_XNA_count_norm</th>\n      <th>client_credit_AMT_PAYMENT_CURRENT_max_sum</th>\n      <th>ENTRANCES_AVG</th>\n      <th>client_bureau_balance_STATUS_1_count_norm_mean</th>\n      <th>client_bureau_balance_STATUS_C_count_max</th>\n      <th>client_credit_AMT_INST_MIN_REGULARITY_max_min</th>\n      <th>previous_loans_DAYS_TERMINATION_max</th>\n      <th>bureau_AMT_CREDIT_SUM_DEBT_min</th>\n      <th>client_bureau_balance_MONTHS_BALANCE_max_mean</th>\n      <th>bureau_CREDIT_TYPE_Microloan_count</th>\n      <th>client_bureau_balance_STATUS_C_count_mean</th>\n      <th>previous_loans_AMT_ANNUITY_sum</th>\n      <th>previous_loans_PRODUCT_COMBINATION_Cash X-Sell: middle_count_norm</th>\n      <th>previous_loans_WEEKDAY_APPR_PROCESS_START_THURSDAY_count_norm</th>\n      <th>bureau_DAYS_CREDIT_UPDATE_min</th>\n      <th>FLAG_WORK_PHONE</th>\n      <th>previous_loans_WEEKDAY_APPR_PROCESS_START_SUNDAY_count_norm</th>\n      <th>previous_loans_NAME_GOODS_CATEGORY_Photo / Cinema Equipment_count_norm</th>\n      <th>client_cash_CNT_INSTALMENT_FUTURE_max_sum</th>\n      <th>previous_loans_CHANNEL_TYPE_Credit and cash offices_count_norm</th>\n      <th>client_bureau_balance_MONTHS_BALANCE_sum_max</th>\n      <th>OCCUPATION_TYPE_Drivers</th>\n      <th>previous_loans_NAME_CONTRACT_STATUS_Canceled_count_norm</th>\n      <th>previous_loans_WEEKDAY_APPR_PROCESS_START_MONDAY_count_norm</th>\n      <th>previous_loans_HOUR_APPR_PROCESS_START_min</th>\n      <th>previous_loans_CHANNEL_TYPE_AP+ (Cash loan)_count_norm</th>\n      <th>client_cash_SK_DPD_mean_min</th>\n      <th>FLOORSMIN_AVG</th>\n      <th>NAME_INCOME_TYPE_State servant</th>\n      <th>client_installments_NUM_INSTALMENT_VERSION_mean_sum</th>\n      <th>ORGANIZATION_TYPE_Construction</th>\n      <th>bureau_AMT_CREDIT_SUM_OVERDUE_max</th>\n      <th>previous_loans_NFLAG_INSURED_ON_APPROVAL_mean</th>\n      <th>previous_loans_NAME_GOODS_CATEGORY_Audio/Video_count_norm</th>\n      <th>client_cash_NAME_CONTRACT_STATUS_Completed_count_norm_max</th>\n      <th>previous_loans_CHANNEL_TYPE_Contact center_count_norm</th>\n      <th>previous_loans_NAME_SELLER_INDUSTRY_Connectivity_count_norm</th>\n      <th>client_credit_AMT_TOTAL_RECEIVABLE_sum_min</th>\n      <th>previous_loans_NAME_PORTFOLIO_Cash_count_norm</th>\n      <th>previous_loans_NAME_YIELD_GROUP_XNA_count_norm</th>\n      <th>client_bureau_balance_STATUS_1_count_norm_max</th>\n      <th>client_bureau_balance_STATUS_X_count_mean</th>\n      <th>client_bureau_balance_STATUS_X_count_norm_min</th>\n      <th>previous_loans_NAME_PRODUCT_TYPE_x-sell_count_norm</th>\n      <th>client_installments_AMT_INSTALMENT_sum_max</th>\n      <th>client_credit_AMT_DRAWINGS_CURRENT_max_max</th>\n      <th>previous_loans_WEEKDAY_APPR_PROCESS_START_SATURDAY_count_norm</th>\n      <th>client_cash_NAME_CONTRACT_STATUS_Active_count_min</th>\n      <th>client_credit_AMT_CREDIT_LIMIT_ACTUAL_min_sum</th>\n      <th>AMT_REQ_CREDIT_BUREAU_MON</th>\n      <th>client_installments_NUM_INSTALMENT_NUMBER_sum_min</th>\n      <th>previous_loans_AMT_GOODS_PRICE_mean</th>\n      <th>client_cash_NAME_CONTRACT_STATUS_Signed_count_mean</th>\n      <th>previous_loans_DAYS_TERMINATION_mean</th>\n      <th>previous_loans_CODE_REJECT_REASON_SCO_count_norm</th>\n      <th>previous_loans_PRODUCT_COMBINATION_Cash Street: high_count_norm</th>\n      <th>previous_loans_NAME_GOODS_CATEGORY_Computers_count_norm</th>\n      <th>previous_loans_CHANNEL_TYPE_Country-wide_count_norm</th>\n      <th>client_cash_NAME_CONTRACT_STATUS_Signed_count_sum</th>\n      <th>client_cash_NAME_CONTRACT_STATUS_Active_count_max</th>\n      <th>client_credit_SK_DPD_DEF_mean_sum</th>\n      <th>OCCUPATION_TYPE_Laborers</th>\n      <th>ORGANIZATION_TYPE_Industry: type 9</th>\n      <th>OCCUPATION_TYPE_Core staff</th>\n      <th>client_installments_NUM_INSTALMENT_NUMBER_mean_min</th>\n      <th>previous_loans_NAME_GOODS_CATEGORY_Clothing and Accessories_count_norm</th>\n      <th>client_bureau_balance_STATUS_0_count_mean</th>\n      <th>bureau_AMT_ANNUITY_max</th>\n      <th>bureau_AMT_CREDIT_SUM_OVERDUE_mean</th>\n      <th>previous_loans_AMT_DOWN_PAYMENT_min</th>\n      <th>ORGANIZATION_TYPE_Business Entity Type 3</th>\n      <th>previous_loans_DAYS_FIRST_DRAWING_mean</th>\n      <th>client_cash_SK_DPD_DEF_sum_min</th>\n      <th>FLAG_DOCUMENT_16</th>\n      <th>previous_loans_NAME_GOODS_CATEGORY_Consumer Electronics_count_norm</th>\n      <th>FLAG_DOCUMENT_13</th>\n      <th>ORGANIZATION_TYPE_Military</th>\n      <th>client_cash_NAME_CONTRACT_STATUS_Returned to the store_count_sum</th>\n      <th>client_installments_NUM_INSTALMENT_NUMBER_min_mean</th>\n      <th>bureau_CREDIT_ACTIVE_Sold_count_norm</th>\n      <th>ORGANIZATION_TYPE_Transport: type 3</th>\n      <th>bureau_CNT_CREDIT_PROLONG_mean</th>\n      <th>client_credit_NAME_CONTRACT_STATUS_Active_count_min</th>\n      <th>bureau_AMT_CREDIT_SUM_LIMIT_min</th>\n      <th>client_bureau_balance_STATUS_0_count_max</th>\n      <th>previous_loans_NAME_TYPE_SUITE_Family_count_norm</th>\n      <th>previous_loans_CHANNEL_TYPE_Stone_count_norm</th>\n      <th>client_bureau_balance_MONTHS_BALANCE_mean_sum</th>\n      <th>client_bureau_balance_STATUS_0_count_norm_min</th>\n      <th>previous_loans_NAME_SELLER_INDUSTRY_Consumer electronics_count_norm</th>\n      <th>client_installments_NUM_INSTALMENT_VERSION_mean_min</th>\n      <th>client_credit_AMT_PAYMENT_CURRENT_sum_sum</th>\n      <th>previous_loans_NAME_CONTRACT_TYPE_Cash loans_count_norm</th>\n      <th>previous_loans_NAME_PAYMENT_TYPE_Cash through the bank_count</th>\n      <th>client_credit_AMT_DRAWINGS_ATM_CURRENT_sum_sum</th>\n      <th>client_cash_NAME_CONTRACT_STATUS_Signed_count_norm_mean</th>\n      <th>client_installments_NUM_INSTALMENT_VERSION_min_sum</th>\n      <th>previous_loans_CODE_REJECT_REASON_CLIENT_count_norm</th>\n      <th>previous_loans_NAME_PORTFOLIO_XNA_count_norm</th>\n      <th>previous_loans_PRODUCT_COMBINATION_Card X-Sell_count_norm</th>\n      <th>previous_loans_CNT_PAYMENT_min</th>\n      <th>previous_loans_WEEKDAY_APPR_PROCESS_START_FRIDAY_count_norm</th>\n      <th>client_cash_NAME_CONTRACT_STATUS_Signed_count_norm_max</th>\n      <th>client_bureau_balance_MONTHS_BALANCE_max_sum</th>\n      <th>client_bureau_balance_STATUS_X_count_norm_sum</th>\n      <th>previous_loans_WEEKDAY_APPR_PROCESS_START_TUESDAY_count_norm</th>\n      <th>previous_loans_NAME_SELLER_INDUSTRY_Construction_count_norm</th>\n      <th>bureau_CREDIT_TYPE_Consumer credit_count_norm</th>\n      <th>previous_loans_NAME_SELLER_INDUSTRY_Furniture_count_norm</th>\n      <th>previous_loans_NAME_SELLER_INDUSTRY_Connectivity_count</th>\n      <th>previous_loans_PRODUCT_COMBINATION_Cash Street: middle_count_norm</th>\n      <th>previous_loans_NAME_YIELD_GROUP_high_count</th>\n      <th>client_bureau_balance_STATUS_X_count_sum</th>\n      <th>client_bureau_balance_STATUS_1_count_norm_min</th>\n      <th>client_bureau_balance_STATUS_X_count_max</th>\n      <th>previous_loans_PRODUCT_COMBINATION_POS mobile with interest_count_norm</th>\n      <th>previous_loans_PRODUCT_COMBINATION_POS industry without interest_count_norm</th>\n      <th>client_credit_AMT_RECEIVABLE_PRINCIPAL_sum_sum</th>\n      <th>client_credit_CNT_DRAWINGS_ATM_CURRENT_sum_sum</th>\n      <th>client_bureau_balance_STATUS_1_count_norm_sum</th>\n      <th>previous_loans_PRODUCT_COMBINATION_POS household with interest_count_norm</th>\n      <th>ORGANIZATION_TYPE_School</th>\n      <th>client_bureau_balance_STATUS_1_count_max</th>\n      <th>previous_loans_NAME_CASH_LOAN_PURPOSE_Repairs_count_norm</th>\n      <th>FLAG_PHONE</th>\n      <th>previous_loans_PRODUCT_COMBINATION_Cash_count_norm</th>\n      <th>client_bureau_balance_STATUS_X_count_norm_max</th>\n      <th>CNT_FAM_MEMBERS</th>\n      <th>client_bureau_balance_STATUS_X_count_min</th>\n      <th>client_cash_NAME_CONTRACT_STATUS_Active_count_norm_min</th>\n      <th>WALLSMATERIAL_MODE_Panel</th>\n      <th>ORGANIZATION_TYPE_Bank</th>\n      <th>previous_loans_PRODUCT_COMBINATION_POS household without interest_count_norm</th>\n      <th>client_credit_CNT_DRAWINGS_CURRENT_max_sum</th>\n      <th>client_installments_NUM_INSTALMENT_NUMBER_min_max</th>\n      <th>client_credit_AMT_PAYMENT_CURRENT_min_sum</th>\n      <th>previous_loans_WEEKDAY_APPR_PROCESS_START_WEDNESDAY_count_norm</th>\n      <th>previous_loans_WEEKDAY_APPR_PROCESS_START_WEDNESDAY_count</th>\n      <th>client_cash_NAME_CONTRACT_STATUS_Completed_count_norm_sum</th>\n      <th>previous_loans_NAME_CLIENT_TYPE_Repeater_count</th>\n      <th>client_credit_NAME_CONTRACT_STATUS_Completed_count_norm_mean</th>\n      <th>bureau_AMT_ANNUITY_min</th>\n      <th>previous_loans_NAME_PRODUCT_TYPE_XNA_count</th>\n      <th>previous_loans_NAME_GOODS_CATEGORY_Mobile_count_norm</th>\n      <th>client_credit_AMT_PAYMENT_TOTAL_CURRENT_max_max</th>\n      <th>previous_loans_CODE_REJECT_REASON_VERIF_count_norm</th>\n      <th>client_cash_NAME_CONTRACT_STATUS_Completed_count_norm_min</th>\n      <th>previous_loans_NAME_SELLER_INDUSTRY_Consumer electronics_count</th>\n      <th>previous_loans_NAME_TYPE_SUITE_Children_count_norm</th>\n      <th>previous_loans_DAYS_FIRST_DRAWING_min</th>\n      <th>previous_loans_CHANNEL_TYPE_Regional / Local_count_norm</th>\n      <th>client_cash_CNT_INSTALMENT_min_min</th>\n      <th>client_credit_AMT_CREDIT_LIMIT_ACTUAL_min_min</th>\n      <th>client_installments_NUM_INSTALMENT_VERSION_sum_min</th>\n      <th>previous_loans_CODE_REJECT_REASON_LIMIT_count_norm</th>\n      <th>client_credit_NAME_CONTRACT_STATUS_Signed_count_norm_mean</th>\n      <th>client_credit_SK_DPD_mean_mean</th>\n      <th>TARGET</th>\n      <th>SK_ID_CURR</th>\n    </tr>\n  </thead>\n  <tbody>\n    <tr>\n      <th>0</th>\n      <td>0.083037</td>\n      <td>0.262949</td>\n      <td>175783.725</td>\n      <td>0.139376</td>\n      <td>-9461</td>\n      <td>406597.5</td>\n      <td>24700.5</td>\n      <td>-637</td>\n      <td>-103.0</td>\n      <td>NaN</td>\n      <td>49156.2</td>\n      <td>780.0</td>\n      <td>-2120</td>\n      <td>1681.029</td>\n      <td>24.000000</td>\n      <td>6.0</td>\n      <td>-36.0</td>\n      <td>0</td>\n      <td>-3648.0</td>\n      <td>-1134.0</td>\n      <td>0.000000</td>\n      <td>-25.0</td>\n      <td>NaN</td>\n      <td>0.0</td>\n      <td>0.018801</td>\n      <td>108131.945625</td>\n      <td>-874.00</td>\n      <td>450000.0</td>\n      <td>-6992.0</td>\n      <td>0.0</td>\n      <td>24.000000</td>\n      <td>6.000000</td>\n      <td>1.052632</td>\n      <td>53093.745</td>\n      <td>53093.745</td>\n      <td>NaN</td>\n      <td>0.000000</td>\n      <td>219625.695000</td>\n      <td>9251.775</td>\n      <td>-7.0</td>\n      <td>245781.0</td>\n      <td>NaN</td>\n      <td>865055.565</td>\n      <td>0.0369</td>\n      <td>500.0</td>\n      <td>0.000000</td>\n      <td>0.000000</td>\n      <td>24.0</td>\n      <td>-499.875</td>\n      <td>-606.000000</td>\n      <td>125.0</td>\n      <td>-2094.0</td>\n      <td>0</td>\n      <td>-190.000000</td>\n      <td>202500.0</td>\n      <td>0.000000</td>\n      <td>0.0</td>\n      <td>24.0</td>\n      <td>24.0</td>\n      <td>7997.14125</td>\n      <td>-1437.0</td>\n      <td>0</td>\n      <td>0.0247</td>\n      <td>2.0</td>\n      <td>9251.775000</td>\n      <td>0.0</td>\n      <td>0.9722</td>\n      <td>-1.000000</td>\n      <td>19.000000</td>\n      <td>2.000000</td>\n      <td>-565.0</td>\n      <td>219625.695</td>\n      <td>-5993.0</td>\n      <td>0.0</td>\n      <td>9.000000</td>\n      <td>1.000000</td>\n      <td>-606.0</td>\n      <td>9251.775</td>\n      <td>0.00</td>\n      <td>0.000000</td>\n      <td>-606.0</td>\n      <td>2</td>\n      <td>-190.0</td>\n      <td>1</td>\n      <td>219625.695</td>\n      <td>-49.0</td>\n      <td>11559.247105</td>\n      <td>-565.0</td>\n      <td>0.0369</td>\n      <td>53093.745000</td>\n      <td>0.000000</td>\n      <td>31988.565</td>\n      <td>-1185.0</td>\n      <td>-697.500000</td>\n      <td>500.0</td>\n      <td>1008781.155</td>\n      <td>1.000000</td>\n      <td>9251.775</td>\n      <td>-349.0</td>\n      <td>0.25</td>\n      <td>-1072.0</td>\n      <td>1.000000</td>\n      <td>0.0000</td>\n      <td>0.000000</td>\n      <td>-11153.0</td>\n      <td>2.0</td>\n      <td>9251.775</td>\n      <td>11559.247105</td>\n      <td>24.00</td>\n      <td>4.172888e+06</td>\n      <td>20.000000</td>\n      <td>125.0</td>\n      <td>11559.247105</td>\n      <td>NaN</td>\n      <td>179055.00</td>\n      <td>19.000000</td>\n      <td>0.0</td>\n      <td>9251.775</td>\n      <td>-25.0</td>\n      <td>175783.725</td>\n      <td>1</td>\n      <td>0.8125</td>\n      <td>NaN</td>\n      <td>0.000000</td>\n      <td>0.0</td>\n      <td>45.0</td>\n      <td>114.0</td>\n      <td>24.000000</td>\n      <td>0.0143</td>\n      <td>NaN</td>\n      <td>0.000000</td>\n      <td>10</td>\n      <td>NaN</td>\n      <td>1.000000</td>\n      <td>0.6192</td>\n      <td>0.0833</td>\n      <td>0.000000</td>\n      <td>1.000000</td>\n      <td>-17.0</td>\n      <td>179055.0</td>\n      <td>2.0</td>\n      <td>0.40696</td>\n      <td>-39.5</td>\n      <td>0.5</td>\n      <td>0.0</td>\n      <td>0.0</td>\n      <td>NaN</td>\n      <td>-565.000000</td>\n      <td>456.0</td>\n      <td>0.000000</td>\n      <td>179055.0</td>\n      <td>0.161932</td>\n      <td>NaN</td>\n      <td>0.0</td>\n      <td>380.0</td>\n      <td>0.0</td>\n      <td>0.00</td>\n      <td>1</td>\n      <td>0.000000</td>\n      <td>NaN</td>\n      <td>NaN</td>\n      <td>361.0</td>\n      <td>0</td>\n      <td>0.000000</td>\n      <td>0</td>\n      <td>0.0</td>\n      <td>1.000000</td>\n      <td>1</td>\n      <td>3.255682</td>\n      <td>NaN</td>\n      <td>0.0</td>\n      <td>-632.0</td>\n      <td>-565.0</td>\n      <td>125.000000</td>\n      <td>0.000000</td>\n      <td>9.0</td>\n      <td>NaN</td>\n      <td>20.0</td>\n      <td>4.0</td>\n      <td>0.175426</td>\n      <td>0</td>\n      <td>0.0</td>\n      <td>NaN</td>\n      <td>-19.0</td>\n      <td>6.0</td>\n      <td>1.000000</td>\n      <td>NaN</td>\n      <td>0.0690</td>\n      <td>0.255682</td>\n      <td>13.0</td>\n      <td>NaN</td>\n      <td>-17.0</td>\n      <td>0.0</td>\n      <td>-15.5</td>\n      <td>0.0</td>\n      <td>2.875</td>\n      <td>9251.775</td>\n      <td>0.0</td>\n      <td>0.000000</td>\n      <td>-1185.0</td>\n      <td>0</td>\n      <td>0.000000</td>\n      <td>0.0</td>\n      <td>456.0</td>\n      <td>0.000000</td>\n      <td>-6.0</td>\n      <td>0</td>\n      <td>0.000000</td>\n      <td>0.000000</td>\n      <td>9.0</td>\n      <td>0.000000</td>\n      <td>0.0</td>\n      <td>0.1250</td>\n      <td>0</td>\n      <td>20.0</td>\n      <td>0</td>\n      <td>0.0</td>\n      <td>0.000000</td>\n      <td>0.000000</td>\n      <td>0.000000</td>\n      <td>0.0</td>\n      <td>0.000000</td>\n      <td>NaN</td>\n      <td>0.000000</td>\n      <td>0.000000</td>\n      <td>0.5</td>\n      <td>1.875</td>\n      <td>0.0</td>\n      <td>0.000000</td>\n      <td>219625.695</td>\n      <td>NaN</td>\n      <td>1.000000</td>\n      <td>19.0</td>\n      <td>NaN</td>\n      <td>0.0</td>\n      <td>190.0</td>\n      <td>179055.00</td>\n      <td>0.00000</td>\n      <td>-17.000000</td>\n      <td>0.0</td>\n      <td>0.000000</td>\n      <td>0.0</td>\n      <td>0.000000</td>\n      <td>0.0</td>\n      <td>19.0</td>\n      <td>NaN</td>\n      <td>1</td>\n      <td>0</td>\n      <td>0</td>\n      <td>10.0</td>\n      <td>0.0</td>\n      <td>5.625</td>\n      <td>0.0</td>\n      <td>0.0</td>\n      <td>0.00</td>\n      <td>1</td>\n      <td>365243.0</td>\n      <td>0.0</td>\n      <td>0</td>\n      <td>0.000000</td>\n      <td>0</td>\n      <td>0</td>\n      <td>0.0</td>\n      <td>1.0</td>\n      <td>0.0</td>\n      <td>0</td>\n      <td>0.0</td>\n      <td>NaN</td>\n      <td>0.0</td>\n      <td>18.0</td>\n      <td>0.000000</td>\n      <td>1.000000</td>\n      <td>-175.0</td>\n      <td>0.1875</td>\n      <td>0.000000</td>\n      <td>1.052632</td>\n      <td>NaN</td>\n      <td>0.000000</td>\n      <td>0.0</td>\n      <td>NaN</td>\n      <td>0.000000</td>\n      <td>19.0</td>\n      <td>0.0</td>\n      <td>0.000000</td>\n      <td>0.000000</td>\n      <td>24.0</td>\n      <td>0.000000</td>\n      <td>0.000000</td>\n      <td>-124.0</td>\n      <td>1.295455</td>\n      <td>0.000000</td>\n      <td>0.000000</td>\n      <td>0.5</td>\n      <td>0.000000</td>\n      <td>0.0</td>\n      <td>0.0</td>\n      <td>0.0</td>\n      <td>15.0</td>\n      <td>0.0</td>\n      <td>3.0</td>\n      <td>0.000000</td>\n      <td>0.0</td>\n      <td>NaN</td>\n      <td>NaN</td>\n      <td>2.045455</td>\n      <td>0.000000</td>\n      <td>0</td>\n      <td>6.0</td>\n      <td>0.0</td>\n      <td>1</td>\n      <td>0.000000</td>\n      <td>0.5</td>\n      <td>1.0</td>\n      <td>0.0</td>\n      <td>1.000000</td>\n      <td>0</td>\n      <td>0</td>\n      <td>0.0</td>\n      <td>NaN</td>\n      <td>1.0</td>\n      <td>NaN</td>\n      <td>0.0</td>\n      <td>0.0</td>\n      <td>0.0</td>\n      <td>0.0</td>\n      <td>NaN</td>\n      <td>0.0</td>\n      <td>1.0</td>\n      <td>0.0</td>\n      <td>NaN</td>\n      <td>0.0</td>\n      <td>0.00</td>\n      <td>0.0</td>\n      <td>0.0</td>\n      <td>365243.0</td>\n      <td>0.000000</td>\n      <td>24.0</td>\n      <td>NaN</td>\n      <td>20.0</td>\n      <td>0.000000</td>\n      <td>NaN</td>\n      <td>NaN</td>\n      <td>1</td>\n      <td>100002</td>\n    </tr>\n    <tr>\n      <th>1</th>\n      <td>0.311267</td>\n      <td>0.622246</td>\n      <td>1154108.295</td>\n      <td>NaN</td>\n      <td>-16765</td>\n      <td>1293502.5</td>\n      <td>35698.5</td>\n      <td>-1188</td>\n      <td>-606.0</td>\n      <td>NaN</td>\n      <td>0.0</td>\n      <td>1216.0</td>\n      <td>-291</td>\n      <td>0.000</td>\n      <td>10.000000</td>\n      <td>1.0</td>\n      <td>-540.0</td>\n      <td>1</td>\n      <td>-1186.0</td>\n      <td>-828.0</td>\n      <td>0.000000</td>\n      <td>-536.0</td>\n      <td>NaN</td>\n      <td>0.0</td>\n      <td>0.003541</td>\n      <td>254350.125000</td>\n      <td>-1400.75</td>\n      <td>810000.0</td>\n      <td>-5603.0</td>\n      <td>6885.0</td>\n      <td>10.285714</td>\n      <td>0.428571</td>\n      <td>1.142857</td>\n      <td>560835.360</td>\n      <td>6737.310</td>\n      <td>NaN</td>\n      <td>0.100061</td>\n      <td>453952.220400</td>\n      <td>6662.970</td>\n      <td>-43.0</td>\n      <td>0.0</td>\n      <td>NaN</td>\n      <td>1017400.500</td>\n      <td>0.0130</td>\n      <td>1400.0</td>\n      <td>0.333333</td>\n      <td>0.000000</td>\n      <td>12.0</td>\n      <td>-816.000</td>\n      <td>-1305.000000</td>\n      <td>-386.0</td>\n      <td>-2178.0</td>\n      <td>1</td>\n      <td>-472.857143</td>\n      <td>270000.0</td>\n      <td>0.100061</td>\n      <td>22248.0</td>\n      <td>12.0</td>\n      <td>30.0</td>\n      <td>202500.00000</td>\n      <td>-2586.0</td>\n      <td>1</td>\n      <td>0.0959</td>\n      <td>1.0</td>\n      <td>46164.331800</td>\n      <td>0.0</td>\n      <td>0.9851</td>\n      <td>-39.428571</td>\n      <td>9.160000</td>\n      <td>1.280000</td>\n      <td>-2310.0</td>\n      <td>1618864.650</td>\n      <td>-4399.0</td>\n      <td>0.0</td>\n      <td>14.666667</td>\n      <td>1.000000</td>\n      <td>-3915.0</td>\n      <td>56553.990</td>\n      <td>3442.50</td>\n      <td>0.050030</td>\n      <td>-746.0</td>\n      <td>1</td>\n      <td>-172.0</td>\n      <td>1</td>\n      <td>80773.380</td>\n      <td>-1985.0</td>\n      <td>64754.586000</td>\n      <td>-716.0</td>\n      <td>0.0529</td>\n      <td>175764.049200</td>\n      <td>0.000000</td>\n      <td>810000.000</td>\n      <td>-2131.0</td>\n      <td>-1097.333333</td>\n      <td>-1.0</td>\n      <td>4394101.230</td>\n      <td>0.928571</td>\n      <td>98356.995</td>\n      <td>-544.5</td>\n      <td>0.25</td>\n      <td>-2434.0</td>\n      <td>0.333333</td>\n      <td>0.0098</td>\n      <td>0.000000</td>\n      <td>-37757.0</td>\n      <td>0.0</td>\n      <td>6737.310</td>\n      <td>6731.115000</td>\n      <td>6.00</td>\n      <td>1.134881e+07</td>\n      <td>9.440000</td>\n      <td>-1980.0</td>\n      <td>164425.332857</td>\n      <td>NaN</td>\n      <td>68809.50</td>\n      <td>9.714286</td>\n      <td>0.0</td>\n      <td>98356.995</td>\n      <td>-3163.0</td>\n      <td>1154108.295</td>\n      <td>1</td>\n      <td>NaN</td>\n      <td>NaN</td>\n      <td>0.666667</td>\n      <td>NaN</td>\n      <td>0.0</td>\n      <td>12.0</td>\n      <td>8.857143</td>\n      <td>0.0605</td>\n      <td>NaN</td>\n      <td>0.071429</td>\n      <td>11</td>\n      <td>NaN</td>\n      <td>0.666667</td>\n      <td>0.7960</td>\n      <td>0.2917</td>\n      <td>0.333333</td>\n      <td>0.666667</td>\n      <td>-1976.0</td>\n      <td>900000.0</td>\n      <td>0.0</td>\n      <td>NaN</td>\n      <td>NaN</td>\n      <td>0.5</td>\n      <td>0.0</td>\n      <td>0.0</td>\n      <td>NaN</td>\n      <td>-1274.333333</td>\n      <td>48.0</td>\n      <td>0.333333</td>\n      <td>68053.5</td>\n      <td>NaN</td>\n      <td>NaN</td>\n      <td>0.0</td>\n      <td>236.0</td>\n      <td>0.0</td>\n      <td>0.08</td>\n      <td>0</td>\n      <td>0.000000</td>\n      <td>NaN</td>\n      <td>NaN</td>\n      <td>272.0</td>\n      <td>0</td>\n      <td>0.666667</td>\n      <td>0</td>\n      <td>0.0</td>\n      <td>0.000000</td>\n      <td>0</td>\n      <td>0.000000</td>\n      <td>NaN</td>\n      <td>0.0</td>\n      <td>NaN</td>\n      <td>-3823.0</td>\n      <td>-1004.333333</td>\n      <td>0.333333</td>\n      <td>17.0</td>\n      <td>NaN</td>\n      <td>12.0</td>\n      <td>2.0</td>\n      <td>NaN</td>\n      <td>0</td>\n      <td>16.0</td>\n      <td>NaN</td>\n      <td>-1104.0</td>\n      <td>3.0</td>\n      <td>0.333333</td>\n      <td>NaN</td>\n      <td>0.0345</td>\n      <td>NaN</td>\n      <td>NaN</td>\n      <td>NaN</td>\n      <td>-527.0</td>\n      <td>0.0</td>\n      <td>NaN</td>\n      <td>0.0</td>\n      <td>NaN</td>\n      <td>169661.970</td>\n      <td>0.0</td>\n      <td>0.000000</td>\n      <td>-2131.0</td>\n      <td>0</td>\n      <td>0.333333</td>\n      <td>0.0</td>\n      <td>288.0</td>\n      <td>0.333333</td>\n      <td>NaN</td>\n      <td>0</td>\n      <td>0.000000</td>\n      <td>0.000000</td>\n      <td>12.0</td>\n      <td>0.000000</td>\n      <td>0.0</td>\n      <td>0.3333</td>\n      <td>1</td>\n      <td>26.0</td>\n      <td>0</td>\n      <td>0.0</td>\n      <td>0.666667</td>\n      <td>0.000000</td>\n      <td>0.125000</td>\n      <td>0.0</td>\n      <td>0.000000</td>\n      <td>NaN</td>\n      <td>0.333333</td>\n      <td>0.000000</td>\n      <td>NaN</td>\n      <td>NaN</td>\n      <td>NaN</td>\n      <td>0.333333</td>\n      <td>1150977.330</td>\n      <td>NaN</td>\n      <td>0.333333</td>\n      <td>7.0</td>\n      <td>NaN</td>\n      <td>0.0</td>\n      <td>21.0</td>\n      <td>435436.50</td>\n      <td>0.00000</td>\n      <td>-1047.333333</td>\n      <td>0.0</td>\n      <td>0.000000</td>\n      <td>0.0</td>\n      <td>0.333333</td>\n      <td>0.0</td>\n      <td>12.0</td>\n      <td>NaN</td>\n      <td>0</td>\n      <td>0</td>\n      <td>1</td>\n      <td>3.5</td>\n      <td>0.0</td>\n      <td>NaN</td>\n      <td>NaN</td>\n      <td>0.0</td>\n      <td>0.00</td>\n      <td>0</td>\n      <td>365243.0</td>\n      <td>0.0</td>\n      <td>0</td>\n      <td>0.333333</td>\n      <td>0</td>\n      <td>0</td>\n      <td>0.0</td>\n      <td>1.0</td>\n      <td>0.0</td>\n      <td>0</td>\n      <td>0.0</td>\n      <td>NaN</td>\n      <td>0.0</td>\n      <td>NaN</td>\n      <td>0.666667</td>\n      <td>0.333333</td>\n      <td>0.0</td>\n      <td>NaN</td>\n      <td>0.333333</td>\n      <td>1.000000</td>\n      <td>NaN</td>\n      <td>0.333333</td>\n      <td>2.0</td>\n      <td>NaN</td>\n      <td>0.000000</td>\n      <td>25.0</td>\n      <td>0.0</td>\n      <td>0.000000</td>\n      <td>0.000000</td>\n      <td>6.0</td>\n      <td>0.333333</td>\n      <td>0.000000</td>\n      <td>0.0</td>\n      <td>0.000000</td>\n      <td>0.000000</td>\n      <td>0.000000</td>\n      <td>0.5</td>\n      <td>0.333333</td>\n      <td>0.0</td>\n      <td>0.0</td>\n      <td>0.0</td>\n      <td>0.0</td>\n      <td>NaN</td>\n      <td>NaN</td>\n      <td>0.000000</td>\n      <td>0.0</td>\n      <td>NaN</td>\n      <td>NaN</td>\n      <td>0.000000</td>\n      <td>0.333333</td>\n      <td>1</td>\n      <td>NaN</td>\n      <td>0.0</td>\n      <td>1</td>\n      <td>0.000000</td>\n      <td>NaN</td>\n      <td>2.0</td>\n      <td>NaN</td>\n      <td>0.875000</td>\n      <td>0</td>\n      <td>0</td>\n      <td>0.0</td>\n      <td>NaN</td>\n      <td>1.0</td>\n      <td>NaN</td>\n      <td>0.0</td>\n      <td>0.0</td>\n      <td>2.0</td>\n      <td>1.0</td>\n      <td>NaN</td>\n      <td>NaN</td>\n      <td>2.0</td>\n      <td>0.0</td>\n      <td>NaN</td>\n      <td>0.0</td>\n      <td>0.00</td>\n      <td>1.0</td>\n      <td>0.0</td>\n      <td>365243.0</td>\n      <td>0.000000</td>\n      <td>6.0</td>\n      <td>NaN</td>\n      <td>6.0</td>\n      <td>0.000000</td>\n      <td>NaN</td>\n      <td>NaN</td>\n      <td>0</td>\n      <td>100003</td>\n    </tr>\n    <tr>\n      <th>2</th>\n      <td>NaN</td>\n      <td>0.555912</td>\n      <td>16071.750</td>\n      <td>0.729567</td>\n      <td>-19046</td>\n      <td>135000.0</td>\n      <td>6750.0</td>\n      <td>-225</td>\n      <td>-408.0</td>\n      <td>26.0</td>\n      <td>0.0</td>\n      <td>-382.0</td>\n      <td>-2531</td>\n      <td>0.000</td>\n      <td>4.000000</td>\n      <td>0.0</td>\n      <td>-382.0</td>\n      <td>0</td>\n      <td>-4260.0</td>\n      <td>-815.0</td>\n      <td>0.000000</td>\n      <td>-724.0</td>\n      <td>NaN</td>\n      <td>0.0</td>\n      <td>0.010032</td>\n      <td>94518.900000</td>\n      <td>-867.00</td>\n      <td>94537.8</td>\n      <td>-1734.0</td>\n      <td>4860.0</td>\n      <td>4.000000</td>\n      <td>0.000000</td>\n      <td>1.333333</td>\n      <td>10573.965</td>\n      <td>10573.965</td>\n      <td>NaN</td>\n      <td>0.212008</td>\n      <td>21288.465000</td>\n      <td>5357.250</td>\n      <td>-382.0</td>\n      <td>0.0</td>\n      <td>NaN</td>\n      <td>189037.800</td>\n      <td>NaN</td>\n      <td>30.0</td>\n      <td>0.000000</td>\n      <td>0.000000</td>\n      <td>4.0</td>\n      <td>-532.000</td>\n      <td>-815.000000</td>\n      <td>-694.0</td>\n      <td>-977.0</td>\n      <td>0</td>\n      <td>-102.000000</td>\n      <td>67500.0</td>\n      <td>0.212008</td>\n      <td>94500.0</td>\n      <td>4.0</td>\n      <td>4.0</td>\n      <td>0.00000</td>\n      <td>-1326.0</td>\n      <td>0</td>\n      <td>NaN</td>\n      <td>0.0</td>\n      <td>5357.250000</td>\n      <td>0.0</td>\n      <td>NaN</td>\n      <td>-24.000000</td>\n      <td>3.000000</td>\n      <td>2.000000</td>\n      <td>-784.0</td>\n      <td>21288.465</td>\n      <td>-2285.0</td>\n      <td>0.0</td>\n      <td>5.000000</td>\n      <td>1.000000</td>\n      <td>-815.0</td>\n      <td>5357.250</td>\n      <td>4860.00</td>\n      <td>0.212008</td>\n      <td>-815.0</td>\n      <td>2</td>\n      <td>-102.0</td>\n      <td>0</td>\n      <td>21288.465</td>\n      <td>-727.0</td>\n      <td>7096.155000</td>\n      <td>-784.0</td>\n      <td>NaN</td>\n      <td>10573.965000</td>\n      <td>0.000000</td>\n      <td>0.000</td>\n      <td>-683.0</td>\n      <td>-532.500000</td>\n      <td>30.0</td>\n      <td>31721.895</td>\n      <td>0.750000</td>\n      <td>5357.250</td>\n      <td>-488.5</td>\n      <td>0.00</td>\n      <td>-595.0</td>\n      <td>0.000000</td>\n      <td>NaN</td>\n      <td>0.000000</td>\n      <td>-2385.0</td>\n      <td>0.0</td>\n      <td>5357.250</td>\n      <td>7096.155000</td>\n      <td>3.75</td>\n      <td>6.386539e+04</td>\n      <td>4.000000</td>\n      <td>-694.0</td>\n      <td>7096.155000</td>\n      <td>NaN</td>\n      <td>24282.00</td>\n      <td>4.000000</td>\n      <td>0.0</td>\n      <td>5357.250</td>\n      <td>-724.0</td>\n      <td>16071.750</td>\n      <td>0</td>\n      <td>NaN</td>\n      <td>NaN</td>\n      <td>0.000000</td>\n      <td>NaN</td>\n      <td>0.0</td>\n      <td>0.0</td>\n      <td>3.000000</td>\n      <td>NaN</td>\n      <td>NaN</td>\n      <td>0.250000</td>\n      <td>9</td>\n      <td>NaN</td>\n      <td>1.000000</td>\n      <td>NaN</td>\n      <td>NaN</td>\n      <td>1.000000</td>\n      <td>1.000000</td>\n      <td>-714.0</td>\n      <td>24282.0</td>\n      <td>0.0</td>\n      <td>NaN</td>\n      <td>NaN</td>\n      <td>0.0</td>\n      <td>0.0</td>\n      <td>0.0</td>\n      <td>NaN</td>\n      <td>-784.000000</td>\n      <td>15.0</td>\n      <td>0.000000</td>\n      <td>20106.0</td>\n      <td>NaN</td>\n      <td>NaN</td>\n      <td>0.0</td>\n      <td>12.0</td>\n      <td>0.0</td>\n      <td>NaN</td>\n      <td>1</td>\n      <td>0.212008</td>\n      <td>NaN</td>\n      <td>NaN</td>\n      <td>16.0</td>\n      <td>0</td>\n      <td>1.000000</td>\n      <td>0</td>\n      <td>0.0</td>\n      <td>1.000000</td>\n      <td>1</td>\n      <td>0.000000</td>\n      <td>NaN</td>\n      <td>0.0</td>\n      <td>NaN</td>\n      <td>-784.0</td>\n      <td>-694.000000</td>\n      <td>0.000000</td>\n      <td>5.0</td>\n      <td>NaN</td>\n      <td>4.0</td>\n      <td>0.0</td>\n      <td>NaN</td>\n      <td>0</td>\n      <td>4.0</td>\n      <td>NaN</td>\n      <td>-96.0</td>\n      <td>2.0</td>\n      <td>0.000000</td>\n      <td>NaN</td>\n      <td>NaN</td>\n      <td>NaN</td>\n      <td>NaN</td>\n      <td>NaN</td>\n      <td>-714.0</td>\n      <td>0.0</td>\n      <td>NaN</td>\n      <td>0.0</td>\n      <td>NaN</td>\n      <td>5357.250</td>\n      <td>0.0</td>\n      <td>0.000000</td>\n      <td>-682.0</td>\n      <td>1</td>\n      <td>0.000000</td>\n      <td>0.0</td>\n      <td>16.0</td>\n      <td>0.000000</td>\n      <td>NaN</td>\n      <td>0</td>\n      <td>0.000000</td>\n      <td>0.000000</td>\n      <td>5.0</td>\n      <td>0.000000</td>\n      <td>0.0</td>\n      <td>NaN</td>\n      <td>0</td>\n      <td>4.0</td>\n      <td>0</td>\n      <td>0.0</td>\n      <td>0.000000</td>\n      <td>0.000000</td>\n      <td>0.250000</td>\n      <td>0.0</td>\n      <td>1.000000</td>\n      <td>NaN</td>\n      <td>0.000000</td>\n      <td>0.000000</td>\n      <td>NaN</td>\n      <td>NaN</td>\n      <td>NaN</td>\n      <td>0.000000</td>\n      <td>21288.465</td>\n      <td>NaN</td>\n      <td>0.000000</td>\n      <td>3.0</td>\n      <td>NaN</td>\n      <td>0.0</td>\n      <td>6.0</td>\n      <td>24282.00</td>\n      <td>0.00000</td>\n      <td>-714.000000</td>\n      <td>0.0</td>\n      <td>0.000000</td>\n      <td>0.0</td>\n      <td>0.000000</td>\n      <td>0.0</td>\n      <td>3.0</td>\n      <td>NaN</td>\n      <td>1</td>\n      <td>0</td>\n      <td>0</td>\n      <td>2.0</td>\n      <td>0.0</td>\n      <td>NaN</td>\n      <td>NaN</td>\n      <td>0.0</td>\n      <td>4860.00</td>\n      <td>0</td>\n      <td>365243.0</td>\n      <td>0.0</td>\n      <td>0</td>\n      <td>0.000000</td>\n      <td>0</td>\n      <td>0</td>\n      <td>0.0</td>\n      <td>1.0</td>\n      <td>0.0</td>\n      <td>0</td>\n      <td>0.0</td>\n      <td>NaN</td>\n      <td>0.0</td>\n      <td>NaN</td>\n      <td>0.000000</td>\n      <td>0.000000</td>\n      <td>0.0</td>\n      <td>NaN</td>\n      <td>0.000000</td>\n      <td>1.333333</td>\n      <td>NaN</td>\n      <td>0.000000</td>\n      <td>1.0</td>\n      <td>NaN</td>\n      <td>0.000000</td>\n      <td>3.0</td>\n      <td>0.0</td>\n      <td>0.000000</td>\n      <td>0.000000</td>\n      <td>4.0</td>\n      <td>1.000000</td>\n      <td>0.000000</td>\n      <td>0.0</td>\n      <td>0.000000</td>\n      <td>0.000000</td>\n      <td>0.000000</td>\n      <td>1.0</td>\n      <td>0.000000</td>\n      <td>1.0</td>\n      <td>0.0</td>\n      <td>0.0</td>\n      <td>0.0</td>\n      <td>NaN</td>\n      <td>NaN</td>\n      <td>0.000000</td>\n      <td>0.0</td>\n      <td>NaN</td>\n      <td>NaN</td>\n      <td>0.000000</td>\n      <td>0.000000</td>\n      <td>0</td>\n      <td>NaN</td>\n      <td>0.0</td>\n      <td>1</td>\n      <td>0.000000</td>\n      <td>NaN</td>\n      <td>1.0</td>\n      <td>NaN</td>\n      <td>0.750000</td>\n      <td>0</td>\n      <td>0</td>\n      <td>0.0</td>\n      <td>NaN</td>\n      <td>1.0</td>\n      <td>NaN</td>\n      <td>0.0</td>\n      <td>0.0</td>\n      <td>1.0</td>\n      <td>0.0</td>\n      <td>NaN</td>\n      <td>NaN</td>\n      <td>1.0</td>\n      <td>1.0</td>\n      <td>NaN</td>\n      <td>0.0</td>\n      <td>0.25</td>\n      <td>0.0</td>\n      <td>0.0</td>\n      <td>365243.0</td>\n      <td>1.000000</td>\n      <td>3.0</td>\n      <td>NaN</td>\n      <td>4.0</td>\n      <td>0.000000</td>\n      <td>NaN</td>\n      <td>NaN</td>\n      <td>0</td>\n      <td>100004</td>\n    </tr>\n    <tr>\n      <th>3</th>\n      <td>NaN</td>\n      <td>0.650442</td>\n      <td>994476.690</td>\n      <td>NaN</td>\n      <td>-19005</td>\n      <td>312682.5</td>\n      <td>29686.5</td>\n      <td>-3039</td>\n      <td>NaN</td>\n      <td>NaN</td>\n      <td>NaN</td>\n      <td>NaN</td>\n      <td>-2437</td>\n      <td>NaN</td>\n      <td>23.000000</td>\n      <td>3.0</td>\n      <td>NaN</td>\n      <td>1</td>\n      <td>-9833.0</td>\n      <td>-617.0</td>\n      <td>0.111111</td>\n      <td>-11.0</td>\n      <td>0.0</td>\n      <td>0.0</td>\n      <td>0.008019</td>\n      <td>NaN</td>\n      <td>NaN</td>\n      <td>NaN</td>\n      <td>NaN</td>\n      <td>66987.0</td>\n      <td>17.142857</td>\n      <td>1.428571</td>\n      <td>2.000000</td>\n      <td>691786.890</td>\n      <td>15159.645</td>\n      <td>0.0</td>\n      <td>0.326824</td>\n      <td>232499.719688</td>\n      <td>2482.920</td>\n      <td>NaN</td>\n      <td>NaN</td>\n      <td>0.0</td>\n      <td>NaN</td>\n      <td>NaN</td>\n      <td>8025.0</td>\n      <td>0.222222</td>\n      <td>0.222222</td>\n      <td>48.0</td>\n      <td>NaN</td>\n      <td>-272.444444</td>\n      <td>365243.0</td>\n      <td>NaN</td>\n      <td>0</td>\n      <td>-78.619048</td>\n      <td>135000.0</td>\n      <td>0.217830</td>\n      <td>NaN</td>\n      <td>48.0</td>\n      <td>138.0</td>\n      <td>NaN</td>\n      <td>NaN</td>\n      <td>0</td>\n      <td>NaN</td>\n      <td>NaN</td>\n      <td>62154.793125</td>\n      <td>NaN</td>\n      <td>NaN</td>\n      <td>-6.000000</td>\n      <td>7.875000</td>\n      <td>1.375000</td>\n      <td>-545.0</td>\n      <td>1007153.415</td>\n      <td>-174.0</td>\n      <td>0.0</td>\n      <td>14.666667</td>\n      <td>0.555556</td>\n      <td>-2452.0</td>\n      <td>23651.175</td>\n      <td>34840.17</td>\n      <td>0.163412</td>\n      <td>-181.0</td>\n      <td>2</td>\n      <td>-15.0</td>\n      <td>1</td>\n      <td>25091.325</td>\n      <td>-438.0</td>\n      <td>62947.088438</td>\n      <td>-151.0</td>\n      <td>NaN</td>\n      <td>66116.269688</td>\n      <td>0.111111</td>\n      <td>NaN</td>\n      <td>NaN</td>\n      <td>NaN</td>\n      <td>-1.0</td>\n      <td>1057860.315</td>\n      <td>0.857143</td>\n      <td>691786.890</td>\n      <td>NaN</td>\n      <td>NaN</td>\n      <td>NaN</td>\n      <td>0.222222</td>\n      <td>NaN</td>\n      <td>0.000000</td>\n      <td>-5899.0</td>\n      <td>0.0</td>\n      <td>2482.920</td>\n      <td>5018.265000</td>\n      <td>10.00</td>\n      <td>3.719996e+06</td>\n      <td>8.250000</td>\n      <td>-215.0</td>\n      <td>691786.890000</td>\n      <td>0.0</td>\n      <td>26912.34</td>\n      <td>8.238095</td>\n      <td>0.0</td>\n      <td>39954.510</td>\n      <td>729910.0</td>\n      <td>994476.690</td>\n      <td>1</td>\n      <td>NaN</td>\n      <td>0.0</td>\n      <td>0.000000</td>\n      <td>NaN</td>\n      <td>NaN</td>\n      <td>30.0</td>\n      <td>7.761905</td>\n      <td>NaN</td>\n      <td>0.0</td>\n      <td>0.095238</td>\n      <td>17</td>\n      <td>270000.0</td>\n      <td>0.555556</td>\n      <td>NaN</td>\n      <td>NaN</td>\n      <td>0.333333</td>\n      <td>0.222222</td>\n      <td>-416.0</td>\n      <td>688500.0</td>\n      <td>0.0</td>\n      <td>NaN</td>\n      <td>NaN</td>\n      <td>NaN</td>\n      <td>NaN</td>\n      <td>0.0</td>\n      <td>-6.0</td>\n      <td>91066.500000</td>\n      <td>50.0</td>\n      <td>0.111111</td>\n      <td>0.0</td>\n      <td>NaN</td>\n      <td>0.0</td>\n      <td>NaN</td>\n      <td>132.0</td>\n      <td>NaN</td>\n      <td>NaN</td>\n      <td>1</td>\n      <td>0.108994</td>\n      <td>9720000.0</td>\n      <td>0.0</td>\n      <td>173.0</td>\n      <td>0</td>\n      <td>0.111111</td>\n      <td>0</td>\n      <td>0.0</td>\n      <td>0.111111</td>\n      <td>1</td>\n      <td>NaN</td>\n      <td>1620000.0</td>\n      <td>0.0</td>\n      <td>NaN</td>\n      <td>364266.0</td>\n      <td>91584.000000</td>\n      <td>0.000000</td>\n      <td>15.0</td>\n      <td>1620000.0</td>\n      <td>10.0</td>\n      <td>NaN</td>\n      <td>NaN</td>\n      <td>0</td>\n      <td>11.0</td>\n      <td>0.0</td>\n      <td>-126.0</td>\n      <td>NaN</td>\n      <td>0.555556</td>\n      <td>0.0</td>\n      <td>NaN</td>\n      <td>NaN</td>\n      <td>NaN</td>\n      <td>0.0</td>\n      <td>365243.0</td>\n      <td>NaN</td>\n      <td>NaN</td>\n      <td>NaN</td>\n      <td>NaN</td>\n      <td>141907.050</td>\n      <td>0.0</td>\n      <td>0.666667</td>\n      <td>NaN</td>\n      <td>0</td>\n      <td>0.111111</td>\n      <td>0.0</td>\n      <td>360.0</td>\n      <td>0.777778</td>\n      <td>NaN</td>\n      <td>0</td>\n      <td>0.333333</td>\n      <td>0.000000</td>\n      <td>12.0</td>\n      <td>0.000000</td>\n      <td>0.0</td>\n      <td>NaN</td>\n      <td>0</td>\n      <td>18.0</td>\n      <td>0</td>\n      <td>NaN</td>\n      <td>0.000000</td>\n      <td>0.111111</td>\n      <td>0.333333</td>\n      <td>0.0</td>\n      <td>0.000000</td>\n      <td>0.0</td>\n      <td>0.333333</td>\n      <td>0.444444</td>\n      <td>NaN</td>\n      <td>NaN</td>\n      <td>NaN</td>\n      <td>0.444444</td>\n      <td>691786.890</td>\n      <td>0.0</td>\n      <td>0.111111</td>\n      <td>2.0</td>\n      <td>1620000.0</td>\n      <td>NaN</td>\n      <td>1.0</td>\n      <td>408304.89</td>\n      <td>0.00000</td>\n      <td>182481.750000</td>\n      <td>0.0</td>\n      <td>0.000000</td>\n      <td>0.0</td>\n      <td>0.111111</td>\n      <td>0.0</td>\n      <td>10.0</td>\n      <td>0.0</td>\n      <td>1</td>\n      <td>0</td>\n      <td>0</td>\n      <td>1.0</td>\n      <td>0.0</td>\n      <td>NaN</td>\n      <td>NaN</td>\n      <td>NaN</td>\n      <td>2693.34</td>\n      <td>1</td>\n      <td>365243.0</td>\n      <td>0.0</td>\n      <td>0</td>\n      <td>0.000000</td>\n      <td>0</td>\n      <td>0</td>\n      <td>8.0</td>\n      <td>1.0</td>\n      <td>NaN</td>\n      <td>0</td>\n      <td>NaN</td>\n      <td>6.0</td>\n      <td>NaN</td>\n      <td>NaN</td>\n      <td>0.111111</td>\n      <td>0.111111</td>\n      <td>NaN</td>\n      <td>NaN</td>\n      <td>0.111111</td>\n      <td>1.000000</td>\n      <td>0.0</td>\n      <td>0.555556</td>\n      <td>4.0</td>\n      <td>0.0</td>\n      <td>0.000000</td>\n      <td>17.0</td>\n      <td>0.0</td>\n      <td>0.333333</td>\n      <td>0.111111</td>\n      <td>0.0</td>\n      <td>0.000000</td>\n      <td>0.000000</td>\n      <td>NaN</td>\n      <td>NaN</td>\n      <td>0.111111</td>\n      <td>0.111111</td>\n      <td>NaN</td>\n      <td>0.000000</td>\n      <td>0.0</td>\n      <td>0.0</td>\n      <td>2.0</td>\n      <td>NaN</td>\n      <td>NaN</td>\n      <td>NaN</td>\n      <td>0.000000</td>\n      <td>0.0</td>\n      <td>0.0</td>\n      <td>0.0</td>\n      <td>NaN</td>\n      <td>0.111111</td>\n      <td>0</td>\n      <td>NaN</td>\n      <td>0.0</td>\n      <td>0</td>\n      <td>0.222222</td>\n      <td>NaN</td>\n      <td>2.0</td>\n      <td>NaN</td>\n      <td>0.666667</td>\n      <td>0</td>\n      <td>0</td>\n      <td>0.0</td>\n      <td>0.0</td>\n      <td>1.0</td>\n      <td>0.0</td>\n      <td>0.0</td>\n      <td>0.0</td>\n      <td>2.0</td>\n      <td>8.0</td>\n      <td>0.0</td>\n      <td>NaN</td>\n      <td>5.0</td>\n      <td>0.0</td>\n      <td>0.0</td>\n      <td>0.0</td>\n      <td>0.00</td>\n      <td>1.0</td>\n      <td>0.0</td>\n      <td>365243.0</td>\n      <td>0.000000</td>\n      <td>1.0</td>\n      <td>270000.0</td>\n      <td>2.0</td>\n      <td>0.111111</td>\n      <td>0.0</td>\n      <td>0.0</td>\n      <td>0</td>\n      <td>100006</td>\n    </tr>\n    <tr>\n      <th>4</th>\n      <td>NaN</td>\n      <td>0.322738</td>\n      <td>483756.390</td>\n      <td>NaN</td>\n      <td>-19932</td>\n      <td>513000.0</td>\n      <td>21865.5</td>\n      <td>-3038</td>\n      <td>-1149.0</td>\n      <td>NaN</td>\n      <td>0.0</td>\n      <td>-783.0</td>\n      <td>-3458</td>\n      <td>0.000</td>\n      <td>20.666667</td>\n      <td>13.0</td>\n      <td>-783.0</td>\n      <td>0</td>\n      <td>-4311.0</td>\n      <td>-1106.0</td>\n      <td>0.000000</td>\n      <td>-14.0</td>\n      <td>NaN</td>\n      <td>0.0</td>\n      <td>0.028663</td>\n      <td>146250.000000</td>\n      <td>-1149.00</td>\n      <td>146250.0</td>\n      <td>-1149.0</td>\n      <td>3676.5</td>\n      <td>15.515152</td>\n      <td>2.515152</td>\n      <td>1.647059</td>\n      <td>22678.785</td>\n      <td>1834.290</td>\n      <td>NaN</td>\n      <td>0.319033</td>\n      <td>172669.901591</td>\n      <td>1821.780</td>\n      <td>-783.0</td>\n      <td>0.0</td>\n      <td>NaN</td>\n      <td>146250.000</td>\n      <td>NaN</td>\n      <td>1200.0</td>\n      <td>0.000000</td>\n      <td>0.500000</td>\n      <td>48.0</td>\n      <td>-783.000</td>\n      <td>-1222.833333</td>\n      <td>346.0</td>\n      <td>-783.0</td>\n      <td>0</td>\n      <td>-429.727273</td>\n      <td>121500.0</td>\n      <td>0.218890</td>\n      <td>146250.0</td>\n      <td>24.0</td>\n      <td>124.0</td>\n      <td>0.00000</td>\n      <td>-1149.0</td>\n      <td>0</td>\n      <td>NaN</td>\n      <td>0.0</td>\n      <td>12512.815909</td>\n      <td>0.0</td>\n      <td>NaN</td>\n      <td>-27.272727</td>\n      <td>12.984848</td>\n      <td>1.257576</td>\n      <td>-2326.0</td>\n      <td>806127.975</td>\n      <td>-2175.0</td>\n      <td>0.0</td>\n      <td>12.333333</td>\n      <td>1.000000</td>\n      <td>-7337.0</td>\n      <td>12278.805</td>\n      <td>3390.75</td>\n      <td>0.159516</td>\n      <td>-374.0</td>\n      <td>2</td>\n      <td>-78.0</td>\n      <td>1</td>\n      <td>18330.390</td>\n      <td>-2044.0</td>\n      <td>12666.444545</td>\n      <td>-344.0</td>\n      <td>NaN</td>\n      <td>12677.324318</td>\n      <td>0.000000</td>\n      <td>0.000</td>\n      <td>-783.0</td>\n      <td>-783.000000</td>\n      <td>-1.0</td>\n      <td>836703.405</td>\n      <td>0.939394</td>\n      <td>22485.690</td>\n      <td>-783.0</td>\n      <td>0.00</td>\n      <td>-783.0</td>\n      <td>0.000000</td>\n      <td>NaN</td>\n      <td>0.166667</td>\n      <td>-80368.0</td>\n      <td>0.0</td>\n      <td>1834.290</td>\n      <td>1833.039000</td>\n      <td>10.00</td>\n      <td>1.179154e+07</td>\n      <td>16.439394</td>\n      <td>-2056.0</td>\n      <td>22663.931538</td>\n      <td>NaN</td>\n      <td>17176.50</td>\n      <td>13.727273</td>\n      <td>0.0</td>\n      <td>22678.785</td>\n      <td>360681.0</td>\n      <td>825845.850</td>\n      <td>0</td>\n      <td>NaN</td>\n      <td>NaN</td>\n      <td>0.000000</td>\n      <td>NaN</td>\n      <td>0.0</td>\n      <td>166.0</td>\n      <td>15.242424</td>\n      <td>NaN</td>\n      <td>NaN</td>\n      <td>0.045455</td>\n      <td>11</td>\n      <td>NaN</td>\n      <td>0.333333</td>\n      <td>NaN</td>\n      <td>NaN</td>\n      <td>0.333333</td>\n      <td>0.333333</td>\n      <td>-2041.0</td>\n      <td>247500.0</td>\n      <td>0.0</td>\n      <td>NaN</td>\n      <td>NaN</td>\n      <td>0.0</td>\n      <td>0.0</td>\n      <td>0.0</td>\n      <td>NaN</td>\n      <td>-1263.200000</td>\n      <td>100.0</td>\n      <td>0.000000</td>\n      <td>14616.0</td>\n      <td>NaN</td>\n      <td>NaN</td>\n      <td>0.0</td>\n      <td>1085.0</td>\n      <td>0.0</td>\n      <td>NaN</td>\n      <td>1</td>\n      <td>0.100143</td>\n      <td>NaN</td>\n      <td>NaN</td>\n      <td>906.0</td>\n      <td>0</td>\n      <td>0.500000</td>\n      <td>0</td>\n      <td>0.0</td>\n      <td>0.166667</td>\n      <td>1</td>\n      <td>0.000000</td>\n      <td>NaN</td>\n      <td>0.0</td>\n      <td>NaN</td>\n      <td>-6316.0</td>\n      <td>-837.200000</td>\n      <td>0.000000</td>\n      <td>15.0</td>\n      <td>NaN</td>\n      <td>28.0</td>\n      <td>0.0</td>\n      <td>NaN</td>\n      <td>0</td>\n      <td>44.0</td>\n      <td>NaN</td>\n      <td>-1800.0</td>\n      <td>1.0</td>\n      <td>0.166667</td>\n      <td>NaN</td>\n      <td>NaN</td>\n      <td>NaN</td>\n      <td>NaN</td>\n      <td>NaN</td>\n      <td>365243.0</td>\n      <td>0.0</td>\n      <td>NaN</td>\n      <td>0.0</td>\n      <td>NaN</td>\n      <td>73672.830</td>\n      <td>0.5</td>\n      <td>0.166667</td>\n      <td>-783.0</td>\n      <td>0</td>\n      <td>0.333333</td>\n      <td>0.0</td>\n      <td>1024.0</td>\n      <td>0.166667</td>\n      <td>NaN</td>\n      <td>0</td>\n      <td>0.000000</td>\n      <td>0.166667</td>\n      <td>8.0</td>\n      <td>0.166667</td>\n      <td>0.0</td>\n      <td>NaN</td>\n      <td>0</td>\n      <td>77.0</td>\n      <td>0</td>\n      <td>0.0</td>\n      <td>0.600000</td>\n      <td>0.333333</td>\n      <td>0.076923</td>\n      <td>0.0</td>\n      <td>0.166667</td>\n      <td>NaN</td>\n      <td>0.666667</td>\n      <td>0.000000</td>\n      <td>NaN</td>\n      <td>NaN</td>\n      <td>NaN</td>\n      <td>0.500000</td>\n      <td>294631.110</td>\n      <td>NaN</td>\n      <td>0.166667</td>\n      <td>10.0</td>\n      <td>NaN</td>\n      <td>0.0</td>\n      <td>55.0</td>\n      <td>150530.25</td>\n      <td>0.19697</td>\n      <td>72143.800000</td>\n      <td>0.0</td>\n      <td>0.166667</td>\n      <td>0.0</td>\n      <td>0.500000</td>\n      <td>13.0</td>\n      <td>17.0</td>\n      <td>NaN</td>\n      <td>0</td>\n      <td>0</td>\n      <td>1</td>\n      <td>5.5</td>\n      <td>0.0</td>\n      <td>NaN</td>\n      <td>NaN</td>\n      <td>0.0</td>\n      <td>3105.00</td>\n      <td>0</td>\n      <td>365243.0</td>\n      <td>0.0</td>\n      <td>0</td>\n      <td>0.000000</td>\n      <td>0</td>\n      <td>0</td>\n      <td>0.0</td>\n      <td>1.0</td>\n      <td>0.0</td>\n      <td>0</td>\n      <td>0.0</td>\n      <td>NaN</td>\n      <td>0.0</td>\n      <td>NaN</td>\n      <td>0.333333</td>\n      <td>0.000000</td>\n      <td>0.0</td>\n      <td>NaN</td>\n      <td>0.500000</td>\n      <td>1.000000</td>\n      <td>NaN</td>\n      <td>0.666667</td>\n      <td>5.0</td>\n      <td>NaN</td>\n      <td>0.015152</td>\n      <td>66.0</td>\n      <td>0.0</td>\n      <td>0.000000</td>\n      <td>0.000000</td>\n      <td>10.0</td>\n      <td>0.166667</td>\n      <td>0.076923</td>\n      <td>0.0</td>\n      <td>0.000000</td>\n      <td>0.000000</td>\n      <td>0.000000</td>\n      <td>1.0</td>\n      <td>0.000000</td>\n      <td>1.0</td>\n      <td>0.0</td>\n      <td>3.0</td>\n      <td>0.0</td>\n      <td>NaN</td>\n      <td>NaN</td>\n      <td>0.166667</td>\n      <td>0.0</td>\n      <td>NaN</td>\n      <td>NaN</td>\n      <td>0.000000</td>\n      <td>0.166667</td>\n      <td>0</td>\n      <td>NaN</td>\n      <td>0.0</td>\n      <td>0</td>\n      <td>0.000000</td>\n      <td>NaN</td>\n      <td>1.0</td>\n      <td>NaN</td>\n      <td>0.846154</td>\n      <td>0</td>\n      <td>0</td>\n      <td>0.0</td>\n      <td>NaN</td>\n      <td>1.0</td>\n      <td>NaN</td>\n      <td>0.0</td>\n      <td>0.0</td>\n      <td>3.0</td>\n      <td>5.0</td>\n      <td>NaN</td>\n      <td>NaN</td>\n      <td>2.0</td>\n      <td>0.0</td>\n      <td>NaN</td>\n      <td>0.0</td>\n      <td>0.00</td>\n      <td>3.0</td>\n      <td>0.0</td>\n      <td>365243.0</td>\n      <td>0.166667</td>\n      <td>10.0</td>\n      <td>NaN</td>\n      <td>10.0</td>\n      <td>0.000000</td>\n      <td>NaN</td>\n      <td>NaN</td>\n      <td>0</td>\n      <td>100007</td>\n    </tr>\n  </tbody>\n</table>\n</div>"
     },
     "metadata": {},
     "execution_count": 3
    }
   ],
   "source": [
    "train.head()"
   ]
  },
  {
   "cell_type": "markdown",
   "metadata": {
    "Collapsed": "false"
   },
   "source": [
    "## Indexation sur 'SK_ID_CURR'"
   ]
  },
  {
   "cell_type": "code",
   "execution_count": 4,
   "metadata": {
    "Collapsed": "false"
   },
   "outputs": [],
   "source": [
    "# Indexing on SK_ID_CURR, both for train and test sets\n",
    "train = train.set_index('SK_ID_CURR')\n",
    "test = test.set_index('SK_ID_CURR')"
   ]
  },
  {
   "cell_type": "markdown",
   "metadata": {
    "Collapsed": "false",
    "toc-hr-collapsed": false
   },
   "source": [
    "# **EXPLORATION**"
   ]
  },
  {
   "cell_type": "markdown",
   "metadata": {
    "Collapsed": "false"
   },
   "source": [
    "## Valeurs dupliquées"
   ]
  },
  {
   "cell_type": "code",
   "execution_count": 5,
   "metadata": {
    "Collapsed": "false"
   },
   "outputs": [],
   "source": [
    "# %%flake8  # checking PEP8 compliance\n",
    "\n",
    "def contains_duplicates(dataframe):\n",
    "    \"\"\"This function checks the presence of duplicates rows in a dataframe.\"\"\"\n",
    "\n",
    "    mask = dataframe.duplicated(keep='first')\n",
    "    nb_duplicates = len(dataframe[mask])\n",
    "\n",
    "    if nb_duplicates == 0:\n",
    "        return False\n",
    "\n",
    "    else:\n",
    "        return True"
   ]
  },
  {
   "cell_type": "code",
   "execution_count": 6,
   "metadata": {
    "Collapsed": "false"
   },
   "outputs": [
    {
     "output_type": "execute_result",
     "data": {
      "text/plain": [
       "False"
      ]
     },
     "metadata": {},
     "execution_count": 6
    }
   ],
   "source": [
    "contains_duplicates(train)"
   ]
  },
  {
   "cell_type": "markdown",
   "metadata": {
    "Collapsed": "false"
   },
   "source": [
    "## Valeurs manquantes"
   ]
  },
  {
   "cell_type": "code",
   "execution_count": 7,
   "metadata": {
    "Collapsed": "false"
   },
   "outputs": [],
   "source": [
    "def global_filling_rate(dataframe):\n",
    "    \"\"\"Compute and displays global filling rate of a DataFrame\"\"\"\n",
    "\n",
    "    # get the numbers of rows and columns in the dataframe\n",
    "    nb_rows, nb_columns = dataframe.shape\n",
    "    print(\"DataFrame has {} rows and {} columns.\".format(nb_rows, nb_columns))\n",
    "\n",
    "    # get the number of non-Nan data in the dataframe\n",
    "    nb_data = dataframe.count().sum()\n",
    "\n",
    "    # computing the filling rate\n",
    "    filling_rate = nb_data / (nb_rows * nb_columns)\n",
    "    missing_rate = 1 - filling_rate\n",
    "\n",
    "    # computing the total missing values\n",
    "    missing_values = (nb_rows * nb_columns) - nb_data\n",
    "\n",
    "    # display global results\n",
    "    print(\"\")\n",
    "    print(\"Global filling rate of the DataFrame: {:.2%}\".format(filling_rate))\n",
    "    print(\"Missing values in the DataFrame: {} ({:.2%})\"\n",
    "          .format(missing_values, missing_rate))\n",
    "\n",
    "    # compute number of rows with missing values\n",
    "    mask = dataframe.isnull().any(axis=1)\n",
    "    rows_w_missing_values = len(dataframe[mask])\n",
    "    rows_w_missing_values_percentage = rows_w_missing_values / nb_rows\n",
    "\n",
    "    # display results\n",
    "    print(\"\")\n",
    "    print(\"Number of rows with missing values: {} ({:.2%})\"\n",
    "          .format(rows_w_missing_values, rows_w_missing_values_percentage))\n",
    "\n",
    "    # compute number of columns with missing values\n",
    "    mask = dataframe.isnull().any(axis=0)\n",
    "    cols_w_missing_values = len(dataframe[dataframe.columns[mask]].columns)\n",
    "    cols_w_missing_values_percentage = cols_w_missing_values / nb_columns\n",
    "\n",
    "    # display results\n",
    "    print(\"Number of columns with missing values: {} ({:.2%})\"\n",
    "          .format(cols_w_missing_values, cols_w_missing_values_percentage))"
   ]
  },
  {
   "cell_type": "code",
   "execution_count": 8,
   "metadata": {
    "Collapsed": "false"
   },
   "outputs": [
    {
     "output_type": "stream",
     "name": "stdout",
     "text": [
      "DataFrame has 307511 rows and 343 columns.\n",
      "\n",
      "Global filling rate of the DataFrame: 80.67%\n",
      "Missing values in the DataFrame: 20387003 (19.33%)\n",
      "\n",
      "Number of rows with missing values: 306625 (99.71%)\n",
      "Number of columns with missing values: 307 (89.50%)\n"
     ]
    }
   ],
   "source": [
    "global_filling_rate(train)"
   ]
  },
  {
   "cell_type": "code",
   "execution_count": 9,
   "metadata": {
    "Collapsed": "false"
   },
   "outputs": [],
   "source": [
    "def columns_filling_rate(dataframe, columns='all', missing_only=False):\n",
    "    \"\"\"Calculate and displays the filling rate for\n",
    "    a particular column in a pd.DataFrame.\"\"\"\n",
    "    \n",
    "    # Importations\n",
    "    import pandas as pd\n",
    "    import numpy as np\n",
    "    \n",
    "    # If 'feature' is not specified\n",
    "    if columns == 'all':\n",
    "        columns = dataframe.columns\n",
    "        \n",
    "    \n",
    "    # initialization of the results DataFrame\n",
    "    results = pd.DataFrame(columns=['nb_values', 'missing_values', 'filling_rate'])\n",
    "        \n",
    "    # for each feature\n",
    "    for column in columns:\n",
    "\n",
    "        # Count of the values on each column\n",
    "        values_count = dataframe[column].count()\n",
    "        \n",
    "        # Computing missing values\n",
    "        nb_rows = dataframe.shape[0]\n",
    "        missing_values = nb_rows - values_count\n",
    "\n",
    "        # Computing filling rates\n",
    "        filling_rate = values_count / nb_rows\n",
    "        if missing_only and missing_values == 0:\n",
    "            filling_rate = np.nan\n",
    "        \n",
    "        # Adding a row in the results' dataframe\n",
    "        results.loc[column] = [values_count, missing_values, filling_rate]\n",
    "\n",
    "    # Sorting the features by number of missing_values\n",
    "    results = results.dropna(subset=['filling_rate'])\n",
    "    results = results.sort_values('filling_rate')\n",
    "    \n",
    "    if results.empty == False:\n",
    "        return results\n",
    "    else:\n",
    "        print(\"No missing value.\")"
   ]
  },
  {
   "cell_type": "code",
   "execution_count": 10,
   "metadata": {
    "Collapsed": "false"
   },
   "outputs": [
    {
     "output_type": "stream",
     "name": "stdout",
     "text": [
      "DataFrame has 307511 rows and 343 columns.\n",
      "\n",
      "Global filling rate of the DataFrame: 80.67%\n",
      "Missing values in the DataFrame: 20387003 (19.33%)\n",
      "\n",
      "Number of rows with missing values: 306625 (99.71%)\n",
      "Number of columns with missing values: 307 (89.50%)\n"
     ]
    }
   ],
   "source": [
    "global_filling_rate(train)"
   ]
  },
  {
   "cell_type": "code",
   "execution_count": 11,
   "metadata": {
    "Collapsed": "false"
   },
   "outputs": [
    {
     "output_type": "stream",
     "name": "stdout",
     "text": [
      "DataFrame has 307511 rows and 218 columns.\n",
      "\n",
      "Global filling rate of the DataFrame: 95.60%\n",
      "Missing values in the DataFrame: 2951272 (4.40%)\n",
      "\n",
      "Number of rows with missing values: 21836 (7.10%)\n",
      "Number of columns with missing values: 182 (83.49%)\n",
      "(307511, 218)\n",
      "(48744, 217)\n"
     ]
    }
   ],
   "source": [
    "# Dropping the columns where filling rate < 80%\n",
    "# ----------------------------------------------\n",
    "\n",
    "def get_features_under_filling_threshold(features_df, threshold=0.9):\n",
    "    # computing the filling rates\n",
    "    col_fillings = columns_filling_rate(features_df, columns='all', missing_only=True)\n",
    "\n",
    "    # creating a mask for filling rate < threshold\n",
    "    mask = col_fillings['filling_rate'] < threshold\n",
    "\n",
    "    # getting the list of features\n",
    "    set_cols_to_delete = set(col_fillings[mask].index)\n",
    "    return set_cols_to_delete\n",
    "\n",
    "\n",
    "set_cols_to_delete_train = get_features_under_filling_threshold(train, threshold=0.9)\n",
    "set_cols_to_delete_test = get_features_under_filling_threshold(train, threshold=0.9)\n",
    "set_cols_to_delete = set_cols_to_delete_train.union(set_cols_to_delete_test)\n",
    "\n",
    "# deleting the rows both in train set and test set\n",
    "train = train.drop(columns=set_cols_to_delete)\n",
    "test = test.drop(columns=set_cols_to_delete)\n",
    "\n",
    "global_filling_rate(train)\n",
    "print(train.shape)\n",
    "print(test.shape)"
   ]
  },
  {
   "cell_type": "code",
   "execution_count": 12,
   "metadata": {
    "Collapsed": "false",
    "scrolled": true
   },
   "outputs": [
    {
     "output_type": "execute_result",
     "data": {
      "text/plain": [
       "nsumer Ele...   291057.0         16454.0   \n",
       "previous_loans_NAME_TYPE_SUITE_Family_count_norm     291057.0         16454.0   \n",
       "previous_loans_CHANNEL_TYPE_Stone_count_norm         291057.0         16454.0   \n",
       "previous_loans_CHANNEL_TYPE_Credit and cash off...   291057.0         16454.0   \n",
       "previous_loans_NAME_CONTRACT_TYPE_Cash loans_co...   291057.0         16454.0   \n",
       "previous_loans_NAME_PAYMENT_TYPE_Cash through t...   291057.0         16454.0   \n",
       "previous_loans_CHANNEL_TYPE_Country-wide_count_...   291057.0         16454.0   \n",
       "previous_loans_CODE_REJECT_REASON_CLIENT_count_...   291057.0         16454.0   \n",
       "previous_loans_PRODUCT_COMBINATION_Card X-Sell_...   291057.0         16454.0   \n",
       "previous_loans_WEEKDAY_APPR_PROCESS_START_FRIDA...   291057.0         16454.0   \n",
       "previous_loans_WEEKDAY_APPR_PROCESS_START_TUESD...   291057.0         16454.0   \n",
       "previous_loans_NAME_SELLER_INDUSTRY_Constructio...   291057.0         16454.0   \n",
       "previous_loans_NAME_SELLER_INDUSTRY_Furniture_c...   291057.0         16454.0   \n",
       "previous_loans_NAME_SELLER_INDUSTRY_Connectivit...   291057.0         16454.0   \n",
       "previous_loans_NAME_PORTFOLIO_XNA_count_norm         291057.0         16454.0   \n",
       "previous_loans_NAME_SELLER_INDUSTRY_Consumer el...   291057.0         16454.0   \n",
       "previous_loans_CODE_REJECT_REASON_LIMIT_count_norm   291057.0         16454.0   \n",
       "previous_loans_WEEKDAY_APPR_PROCESS_START_SUNDA...   291057.0         16454.0   \n",
       "previous_loans_NAME_TYPE_SUITE_Unaccompanied_co...   291057.0         16454.0   \n",
       "previous_loans_NAME_PRODUCT_TYPE_XNA_count_norm      291057.0         16454.0   \n",
       "previous_loans_DAYS_DECISION_sum                     291057.0         16454.0   \n",
       "previous_loans_DAYS_LAST_DUE_sum                     291057.0         16454.0   \n",
       "previous_loans_SELLERPLACE_AREA_max                  291057.0         16454.0   \n",
       "previous_loans_PRODUCT_COMBINATION_Cash X-Sell:...   291057.0         16454.0   \n",
       "previous_loans_NAME_YIELD_GROUP_high_count_norm      291057.0         16454.0   \n",
       "previous_loans_DAYS_DECISION_mean                    291057.0         16454.0   \n",
       "previous_loans_CNT_PAYMENT_sum                       291057.0         16454.0   \n",
       "previous_loans_NAME_PRODUCT_TYPE_walk-in_count_...   291057.0         16454.0   \n",
       "previous_loans_NAME_YIELD_GROUP_low_normal_coun...   291057.0         16454.0   \n",
       "previous_loans_NAME_GOODS_CATEGORY_Photo / Cine...   291057.0         16454.0   \n",
       "previous_loans_SELLERPLACE_AREA_min                  291057.0         16454.0   \n",
       "previous_loans_PRODUCT_COMBINATION_Cash X-Sell:...   291057.0         16454.0   \n",
       "previous_loans_NAME_YIELD_GROUP_low_action_coun...   291057.0         16454.0   \n",
       "previous_loans_HOUR_APPR_PROCESS_START_mean          291057.0         16454.0   \n",
       "previous_loans_DAYS_DECISION_max                     291057.0         16454.0   \n",
       "previous_loans_NAME_PORTFOLIO_POS_count_norm         291057.0         16454.0   \n",
       "previous_loans_AMT_APPLICATION_max                   291057.0         16454.0   \n",
       "previous_loans_NAME_CLIENT_TYPE_Refreshed_count...   291057.0         16454.0   \n",
       "previous_loans_PRODUCT_COMBINATION_Cash Street:...   291057.0         16454.0   \n",
       "previous_loans_WEEKDAY_APPR_PROCESS_START_THURS...   291057.0         16454.0   \n",
       "previous_loans_PRODUCT_COMBINATION_Cash X-Sell:...   291057.0         16454.0   \n",
       "previous_loans_AMT_ANNUITY_sum                       291057.0         16454.0   \n",
       "previous_loans_NAME_PAYMENT_TYPE_XNA_count_norm      291057.0         16454.0   \n",
       "previous_loans_NAME_CONTRACT_STATUS_Refused_cou...   291057.0         16454.0   \n",
       "previous_loans_HOUR_APPR_PROCESS_START_max           291057.0         16454.0   \n",
       "previous_loans_RATE_DOWN_PAYMENT_sum                 291057.0         16454.0   \n",
       "previous_loans_DAYS_FIRST_DUE_sum                    291057.0         16454.0   \n",
       "previous_loans_CHANNEL_TYPE_Channel of corporat...   291057.0         16454.0   \n",
       "previous_loans_NAME_CLIENT_TYPE_New_count_norm       291057.0         16454.0   \n",
       "previous_loans_NAME_CONTRACT_STATUS_Approved_co...   291057.0         16454.0   \n",
       "previous_loans_CODE_REJECT_REASON_HC_count_norm      291057.0         16454.0   \n",
       "previous_loans_NAME_YIELD_GROUP_middle_count_norm    291057.0         16454.0   \n",
       "previous_loans_PRODUCT_COMBINATION_POS industry...   291057.0         16454.0   \n",
       "previous_loans_AMT_CREDIT_min                        291057.0         16454.0   \n",
       "client_installments_AMT_PAYMENT_max_min              291635.0         15876.0   \n",
       "client_installments_DAYS_ENTRY_PAYMENT_max_min       291635.0         15876.0   \n",
       "client_installments_AMT_PAYMENT_max_mean             291635.0         15876.0   \n",
       "client_installments_DAYS_ENTRY_PAYMENT_sum_max       291643.0         15868.0   \n",
       "client_installments_AMT_INSTALMENT_max_max           291643.0         15868.0   \n",
       "client_installments_AMT_PAYMENT_mean_sum             291643.0         15868.0   \n",
       "client_installments_AMT_PAYMENT_min_sum              291643.0         15868.0   \n",
       "client_installments_NUM_INSTALMENT_VERSION_max_...   291643.0         15868.0   \n",
       "client_installments_AMT_PAYMENT_sum_mean             291643.0         15868.0   \n",
       "client_installments_NUM_INSTALMENT_NUMBER_max_mean   291643.0         15868.0   \n",
       "client_installments_NUM_INSTALMENT_VERSION_mean...   291643.0         15868.0   \n",
       "client_installments_AMT_INSTALMENT_min_min           291643.0         15868.0   \n",
       "client_installments_AMT_INSTALMENT_min_mean          291643.0         15868.0   \n",
       "client_installments_NUM_INSTALMENT_NUMBER_min_max    291643.0         15868.0   \n",
       "client_installments_DAYS_INSTALMENT_max_max          291643.0         15868.0   \n",
       "client_installments_AMT_INSTALMENT_min_max           291643.0         15868.0   \n",
       "client_installments_AMT_INSTALMENT_mean_mean         291643.0         15868.0   \n",
       "client_installments_NUM_INSTALMENT_VERSION_sum_max   291643.0         15868.0   \n",
       "client_installments_NUM_INSTALMENT_VERSION_mean...   291643.0         15868.0   \n",
       "client_installments_NUM_INSTALMENT_VERSION_sum_min   291643.0         15868.0   \n",
       "client_installments_NUM_INSTALMENT_VERSION_sum_sum   291643.0         15868.0   \n",
       "client_installments_AMT_INSTALMENT_sum_max           291643.0         15868.0   \n",
       "client_installments_NUM_INSTALMENT_NUMBER_sum_min    291643.0         15868.0   \n",
       "client_installments_AMT_INSTALMENT_min_sum           291643.0         15868.0   \n",
       "client_installments_NUM_INSTALMENT_NUMBER_mean_min   291643.0         15868.0   \n",
       "client_installments_AMT_PAYMENT_sum_min              291643.0         15868.0   \n",
       "client_installments_NUM_INSTALMENT_VERSION_sum_...   291643.0         15868.0   \n",
       "client_installments_AMT_INSTALMENT_mean_max          291643.0         15868.0   \n",
       "client_installments_AMT_INSTALMENT_mean_min          291643.0         15868.0   \n",
       "client_installments_NUM_INSTALMENT_NUMBER_min_mean   291643.0         15868.0   \n",
       "client_installments_DAYS_ENTRY_PAYMENT_min_sum       291643.0         15868.0   \n",
       "client_installments_NUM_INSTALMENT_VERSION_mean...   291643.0         15868.0   \n",
       "client_installments_AMT_PAYMENT_max_sum              291643.0         15868.0   \n",
       "client_installments_NUM_INSTALMENT_VERSION_min_sum   291643.0         15868.0   \n",
       "client_installments_DAYS_INSTALMENT_min_max          291643.0         15868.0   \n",
       "client_installments_AMT_INSTALMENT_sum_sum           291643.0         15868.0   \n",
       "DEF_60_CNT_SOCIAL_CIRCLE                             306490.0          1021.0   \n",
       "DEF_30_CNT_SOCIAL_CIRCLE                             306490.0          1021.0   \n",
       "EXT_SOURCE_2                                         306851.0           660.0   \n",
       "AMT_ANNUITY                                          307499.0            12.0   \n",
       "CNT_FAM_MEMBERS                                      307509.0             2.0   \n",
       "DAYS_LAST_PHONE_CHANGE                               307510.0             1.0   \n",
       "\n",
       "                                                    filling_rate  \n",
       "client_cash_CNT_INSTALMENT_max_max                      0.941170  \n",
       "client_cash_CNT_INSTALMENT_min_min                      0.941170  \n",
       "client_cash_CNT_INSTALMENT_FUTURE_min_max               0.941170  \n",
       "client_cash_CNT_INSTALMENT_mean_min                     0.941170  \n",
       "client_cash_CNT_INSTALMENT_min_mean                     0.941170  \n",
       "client_cash_CNT_INSTALMENT_max_mean                     0.941170  \n",
       "client_cash_CNT_INSTALMENT_FUTURE_min_mean              0.941170  \n",
       "client_cash_MONTHS_BALANCE_max_mean                     0.941248  \n",
       "client_cash_NAME_CONTRACT_STATUS_Active_count_max       0.941248  \n",
       "client_cash_NAME_CONTRACT_STATUS_Active_count_min       0.941248  \n",
       "client_cash_CNT_INSTALMENT_sum_min                      0.941248  \n",
       "client_cash_MONTHS_BALANCE_sum_max                      0.941248  \n",
       "client_cash_NAME_CONTRACT_STATUS_Signed_count_n...      0.941248  \n",
       "client_cash_NAME_CONTRACT_STATUS_Signed_count_mean      0.941248  \n",
       "client_cash_CNT_INSTALMENT_FUTURE_max_sum               0.941248  \n",
       "client_cash_NAME_CONTRACT_STATUS_Active_count_n...      0.941248  \n",
       "client_cash_NAME_CONTRACT_STATUS_Completed_coun...      0.941248  \n",
       "client_cash_NAME_CONTRACT_STATUS_Completed_coun...      0.941248  \n",
       "client_cash_SK_DPD_DEF_sum_min                          0.941248  \n",
       "client_cash_CNT_INSTALMENT_FUTURE_min_sum               0.941248  \n",
       "client_cash_counts_mean                                 0.941248  \n",
       "client_cash_SK_DPD_max_sum                              0.941248  \n",
       "client_cash_NAME_CONTRACT_STATUS_Signed_count_n...      0.941248  \n",
       "client_cash_NAME_CONTRACT_STATUS_Returned to th...      0.941248  \n",
       "client_cash_counts_sum                                  0.941248  \n",
       "client_cash_NAME_CONTRACT_STATUS_Signed_count_sum       0.941248  \n",
       "client_cash_NAME_CONTRACT_STATUS_Active_count_n...      0.941248  \n",
       "client_cash_SK_DPD_DEF_sum_max                          0.941248  \n",
       "client_cash_NAME_CONTRACT_STATUS_Completed_coun...      0.941248  \n",
       "client_cash_MONTHS_BALANCE_max_sum                      0.941248  \n",
       "client_cash_MONTHS_BALANCE_sum_mean                     0.941248  \n",
       "client_cash_NAME_CONTRACT_STATUS_Completed_coun...      0.941248  \n",
       "client_cash_NAME_CONTRACT_STATUS_Completed_coun...      0.941248  \n",
       "client_cash_SK_DPD_mean_min                             0.941248  \n",
       "previous_loans_DAYS_FIRST_DRAWING_min                   0.942275  \n",
       "previous_loans_DAYS_LAST_DUE_1ST_VERSION_min            0.942275  \n",
       "previous_loans_DAYS_FIRST_DRAWING_mean                  0.942275  \n",
       "previous_loans_DAYS_TERMINATION_max                     0.942275  \n",
       "previous_loans_DAYS_TERMINATION_min                     0.942275  \n",
       "previous_loans_DAYS_FIRST_DUE_mean                      0.942275  \n",
       "previous_loans_DAYS_LAST_DUE_1ST_VERSION_mean           0.942275  \n",
       "previous_loans_DAYS_TERMINATION_mean                    0.942275  \n",
       "previous_loans_DAYS_LAST_DUE_1ST_VERSION_max            0.942275  \n",
       "previous_loans_DAYS_FIRST_DUE_min                       0.942275  \n",
       "previous_loans_NFLAG_INSURED_ON_APPROVAL_mean           0.942275  \n",
       "previous_loans_AMT_GOODS_PRICE_mean                     0.943322  \n",
       "previous_loans_AMT_GOODS_PRICE_min                      0.943322  \n",
       "previous_loans_AMT_ANNUITY_max                          0.945137  \n",
       "previous_loans_AMT_ANNUITY_min                          0.945137  \n",
       "previous_loans_AMT_ANNUITY_mean                         0.945137  \n",
       "previous_loans_CNT_PAYMENT_min                          0.945143  \n",
       "previous_loans_CNT_PAYMENT_mean                         0.945143  \n",
       "previous_loans_CNT_PAYMENT_max                          0.945143  \n",
       "previous_loans_PRODUCT_COMBINATION_Cash Street:...      0.946493  \n",
       "previous_loans_NAME_CONTRACT_STATUS_Canceled_co...      0.946493  \n",
       "previous_loans_NAME_GOODS_CATEGORY_Audio/Video_...      0.946493  \n",
       "previous_loans_WEEKDAY_APPR_PROCESS_START_SATUR...      0.946493  \n",
       "previous_loans_CHANNEL_TYPE_Contact center_coun...      0.946493  \n",
       "previous_loans_NAME_SELLER_INDUSTRY_Connectivit...      0.946493  \n",
       "previous_loans_WEEKDAY_APPR_PROCESS_START_MONDA...      0.946493  \n",
       "previous_loans_HOUR_APPR_PROCESS_START_min              0.946493  \n",
       "previous_loans_NAME_PRODUCT_TYPE_x-sell_count_norm      0.946493  \n",
       "previous_loans_CHANNEL_TYPE_AP+ (Cash loan)_cou...      0.946493  \n",
       "previous_loans_NAME_YIELD_GROUP_XNA_count_norm          0.946493  \n",
       "previous_loans_NAME_GOODS_CATEGORY_Computers_co...      0.946493  \n",
       "previous_loans_CODE_REJECT_REASON_SCO_count_norm        0.946493  \n",
       "previous_loans_NAME_PORTFOLIO_Cash_count_norm           0.946493  \n",
       "previous_loans_NAME_GOODS_CATEGORY_Furniture_co...      0.946493  \n",
       "previous_loans_NAME_GOODS_CATEGORY_Clothing and...      0.946493  \n",
       "previous_loans_CHANNEL_TYPE_Regional / Local_co...      0.946493  \n",
       "previous_loans_NAME_TYPE_SUITE_Children_count_norm      0.946493  \n",
       "previous_loans_NAME_SELLER_INDUSTRY_Consumer el...      0.946493  \n",
       "previous_loans_CODE_REJECT_REASON_VERIF_count_norm      0.946493  \n",
       "previous_loans_NAME_GOODS_CATEGORY_Mobile_count...      0.946493  \n",
       "previous_loans_NAME_PRODUCT_TYPE_XNA_count              0.946493  \n",
       "previous_loans_NAME_CLIENT_TYPE_Repeater_count          0.946493  \n",
       "previous_loans_WEEKDAY_APPR_PROCESS_START_WEDNE...      0.946493  \n",
       "previous_loans_WEEKDAY_APPR_PROCESS_START_WEDNE...      0.946493  \n",
       "previous_loans_PRODUCT_COMBINATION_POS househol...      0.946493  \n",
       "previous_loans_PRODUCT_COMBINATION_Cash_count_norm      0.946493  \n",
       "previous_loans_NAME_CASH_LOAN_PURPOSE_Repairs_c...      0.946493  \n",
       "previous_loans_PRODUCT_COMBINATION_POS househol...      0.946493  \n",
       "previous_loans_PRODUCT_COMBINATION_POS industry...      0.946493  \n",
       "previous_loans_PRODUCT_COMBINATION_POS mobile w...      0.946493  \n",
       "previous_loans_NAME_YIELD_GROUP_high_count              0.946493  \n",
       "previous_loans_PRODUCT_COMBINATION_Cash Street:...      0.946493  \n",
       "previous_loans_NAME_GOODS_CATEGORY_Consumer Ele...      0.946493  \n",
       "previous_loans_NAME_TYPE_SUITE_Family_count_norm        0.946493  \n",
       "previous_loans_CHANNEL_TYPE_Stone_count_norm            0.946493  \n",
       "previous_loans_CHANNEL_TYPE_Credit and cash off...      0.946493  \n",
       "previous_loans_NAME_CONTRACT_TYPE_Cash loans_co...      0.946493  \n",
       "previous_loans_NAME_PAYMENT_TYPE_Cash through t...      0.946493  \n",
       "previous_loans_CHANNEL_TYPE_Country-wide_count_...      0.946493  \n",
       "previous_loans_CODE_REJECT_REASON_CLIENT_count_...      0.946493  \n",
       "previous_loans_PRODUCT_COMBINATION_Card X-Sell_...      0.946493  \n",
       "previous_loans_WEEKDAY_APPR_PROCESS_START_FRIDA...      0.946493  \n",
       "previous_loans_WEEKDAY_APPR_PROCESS_START_TUESD...      0.946493  \n",
       "previous_loans_NAME_SELLER_INDUSTRY_Constructio...      0.946493  \n",
       "previous_loans_NAME_SELLER_INDUSTRY_Furniture_c...      0.946493  \n",
       "previous_loans_NAME_SELLER_INDUSTRY_Connectivit...      0.946493  \n",
       "previous_loans_NAME_PORTFOLIO_XNA_count_norm            0.946493  \n",
       "previous_loans_NAME_SELLER_INDUSTRY_Consumer el...      0.946493  \n",
       "previous_loans_CODE_REJECT_REASON_LIMIT_count_norm      0.946493  \n",
       "previous_loans_WEEKDAY_APPR_PROCESS_START_SUNDA...      0.946493  \n",
       "previous_loans_NAME_TYPE_SUITE_Unaccompanied_co...      0.946493  \n",
       "previous_loans_NAME_PRODUCT_TYPE_XNA_count_norm         0.946493  \n",
       "previous_loans_DAYS_DECISION_sum                        0.946493  \n",
       "previous_loans_DAYS_LAST_DUE_sum                        0.946493  \n",
       "previous_loans_SELLERPLACE_AREA_max                     0.946493  \n",
       "previous_loans_PRODUCT_COMBINATION_Cash X-Sell:...      0.946493  \n",
       "previous_loans_NAME_YIELD_GROUP_high_count_norm         0.946493  \n",
       "previous_loans_DAYS_DECISION_mean                       0.946493  \n",
       "previous_loans_CNT_PAYMENT_sum                          0.946493  \n",
       "previous_loans_NAME_PRODUCT_TYPE_walk-in_count_...      0.946493  \n",
       "previous_loans_NAME_YIELD_GROUP_low_normal_coun...      0.946493  \n",
       "previous_loans_NAME_GOODS_CATEGORY_Photo / Cine...      0.946493  \n",
       "previous_loans_SELLERPLACE_AREA_min                     0.946493  \n",
       "previous_loans_PRODUCT_COMBINATION_Cash X-Sell:...      0.946493  \n",
       "previous_loans_NAME_YIELD_GROUP_low_action_coun...      0.946493  \n",
       "previous_loans_HOUR_APPR_PROCESS_START_mean             0.946493  \n",
       "previous_loans_DAYS_DECISION_max                        0.946493  \n",
       "previous_loans_NAME_PORTFOLIO_POS_count_norm            0.946493  \n",
       "previous_loans_AMT_APPLICATION_max                      0.946493  \n",
       "previous_loans_NAME_CLIENT_TYPE_Refreshed_count...      0.946493  \n",
       "previous_loans_PRODUCT_COMBINATION_Cash Street:...      0.946493  \n",
       "previous_loans_WEEKDAY_APPR_PROCESS_START_THURS...      0.946493  \n",
       "previous_loans_PRODUCT_COMBINATION_Cash X-Sell:...      0.946493  \n",
       "previous_loans_AMT_ANNUITY_sum                          0.946493  \n",
       "previous_loans_NAME_PAYMENT_TYPE_XNA_count_norm         0.946493  \n",
       "previous_loans_NAME_CONTRACT_STATUS_Refused_cou...      0.946493  \n",
       "previous_loans_HOUR_APPR_PROCESS_START_max              0.946493  \n",
       "previous_loans_RATE_DOWN_PAYMENT_sum                    0.946493  \n",
       "previous_loans_DAYS_FIRST_DUE_sum                       0.946493  \n",
       "previous_loans_CHANNEL_TYPE_Channel of corporat...      0.946493  \n",
       "previous_loans_NAME_CLIENT_TYPE_New_count_norm          0.946493  \n",
       "previous_loans_NAME_CONTRACT_STATUS_Approved_co...      0.946493  \n",
       "previous_loans_CODE_REJECT_REASON_HC_count_norm         0.946493  \n",
       "previous_loans_NAME_YIELD_GROUP_middle_count_norm       0.946493  \n",
       "previous_loans_PRODUCT_COMBINATION_POS industry...      0.946493  \n",
       "previous_loans_AMT_CREDIT_min                           0.946493  \n",
       "client_installments_AMT_PAYMENT_max_min                 0.948373  \n",
       "client_installments_DAYS_ENTRY_PAYMENT_max_min          0.948373  \n",
       "client_installments_AMT_PAYMENT_max_mean                0.948373  \n",
       "client_installments_DAYS_ENTRY_PAYMENT_sum_max          0.948399  \n",
       "client_installments_AMT_INSTALMENT_max_max              0.948399  \n",
       "client_installments_AMT_PAYMENT_mean_sum                0.948399  \n",
       "client_installments_AMT_PAYMENT_min_sum                 0.948399  \n",
       "client_installments_NUM_INSTALMENT_VERSION_max_...      0.948399  \n",
       "client_installments_AMT_PAYMENT_sum_mean                0.948399  \n",
       "client_installments_NUM_INSTALMENT_NUMBER_max_mean      0.948399  \n",
       "client_installments_NUM_INSTALMENT_VERSION_mean...      0.948399  \n",
       "client_installments_AMT_INSTALMENT_min_min              0.948399  \n",
       "client_installments_AMT_INSTALMENT_min_mean             0.948399  \n",
       "client_installments_NUM_INSTALMENT_NUMBER_min_max       0.948399  \n",
       "client_installments_DAYS_INSTALMENT_max_max             0.948399  \n",
       "client_installments_AMT_INSTALMENT_min_max              0.948399  \n",
       "client_installments_AMT_INSTALMENT_mean_mean            0.948399  \n",
       "client_installments_NUM_INSTALMENT_VERSION_sum_max      0.948399  \n",
       "client_installments_NUM_INSTALMENT_VERSION_mean...      0.948399  \n",
       "client_installments_NUM_INSTALMENT_VERSION_sum_min      0.948399  \n",
       "client_installments_NUM_INSTALMENT_VERSION_sum_sum      0.948399  \n",
       "client_installments_AMT_INSTALMENT_sum_max              0.948399  \n",
       "client_installments_NUM_INSTALMENT_NUMBER_sum_min       0.948399  \n",
       "client_installments_AMT_INSTALMENT_min_sum              0.948399  \n",
       "client_installments_NUM_INSTALMENT_NUMBER_mean_min      0.948399  \n",
       "client_installments_AMT_PAYMENT_sum_min                 0.948399  \n",
       "client_installments_NUM_INSTALMENT_VERSION_sum_...      0.948399  \n",
       "client_installments_AMT_INSTALMENT_mean_max             0.948399  \n",
       "client_installments_AMT_INSTALMENT_mean_min             0.948399  \n",
       "client_installments_NUM_INSTALMENT_NUMBER_min_mean      0.948399  \n",
       "client_installments_DAYS_ENTRY_PAYMENT_min_sum          0.948399  \n",
       "client_installments_NUM_INSTALMENT_VERSION_mean...      0.948399  \n",
       "client_installments_AMT_PAYMENT_max_sum                 0.948399  \n",
       "client_installments_NUM_INSTALMENT_VERSION_min_sum      0.948399  \n",
       "client_installments_DAYS_INSTALMENT_min_max             0.948399  \n",
       "client_installments_AMT_INSTALMENT_sum_sum              0.948399  \n",
       "DEF_60_CNT_SOCIAL_CIRCLE                                0.996680  \n",
       "DEF_30_CNT_SOCIAL_CIRCLE                                0.996680  \n",
       "EXT_SOURCE_2                                            0.997854  \n",
       "AMT_ANNUITY                                             0.999961  \n",
       "CNT_FAM_MEMBERS                                         0.999993  \n",
       "DAYS_LAST_PHONE_CHANGE                                  0.999997  "
      ],
      "text/html": "<div>\n<style scoped>\n    .dataframe tbody tr th:only-of-type {\n        vertical-align: middle;\n    }\n\n    .dataframe tbody tr th {\n        vertical-align: top;\n    }\n\n    .dataframe thead th {\n        text-align: right;\n    }\n</style>\n<table border=\"1\" class=\"dataframe\">\n  <thead>\n    <tr style=\"text-align: right;\">\n      <th></th>\n      <th>nb_values</th>\n      <th>missing_values</th>\n      <th>filling_rate</th>\n    </tr>\n  </thead>\n  <tbody>\n    <tr>\n      <th>client_cash_CNT_INSTALMENT_max_max</th>\n      <td>289420.0</td>\n      <td>18091.0</td>\n      <td>0.941170</td>\n    </tr>\n    <tr>\n      <th>client_cash_CNT_INSTALMENT_min_min</th>\n      <td>289420.0</td>\n      <td>18091.0</td>\n      <td>0.941170</td>\n    </tr>\n    <tr>\n      <th>client_cash_CNT_INSTALMENT_FUTURE_min_max</th>\n      <td>289420.0</td>\n      <td>18091.0</td>\n      <td>0.941170</td>\n    </tr>\n    <tr>\n      <th>client_cash_CNT_INSTALMENT_mean_min</th>\n      <td>289420.0</td>\n      <td>18091.0</td>\n      <td>0.941170</td>\n    </tr>\n    <tr>\n      <th>client_cash_CNT_INSTALMENT_min_mean</th>\n      <td>289420.0</td>\n      <td>18091.0</td>\n      <td>0.941170</td>\n    </tr>\n    <tr>\n      <th>client_cash_CNT_INSTALMENT_max_mean</th>\n      <td>289420.0</td>\n      <td>18091.0</td>\n      <td>0.941170</td>\n    </tr>\n    <tr>\n      <th>client_cash_CNT_INSTALMENT_FUTURE_min_mean</th>\n      <td>289420.0</td>\n      <td>18091.0</td>\n      <td>0.941170</td>\n    </tr>\n    <tr>\n      <th>client_cash_MONTHS_BALANCE_max_mean</th>\n      <td>289444.0</td>\n      <td>18067.0</td>\n      <td>0.941248</td>\n    </tr>\n    <tr>\n      <th>client_cash_NAME_CONTRACT_STATUS_Active_count_max</th>\n      <td>289444.0</td>\n      <td>18067.0</td>\n      <td>0.941248</td>\n    </tr>\n    <tr>\n      <th>client_cash_NAME_CONTRACT_STATUS_Active_count_min</th>\n      <td>289444.0</td>\n      <td>18067.0</td>\n      <td>0.941248</td>\n    </tr>\n    <tr>\n      <th>client_cash_CNT_INSTALMENT_sum_min</th>\n      <td>289444.0</td>\n      <td>18067.0</td>\n      <td>0.941248</td>\n    </tr>\n    <tr>\n      <th>client_cash_MONTHS_BALANCE_sum_max</th>\n      <td>289444.0</td>\n      <td>18067.0</td>\n      <td>0.941248</td>\n    </tr>\n    <tr>\n      <th>client_cash_NAME_CONTRACT_STATUS_Signed_count_norm_max</th>\n      <td>289444.0</td>\n      <td>18067.0</td>\n      <td>0.941248</td>\n    </tr>\n    <tr>\n      <th>client_cash_NAME_CONTRACT_STATUS_Signed_count_mean</th>\n      <td>289444.0</td>\n      <td>18067.0</td>\n      <td>0.941248</td>\n    </tr>\n    <tr>\n      <th>client_cash_CNT_INSTALMENT_FUTURE_max_sum</th>\n      <td>289444.0</td>\n      <td>18067.0</td>\n      <td>0.941248</td>\n    </tr>\n    <tr>\n      <th>client_cash_NAME_CONTRACT_STATUS_Active_count_norm_mean</th>\n      <td>289444.0</td>\n      <td>18067.0</td>\n      <td>0.941248</td>\n    </tr>\n    <tr>\n      <th>client_cash_NAME_CONTRACT_STATUS_Completed_count_norm_mean</th>\n      <td>289444.0</td>\n      <td>18067.0</td>\n      <td>0.941248</td>\n    </tr>\n    <tr>\n      <th>client_cash_NAME_CONTRACT_STATUS_Completed_count_norm_max</th>\n      <td>289444.0</td>\n      <td>18067.0</td>\n      <td>0.941248</td>\n    </tr>\n    <tr>\n      <th>client_cash_SK_DPD_DEF_sum_min</th>\n      <td>289444.0</td>\n      <td>18067.0</td>\n      <td>0.941248</td>\n    </tr>\n    <tr>\n      <th>client_cash_CNT_INSTALMENT_FUTURE_min_sum</th>\n      <td>289444.0</td>\n      <td>18067.0</td>\n      <td>0.941248</td>\n    </tr>\n    <tr>\n      <th>client_cash_counts_mean</th>\n      <td>289444.0</td>\n      <td>18067.0</td>\n      <td>0.941248</td>\n    </tr>\n    <tr>\n      <th>client_cash_SK_DPD_max_sum</th>\n      <td>289444.0</td>\n      <td>18067.0</td>\n      <td>0.941248</td>\n    </tr>\n    <tr>\n      <th>client_cash_NAME_CONTRACT_STATUS_Signed_count_norm_mean</th>\n      <td>289444.0</td>\n      <td>18067.0</td>\n      <td>0.941248</td>\n    </tr>\n    <tr>\n      <th>client_cash_NAME_CONTRACT_STATUS_Returned to the store_count_sum</th>\n      <td>289444.0</td>\n      <td>18067.0</td>\n      <td>0.941248</td>\n    </tr>\n    <tr>\n      <th>client_cash_counts_sum</th>\n      <td>289444.0</td>\n      <td>18067.0</td>\n      <td>0.941248</td>\n    </tr>\n    <tr>\n      <th>client_cash_NAME_CONTRACT_STATUS_Signed_count_sum</th>\n      <td>289444.0</td>\n      <td>18067.0</td>\n      <td>0.941248</td>\n    </tr>\n    <tr>\n      <th>client_cash_NAME_CONTRACT_STATUS_Active_count_norm_min</th>\n      <td>289444.0</td>\n      <td>18067.0</td>\n      <td>0.941248</td>\n    </tr>\n    <tr>\n      <th>client_cash_SK_DPD_DEF_sum_max</th>\n      <td>289444.0</td>\n      <td>18067.0</td>\n      <td>0.941248</td>\n    </tr>\n    <tr>\n      <th>client_cash_NAME_CONTRACT_STATUS_Completed_count_norm_min</th>\n      <td>289444.0</td>\n      <td>18067.0</td>\n      <td>0.941248</td>\n    </tr>\n    <tr>\n      <th>client_cash_MONTHS_BALANCE_max_sum</th>\n      <td>289444.0</td>\n      <td>18067.0</td>\n      <td>0.941248</td>\n    </tr>\n    <tr>\n      <th>client_cash_MONTHS_BALANCE_sum_mean</th>\n      <td>289444.0</td>\n      <td>18067.0</td>\n      <td>0.941248</td>\n    </tr>\n    <tr>\n      <th>client_cash_NAME_CONTRACT_STATUS_Completed_count_sum</th>\n      <td>289444.0</td>\n      <td>18067.0</td>\n      <td>0.941248</td>\n    </tr>\n    <tr>\n      <th>client_cash_NAME_CONTRACT_STATUS_Completed_count_norm_sum</th>\n      <td>289444.0</td>\n      <td>18067.0</td>\n      <td>0.941248</td>\n    </tr>\n    <tr>\n      <th>client_cash_SK_DPD_mean_min</th>\n      <td>289444.0</td>\n      <td>18067.0</td>\n      <td>0.941248</td>\n    </tr>\n    <tr>\n      <th>previous_loans_DAYS_FIRST_DRAWING_min</th>\n      <td>289760.0</td>\n      <td>17751.0</td>\n      <td>0.942275</td>\n    </tr>\n    <tr>\n      <th>previous_loans_DAYS_LAST_DUE_1ST_VERSION_min</th>\n      <td>289760.0</td>\n      <td>17751.0</td>\n      <td>0.942275</td>\n    </tr>\n    <tr>\n      <th>previous_loans_DAYS_FIRST_DRAWING_mean</th>\n      <td>289760.0</td>\n      <td>17751.0</td>\n      <td>0.942275</td>\n    </tr>\n    <tr>\n      <th>previous_loans_DAYS_TERMINATION_max</th>\n      <td>289760.0</td>\n      <td>17751.0</td>\n      <td>0.942275</td>\n    </tr>\n    <tr>\n      <th>previous_loans_DAYS_TERMINATION_min</th>\n      <td>289760.0</td>\n      <td>17751.0</td>\n      <td>0.942275</td>\n    </tr>\n    <tr>\n      <th>previous_loans_DAYS_FIRST_DUE_mean</th>\n      <td>289760.0</td>\n      <td>17751.0</td>\n      <td>0.942275</td>\n    </tr>\n    <tr>\n      <th>previous_loans_DAYS_LAST_DUE_1ST_VERSION_mean</th>\n      <td>289760.0</td>\n      <td>17751.0</td>\n      <td>0.942275</td>\n    </tr>\n    <tr>\n      <th>previous_loans_DAYS_TERMINATION_mean</th>\n      <td>289760.0</td>\n      <td>17751.0</td>\n      <td>0.942275</td>\n    </tr>\n    <tr>\n      <th>previous_loans_DAYS_LAST_DUE_1ST_VERSION_max</th>\n      <td>289760.0</td>\n      <td>17751.0</td>\n      <td>0.942275</td>\n    </tr>\n    <tr>\n      <th>previous_loans_DAYS_FIRST_DUE_min</th>\n      <td>289760.0</td>\n      <td>17751.0</td>\n      <td>0.942275</td>\n    </tr>\n    <tr>\n      <th>previous_loans_NFLAG_INSURED_ON_APPROVAL_mean</th>\n      <td>289760.0</td>\n      <td>17751.0</td>\n      <td>0.942275</td>\n    </tr>\n    <tr>\n      <th>previous_loans_AMT_GOODS_PRICE_mean</th>\n      <td>290082.0</td>\n      <td>17429.0</td>\n      <td>0.943322</td>\n    </tr>\n    <tr>\n      <th>previous_loans_AMT_GOODS_PRICE_min</th>\n      <td>290082.0</td>\n      <td>17429.0</td>\n      <td>0.943322</td>\n    </tr>\n    <tr>\n      <th>previous_loans_AMT_ANNUITY_max</th>\n      <td>290640.0</td>\n      <td>16871.0</td>\n      <td>0.945137</td>\n    </tr>\n    <tr>\n      <th>previous_loans_AMT_ANNUITY_min</th>\n      <td>290640.0</td>\n      <td>16871.0</td>\n      <td>0.945137</td>\n    </tr>\n    <tr>\n      <th>previous_loans_AMT_ANNUITY_mean</th>\n      <td>290640.0</td>\n      <td>16871.0</td>\n      <td>0.945137</td>\n    </tr>\n    <tr>\n      <th>previous_loans_CNT_PAYMENT_min</th>\n      <td>290642.0</td>\n      <td>16869.0</td>\n      <td>0.945143</td>\n    </tr>\n    <tr>\n      <th>previous_loans_CNT_PAYMENT_mean</th>\n      <td>290642.0</td>\n      <td>16869.0</td>\n      <td>0.945143</td>\n    </tr>\n    <tr>\n      <th>previous_loans_CNT_PAYMENT_max</th>\n      <td>290642.0</td>\n      <td>16869.0</td>\n      <td>0.945143</td>\n    </tr>\n    <tr>\n      <th>previous_loans_PRODUCT_COMBINATION_Cash Street: high_count_norm</th>\n      <td>291057.0</td>\n      <td>16454.0</td>\n      <td>0.946493</td>\n    </tr>\n    <tr>\n      <th>previous_loans_NAME_CONTRACT_STATUS_Canceled_count_norm</th>\n      <td>291057.0</td>\n      <td>16454.0</td>\n      <td>0.946493</td>\n    </tr>\n    <tr>\n      <th>previous_loans_NAME_GOODS_CATEGORY_Audio/Video_count_norm</th>\n      <td>291057.0</td>\n      <td>16454.0</td>\n      <td>0.946493</td>\n    </tr>\n    <tr>\n      <th>previous_loans_WEEKDAY_APPR_PROCESS_START_SATURDAY_count_norm</th>\n      <td>291057.0</td>\n      <td>16454.0</td>\n      <td>0.946493</td>\n    </tr>\n    <tr>\n      <th>previous_loans_CHANNEL_TYPE_Contact center_count_norm</th>\n      <td>291057.0</td>\n      <td>16454.0</td>\n      <td>0.946493</td>\n    </tr>\n    <tr>\n      <th>previous_loans_NAME_SELLER_INDUSTRY_Connectivity_count_norm</th>\n      <td>291057.0</td>\n      <td>16454.0</td>\n      <td>0.946493</td>\n    </tr>\n    <tr>\n      <th>previous_loans_WEEKDAY_APPR_PROCESS_START_MONDAY_count_norm</th>\n      <td>291057.0</td>\n      <td>16454.0</td>\n      <td>0.946493</td>\n    </tr>\n    <tr>\n      <th>previous_loans_HOUR_APPR_PROCESS_START_min</th>\n      <td>291057.0</td>\n      <td>16454.0</td>\n      <td>0.946493</td>\n    </tr>\n    <tr>\n      <th>previous_loans_NAME_PRODUCT_TYPE_x-sell_count_norm</th>\n      <td>291057.0</td>\n      <td>16454.0</td>\n      <td>0.946493</td>\n    </tr>\n    <tr>\n      <th>previous_loans_CHANNEL_TYPE_AP+ (Cash loan)_count_norm</th>\n      <td>291057.0</td>\n      <td>16454.0</td>\n      <td>0.946493</td>\n    </tr>\n    <tr>\n      <th>previous_loans_NAME_YIELD_GROUP_XNA_count_norm</th>\n      <td>291057.0</td>\n      <td>16454.0</td>\n      <td>0.946493</td>\n    </tr>\n    <tr>\n      <th>previous_loans_NAME_GOODS_CATEGORY_Computers_count_norm</th>\n      <td>291057.0</td>\n      <td>16454.0</td>\n      <td>0.946493</td>\n    </tr>\n    <tr>\n      <th>previous_loans_CODE_REJECT_REASON_SCO_count_norm</th>\n      <td>291057.0</td>\n      <td>16454.0</td>\n      <td>0.946493</td>\n    </tr>\n    <tr>\n      <th>previous_loans_NAME_PORTFOLIO_Cash_count_norm</th>\n      <td>291057.0</td>\n      <td>16454.0</td>\n      <td>0.946493</td>\n    </tr>\n    <tr>\n      <th>previous_loans_NAME_GOODS_CATEGORY_Furniture_count_norm</th>\n      <td>291057.0</td>\n      <td>16454.0</td>\n      <td>0.946493</td>\n    </tr>\n    <tr>\n      <th>previous_loans_NAME_GOODS_CATEGORY_Clothing and Accessories_count_norm</th>\n      <td>291057.0</td>\n      <td>16454.0</td>\n      <td>0.946493</td>\n    </tr>\n    <tr>\n      <th>previous_loans_CHANNEL_TYPE_Regional / Local_count_norm</th>\n      <td>291057.0</td>\n      <td>16454.0</td>\n      <td>0.946493</td>\n    </tr>\n    <tr>\n      <th>previous_loans_NAME_TYPE_SUITE_Children_count_norm</th>\n      <td>291057.0</td>\n      <td>16454.0</td>\n      <td>0.946493</td>\n    </tr>\n    <tr>\n      <th>previous_loans_NAME_SELLER_INDUSTRY_Consumer electronics_count</th>\n      <td>291057.0</td>\n      <td>16454.0</td>\n      <td>0.946493</td>\n    </tr>\n    <tr>\n      <th>previous_loans_CODE_REJECT_REASON_VERIF_count_norm</th>\n      <td>291057.0</td>\n      <td>16454.0</td>\n      <td>0.946493</td>\n    </tr>\n    <tr>\n      <th>previous_loans_NAME_GOODS_CATEGORY_Mobile_count_norm</th>\n      <td>291057.0</td>\n      <td>16454.0</td>\n      <td>0.946493</td>\n    </tr>\n    <tr>\n      <th>previous_loans_NAME_PRODUCT_TYPE_XNA_count</th>\n      <td>291057.0</td>\n      <td>16454.0</td>\n      <td>0.946493</td>\n    </tr>\n    <tr>\n      <th>previous_loans_NAME_CLIENT_TYPE_Repeater_count</th>\n      <td>291057.0</td>\n      <td>16454.0</td>\n      <td>0.946493</td>\n    </tr>\n    <tr>\n      <th>previous_loans_WEEKDAY_APPR_PROCESS_START_WEDNESDAY_count</th>\n      <td>291057.0</td>\n      <td>16454.0</td>\n      <td>0.946493</td>\n    </tr>\n    <tr>\n      <th>previous_loans_WEEKDAY_APPR_PROCESS_START_WEDNESDAY_count_norm</th>\n      <td>291057.0</td>\n      <td>16454.0</td>\n      <td>0.946493</td>\n    </tr>\n    <tr>\n      <th>previous_loans_PRODUCT_COMBINATION_POS household without interest_count_norm</th>\n      <td>291057.0</td>\n      <td>16454.0</td>\n      <td>0.946493</td>\n    </tr>\n    <tr>\n      <th>previous_loans_PRODUCT_COMBINATION_Cash_count_norm</th>\n      <td>291057.0</td>\n      <td>16454.0</td>\n      <td>0.946493</td>\n    </tr>\n    <tr>\n      <th>previous_loans_NAME_CASH_LOAN_PURPOSE_Repairs_count_norm</th>\n      <td>291057.0</td>\n      <td>16454.0</td>\n      <td>0.946493</td>\n    </tr>\n    <tr>\n      <th>previous_loans_PRODUCT_COMBINATION_POS household with interest_count_norm</th>\n      <td>291057.0</td>\n      <td>16454.0</td>\n      <td>0.946493</td>\n    </tr>\n    <tr>\n      <th>previous_loans_PRODUCT_COMBINATION_POS industry without interest_count_norm</th>\n      <td>291057.0</td>\n      <td>16454.0</td>\n      <td>0.946493</td>\n    </tr>\n    <tr>\n      <th>previous_loans_PRODUCT_COMBINATION_POS mobile with interest_count_norm</th>\n      <td>291057.0</td>\n      <td>16454.0</td>\n      <td>0.946493</td>\n    </tr>\n    <tr>\n      <th>previous_loans_NAME_YIELD_GROUP_high_count</th>\n      <td>291057.0</td>\n      <td>16454.0</td>\n      <td>0.946493</td>\n    </tr>\n    <tr>\n      <th>previous_loans_PRODUCT_COMBINATION_Cash Street: middle_count_norm</th>\n      <td>291057.0</td>\n      <td>16454.0</td>\n      <td>0.946493</td>\n    </tr>\n    <tr>\n      <th>previous_loans_NAME_GOODS_CATEGORY_Consumer Electronics_count_norm</th>\n      <td>291057.0</td>\n      <td>16454.0</td>\n      <td>0.946493</td>\n    </tr>\n    <tr>\n      <th>previous_loans_NAME_TYPE_SUITE_Family_count_norm</th>\n      <td>291057.0</td>\n      <td>16454.0</td>\n      <td>0.946493</td>\n    </tr>\n    <tr>\n      <th>previous_loans_CHANNEL_TYPE_Stone_count_norm</th>\n      <td>291057.0</td>\n      <td>16454.0</td>\n      <td>0.946493</td>\n    </tr>\n    <tr>\n      <th>previous_loans_CHANNEL_TYPE_Credit and cash offices_count_norm</th>\n      <td>291057.0</td>\n      <td>16454.0</td>\n      <td>0.946493</td>\n    </tr>\n    <tr>\n      <th>previous_loans_NAME_CONTRACT_TYPE_Cash loans_count_norm</th>\n      <td>291057.0</td>\n      <td>16454.0</td>\n      <td>0.946493</td>\n    </tr>\n    <tr>\n      <th>previous_loans_NAME_PAYMENT_TYPE_Cash through the bank_count</th>\n      <td>291057.0</td>\n      <td>16454.0</td>\n      <td>0.946493</td>\n    </tr>\n    <tr>\n      <th>previous_loans_CHANNEL_TYPE_Country-wide_count_norm</th>\n      <td>291057.0</td>\n      <td>16454.0</td>\n      <td>0.946493</td>\n    </tr>\n    <tr>\n      <th>previous_loans_CODE_REJECT_REASON_CLIENT_count_norm</th>\n      <td>291057.0</td>\n      <td>16454.0</td>\n      <td>0.946493</td>\n    </tr>\n    <tr>\n      <th>previous_loans_PRODUCT_COMBINATION_Card X-Sell_count_norm</th>\n      <td>291057.0</td>\n      <td>16454.0</td>\n      <td>0.946493</td>\n    </tr>\n    <tr>\n      <th>previous_loans_WEEKDAY_APPR_PROCESS_START_FRIDAY_count_norm</th>\n      <td>291057.0</td>\n      <td>16454.0</td>\n      <td>0.946493</td>\n    </tr>\n    <tr>\n      <th>previous_loans_WEEKDAY_APPR_PROCESS_START_TUESDAY_count_norm</th>\n      <td>291057.0</td>\n      <td>16454.0</td>\n      <td>0.946493</td>\n    </tr>\n    <tr>\n      <th>previous_loans_NAME_SELLER_INDUSTRY_Construction_count_norm</th>\n      <td>291057.0</td>\n      <td>16454.0</td>\n      <td>0.946493</td>\n    </tr>\n    <tr>\n      <th>previous_loans_NAME_SELLER_INDUSTRY_Furniture_count_norm</th>\n      <td>291057.0</td>\n      <td>16454.0</td>\n      <td>0.946493</td>\n    </tr>\n    <tr>\n      <th>previous_loans_NAME_SELLER_INDUSTRY_Connectivity_count</th>\n      <td>291057.0</td>\n      <td>16454.0</td>\n      <td>0.946493</td>\n    </tr>\n    <tr>\n      <th>previous_loans_NAME_PORTFOLIO_XNA_count_norm</th>\n      <td>291057.0</td>\n      <td>16454.0</td>\n      <td>0.946493</td>\n    </tr>\n    <tr>\n      <th>previous_loans_NAME_SELLER_INDUSTRY_Consumer electronics_count_norm</th>\n      <td>291057.0</td>\n      <td>16454.0</td>\n      <td>0.946493</td>\n    </tr>\n    <tr>\n      <th>previous_loans_CODE_REJECT_REASON_LIMIT_count_norm</th>\n      <td>291057.0</td>\n      <td>16454.0</td>\n      <td>0.946493</td>\n    </tr>\n    <tr>\n      <th>previous_loans_WEEKDAY_APPR_PROCESS_START_SUNDAY_count_norm</th>\n      <td>291057.0</td>\n      <td>16454.0</td>\n      <td>0.946493</td>\n    </tr>\n    <tr>\n      <th>previous_loans_NAME_TYPE_SUITE_Unaccompanied_count_norm</th>\n      <td>291057.0</td>\n      <td>16454.0</td>\n      <td>0.946493</td>\n    </tr>\n    <tr>\n      <th>previous_loans_NAME_PRODUCT_TYPE_XNA_count_norm</th>\n      <td>291057.0</td>\n      <td>16454.0</td>\n      <td>0.946493</td>\n    </tr>\n    <tr>\n      <th>previous_loans_DAYS_DECISION_sum</th>\n      <td>291057.0</td>\n      <td>16454.0</td>\n      <td>0.946493</td>\n    </tr>\n    <tr>\n      <th>previous_loans_DAYS_LAST_DUE_sum</th>\n      <td>291057.0</td>\n      <td>16454.0</td>\n      <td>0.946493</td>\n    </tr>\n    <tr>\n      <th>previous_loans_SELLERPLACE_AREA_max</th>\n      <td>291057.0</td>\n      <td>16454.0</td>\n      <td>0.946493</td>\n    </tr>\n    <tr>\n      <th>previous_loans_PRODUCT_COMBINATION_Cash X-Sell: low_count_norm</th>\n      <td>291057.0</td>\n      <td>16454.0</td>\n      <td>0.946493</td>\n    </tr>\n    <tr>\n      <th>previous_loans_NAME_YIELD_GROUP_high_count_norm</th>\n      <td>291057.0</td>\n      <td>16454.0</td>\n      <td>0.946493</td>\n    </tr>\n    <tr>\n      <th>previous_loans_DAYS_DECISION_mean</th>\n      <td>291057.0</td>\n      <td>16454.0</td>\n      <td>0.946493</td>\n    </tr>\n    <tr>\n      <th>previous_loans_CNT_PAYMENT_sum</th>\n      <td>291057.0</td>\n      <td>16454.0</td>\n      <td>0.946493</td>\n    </tr>\n    <tr>\n      <th>previous_loans_NAME_PRODUCT_TYPE_walk-in_count_norm</th>\n      <td>291057.0</td>\n      <td>16454.0</td>\n      <td>0.946493</td>\n    </tr>\n    <tr>\n      <th>previous_loans_NAME_YIELD_GROUP_low_normal_count_norm</th>\n      <td>291057.0</td>\n      <td>16454.0</td>\n      <td>0.946493</td>\n    </tr>\n    <tr>\n      <th>previous_loans_NAME_GOODS_CATEGORY_Photo / Cinema Equipment_count_norm</th>\n      <td>291057.0</td>\n      <td>16454.0</td>\n      <td>0.946493</td>\n    </tr>\n    <tr>\n      <th>previous_loans_SELLERPLACE_AREA_min</th>\n      <td>291057.0</td>\n      <td>16454.0</td>\n      <td>0.946493</td>\n    </tr>\n    <tr>\n      <th>previous_loans_PRODUCT_COMBINATION_Cash X-Sell: high_count_norm</th>\n      <td>291057.0</td>\n      <td>16454.0</td>\n      <td>0.946493</td>\n    </tr>\n    <tr>\n      <th>previous_loans_NAME_YIELD_GROUP_low_action_count_norm</th>\n      <td>291057.0</td>\n      <td>16454.0</td>\n      <td>0.946493</td>\n    </tr>\n    <tr>\n      <th>previous_loans_HOUR_APPR_PROCESS_START_mean</th>\n      <td>291057.0</td>\n      <td>16454.0</td>\n      <td>0.946493</td>\n    </tr>\n    <tr>\n      <th>previous_loans_DAYS_DECISION_max</th>\n      <td>291057.0</td>\n      <td>16454.0</td>\n      <td>0.946493</td>\n    </tr>\n    <tr>\n      <th>previous_loans_NAME_PORTFOLIO_POS_count_norm</th>\n      <td>291057.0</td>\n      <td>16454.0</td>\n      <td>0.946493</td>\n    </tr>\n    <tr>\n      <th>previous_loans_AMT_APPLICATION_max</th>\n      <td>291057.0</td>\n      <td>16454.0</td>\n      <td>0.946493</td>\n    </tr>\n    <tr>\n      <th>previous_loans_NAME_CLIENT_TYPE_Refreshed_count_norm</th>\n      <td>291057.0</td>\n      <td>16454.0</td>\n      <td>0.946493</td>\n    </tr>\n    <tr>\n      <th>previous_loans_PRODUCT_COMBINATION_Cash Street: low_count_norm</th>\n      <td>291057.0</td>\n      <td>16454.0</td>\n      <td>0.946493</td>\n    </tr>\n    <tr>\n      <th>previous_loans_WEEKDAY_APPR_PROCESS_START_THURSDAY_count_norm</th>\n      <td>291057.0</td>\n      <td>16454.0</td>\n      <td>0.946493</td>\n    </tr>\n    <tr>\n      <th>previous_loans_PRODUCT_COMBINATION_Cash X-Sell: middle_count_norm</th>\n      <td>291057.0</td>\n      <td>16454.0</td>\n      <td>0.946493</td>\n    </tr>\n    <tr>\n      <th>previous_loans_AMT_ANNUITY_sum</th>\n      <td>291057.0</td>\n      <td>16454.0</td>\n      <td>0.946493</td>\n    </tr>\n    <tr>\n      <th>previous_loans_NAME_PAYMENT_TYPE_XNA_count_norm</th>\n      <td>291057.0</td>\n      <td>16454.0</td>\n      <td>0.946493</td>\n    </tr>\n    <tr>\n      <th>previous_loans_NAME_CONTRACT_STATUS_Refused_count_norm</th>\n      <td>291057.0</td>\n      <td>16454.0</td>\n      <td>0.946493</td>\n    </tr>\n    <tr>\n      <th>previous_loans_HOUR_APPR_PROCESS_START_max</th>\n      <td>291057.0</td>\n      <td>16454.0</td>\n      <td>0.946493</td>\n    </tr>\n    <tr>\n      <th>previous_loans_RATE_DOWN_PAYMENT_sum</th>\n      <td>291057.0</td>\n      <td>16454.0</td>\n      <td>0.946493</td>\n    </tr>\n    <tr>\n      <th>previous_loans_DAYS_FIRST_DUE_sum</th>\n      <td>291057.0</td>\n      <td>16454.0</td>\n      <td>0.946493</td>\n    </tr>\n    <tr>\n      <th>previous_loans_CHANNEL_TYPE_Channel of corporate sales_count_norm</th>\n      <td>291057.0</td>\n      <td>16454.0</td>\n      <td>0.946493</td>\n    </tr>\n    <tr>\n      <th>previous_loans_NAME_CLIENT_TYPE_New_count_norm</th>\n      <td>291057.0</td>\n      <td>16454.0</td>\n      <td>0.946493</td>\n    </tr>\n    <tr>\n      <th>previous_loans_NAME_CONTRACT_STATUS_Approved_count_norm</th>\n      <td>291057.0</td>\n      <td>16454.0</td>\n      <td>0.946493</td>\n    </tr>\n    <tr>\n      <th>previous_loans_CODE_REJECT_REASON_HC_count_norm</th>\n      <td>291057.0</td>\n      <td>16454.0</td>\n      <td>0.946493</td>\n    </tr>\n    <tr>\n      <th>previous_loans_NAME_YIELD_GROUP_middle_count_norm</th>\n      <td>291057.0</td>\n      <td>16454.0</td>\n      <td>0.946493</td>\n    </tr>\n    <tr>\n      <th>previous_loans_PRODUCT_COMBINATION_POS industry with interest_count_norm</th>\n      <td>291057.0</td>\n      <td>16454.0</td>\n      <td>0.946493</td>\n    </tr>\n    <tr>\n      <th>previous_loans_AMT_CREDIT_min</th>\n      <td>291057.0</td>\n      <td>16454.0</td>\n      <td>0.946493</td>\n    </tr>\n    <tr>\n      <th>client_installments_AMT_PAYMENT_max_min</th>\n      <td>291635.0</td>\n      <td>15876.0</td>\n      <td>0.948373</td>\n    </tr>\n    <tr>\n      <th>client_installments_DAYS_ENTRY_PAYMENT_max_min</th>\n      <td>291635.0</td>\n      <td>15876.0</td>\n      <td>0.948373</td>\n    </tr>\n    <tr>\n      <th>client_installments_AMT_PAYMENT_max_mean</th>\n      <td>291635.0</td>\n      <td>15876.0</td>\n      <td>0.948373</td>\n    </tr>\n    <tr>\n      <th>client_installments_DAYS_ENTRY_PAYMENT_sum_max</th>\n      <td>291643.0</td>\n      <td>15868.0</td>\n      <td>0.948399</td>\n    </tr>\n    <tr>\n      <th>client_installments_AMT_INSTALMENT_max_max</th>\n      <td>291643.0</td>\n      <td>15868.0</td>\n      <td>0.948399</td>\n    </tr>\n    <tr>\n      <th>client_installments_AMT_PAYMENT_mean_sum</th>\n      <td>291643.0</td>\n      <td>15868.0</td>\n      <td>0.948399</td>\n    </tr>\n    <tr>\n      <th>client_installments_AMT_PAYMENT_min_sum</th>\n      <td>291643.0</td>\n      <td>15868.0</td>\n      <td>0.948399</td>\n    </tr>\n    <tr>\n      <th>client_installments_NUM_INSTALMENT_VERSION_max_mean</th>\n      <td>291643.0</td>\n      <td>15868.0</td>\n      <td>0.948399</td>\n    </tr>\n    <tr>\n      <th>client_installments_AMT_PAYMENT_sum_mean</th>\n      <td>291643.0</td>\n      <td>15868.0</td>\n      <td>0.948399</td>\n    </tr>\n    <tr>\n      <th>client_installments_NUM_INSTALMENT_NUMBER_max_mean</th>\n      <td>291643.0</td>\n      <td>15868.0</td>\n      <td>0.948399</td>\n    </tr>\n    <tr>\n      <th>client_installments_NUM_INSTALMENT_VERSION_mean_max</th>\n      <td>291643.0</td>\n      <td>15868.0</td>\n      <td>0.948399</td>\n    </tr>\n    <tr>\n      <th>client_installments_AMT_INSTALMENT_min_min</th>\n      <td>291643.0</td>\n      <td>15868.0</td>\n      <td>0.948399</td>\n    </tr>\n    <tr>\n      <th>client_installments_AMT_INSTALMENT_min_mean</th>\n      <td>291643.0</td>\n      <td>15868.0</td>\n      <td>0.948399</td>\n    </tr>\n    <tr>\n      <th>client_installments_NUM_INSTALMENT_NUMBER_min_max</th>\n      <td>291643.0</td>\n      <td>15868.0</td>\n      <td>0.948399</td>\n    </tr>\n    <tr>\n      <th>client_installments_DAYS_INSTALMENT_max_max</th>\n      <td>291643.0</td>\n      <td>15868.0</td>\n      <td>0.948399</td>\n    </tr>\n    <tr>\n      <th>client_installments_AMT_INSTALMENT_min_max</th>\n      <td>291643.0</td>\n      <td>15868.0</td>\n      <td>0.948399</td>\n    </tr>\n    <tr>\n      <th>client_installments_AMT_INSTALMENT_mean_mean</th>\n      <td>291643.0</td>\n      <td>15868.0</td>\n      <td>0.948399</td>\n    </tr>\n    <tr>\n      <th>client_installments_NUM_INSTALMENT_VERSION_sum_max</th>\n      <td>291643.0</td>\n      <td>15868.0</td>\n      <td>0.948399</td>\n    </tr>\n    <tr>\n      <th>client_installments_NUM_INSTALMENT_VERSION_mean_sum</th>\n      <td>291643.0</td>\n      <td>15868.0</td>\n      <td>0.948399</td>\n    </tr>\n    <tr>\n      <th>client_installments_NUM_INSTALMENT_VERSION_sum_min</th>\n      <td>291643.0</td>\n      <td>15868.0</td>\n      <td>0.948399</td>\n    </tr>\n    <tr>\n      <th>client_installments_NUM_INSTALMENT_VERSION_sum_sum</th>\n      <td>291643.0</td>\n      <td>15868.0</td>\n      <td>0.948399</td>\n    </tr>\n    <tr>\n      <th>client_installments_AMT_INSTALMENT_sum_max</th>\n      <td>291643.0</td>\n      <td>15868.0</td>\n      <td>0.948399</td>\n    </tr>\n    <tr>\n      <th>client_installments_NUM_INSTALMENT_NUMBER_sum_min</th>\n      <td>291643.0</td>\n      <td>15868.0</td>\n      <td>0.948399</td>\n    </tr>\n    <tr>\n      <th>client_installments_AMT_INSTALMENT_min_sum</th>\n      <td>291643.0</td>\n      <td>15868.0</td>\n      <td>0.948399</td>\n    </tr>\n    <tr>\n      <th>client_installments_NUM_INSTALMENT_NUMBER_mean_min</th>\n      <td>291643.0</td>\n      <td>15868.0</td>\n      <td>0.948399</td>\n    </tr>\n    <tr>\n      <th>client_installments_AMT_PAYMENT_sum_min</th>\n      <td>291643.0</td>\n      <td>15868.0</td>\n      <td>0.948399</td>\n    </tr>\n    <tr>\n      <th>client_installments_NUM_INSTALMENT_VERSION_sum_mean</th>\n      <td>291643.0</td>\n      <td>15868.0</td>\n      <td>0.948399</td>\n    </tr>\n    <tr>\n      <th>client_installments_AMT_INSTALMENT_mean_max</th>\n      <td>291643.0</td>\n      <td>15868.0</td>\n      <td>0.948399</td>\n    </tr>\n    <tr>\n      <th>client_installments_AMT_INSTALMENT_mean_min</th>\n      <td>291643.0</td>\n      <td>15868.0</td>\n      <td>0.948399</td>\n    </tr>\n    <tr>\n      <th>client_installments_NUM_INSTALMENT_NUMBER_min_mean</th>\n      <td>291643.0</td>\n      <td>15868.0</td>\n      <td>0.948399</td>\n    </tr>\n    <tr>\n      <th>client_installments_DAYS_ENTRY_PAYMENT_min_sum</th>\n      <td>291643.0</td>\n      <td>15868.0</td>\n      <td>0.948399</td>\n    </tr>\n    <tr>\n      <th>client_installments_NUM_INSTALMENT_VERSION_mean_min</th>\n      <td>291643.0</td>\n      <td>15868.0</td>\n      <td>0.948399</td>\n    </tr>\n    <tr>\n      <th>client_installments_AMT_PAYMENT_max_sum</th>\n      <td>291643.0</td>\n      <td>15868.0</td>\n      <td>0.948399</td>\n    </tr>\n    <tr>\n      <th>client_installments_NUM_INSTALMENT_VERSION_min_sum</th>\n      <td>291643.0</td>\n      <td>15868.0</td>\n      <td>0.948399</td>\n    </tr>\n    <tr>\n      <th>client_installments_DAYS_INSTALMENT_min_max</th>\n      <td>291643.0</td>\n      <td>15868.0</td>\n      <td>0.948399</td>\n    </tr>\n    <tr>\n      <th>client_installments_AMT_INSTALMENT_sum_sum</th>\n      <td>291643.0</td>\n      <td>15868.0</td>\n      <td>0.948399</td>\n    </tr>\n    <tr>\n      <th>DEF_60_CNT_SOCIAL_CIRCLE</th>\n      <td>306490.0</td>\n      <td>1021.0</td>\n      <td>0.996680</td>\n    </tr>\n    <tr>\n      <th>DEF_30_CNT_SOCIAL_CIRCLE</th>\n      <td>306490.0</td>\n      <td>1021.0</td>\n      <td>0.996680</td>\n    </tr>\n    <tr>\n      <th>EXT_SOURCE_2</th>\n      <td>306851.0</td>\n      <td>660.0</td>\n      <td>0.997854</td>\n    </tr>\n    <tr>\n      <th>AMT_ANNUITY</th>\n      <td>307499.0</td>\n      <td>12.0</td>\n      <td>0.999961</td>\n    </tr>\n    <tr>\n      <th>CNT_FAM_MEMBERS</th>\n      <td>307509.0</td>\n      <td>2.0</td>\n      <td>0.999993</td>\n    </tr>\n    <tr>\n      <th>DAYS_LAST_PHONE_CHANGE</th>\n      <td>307510.0</td>\n      <td>1.0</td>\n      <td>0.999997</td>\n    </tr>\n  </tbody>\n</table>\n</div>"
     },
     "metadata": {},
     "execution_count": 12
    }
   ],
   "source": [
    "columns_filling_rate(train, columns='all', missing_only=True)"
   ]
  },
  {
   "cell_type": "code",
   "execution_count": 13,
   "metadata": {
    "Collapsed": "false"
   },
   "outputs": [],
   "source": [
    "def filtering_rows(df, threshold=0.9):\n",
    "\n",
    "    import seaborn as sns\n",
    "\n",
    "    # Compute the filling rates of each row\n",
    "    filling_rate_rows = df.notna().mean(axis=1)\n",
    "\n",
    "    # Display the histogram and KDE of the distribution\n",
    "    ax = sns.distplot(filling_rate_rows, kde=False)\n",
    "\n",
    "    # Create a mask for rows where filling rate is above threhold\n",
    "    mask = filling_rate_rows > threshold\n",
    "\n",
    "    # Filtering the DataFrame\n",
    "    filtered_df = df[mask]\n",
    "\n",
    "    # Display the results\n",
    "    print('Threshold for filling rate:', threshold)\n",
    "    print('Rows under threshold:', len(df) - len(filtered_df))\n",
    "    print('Rows above threshold:', len(filtered_df))\n",
    "\n",
    "    # Return the filtered DataFrame\n",
    "    return filtered_df"
   ]
  },
  {
   "cell_type": "code",
   "execution_count": 14,
   "metadata": {
    "Collapsed": "false"
   },
   "outputs": [
    {
     "output_type": "stream",
     "name": "stdout",
     "text": [
      "Threshold for filling rate: 0.9\nRows under threshold: 19483\nRows above threshold: 288028\n"
     ]
    },
    {
     "output_type": "display_data",
     "data": {
      "text/plain": "<Figure size 432x288 with 1 Axes>",
      "image/svg+xml": "<?xml version=\"1.0\" encoding=\"utf-8\" standalone=\"no\"?>\r\n<!DOCTYPE svg PUBLIC \"-//W3C//DTD SVG 1.1//EN\"\r\n  \"http://www.w3.org/Graphics/SVG/1.1/DTD/svg11.dtd\">\r\n<!-- Created with matplotlib (https://matplotlib.org/) -->\r\n<svg height=\"250.95476pt\" version=\"1.1\" viewBox=\"0 0 394.375 250.95476\" width=\"394.375pt\" xmlns=\"http://www.w3.org/2000/svg\" xmlns:xlink=\"http://www.w3.org/1999/xlink\">\r\n <defs>\r\n  <style type=\"text/css\">\r\n*{stroke-linecap:butt;stroke-linejoin:round;}\r\n  </style>\r\n </defs>\r\n <g id=\"figure_1\">\r\n  <g id=\"patch_1\">\r\n   <path d=\"M 0 250.95476 \r\nL 394.375 250.95476 \r\nL 394.375 0 \r\nL 0 0 \r\nz\r\n\" style=\"fill:none;\"/>\r\n  </g>\r\n  <g id=\"axes_1\">\r\n   <g id=\"patch_2\">\r\n    <path d=\"M 52.375 227.076635 \r\nL 387.175 227.076635 \r\nL 387.175 9.636635 \r\nL 52.375 9.636635 \r\nz\r\n\" style=\"fill:#ffffff;\"/>\r\n   </g>\r\n   <g id=\"patch_3\">\r\n    <path clip-path=\"url(#pdee8732121)\" d=\"M 67.593182 227.076635 \r\nL 73.680455 227.076635 \r\nL 73.680455 216.447066 \r\nL 67.593182 216.447066 \r\nz\r\n\" style=\"fill:#1f77b4;opacity:0.4;\"/>\r\n   </g>\r\n   <g id=\"patch_4\">\r\n    <path clip-path=\"url(#pdee8732121)\" d=\"M 73.680455 227.076635 \r\nL 79.767727 227.076635 \r\nL 79.767727 227.076635 \r\nL 73.680455 227.076635 \r\nz\r\n\" style=\"fill:#1f77b4;opacity:0.4;\"/>\r\n   </g>\r\n   <g id=\"patch_5\">\r\n    <path clip-path=\"url(#pdee8732121)\" d=\"M 79.767727 227.076635 \r\nL 85.855 227.076635 \r\nL 85.855 227.076635 \r\nL 79.767727 227.076635 \r\nz\r\n\" style=\"fill:#1f77b4;opacity:0.4;\"/>\r\n   </g>\r\n   <g id=\"patch_6\">\r\n    <path clip-path=\"url(#pdee8732121)\" d=\"M 85.855 227.076635 \r\nL 91.942273 227.076635 \r\nL 91.942273 227.076635 \r\nL 85.855 227.076635 \r\nz\r\n\" style=\"fill:#1f77b4;opacity:0.4;\"/>\r\n   </g>\r\n   <g id=\"patch_7\">\r\n    <path clip-path=\"url(#pdee8732121)\" d=\"M 91.942273 227.076635 \r\nL 98.029545 227.076635 \r\nL 98.029545 227.076635 \r\nL 91.942273 227.076635 \r\nz\r\n\" style=\"fill:#1f77b4;opacity:0.4;\"/>\r\n   </g>\r\n   <g id=\"patch_8\">\r\n    <path clip-path=\"url(#pdee8732121)\" d=\"M 98.029545 227.076635 \r\nL 104.116818 227.076635 \r\nL 104.116818 227.076635 \r\nL 98.029545 227.076635 \r\nz\r\n\" style=\"fill:#1f77b4;opacity:0.4;\"/>\r\n   </g>\r\n   <g id=\"patch_9\">\r\n    <path clip-path=\"url(#pdee8732121)\" d=\"M 104.116818 227.076635 \r\nL 110.204091 227.076635 \r\nL 110.204091 227.076635 \r\nL 104.116818 227.076635 \r\nz\r\n\" style=\"fill:#1f77b4;opacity:0.4;\"/>\r\n   </g>\r\n   <g id=\"patch_10\">\r\n    <path clip-path=\"url(#pdee8732121)\" d=\"M 110.204091 227.076635 \r\nL 116.291364 227.076635 \r\nL 116.291364 227.076635 \r\nL 110.204091 227.076635 \r\nz\r\n\" style=\"fill:#1f77b4;opacity:0.4;\"/>\r\n   </g>\r\n   <g id=\"patch_11\">\r\n    <path clip-path=\"url(#pdee8732121)\" d=\"M 116.291364 227.076635 \r\nL 122.378636 227.076635 \r\nL 122.378636 227.076635 \r\nL 116.291364 227.076635 \r\nz\r\n\" style=\"fill:#1f77b4;opacity:0.4;\"/>\r\n   </g>\r\n   <g id=\"patch_12\">\r\n    <path clip-path=\"url(#pdee8732121)\" d=\"M 122.378636 227.076635 \r\nL 128.465909 227.076635 \r\nL 128.465909 227.076635 \r\nL 122.378636 227.076635 \r\nz\r\n\" style=\"fill:#1f77b4;opacity:0.4;\"/>\r\n   </g>\r\n   <g id=\"patch_13\">\r\n    <path clip-path=\"url(#pdee8732121)\" d=\"M 128.465909 227.076635 \r\nL 134.553182 227.076635 \r\nL 134.553182 226.563091 \r\nL 128.465909 226.563091 \r\nz\r\n\" style=\"fill:#1f77b4;opacity:0.4;\"/>\r\n   </g>\r\n   <g id=\"patch_14\">\r\n    <path clip-path=\"url(#pdee8732121)\" d=\"M 134.553182 227.076635 \r\nL 140.640455 227.076635 \r\nL 140.640455 227.076635 \r\nL 134.553182 227.076635 \r\nz\r\n\" style=\"fill:#1f77b4;opacity:0.4;\"/>\r\n   </g>\r\n   <g id=\"patch_15\">\r\n    <path clip-path=\"url(#pdee8732121)\" d=\"M 140.640455 227.076635 \r\nL 146.727727 227.076635 \r\nL 146.727727 227.076635 \r\nL 140.640455 227.076635 \r\nz\r\n\" style=\"fill:#1f77b4;opacity:0.4;\"/>\r\n   </g>\r\n   <g id=\"patch_16\">\r\n    <path clip-path=\"url(#pdee8732121)\" d=\"M 146.727727 227.076635 \r\nL 152.815 227.076635 \r\nL 152.815 227.076635 \r\nL 146.727727 227.076635 \r\nz\r\n\" style=\"fill:#1f77b4;opacity:0.4;\"/>\r\n   </g>\r\n   <g id=\"patch_17\">\r\n    <path clip-path=\"url(#pdee8732121)\" d=\"M 152.815 227.076635 \r\nL 158.902273 227.076635 \r\nL 158.902273 227.076635 \r\nL 152.815 227.076635 \r\nz\r\n\" style=\"fill:#1f77b4;opacity:0.4;\"/>\r\n   </g>\r\n   <g id=\"patch_18\">\r\n    <path clip-path=\"url(#pdee8732121)\" d=\"M 158.902273 227.076635 \r\nL 164.989545 227.076635 \r\nL 164.989545 227.076635 \r\nL 158.902273 227.076635 \r\nz\r\n\" style=\"fill:#1f77b4;opacity:0.4;\"/>\r\n   </g>\r\n   <g id=\"patch_19\">\r\n    <path clip-path=\"url(#pdee8732121)\" d=\"M 164.989545 227.076635 \r\nL 171.076818 227.076635 \r\nL 171.076818 227.076635 \r\nL 164.989545 227.076635 \r\nz\r\n\" style=\"fill:#1f77b4;opacity:0.4;\"/>\r\n   </g>\r\n   <g id=\"patch_20\">\r\n    <path clip-path=\"url(#pdee8732121)\" d=\"M 171.076818 227.076635 \r\nL 177.164091 227.076635 \r\nL 177.164091 227.076635 \r\nL 171.076818 227.076635 \r\nz\r\n\" style=\"fill:#1f77b4;opacity:0.4;\"/>\r\n   </g>\r\n   <g id=\"patch_21\">\r\n    <path clip-path=\"url(#pdee8732121)\" d=\"M 177.164091 227.076635 \r\nL 183.251364 227.076635 \r\nL 183.251364 227.076635 \r\nL 177.164091 227.076635 \r\nz\r\n\" style=\"fill:#1f77b4;opacity:0.4;\"/>\r\n   </g>\r\n   <g id=\"patch_22\">\r\n    <path clip-path=\"url(#pdee8732121)\" d=\"M 183.251364 227.076635 \r\nL 189.338636 227.076635 \r\nL 189.338636 227.076635 \r\nL 183.251364 227.076635 \r\nz\r\n\" style=\"fill:#1f77b4;opacity:0.4;\"/>\r\n   </g>\r\n   <g id=\"patch_23\">\r\n    <path clip-path=\"url(#pdee8732121)\" d=\"M 189.338636 227.076635 \r\nL 195.425909 227.076635 \r\nL 195.425909 226.368621 \r\nL 189.338636 226.368621 \r\nz\r\n\" style=\"fill:#1f77b4;opacity:0.4;\"/>\r\n   </g>\r\n   <g id=\"patch_24\">\r\n    <path clip-path=\"url(#pdee8732121)\" d=\"M 195.425909 227.076635 \r\nL 201.513182 227.076635 \r\nL 201.513182 227.076635 \r\nL 195.425909 227.076635 \r\nz\r\n\" style=\"fill:#1f77b4;opacity:0.4;\"/>\r\n   </g>\r\n   <g id=\"patch_25\">\r\n    <path clip-path=\"url(#pdee8732121)\" d=\"M 201.513182 227.076635 \r\nL 207.600455 227.076635 \r\nL 207.600455 227.076635 \r\nL 201.513182 227.076635 \r\nz\r\n\" style=\"fill:#1f77b4;opacity:0.4;\"/>\r\n   </g>\r\n   <g id=\"patch_26\">\r\n    <path clip-path=\"url(#pdee8732121)\" d=\"M 207.600455 227.076635 \r\nL 213.687727 227.076635 \r\nL 213.687727 227.076635 \r\nL 207.600455 227.076635 \r\nz\r\n\" style=\"fill:#1f77b4;opacity:0.4;\"/>\r\n   </g>\r\n   <g id=\"patch_27\">\r\n    <path clip-path=\"url(#pdee8732121)\" d=\"M 213.687727 227.076635 \r\nL 219.775 227.076635 \r\nL 219.775 227.076635 \r\nL 213.687727 227.076635 \r\nz\r\n\" style=\"fill:#1f77b4;opacity:0.4;\"/>\r\n   </g>\r\n   <g id=\"patch_28\">\r\n    <path clip-path=\"url(#pdee8732121)\" d=\"M 219.775 227.076635 \r\nL 225.862273 227.076635 \r\nL 225.862273 226.961393 \r\nL 219.775 226.961393 \r\nz\r\n\" style=\"fill:#1f77b4;opacity:0.4;\"/>\r\n   </g>\r\n   <g id=\"patch_29\">\r\n    <path clip-path=\"url(#pdee8732121)\" d=\"M 225.862273 227.076635 \r\nL 231.949545 227.076635 \r\nL 231.949545 227.075914 \r\nL 225.862273 227.075914 \r\nz\r\n\" style=\"fill:#1f77b4;opacity:0.4;\"/>\r\n   </g>\r\n   <g id=\"patch_30\">\r\n    <path clip-path=\"url(#pdee8732121)\" d=\"M 231.949545 227.076635 \r\nL 238.036818 227.076635 \r\nL 238.036818 226.913856 \r\nL 231.949545 226.913856 \r\nz\r\n\" style=\"fill:#1f77b4;opacity:0.4;\"/>\r\n   </g>\r\n   <g id=\"patch_31\">\r\n    <path clip-path=\"url(#pdee8732121)\" d=\"M 238.036818 227.076635 \r\nL 244.124091 227.076635 \r\nL 244.124091 227.076635 \r\nL 238.036818 227.076635 \r\nz\r\n\" style=\"fill:#1f77b4;opacity:0.4;\"/>\r\n   </g>\r\n   <g id=\"patch_32\">\r\n    <path clip-path=\"url(#pdee8732121)\" d=\"M 244.124091 227.076635 \r\nL 250.211364 227.076635 \r\nL 250.211364 227.059348 \r\nL 244.124091 227.059348 \r\nz\r\n\" style=\"fill:#1f77b4;opacity:0.4;\"/>\r\n   </g>\r\n   <g id=\"patch_33\">\r\n    <path clip-path=\"url(#pdee8732121)\" d=\"M 250.211364 227.076635 \r\nL 256.298636 227.076635 \r\nL 256.298636 226.885046 \r\nL 250.211364 226.885046 \r\nz\r\n\" style=\"fill:#1f77b4;opacity:0.4;\"/>\r\n   </g>\r\n   <g id=\"patch_34\">\r\n    <path clip-path=\"url(#pdee8732121)\" d=\"M 256.298636 227.076635 \r\nL 262.385909 227.076635 \r\nL 262.385909 227.076635 \r\nL 256.298636 227.076635 \r\nz\r\n\" style=\"fill:#1f77b4;opacity:0.4;\"/>\r\n   </g>\r\n   <g id=\"patch_35\">\r\n    <path clip-path=\"url(#pdee8732121)\" d=\"M 262.385909 227.076635 \r\nL 268.473182 227.076635 \r\nL 268.473182 227.076635 \r\nL 262.385909 227.076635 \r\nz\r\n\" style=\"fill:#1f77b4;opacity:0.4;\"/>\r\n   </g>\r\n   <g id=\"patch_36\">\r\n    <path clip-path=\"url(#pdee8732121)\" d=\"M 268.473182 227.076635 \r\nL 274.560455 227.076635 \r\nL 274.560455 227.076635 \r\nL 268.473182 227.076635 \r\nz\r\n\" style=\"fill:#1f77b4;opacity:0.4;\"/>\r\n   </g>\r\n   <g id=\"patch_37\">\r\n    <path clip-path=\"url(#pdee8732121)\" d=\"M 274.560455 227.076635 \r\nL 280.647727 227.076635 \r\nL 280.647727 227.049985 \r\nL 274.560455 227.049985 \r\nz\r\n\" style=\"fill:#1f77b4;opacity:0.4;\"/>\r\n   </g>\r\n   <g id=\"patch_38\">\r\n    <path clip-path=\"url(#pdee8732121)\" d=\"M 280.647727 227.076635 \r\nL 286.735 227.076635 \r\nL 286.735 226.999567 \r\nL 280.647727 226.999567 \r\nz\r\n\" style=\"fill:#1f77b4;opacity:0.4;\"/>\r\n   </g>\r\n   <g id=\"patch_39\">\r\n    <path clip-path=\"url(#pdee8732121)\" d=\"M 286.735 227.076635 \r\nL 292.822273 227.076635 \r\nL 292.822273 226.995966 \r\nL 286.735 226.995966 \r\nz\r\n\" style=\"fill:#1f77b4;opacity:0.4;\"/>\r\n   </g>\r\n   <g id=\"patch_40\">\r\n    <path clip-path=\"url(#pdee8732121)\" d=\"M 292.822273 227.076635 \r\nL 298.909545 227.076635 \r\nL 298.909545 226.956351 \r\nL 292.822273 226.956351 \r\nz\r\n\" style=\"fill:#1f77b4;opacity:0.4;\"/>\r\n   </g>\r\n   <g id=\"patch_41\">\r\n    <path clip-path=\"url(#pdee8732121)\" d=\"M 298.909545 227.076635 \r\nL 304.996818 227.076635 \r\nL 304.996818 227.076635 \r\nL 298.909545 227.076635 \r\nz\r\n\" style=\"fill:#1f77b4;opacity:0.4;\"/>\r\n   </g>\r\n   <g id=\"patch_42\">\r\n    <path clip-path=\"url(#pdee8732121)\" d=\"M 304.996818 227.076635 \r\nL 311.084091 227.076635 \r\nL 311.084091 226.862718 \r\nL 304.996818 226.862718 \r\nz\r\n\" style=\"fill:#1f77b4;opacity:0.4;\"/>\r\n   </g>\r\n   <g id=\"patch_43\">\r\n    <path clip-path=\"url(#pdee8732121)\" d=\"M 311.084091 227.076635 \r\nL 317.171364 227.076635 \r\nL 317.171364 225.901173 \r\nL 311.084091 225.901173 \r\nz\r\n\" style=\"fill:#1f77b4;opacity:0.4;\"/>\r\n   </g>\r\n   <g id=\"patch_44\">\r\n    <path clip-path=\"url(#pdee8732121)\" d=\"M 317.171364 227.076635 \r\nL 323.258636 227.076635 \r\nL 323.258636 227.076635 \r\nL 317.171364 227.076635 \r\nz\r\n\" style=\"fill:#1f77b4;opacity:0.4;\"/>\r\n   </g>\r\n   <g id=\"patch_45\">\r\n    <path clip-path=\"url(#pdee8732121)\" d=\"M 323.258636 227.076635 \r\nL 329.345909 227.076635 \r\nL 329.345909 227.076635 \r\nL 323.258636 227.076635 \r\nz\r\n\" style=\"fill:#1f77b4;opacity:0.4;\"/>\r\n   </g>\r\n   <g id=\"patch_46\">\r\n    <path clip-path=\"url(#pdee8732121)\" d=\"M 329.345909 227.076635 \r\nL 335.433182 227.076635 \r\nL 335.433182 227.076635 \r\nL 329.345909 227.076635 \r\nz\r\n\" style=\"fill:#1f77b4;opacity:0.4;\"/>\r\n   </g>\r\n   <g id=\"patch_47\">\r\n    <path clip-path=\"url(#pdee8732121)\" d=\"M 335.433182 227.076635 \r\nL 341.520455 227.076635 \r\nL 341.520455 227.038461 \r\nL 335.433182 227.038461 \r\nz\r\n\" style=\"fill:#1f77b4;opacity:0.4;\"/>\r\n   </g>\r\n   <g id=\"patch_48\">\r\n    <path clip-path=\"url(#pdee8732121)\" d=\"M 341.520455 227.076635 \r\nL 347.607727 227.076635 \r\nL 347.607727 227.03486 \r\nL 341.520455 227.03486 \r\nz\r\n\" style=\"fill:#1f77b4;opacity:0.4;\"/>\r\n   </g>\r\n   <g id=\"patch_49\">\r\n    <path clip-path=\"url(#pdee8732121)\" d=\"M 347.607727 227.076635 \r\nL 353.695 227.076635 \r\nL 353.695 226.792133 \r\nL 347.607727 226.792133 \r\nz\r\n\" style=\"fill:#1f77b4;opacity:0.4;\"/>\r\n   </g>\r\n   <g id=\"patch_50\">\r\n    <path clip-path=\"url(#pdee8732121)\" d=\"M 353.695 227.076635 \r\nL 359.782273 227.076635 \r\nL 359.782273 227.076635 \r\nL 353.695 227.076635 \r\nz\r\n\" style=\"fill:#1f77b4;opacity:0.4;\"/>\r\n   </g>\r\n   <g id=\"patch_51\">\r\n    <path clip-path=\"url(#pdee8732121)\" d=\"M 359.782273 227.076635 \r\nL 365.869545 227.076635 \r\nL 365.869545 227.072313 \r\nL 359.782273 227.072313 \r\nz\r\n\" style=\"fill:#1f77b4;opacity:0.4;\"/>\r\n   </g>\r\n   <g id=\"patch_52\">\r\n    <path clip-path=\"url(#pdee8732121)\" d=\"M 365.869545 227.076635 \r\nL 371.956818 227.076635 \r\nL 371.956818 19.99092 \r\nL 365.869545 19.99092 \r\nz\r\n\" style=\"fill:#1f77b4;opacity:0.4;\"/>\r\n   </g>\r\n   <g id=\"matplotlib.axis_1\">\r\n    <g id=\"xtick_1\">\r\n     <g id=\"line2d_1\">\r\n      <defs>\r\n       <path d=\"M 0 0 \r\nL 0 3.5 \r\n\" id=\"ma92225bbe3\" style=\"stroke:#000000;stroke-width:0.8;\"/>\r\n      </defs>\r\n      <g>\r\n       <use style=\"stroke:#000000;stroke-width:0.8;\" x=\"75.414817\" xlink:href=\"#ma92225bbe3\" y=\"227.076635\"/>\r\n      </g>\r\n     </g>\r\n     <g id=\"text_1\">\r\n      <!-- 0.2 -->\r\n      <defs>\r\n       <path d=\"M 31.78125 66.40625 \r\nQ 24.171875 66.40625 20.328125 58.90625 \r\nQ 16.5 51.421875 16.5 36.375 \r\nQ 16.5 21.390625 20.328125 13.890625 \r\nQ 24.171875 6.390625 31.78125 6.390625 \r\nQ 39.453125 6.390625 43.28125 13.890625 \r\nQ 47.125 21.390625 47.125 36.375 \r\nQ 47.125 51.421875 43.28125 58.90625 \r\nQ 39.453125 66.40625 31.78125 66.40625 \r\nz\r\nM 31.78125 74.21875 \r\nQ 44.046875 74.21875 50.515625 64.515625 \r\nQ 56.984375 54.828125 56.984375 36.375 \r\nQ 56.984375 17.96875 50.515625 8.265625 \r\nQ 44.046875 -1.421875 31.78125 -1.421875 \r\nQ 19.53125 -1.421875 13.0625 8.265625 \r\nQ 6.59375 17.96875 6.59375 36.375 \r\nQ 6.59375 54.828125 13.0625 64.515625 \r\nQ 19.53125 74.21875 31.78125 74.21875 \r\nz\r\n\" id=\"DejaVuSans-48\"/>\r\n       <path d=\"M 10.6875 12.40625 \r\nL 21 12.40625 \r\nL 21 0 \r\nL 10.6875 0 \r\nz\r\n\" id=\"DejaVuSans-46\"/>\r\n       <path d=\"M 19.1875 8.296875 \r\nL 53.609375 8.296875 \r\nL 53.609375 0 \r\nL 7.328125 0 \r\nL 7.328125 8.296875 \r\nQ 12.9375 14.109375 22.625 23.890625 \r\nQ 32.328125 33.6875 34.8125 36.53125 \r\nQ 39.546875 41.84375 41.421875 45.53125 \r\nQ 43.3125 49.21875 43.3125 52.78125 \r\nQ 43.3125 58.59375 39.234375 62.25 \r\nQ 35.15625 65.921875 28.609375 65.921875 \r\nQ 23.96875 65.921875 18.8125 64.3125 \r\nQ 13.671875 62.703125 7.8125 59.421875 \r\nL 7.8125 69.390625 \r\nQ 13.765625 71.78125 18.9375 73 \r\nQ 24.125 74.21875 28.421875 74.21875 \r\nQ 39.75 74.21875 46.484375 68.546875 \r\nQ 53.21875 62.890625 53.21875 53.421875 \r\nQ 53.21875 48.921875 51.53125 44.890625 \r\nQ 49.859375 40.875 45.40625 35.40625 \r\nQ 44.1875 33.984375 37.640625 27.21875 \r\nQ 31.109375 20.453125 19.1875 8.296875 \r\nz\r\n\" id=\"DejaVuSans-50\"/>\r\n      </defs>\r\n      <g transform=\"translate(67.463255 241.675072)scale(0.1 -0.1)\">\r\n       <use xlink:href=\"#DejaVuSans-48\"/>\r\n       <use x=\"63.623047\" xlink:href=\"#DejaVuSans-46\"/>\r\n       <use x=\"95.410156\" xlink:href=\"#DejaVuSans-50\"/>\r\n      </g>\r\n     </g>\r\n    </g>\r\n    <g id=\"xtick_2\">\r\n     <g id=\"line2d_2\">\r\n      <g>\r\n       <use style=\"stroke:#000000;stroke-width:0.8;\" x=\"149.550317\" xlink:href=\"#ma92225bbe3\" y=\"227.076635\"/>\r\n      </g>\r\n     </g>\r\n     <g id=\"text_2\">\r\n      <!-- 0.4 -->\r\n      <defs>\r\n       <path d=\"M 37.796875 64.3125 \r\nL 12.890625 25.390625 \r\nL 37.796875 25.390625 \r\nz\r\nM 35.203125 72.90625 \r\nL 47.609375 72.90625 \r\nL 47.609375 25.390625 \r\nL 58.015625 25.390625 \r\nL 58.015625 17.1875 \r\nL 47.609375 17.1875 \r\nL 47.609375 0 \r\nL 37.796875 0 \r\nL 37.796875 17.1875 \r\nL 4.890625 17.1875 \r\nL 4.890625 26.703125 \r\nz\r\n\" id=\"DejaVuSans-52\"/>\r\n      </defs>\r\n      <g transform=\"translate(141.598755 241.675072)scale(0.1 -0.1)\">\r\n       <use xlink:href=\"#DejaVuSans-48\"/>\r\n       <use x=\"63.623047\" xlink:href=\"#DejaVuSans-46\"/>\r\n       <use x=\"95.410156\" xlink:href=\"#DejaVuSans-52\"/>\r\n      </g>\r\n     </g>\r\n    </g>\r\n    <g id=\"xtick_3\">\r\n     <g id=\"line2d_3\">\r\n      <g>\r\n       <use style=\"stroke:#000000;stroke-width:0.8;\" x=\"223.685818\" xlink:href=\"#ma92225bbe3\" y=\"227.076635\"/>\r\n      </g>\r\n     </g>\r\n     <g id=\"text_3\">\r\n      <!-- 0.6 -->\r\n      <defs>\r\n       <path d=\"M 33.015625 40.375 \r\nQ 26.375 40.375 22.484375 35.828125 \r\nQ 18.609375 31.296875 18.609375 23.390625 \r\nQ 18.609375 15.53125 22.484375 10.953125 \r\nQ 26.375 6.390625 33.015625 6.390625 \r\nQ 39.65625 6.390625 43.53125 10.953125 \r\nQ 47.40625 15.53125 47.40625 23.390625 \r\nQ 47.40625 31.296875 43.53125 35.828125 \r\nQ 39.65625 40.375 33.015625 40.375 \r\nz\r\nM 52.59375 71.296875 \r\nL 52.59375 62.3125 \r\nQ 48.875 64.0625 45.09375 64.984375 \r\nQ 41.3125 65.921875 37.59375 65.921875 \r\nQ 27.828125 65.921875 22.671875 59.328125 \r\nQ 17.53125 52.734375 16.796875 39.40625 \r\nQ 19.671875 43.65625 24.015625 45.921875 \r\nQ 28.375 48.1875 33.59375 48.1875 \r\nQ 44.578125 48.1875 50.953125 41.515625 \r\nQ 57.328125 34.859375 57.328125 23.390625 \r\nQ 57.328125 12.15625 50.6875 5.359375 \r\nQ 44.046875 -1.421875 33.015625 -1.421875 \r\nQ 20.359375 -1.421875 13.671875 8.265625 \r\nQ 6.984375 17.96875 6.984375 36.375 \r\nQ 6.984375 53.65625 15.1875 63.9375 \r\nQ 23.390625 74.21875 37.203125 74.21875 \r\nQ 40.921875 74.21875 44.703125 73.484375 \r\nQ 48.484375 72.75 52.59375 71.296875 \r\nz\r\n\" id=\"DejaVuSans-54\"/>\r\n      </defs>\r\n      <g transform=\"translate(215.734255 241.675072)scale(0.1 -0.1)\">\r\n       <use xlink:href=\"#DejaVuSans-48\"/>\r\n       <use x=\"63.623047\" xlink:href=\"#DejaVuSans-46\"/>\r\n       <use x=\"95.410156\" xlink:href=\"#DejaVuSans-54\"/>\r\n      </g>\r\n     </g>\r\n    </g>\r\n    <g id=\"xtick_4\">\r\n     <g id=\"line2d_4\">\r\n      <g>\r\n       <use style=\"stroke:#000000;stroke-width:0.8;\" x=\"297.821318\" xlink:href=\"#ma92225bbe3\" y=\"227.076635\"/>\r\n      </g>\r\n     </g>\r\n     <g id=\"text_4\">\r\n      <!-- 0.8 -->\r\n      <defs>\r\n       <path d=\"M 31.78125 34.625 \r\nQ 24.75 34.625 20.71875 30.859375 \r\nQ 16.703125 27.09375 16.703125 20.515625 \r\nQ 16.703125 13.921875 20.71875 10.15625 \r\nQ 24.75 6.390625 31.78125 6.390625 \r\nQ 38.8125 6.390625 42.859375 10.171875 \r\nQ 46.921875 13.96875 46.921875 20.515625 \r\nQ 46.921875 27.09375 42.890625 30.859375 \r\nQ 38.875 34.625 31.78125 34.625 \r\nz\r\nM 21.921875 38.8125 \r\nQ 15.578125 40.375 12.03125 44.71875 \r\nQ 8.5 49.078125 8.5 55.328125 \r\nQ 8.5 64.0625 14.71875 69.140625 \r\nQ 20.953125 74.21875 31.78125 74.21875 \r\nQ 42.671875 74.21875 48.875 69.140625 \r\nQ 55.078125 64.0625 55.078125 55.328125 \r\nQ 55.078125 49.078125 51.53125 44.71875 \r\nQ 48 40.375 41.703125 38.8125 \r\nQ 48.828125 37.15625 52.796875 32.3125 \r\nQ 56.78125 27.484375 56.78125 20.515625 \r\nQ 56.78125 9.90625 50.3125 4.234375 \r\nQ 43.84375 -1.421875 31.78125 -1.421875 \r\nQ 19.734375 -1.421875 13.25 4.234375 \r\nQ 6.78125 9.90625 6.78125 20.515625 \r\nQ 6.78125 27.484375 10.78125 32.3125 \r\nQ 14.796875 37.15625 21.921875 38.8125 \r\nz\r\nM 18.3125 54.390625 \r\nQ 18.3125 48.734375 21.84375 45.5625 \r\nQ 25.390625 42.390625 31.78125 42.390625 \r\nQ 38.140625 42.390625 41.71875 45.5625 \r\nQ 45.3125 48.734375 45.3125 54.390625 \r\nQ 45.3125 60.0625 41.71875 63.234375 \r\nQ 38.140625 66.40625 31.78125 66.40625 \r\nQ 25.390625 66.40625 21.84375 63.234375 \r\nQ 18.3125 60.0625 18.3125 54.390625 \r\nz\r\n\" id=\"DejaVuSans-56\"/>\r\n      </defs>\r\n      <g transform=\"translate(289.869755 241.675072)scale(0.1 -0.1)\">\r\n       <use xlink:href=\"#DejaVuSans-48\"/>\r\n       <use x=\"63.623047\" xlink:href=\"#DejaVuSans-46\"/>\r\n       <use x=\"95.410156\" xlink:href=\"#DejaVuSans-56\"/>\r\n      </g>\r\n     </g>\r\n    </g>\r\n    <g id=\"xtick_5\">\r\n     <g id=\"line2d_5\">\r\n      <g>\r\n       <use style=\"stroke:#000000;stroke-width:0.8;\" x=\"371.956818\" xlink:href=\"#ma92225bbe3\" y=\"227.076635\"/>\r\n      </g>\r\n     </g>\r\n     <g id=\"text_5\">\r\n      <!-- 1.0 -->\r\n      <defs>\r\n       <path d=\"M 12.40625 8.296875 \r\nL 28.515625 8.296875 \r\nL 28.515625 63.921875 \r\nL 10.984375 60.40625 \r\nL 10.984375 69.390625 \r\nL 28.421875 72.90625 \r\nL 38.28125 72.90625 \r\nL 38.28125 8.296875 \r\nL 54.390625 8.296875 \r\nL 54.390625 0 \r\nL 12.40625 0 \r\nz\r\n\" id=\"DejaVuSans-49\"/>\r\n      </defs>\r\n      <g transform=\"translate(364.005256 241.675072)scale(0.1 -0.1)\">\r\n       <use xlink:href=\"#DejaVuSans-49\"/>\r\n       <use x=\"63.623047\" xlink:href=\"#DejaVuSans-46\"/>\r\n       <use x=\"95.410156\" xlink:href=\"#DejaVuSans-48\"/>\r\n      </g>\r\n     </g>\r\n    </g>\r\n   </g>\r\n   <g id=\"matplotlib.axis_2\">\r\n    <g id=\"ytick_1\">\r\n     <g id=\"line2d_6\">\r\n      <defs>\r\n       <path d=\"M 0 0 \r\nL -3.5 0 \r\n\" id=\"m407c8ddd78\" style=\"stroke:#000000;stroke-width:0.8;\"/>\r\n      </defs>\r\n      <g>\r\n       <use style=\"stroke:#000000;stroke-width:0.8;\" x=\"52.375\" xlink:href=\"#m407c8ddd78\" y=\"227.076635\"/>\r\n      </g>\r\n     </g>\r\n     <g id=\"text_6\">\r\n      <!-- 0 -->\r\n      <g transform=\"translate(39.0125 230.875853)scale(0.1 -0.1)\">\r\n       <use xlink:href=\"#DejaVuSans-48\"/>\r\n      </g>\r\n     </g>\r\n    </g>\r\n    <g id=\"ytick_2\">\r\n     <g id=\"line2d_7\">\r\n      <g>\r\n       <use style=\"stroke:#000000;stroke-width:0.8;\" x=\"52.375\" xlink:href=\"#m407c8ddd78\" y=\"191.063732\"/>\r\n      </g>\r\n     </g>\r\n     <g id=\"text_7\">\r\n      <!-- 50000 -->\r\n      <defs>\r\n       <path d=\"M 10.796875 72.90625 \r\nL 49.515625 72.90625 \r\nL 49.515625 64.59375 \r\nL 19.828125 64.59375 \r\nL 19.828125 46.734375 \r\nQ 21.96875 47.46875 24.109375 47.828125 \r\nQ 26.265625 48.1875 28.421875 48.1875 \r\nQ 40.625 48.1875 47.75 41.5 \r\nQ 54.890625 34.8125 54.890625 23.390625 \r\nQ 54.890625 11.625 47.5625 5.09375 \r\nQ 40.234375 -1.421875 26.90625 -1.421875 \r\nQ 22.3125 -1.421875 17.546875 -0.640625 \r\nQ 12.796875 0.140625 7.71875 1.703125 \r\nL 7.71875 11.625 \r\nQ 12.109375 9.234375 16.796875 8.0625 \r\nQ 21.484375 6.890625 26.703125 6.890625 \r\nQ 35.15625 6.890625 40.078125 11.328125 \r\nQ 45.015625 15.765625 45.015625 23.390625 \r\nQ 45.015625 31 40.078125 35.4375 \r\nQ 35.15625 39.890625 26.703125 39.890625 \r\nQ 22.75 39.890625 18.8125 39.015625 \r\nQ 14.890625 38.140625 10.796875 36.28125 \r\nz\r\n\" id=\"DejaVuSans-53\"/>\r\n      </defs>\r\n      <g transform=\"translate(13.5625 194.862951)scale(0.1 -0.1)\">\r\n       <use xlink:href=\"#DejaVuSans-53\"/>\r\n       <use x=\"63.623047\" xlink:href=\"#DejaVuSans-48\"/>\r\n       <use x=\"127.246094\" xlink:href=\"#DejaVuSans-48\"/>\r\n       <use x=\"190.869141\" xlink:href=\"#DejaVuSans-48\"/>\r\n       <use x=\"254.492188\" xlink:href=\"#DejaVuSans-48\"/>\r\n      </g>\r\n     </g>\r\n    </g>\r\n    <g id=\"ytick_3\">\r\n     <g id=\"line2d_8\">\r\n      <g>\r\n       <use style=\"stroke:#000000;stroke-width:0.8;\" x=\"52.375\" xlink:href=\"#m407c8ddd78\" y=\"155.050829\"/>\r\n      </g>\r\n     </g>\r\n     <g id=\"text_8\">\r\n      <!-- 100000 -->\r\n      <g transform=\"translate(7.2 158.850048)scale(0.1 -0.1)\">\r\n       <use xlink:href=\"#DejaVuSans-49\"/>\r\n       <use x=\"63.623047\" xlink:href=\"#DejaVuSans-48\"/>\r\n       <use x=\"127.246094\" xlink:href=\"#DejaVuSans-48\"/>\r\n       <use x=\"190.869141\" xlink:href=\"#DejaVuSans-48\"/>\r\n       <use x=\"254.492188\" xlink:href=\"#DejaVuSans-48\"/>\r\n       <use x=\"318.115234\" xlink:href=\"#DejaVuSans-48\"/>\r\n      </g>\r\n     </g>\r\n    </g>\r\n    <g id=\"ytick_4\">\r\n     <g id=\"line2d_9\">\r\n      <g>\r\n       <use style=\"stroke:#000000;stroke-width:0.8;\" x=\"52.375\" xlink:href=\"#m407c8ddd78\" y=\"119.037927\"/>\r\n      </g>\r\n     </g>\r\n     <g id=\"text_9\">\r\n      <!-- 150000 -->\r\n      <g transform=\"translate(7.2 122.837145)scale(0.1 -0.1)\">\r\n       <use xlink:href=\"#DejaVuSans-49\"/>\r\n       <use x=\"63.623047\" xlink:href=\"#DejaVuSans-53\"/>\r\n       <use x=\"127.246094\" xlink:href=\"#DejaVuSans-48\"/>\r\n       <use x=\"190.869141\" xlink:href=\"#DejaVuSans-48\"/>\r\n       <use x=\"254.492188\" xlink:href=\"#DejaVuSans-48\"/>\r\n       <use x=\"318.115234\" xlink:href=\"#DejaVuSans-48\"/>\r\n      </g>\r\n     </g>\r\n    </g>\r\n    <g id=\"ytick_5\">\r\n     <g id=\"line2d_10\">\r\n      <g>\r\n       <use style=\"stroke:#000000;stroke-width:0.8;\" x=\"52.375\" xlink:href=\"#m407c8ddd78\" y=\"83.025024\"/>\r\n      </g>\r\n     </g>\r\n     <g id=\"text_10\">\r\n      <!-- 200000 -->\r\n      <g transform=\"translate(7.2 86.824243)scale(0.1 -0.1)\">\r\n       <use xlink:href=\"#DejaVuSans-50\"/>\r\n       <use x=\"63.623047\" xlink:href=\"#DejaVuSans-48\"/>\r\n       <use x=\"127.246094\" xlink:href=\"#DejaVuSans-48\"/>\r\n       <use x=\"190.869141\" xlink:href=\"#DejaVuSans-48\"/>\r\n       <use x=\"254.492188\" xlink:href=\"#DejaVuSans-48\"/>\r\n       <use x=\"318.115234\" xlink:href=\"#DejaVuSans-48\"/>\r\n      </g>\r\n     </g>\r\n    </g>\r\n    <g id=\"ytick_6\">\r\n     <g id=\"line2d_11\">\r\n      <g>\r\n       <use style=\"stroke:#000000;stroke-width:0.8;\" x=\"52.375\" xlink:href=\"#m407c8ddd78\" y=\"47.012121\"/>\r\n      </g>\r\n     </g>\r\n     <g id=\"text_11\">\r\n      <!-- 250000 -->\r\n      <g transform=\"translate(7.2 50.81134)scale(0.1 -0.1)\">\r\n       <use xlink:href=\"#DejaVuSans-50\"/>\r\n       <use x=\"63.623047\" xlink:href=\"#DejaVuSans-53\"/>\r\n       <use x=\"127.246094\" xlink:href=\"#DejaVuSans-48\"/>\r\n       <use x=\"190.869141\" xlink:href=\"#DejaVuSans-48\"/>\r\n       <use x=\"254.492188\" xlink:href=\"#DejaVuSans-48\"/>\r\n       <use x=\"318.115234\" xlink:href=\"#DejaVuSans-48\"/>\r\n      </g>\r\n     </g>\r\n    </g>\r\n    <g id=\"ytick_7\">\r\n     <g id=\"line2d_12\">\r\n      <g>\r\n       <use style=\"stroke:#000000;stroke-width:0.8;\" x=\"52.375\" xlink:href=\"#m407c8ddd78\" y=\"10.999219\"/>\r\n      </g>\r\n     </g>\r\n     <g id=\"text_12\">\r\n      <!-- 300000 -->\r\n      <defs>\r\n       <path d=\"M 40.578125 39.3125 \r\nQ 47.65625 37.796875 51.625 33 \r\nQ 55.609375 28.21875 55.609375 21.1875 \r\nQ 55.609375 10.40625 48.1875 4.484375 \r\nQ 40.765625 -1.421875 27.09375 -1.421875 \r\nQ 22.515625 -1.421875 17.65625 -0.515625 \r\nQ 12.796875 0.390625 7.625 2.203125 \r\nL 7.625 11.71875 \r\nQ 11.71875 9.328125 16.59375 8.109375 \r\nQ 21.484375 6.890625 26.8125 6.890625 \r\nQ 36.078125 6.890625 40.9375 10.546875 \r\nQ 45.796875 14.203125 45.796875 21.1875 \r\nQ 45.796875 27.640625 41.28125 31.265625 \r\nQ 36.765625 34.90625 28.71875 34.90625 \r\nL 20.21875 34.90625 \r\nL 20.21875 43.015625 \r\nL 29.109375 43.015625 \r\nQ 36.375 43.015625 40.234375 45.921875 \r\nQ 44.09375 48.828125 44.09375 54.296875 \r\nQ 44.09375 59.90625 40.109375 62.90625 \r\nQ 36.140625 65.921875 28.71875 65.921875 \r\nQ 24.65625 65.921875 20.015625 65.03125 \r\nQ 15.375 64.15625 9.8125 62.3125 \r\nL 9.8125 71.09375 \r\nQ 15.4375 72.65625 20.34375 73.4375 \r\nQ 25.25 74.21875 29.59375 74.21875 \r\nQ 40.828125 74.21875 47.359375 69.109375 \r\nQ 53.90625 64.015625 53.90625 55.328125 \r\nQ 53.90625 49.265625 50.4375 45.09375 \r\nQ 46.96875 40.921875 40.578125 39.3125 \r\nz\r\n\" id=\"DejaVuSans-51\"/>\r\n      </defs>\r\n      <g transform=\"translate(7.2 14.798437)scale(0.1 -0.1)\">\r\n       <use xlink:href=\"#DejaVuSans-51\"/>\r\n       <use x=\"63.623047\" xlink:href=\"#DejaVuSans-48\"/>\r\n       <use x=\"127.246094\" xlink:href=\"#DejaVuSans-48\"/>\r\n       <use x=\"190.869141\" xlink:href=\"#DejaVuSans-48\"/>\r\n       <use x=\"254.492188\" xlink:href=\"#DejaVuSans-48\"/>\r\n       <use x=\"318.115234\" xlink:href=\"#DejaVuSans-48\"/>\r\n      </g>\r\n     </g>\r\n    </g>\r\n   </g>\r\n   <g id=\"patch_53\">\r\n    <path d=\"M 52.375 227.076635 \r\nL 52.375 9.636635 \r\n\" style=\"fill:none;stroke:#000000;stroke-linecap:square;stroke-linejoin:miter;stroke-width:0.8;\"/>\r\n   </g>\r\n   <g id=\"patch_54\">\r\n    <path d=\"M 387.175 227.076635 \r\nL 387.175 9.636635 \r\n\" style=\"fill:none;stroke:#000000;stroke-linecap:square;stroke-linejoin:miter;stroke-width:0.8;\"/>\r\n   </g>\r\n   <g id=\"patch_55\">\r\n    <path d=\"M 52.375 227.076635 \r\nL 387.175 227.076635 \r\n\" style=\"fill:none;stroke:#000000;stroke-linecap:square;stroke-linejoin:miter;stroke-width:0.8;\"/>\r\n   </g>\r\n   <g id=\"patch_56\">\r\n    <path d=\"M 52.375 9.636635 \r\nL 387.175 9.636635 \r\n\" style=\"fill:none;stroke:#000000;stroke-linecap:square;stroke-linejoin:miter;stroke-width:0.8;\"/>\r\n   </g>\r\n  </g>\r\n </g>\r\n <defs>\r\n  <clipPath id=\"pdee8732121\">\r\n   <rect height=\"217.44\" width=\"334.8\" x=\"52.375\" y=\"9.636635\"/>\r\n  </clipPath>\r\n </defs>\r\n</svg>\r\n",
      "image/png": "[encoded data removed]"
     },
     "metadata": {
      "needs_background": "light"
     }
    }
   ],
   "source": [
    "train = filtering_rows(train, threshold=0.9)"
   ]
  },
  {
   "cell_type": "markdown",
   "metadata": {
    "Collapsed": "false"
   },
   "source": [
    "## Typage des données"
   ]
  },
  {
   "cell_type": "code",
   "execution_count": 15,
   "metadata": {
    "Collapsed": "false"
   },
   "outputs": [
    {
     "output_type": "execute_result",
     "data": {
      "text/plain": [
       "     0.000000   \n",
       "50%                          6.000000   \n",
       "75%                         10.000000   \n",
       "max                         72.000000   \n",
       "\n",
       "       previous_loans_WEEKDAY_APPR_PROCESS_START_FRIDAY_count_norm  \\\n",
       "count                                      288028.000000             \n",
       "mean                                            0.147239             \n",
       "std                                             0.235901             \n",
       "min                                             0.000000             \n",
       "25%                                             0.000000             \n",
       "50%                                             0.000000             \n",
       "75%                                             0.250000             \n",
       "max                                             1.000000             \n",
       "\n",
       "       client_cash_NAME_CONTRACT_STATUS_Signed_count_norm_max  \\\n",
       "count                                      288028.000000        \n",
       "mean                                            0.030208        \n",
       "std                                             0.086742        \n",
       "min                                             0.000000        \n",
       "25%                                             0.000000        \n",
       "50%                                             0.000000        \n",
       "75%                                             0.000000        \n",
       "max                                             1.000000        \n",
       "\n",
       "       previous_loans_WEEKDAY_APPR_PROCESS_START_TUESDAY_count_norm  \\\n",
       "count                                      288028.000000              \n",
       "mean                                            0.146911              \n",
       "std                                             0.235144              \n",
       "min                                             0.000000              \n",
       "25%                                             0.000000              \n",
       "50%                                             0.000000              \n",
       "75%                                             0.250000              \n",
       "max                                             1.000000              \n",
       "\n",
       "       previous_loans_NAME_SELLER_INDUSTRY_Construction_count_norm  \\\n",
       "count                                      288028.000000             \n",
       "mean                                            0.026431             \n",
       "std                                             0.123989             \n",
       "min                                             0.000000             \n",
       "25%                                             0.000000             \n",
       "50%                                             0.000000             \n",
       "75%                                             0.000000             \n",
       "max                                             1.000000             \n",
       "\n",
       "       previous_loans_NAME_SELLER_INDUSTRY_Furniture_count_norm  \\\n",
       "count                                      288028.000000          \n",
       "mean                                            0.049857          \n",
       "std                                             0.166222          \n",
       "min                                             0.000000          \n",
       "25%                                             0.000000          \n",
       "50%                                             0.000000          \n",
       "75%                                             0.000000          \n",
       "max                                             1.000000          \n",
       "\n",
       "       previous_loans_NAME_SELLER_INDUSTRY_Connectivity_count  \\\n",
       "count                                      288028.000000        \n",
       "mean                                            0.824271        \n",
       "std                                             1.243196        \n",
       "min                                             0.000000        \n",
       "25%                                             0.000000        \n",
       "50%                                             0.000000        \n",
       "75%                                             1.000000        \n",
       "max                                            53.000000        \n",
       "\n",
       "       previous_loans_PRODUCT_COMBINATION_Cash Street: middle_count_norm  \\\n",
       "count                                      288028.000000                   \n",
       "mean                                            0.017534                   \n",
       "std                                             0.085399                   \n",
       "min                                             0.000000                   \n",
       "25%                                             0.000000                   \n",
       "50%                                             0.000000                   \n",
       "75%                                             0.000000                   \n",
       "max                                             1.000000                   \n",
       "\n",
       "       previous_loans_NAME_YIELD_GROUP_high_count  \\\n",
       "count                               288028.000000   \n",
       "mean                                     1.060515   \n",
       "std                                      1.407571   \n",
       "min                                      0.000000   \n",
       "25%                                      0.000000   \n",
       "50%                                      1.000000   \n",
       "75%                                      2.000000   \n",
       "max                                     38.000000   \n",
       "\n",
       "       previous_loans_PRODUCT_COMBINATION_POS mobile with interest_count_norm  \\\n",
       "count                                      288028.000000                        \n",
       "mean                                            0.169564                        \n",
       "std                                             0.273867                        \n",
       "min                                             0.000000                        \n",
       "25%                                             0.000000                        \n",
       "50%                                             0.000000                        \n",
       "75%                                             0.250000                        \n",
       "max                                             1.000000                        \n",
       "\n",
       "       previous_loans_PRODUCT_COMBINATION_POS industry without interest_count_norm  \\\n",
       "count                                      288028.000000                             \n",
       "mean                                            0.011469                             \n",
       "std                                             0.081418                             \n",
       "min                                             0.000000                             \n",
       "25%                                             0.000000                             \n",
       "50%                                             0.000000                             \n",
       "75%                                             0.000000                             \n",
       "max                                             1.000000                             \n",
       "\n",
       "       previous_loans_PRODUCT_COMBINATION_POS household with interest_count_norm  \\\n",
       "count                                      288028.000000                           \n",
       "mean                                            0.208442                           \n",
       "std                                             0.293589                           \n",
       "min                                             0.000000                           \n",
       "25%                                             0.000000                           \n",
       "50%                                             0.000000                           \n",
       "75%                                             0.333333                           \n",
       "max                                             1.000000                           \n",
       "\n",
       "       ORGANIZATION_TYPE_School  \\\n",
       "count             288028.000000   \n",
       "mean                   0.029341   \n",
       "std                    0.168761   \n",
       "min                    0.000000   \n",
       "25%                    0.000000   \n",
       "50%                    0.000000   \n",
       "75%                    0.000000   \n",
       "max                    1.000000   \n",
       "\n",
       "       previous_loans_NAME_CASH_LOAN_PURPOSE_Repairs_count_norm  \\\n",
       "count                                      288028.000000          \n",
       "mean                                            0.011418          \n",
       "std                                             0.069724          \n",
       "min                                             0.000000          \n",
       "25%                                             0.000000          \n",
       "50%                                             0.000000          \n",
       "75%                                             0.000000          \n",
       "max                                             1.000000          \n",
       "\n",
       "          FLAG_PHONE  previous_loans_PRODUCT_COMBINATION_Cash_count_norm  \\\n",
       "count  288028.000000                                      288028.000000    \n",
       "mean        0.282136                                           0.109089    \n",
       "std         0.450040                                           0.172954    \n",
       "min         0.000000                                           0.000000    \n",
       "25%         0.000000                                           0.000000    \n",
       "50%         0.000000                                           0.000000    \n",
       "75%         1.000000                                           0.200000    \n",
       "max         1.000000                                           1.000000    \n",
       "\n",
       "       CNT_FAM_MEMBERS  \\\n",
       "count    288028.000000   \n",
       "mean          2.160995   \n",
       "std           0.914241   \n",
       "min           1.000000   \n",
       "25%           2.000000   \n",
       "50%           2.000000   \n",
       "75%           3.000000   \n",
       "max          20.000000   \n",
       "\n",
       "       client_cash_NAME_CONTRACT_STATUS_Active_count_norm_min  \\\n",
       "count                                      288028.000000        \n",
       "mean                                            0.825796        \n",
       "std                                             0.154219        \n",
       "min                                             0.000000        \n",
       "25%                                             0.800000        \n",
       "50%                                             0.857143        \n",
       "75%                                             0.916667        \n",
       "max                                             1.000000        \n",
       "\n",
       "       WALLSMATERIAL_MODE_Panel  ORGANIZATION_TYPE_Bank  \\\n",
       "count             288028.000000           288028.000000   \n",
       "mean                   0.211757                0.007610   \n",
       "std                    0.408554                0.086905   \n",
       "min                    0.000000                0.000000   \n",
       "25%                    0.000000                0.000000   \n",
       "50%                    0.000000                0.000000   \n",
       "75%                    0.000000                0.000000   \n",
       "max                    1.000000                1.000000   \n",
       "\n",
       "       previous_loans_PRODUCT_COMBINATION_POS household without interest_count_norm  \\\n",
       "count                                      288028.000000                              \n",
       "mean                                            0.066680                              \n",
       "std                                             0.181362                              \n",
       "min                                             0.000000                              \n",
       "25%                                             0.000000                              \n",
       "50%                                             0.000000                              \n",
       "75%                                             0.000000                              \n",
       "max                                             1.000000                              \n",
       "\n",
       "       client_installments_NUM_INSTALMENT_NUMBER_min_max  \\\n",
       "count                                      288028.000000   \n",
       "mean                                            1.519918   \n",
       "std                                             2.401421   \n",
       "min                                             1.000000   \n",
       "25%                                             1.000000   \n",
       "50%                                             1.000000   \n",
       "75%                                             1.000000   \n",
       "max                                           132.000000   \n",
       "\n",
       "       previous_loans_WEEKDAY_APPR_PROCESS_START_WEDNESDAY_count_norm  \\\n",
       "count                                      288028.000000                \n",
       "mean                                            0.147400                \n",
       "std                                             0.235957                \n",
       "min                                             0.000000                \n",
       "25%                                             0.000000                \n",
       "50%                                             0.000000                \n",
       "75%                                             0.250000                \n",
       "max                                             1.000000                \n",
       "\n",
       "       previous_loans_WEEKDAY_APPR_PROCESS_START_WEDNESDAY_count  \\\n",
       "count                                      288028.000000           \n",
       "mean                                            0.744046           \n",
       "std                                             1.238639           \n",
       "min                                             0.000000           \n",
       "25%                                             0.000000           \n",
       "50%                                             0.000000           \n",
       "75%                                             1.000000           \n",
       "max                                            26.000000           \n",
       "\n",
       "       client_cash_NAME_CONTRACT_STATUS_Completed_count_norm_sum  \\\n",
       "count                                      288028.000000           \n",
       "mean                                            2.192214           \n",
       "std                                             3.087254           \n",
       "min                                             0.000000           \n",
       "25%                                             1.000000           \n",
       "50%                                             2.000000           \n",
       "75%                                             3.000000           \n",
       "max                                            85.000000           \n",
       "\n",
       "       previous_loans_NAME_CLIENT_TYPE_Repeater_count  \\\n",
       "count                                   288028.000000   \n",
       "mean                                         3.592560   \n",
       "std                                          4.179634   \n",
       "min                                          0.000000   \n",
       "25%                                          1.000000   \n",
       "50%                                          2.000000   \n",
       "75%                                          5.000000   \n",
       "max                                         71.000000   \n",
       "\n",
       "       previous_loans_NAME_PRODUCT_TYPE_XNA_count  \\\n",
       "count                               288028.000000   \n",
       "mean                                     3.112829   \n",
       "std                                      2.601644   \n",
       "min                                      0.000000   \n",
       "25%                                      1.000000   \n",
       "50%                                      2.000000   \n",
       "75%                                      4.000000   \n",
       "max                                     61.000000   \n",
       "\n",
       "       previous_loans_NAME_GOODS_CATEGORY_Mobile_count_norm  \\\n",
       "count                                      288028.000000      \n",
       "mean                                            0.175195      \n",
       "std                                             0.276499      \n",
       "min                                             0.000000      \n",
       "25%                                             0.000000      \n",
       "50%                                             0.000000      \n",
       "75%                                             0.250000      \n",
       "max                                             1.000000      \n",
       "\n",
       "       previous_loans_CODE_REJECT_REASON_VERIF_count_norm  \\\n",
       "count                                      288028.000000    \n",
       "mean                                            0.001471    \n",
       "std                                             0.019346    \n",
       "min                                             0.000000    \n",
       "25%                                             0.000000    \n",
       "50%                                             0.000000    \n",
       "75%                                             0.000000    \n",
       "max                                             1.000000    \n",
       "\n",
       "       client_cash_NAME_CONTRACT_STATUS_Completed_count_norm_min  \\\n",
       "count                                      288028.000000           \n",
       "mean                                            0.046260           \n",
       "std                                             0.064273           \n",
       "min                                             0.000000           \n",
       "25%                                             0.000000           \n",
       "50%                                             0.000000           \n",
       "75%                                             0.083333           \n",
       "max                                             1.000000           \n",
       "\n",
       "       previous_loans_NAME_SELLER_INDUSTRY_Consumer electronics_count  \\\n",
       "count                                      288028.000000                \n",
       "mean                                            1.183385                \n",
       "std                                             1.458776                \n",
       "min                                             0.000000                \n",
       "25%                                             0.000000                \n",
       "50%                                             1.000000                \n",
       "75%                                             2.000000                \n",
       "max                                            48.000000                \n",
       "\n",
       "       previous_loans_NAME_TYPE_SUITE_Children_count_norm  \\\n",
       "count                                      288028.000000    \n",
       "mean                                            0.021571    \n",
       "std                                             0.099633    \n",
       "min                                             0.000000    \n",
       "25%                                             0.000000    \n",
       "50%                                             0.000000    \n",
       "75%                                             0.000000    \n",
       "max                                             1.000000    \n",
       "\n",
       "       previous_loans_DAYS_FIRST_DRAWING_min  \\\n",
       "count                          287522.000000   \n",
       "mean                           299653.027518   \n",
       "std                            140442.931677   \n",
       "min                             -2921.000000   \n",
       "25%                            365243.000000   \n",
       "50%                            365243.000000   \n",
       "75%                            365243.000000   \n",
       "max                            365243.000000   \n",
       "\n",
       "       previous_loans_CHANNEL_TYPE_Regional / Local_count_norm  \\\n",
       "count                                      288028.000000         \n",
       "mean                                            0.090470         \n",
       "std                                             0.219782         \n",
       "min                                             0.000000         \n",
       "25%                                             0.000000         \n",
       "50%                                             0.000000         \n",
       "75%                                             0.000000         \n",
       "max                                             1.000000         \n",
       "\n",
       "       client_cash_CNT_INSTALMENT_min_min  \\\n",
       "count                       288023.000000   \n",
       "mean                             7.768897   \n",
       "std                              5.641055   \n",
       "min                              1.000000   \n",
       "25%                              4.000000   \n",
       "50%                              6.000000   \n",
       "75%                             10.000000   \n",
       "max                             72.000000   \n",
       "\n",
       "       client_installments_NUM_INSTALMENT_VERSION_sum_min  \\\n",
       "count                                      288028.000000    \n",
       "mean                                            6.604986    \n",
       "std                                             9.650847    \n",
       "min                                             0.000000    \n",
       "25%                                             2.000000    \n",
       "50%                                             6.000000    \n",
       "75%                                             9.000000    \n",
       "max                                          1128.000000    \n",
       "\n",
       "       previous_loans_CODE_REJECT_REASON_LIMIT_count_norm         TARGET  \n",
       "count                                      288028.000000   288028.000000  \n",
       "mean                                            0.024913        0.081534  \n",
       "std                                             0.090935        0.273654  \n",
       "min                                             0.000000        0.000000  \n",
       "25%                                             0.000000        0.000000  \n",
       "50%                                             0.000000        0.000000  \n",
       "75%                                             0.000000        0.000000  \n",
       "max                                             1.000000        1.000000  "
      ],
      "text/html": "<div>\n<style scoped>\n    .dataframe tbody tr th:only-of-type {\n        vertical-align: middle;\n    }\n\n    .dataframe tbody tr th {\n        vertical-align: top;\n    }\n\n    .dataframe thead th {\n        text-align: right;\n    }\n</style>\n<table border=\"1\" class=\"dataframe\">\n  <thead>\n    <tr style=\"text-align: right;\">\n      <th></th>\n      <th>EXT_SOURCE_2</th>\n      <th>client_installments_AMT_PAYMENT_min_sum</th>\n      <th>DAYS_BIRTH</th>\n      <th>AMT_CREDIT</th>\n      <th>AMT_ANNUITY</th>\n      <th>DAYS_EMPLOYED</th>\n      <th>DAYS_ID_PUBLISH</th>\n      <th>previous_loans_CNT_PAYMENT_mean</th>\n      <th>client_cash_CNT_INSTALMENT_FUTURE_min_max</th>\n      <th>CODE_GENDER_F</th>\n      <th>DAYS_REGISTRATION</th>\n      <th>DAYS_LAST_PHONE_CHANGE</th>\n      <th>previous_loans_NAME_CONTRACT_STATUS_Refused_count_norm</th>\n      <th>client_installments_DAYS_INSTALMENT_max_max</th>\n      <th>client_cash_SK_DPD_DEF_sum_max</th>\n      <th>REGION_POPULATION_RELATIVE</th>\n      <th>client_cash_CNT_INSTALMENT_max_mean</th>\n      <th>client_cash_CNT_INSTALMENT_FUTURE_min_mean</th>\n      <th>client_installments_NUM_INSTALMENT_VERSION_mean_max</th>\n      <th>client_installments_AMT_INSTALMENT_max_max</th>\n      <th>client_installments_AMT_PAYMENT_max_min</th>\n      <th>previous_loans_RATE_DOWN_PAYMENT_sum</th>\n      <th>client_installments_AMT_PAYMENT_sum_mean</th>\n      <th>client_installments_AMT_INSTALMENT_min_min</th>\n      <th>previous_loans_SELLERPLACE_AREA_max</th>\n      <th>previous_loans_PRODUCT_COMBINATION_Cash X-Sell: low_count_norm</th>\n      <th>previous_loans_NAME_YIELD_GROUP_high_count_norm</th>\n      <th>previous_loans_CNT_PAYMENT_max</th>\n      <th>previous_loans_DAYS_DECISION_mean</th>\n      <th>previous_loans_DAYS_LAST_DUE_1ST_VERSION_max</th>\n      <th>NAME_EDUCATION_TYPE_Higher education</th>\n      <th>client_cash_MONTHS_BALANCE_sum_mean</th>\n      <th>AMT_INCOME_TOTAL</th>\n      <th>client_cash_CNT_INSTALMENT_max_max</th>\n      <th>previous_loans_CNT_PAYMENT_sum</th>\n      <th>NAME_FAMILY_STATUS_Married</th>\n      <th>client_installments_AMT_INSTALMENT_min_mean</th>\n      <th>client_cash_MONTHS_BALANCE_max_mean</th>\n      <th>client_installments_NUM_INSTALMENT_NUMBER_max_mean</th>\n      <th>client_installments_NUM_INSTALMENT_VERSION_max_mean</th>\n      <th>previous_loans_DAYS_FIRST_DUE_min</th>\n      <th>client_installments_AMT_PAYMENT_mean_sum</th>\n      <th>client_installments_DAYS_ENTRY_PAYMENT_sum_max</th>\n      <th>previous_loans_NAME_YIELD_GROUP_low_action_count_norm</th>\n      <th>previous_loans_HOUR_APPR_PROCESS_START_mean</th>\n      <th>previous_loans_NAME_CONTRACT_STATUS_Approved_count_norm</th>\n      <th>previous_loans_DAYS_DECISION_sum</th>\n      <th>previous_loans_AMT_ANNUITY_mean</th>\n      <th>previous_loans_DAYS_DECISION_max</th>\n      <th>REGION_RATING_CLIENT</th>\n      <th>client_cash_MONTHS_BALANCE_sum_max</th>\n      <th>NAME_CONTRACT_TYPE_Cash loans</th>\n      <th>client_installments_AMT_PAYMENT_sum_min</th>\n      <th>client_installments_DAYS_ENTRY_PAYMENT_max_min</th>\n      <th>client_installments_AMT_INSTALMENT_mean_mean</th>\n      <th>client_installments_DAYS_INSTALMENT_min_max</th>\n      <th>client_installments_AMT_PAYMENT_max_mean</th>\n      <th>previous_loans_PRODUCT_COMBINATION_Cash X-Sell: high_count_norm</th>\n      <th>previous_loans_SELLERPLACE_AREA_min</th>\n      <th>client_installments_AMT_PAYMENT_max_sum</th>\n      <th>client_cash_NAME_CONTRACT_STATUS_Active_count_norm_mean</th>\n      <th>client_installments_AMT_INSTALMENT_min_max</th>\n      <th>previous_loans_NAME_YIELD_GROUP_low_normal_count_norm</th>\n      <th>previous_loans_NAME_PRODUCT_TYPE_walk-in_count_norm</th>\n      <th>client_installments_DAYS_ENTRY_PAYMENT_min_sum</th>\n      <th>DEF_60_CNT_SOCIAL_CIRCLE</th>\n      <th>previous_loans_AMT_ANNUITY_min</th>\n      <th>client_installments_AMT_INSTALMENT_mean_min</th>\n      <th>client_cash_CNT_INSTALMENT_mean_min</th>\n      <th>client_installments_AMT_INSTALMENT_sum_sum</th>\n      <th>client_installments_NUM_INSTALMENT_VERSION_sum_mean</th>\n      <th>previous_loans_DAYS_LAST_DUE_1ST_VERSION_min</th>\n      <th>client_installments_AMT_INSTALMENT_mean_max</th>\n      <th>previous_loans_AMT_GOODS_PRICE_min</th>\n      <th>client_cash_counts_mean</th>\n      <th>client_cash_SK_DPD_max_sum</th>\n      <th>previous_loans_AMT_ANNUITY_max</th>\n      <th>previous_loans_DAYS_LAST_DUE_sum</th>\n      <th>client_installments_AMT_INSTALMENT_min_sum</th>\n      <th>FLAG_DOCUMENT_3</th>\n      <th>previous_loans_NAME_CLIENT_TYPE_Refreshed_count_norm</th>\n      <th>client_cash_CNT_INSTALMENT_FUTURE_min_sum</th>\n      <th>client_cash_CNT_INSTALMENT_min_mean</th>\n      <th>client_cash_NAME_CONTRACT_STATUS_Completed_count_norm_mean</th>\n      <th>HOUR_APPR_PROCESS_START</th>\n      <th>previous_loans_NAME_PRODUCT_TYPE_XNA_count_norm</th>\n      <th>previous_loans_NAME_TYPE_SUITE_Unaccompanied_count_norm</th>\n      <th>previous_loans_NAME_PORTFOLIO_POS_count_norm</th>\n      <th>previous_loans_DAYS_TERMINATION_min</th>\n      <th>previous_loans_AMT_APPLICATION_max</th>\n      <th>DEF_30_CNT_SOCIAL_CIRCLE</th>\n      <th>previous_loans_PRODUCT_COMBINATION_Cash Street: low_count_norm</th>\n      <th>previous_loans_DAYS_FIRST_DUE_mean</th>\n      <th>client_cash_CNT_INSTALMENT_sum_min</th>\n      <th>previous_loans_PRODUCT_COMBINATION_POS industry with interest_count_norm</th>\n      <th>previous_loans_AMT_CREDIT_min</th>\n      <th>client_installments_NUM_INSTALMENT_VERSION_sum_sum</th>\n      <th>NAME_INCOME_TYPE_Working</th>\n      <th>client_cash_counts_sum</th>\n      <th>REG_CITY_NOT_LIVE_CITY</th>\n      <th>previous_loans_NAME_YIELD_GROUP_middle_count_norm</th>\n      <th>FLAG_DOCUMENT_18</th>\n      <th>previous_loans_CODE_REJECT_REASON_HC_count_norm</th>\n      <th>previous_loans_NAME_CLIENT_TYPE_New_count_norm</th>\n      <th>NAME_EDUCATION_TYPE_Secondary / secondary special</th>\n      <th>previous_loans_CHANNEL_TYPE_Channel of corporate sales_count_norm</th>\n      <th>previous_loans_DAYS_FIRST_DUE_sum</th>\n      <th>previous_loans_DAYS_LAST_DUE_1ST_VERSION_mean</th>\n      <th>previous_loans_NAME_GOODS_CATEGORY_Furniture_count_norm</th>\n      <th>previous_loans_HOUR_APPR_PROCESS_START_max</th>\n      <th>client_installments_NUM_INSTALMENT_VERSION_sum_max</th>\n      <th>ORGANIZATION_TYPE_Self-employed</th>\n      <th>client_cash_NAME_CONTRACT_STATUS_Completed_count_sum</th>\n      <th>client_cash_MONTHS_BALANCE_max_sum</th>\n      <th>previous_loans_NAME_PAYMENT_TYPE_XNA_count_norm</th>\n      <th>previous_loans_DAYS_TERMINATION_max</th>\n      <th>previous_loans_AMT_ANNUITY_sum</th>\n      <th>previous_loans_PRODUCT_COMBINATION_Cash X-Sell: middle_count_norm</th>\n      <th>previous_loans_WEEKDAY_APPR_PROCESS_START_THURSDAY_count_norm</th>\n      <th>FLAG_WORK_PHONE</th>\n      <th>previous_loans_WEEKDAY_APPR_PROCESS_START_SUNDAY_count_norm</th>\n      <th>previous_loans_NAME_GOODS_CATEGORY_Photo / Cinema Equipment_count_norm</th>\n      <th>client_cash_CNT_INSTALMENT_FUTURE_max_sum</th>\n      <th>previous_loans_CHANNEL_TYPE_Credit and cash offices_count_norm</th>\n      <th>OCCUPATION_TYPE_Drivers</th>\n      <th>previous_loans_NAME_CONTRACT_STATUS_Canceled_count_norm</th>\n      <th>previous_loans_WEEKDAY_APPR_PROCESS_START_MONDAY_count_norm</th>\n      <th>previous_loans_HOUR_APPR_PROCESS_START_min</th>\n      <th>previous_loans_CHANNEL_TYPE_AP+ (Cash loan)_count_norm</th>\n      <th>client_cash_SK_DPD_mean_min</th>\n      <th>NAME_INCOME_TYPE_State servant</th>\n      <th>client_installments_NUM_INSTALMENT_VERSION_mean_sum</th>\n      <th>ORGANIZATION_TYPE_Construction</th>\n      <th>previous_loans_NFLAG_INSURED_ON_APPROVAL_mean</th>\n      <th>previous_loans_NAME_GOODS_CATEGORY_Audio/Video_count_norm</th>\n      <th>client_cash_NAME_CONTRACT_STATUS_Completed_count_norm_max</th>\n      <th>previous_loans_CHANNEL_TYPE_Contact center_count_norm</th>\n      <th>previous_loans_NAME_SELLER_INDUSTRY_Connectivity_count_norm</th>\n      <th>previous_loans_NAME_PORTFOLIO_Cash_count_norm</th>\n      <th>previous_loans_NAME_YIELD_GROUP_XNA_count_norm</th>\n      <th>previous_loans_NAME_PRODUCT_TYPE_x-sell_count_norm</th>\n      <th>client_installments_AMT_INSTALMENT_sum_max</th>\n      <th>previous_loans_WEEKDAY_APPR_PROCESS_START_SATURDAY_count_norm</th>\n      <th>client_cash_NAME_CONTRACT_STATUS_Active_count_min</th>\n      <th>client_installments_NUM_INSTALMENT_NUMBER_sum_min</th>\n      <th>previous_loans_AMT_GOODS_PRICE_mean</th>\n      <th>client_cash_NAME_CONTRACT_STATUS_Signed_count_mean</th>\n      <th>previous_loans_DAYS_TERMINATION_mean</th>\n      <th>previous_loans_CODE_REJECT_REASON_SCO_count_norm</th>\n      <th>previous_loans_PRODUCT_COMBINATION_Cash Street: high_count_norm</th>\n      <th>previous_loans_NAME_GOODS_CATEGORY_Computers_count_norm</th>\n      <th>previous_loans_CHANNEL_TYPE_Country-wide_count_norm</th>\n      <th>client_cash_NAME_CONTRACT_STATUS_Signed_count_sum</th>\n      <th>client_cash_NAME_CONTRACT_STATUS_Active_count_max</th>\n      <th>OCCUPATION_TYPE_Laborers</th>\n      <th>ORGANIZATION_TYPE_Industry: type 9</th>\n      <th>OCCUPATION_TYPE_Core staff</th>\n      <th>client_installments_NUM_INSTALMENT_NUMBER_mean_min</th>\n      <th>previous_loans_NAME_GOODS_CATEGORY_Clothing and Accessories_count_norm</th>\n      <th>ORGANIZATION_TYPE_Business Entity Type 3</th>\n      <th>previous_loans_DAYS_FIRST_DRAWING_mean</th>\n      <th>client_cash_SK_DPD_DEF_sum_min</th>\n      <th>FLAG_DOCUMENT_16</th>\n      <th>previous_loans_NAME_GOODS_CATEGORY_Consumer Electronics_count_norm</th>\n      <th>FLAG_DOCUMENT_13</th>\n      <th>ORGANIZATION_TYPE_Military</th>\n      <th>client_cash_NAME_CONTRACT_STATUS_Returned to the store_count_sum</th>\n      <th>client_installments_NUM_INSTALMENT_NUMBER_min_mean</th>\n      <th>ORGANIZATION_TYPE_Transport: type 3</th>\n      <th>previous_loans_NAME_TYPE_SUITE_Family_count_norm</th>\n      <th>previous_loans_CHANNEL_TYPE_Stone_count_norm</th>\n      <th>previous_loans_NAME_SELLER_INDUSTRY_Consumer electronics_count_norm</th>\n      <th>client_installments_NUM_INSTALMENT_VERSION_mean_min</th>\n      <th>previous_loans_NAME_CONTRACT_TYPE_Cash loans_count_norm</th>\n      <th>previous_loans_NAME_PAYMENT_TYPE_Cash through the bank_count</th>\n      <th>client_cash_NAME_CONTRACT_STATUS_Signed_count_norm_mean</th>\n      <th>client_installments_NUM_INSTALMENT_VERSION_min_sum</th>\n      <th>previous_loans_CODE_REJECT_REASON_CLIENT_count_norm</th>\n      <th>previous_loans_NAME_PORTFOLIO_XNA_count_norm</th>\n      <th>previous_loans_PRODUCT_COMBINATION_Card X-Sell_count_norm</th>\n      <th>previous_loans_CNT_PAYMENT_min</th>\n      <th>previous_loans_WEEKDAY_APPR_PROCESS_START_FRIDAY_count_norm</th>\n      <th>client_cash_NAME_CONTRACT_STATUS_Signed_count_norm_max</th>\n      <th>previous_loans_WEEKDAY_APPR_PROCESS_START_TUESDAY_count_norm</th>\n      <th>previous_loans_NAME_SELLER_INDUSTRY_Construction_count_norm</th>\n      <th>previous_loans_NAME_SELLER_INDUSTRY_Furniture_count_norm</th>\n      <th>previous_loans_NAME_SELLER_INDUSTRY_Connectivity_count</th>\n      <th>previous_loans_PRODUCT_COMBINATION_Cash Street: middle_count_norm</th>\n      <th>previous_loans_NAME_YIELD_GROUP_high_count</th>\n      <th>previous_loans_PRODUCT_COMBINATION_POS mobile with interest_count_norm</th>\n      <th>previous_loans_PRODUCT_COMBINATION_POS industry without interest_count_norm</th>\n      <th>previous_loans_PRODUCT_COMBINATION_POS household with interest_count_norm</th>\n      <th>ORGANIZATION_TYPE_School</th>\n      <th>previous_loans_NAME_CASH_LOAN_PURPOSE_Repairs_count_norm</th>\n      <th>FLAG_PHONE</th>\n      <th>previous_loans_PRODUCT_COMBINATION_Cash_count_norm</th>\n      <th>CNT_FAM_MEMBERS</th>\n      <th>client_cash_NAME_CONTRACT_STATUS_Active_count_norm_min</th>\n      <th>WALLSMATERIAL_MODE_Panel</th>\n      <th>ORGANIZATION_TYPE_Bank</th>\n      <th>previous_loans_PRODUCT_COMBINATION_POS household without interest_count_norm</th>\n      <th>client_installments_NUM_INSTALMENT_NUMBER_min_max</th>\n      <th>previous_loans_WEEKDAY_APPR_PROCESS_START_WEDNESDAY_count_norm</th>\n      <th>previous_loans_WEEKDAY_APPR_PROCESS_START_WEDNESDAY_count</th>\n      <th>client_cash_NAME_CONTRACT_STATUS_Completed_count_norm_sum</th>\n      <th>previous_loans_NAME_CLIENT_TYPE_Repeater_count</th>\n      <th>previous_loans_NAME_PRODUCT_TYPE_XNA_count</th>\n      <th>previous_loans_NAME_GOODS_CATEGORY_Mobile_count_norm</th>\n      <th>previous_loans_CODE_REJECT_REASON_VERIF_count_norm</th>\n      <th>client_cash_NAME_CONTRACT_STATUS_Completed_count_norm_min</th>\n      <th>previous_loans_NAME_SELLER_INDUSTRY_Consumer electronics_count</th>\n      <th>previous_loans_NAME_TYPE_SUITE_Children_count_norm</th>\n      <th>previous_loans_DAYS_FIRST_DRAWING_min</th>\n      <th>previous_loans_CHANNEL_TYPE_Regional / Local_count_norm</th>\n      <th>client_cash_CNT_INSTALMENT_min_min</th>\n      <th>client_installments_NUM_INSTALMENT_VERSION_sum_min</th>\n      <th>previous_loans_CODE_REJECT_REASON_LIMIT_count_norm</th>\n      <th>TARGET</th>\n    </tr>\n  </thead>\n  <tbody>\n    <tr>\n      <th>count</th>\n      <td>2.874500e+05</td>\n      <td>2.880280e+05</td>\n      <td>288028.000000</td>\n      <td>2.880280e+05</td>\n      <td>288016.000000</td>\n      <td>288028.000000</td>\n      <td>288028.000000</td>\n      <td>287917.000000</td>\n      <td>288023.000000</td>\n      <td>288028.000000</td>\n      <td>288028.000000</td>\n      <td>288028.000000</td>\n      <td>288028.000000</td>\n      <td>288028.000000</td>\n      <td>288028.000000</td>\n      <td>288028.000000</td>\n      <td>288023.000000</td>\n      <td>288023.000000</td>\n      <td>288028.000000</td>\n      <td>2.880280e+05</td>\n      <td>2.880210e+05</td>\n      <td>288028.000000</td>\n      <td>2.880280e+05</td>\n      <td>2.880280e+05</td>\n      <td>2.880280e+05</td>\n      <td>288028.000000</td>\n      <td>288028.000000</td>\n      <td>287917.000000</td>\n      <td>288028.000000</td>\n      <td>287522.000000</td>\n      <td>288028.000000</td>\n      <td>288028.000000</td>\n      <td>2.880280e+05</td>\n      <td>288023.000000</td>\n      <td>288028.000000</td>\n      <td>288028.000000</td>\n      <td>2.880280e+05</td>\n      <td>288028.000000</td>\n      <td>288028.000000</td>\n      <td>288028.000000</td>\n      <td>287522.000000</td>\n      <td>2.880280e+05</td>\n      <td>288028.000000</td>\n      <td>288028.000000</td>\n      <td>288028.000000</td>\n      <td>288028.000000</td>\n      <td>288028.000000</td>\n      <td>287915.000000</td>\n      <td>288028.000000</td>\n      <td>288028.000000</td>\n      <td>288028.000000</td>\n      <td>288028.000000</td>\n      <td>2.880280e+05</td>\n      <td>288021.000000</td>\n      <td>2.880280e+05</td>\n      <td>288028.000000</td>\n      <td>2.880210e+05</td>\n      <td>288028.000000</td>\n      <td>2.880280e+05</td>\n      <td>2.880280e+05</td>\n      <td>288028.000000</td>\n      <td>2.880280e+05</td>\n      <td>288028.000000</td>\n      <td>288028.000000</td>\n      <td>288028.000000</td>\n      <td>287255.000000</td>\n      <td>287915.000000</td>\n      <td>2.880280e+05</td>\n      <td>288023.000000</td>\n      <td>2.880280e+05</td>\n      <td>288028.000000</td>\n      <td>287522.000000</td>\n      <td>2.880280e+05</td>\n      <td>2.874930e+05</td>\n      <td>288028.000000</td>\n      <td>288028.000000</td>\n      <td>287915.000000</td>\n      <td>2.880280e+05</td>\n      <td>2.880280e+05</td>\n      <td>288028.000000</td>\n      <td>288028.000000</td>\n      <td>288028.000000</td>\n      <td>288023.000000</td>\n      <td>288028.000000</td>\n      <td>288028.000000</td>\n      <td>288028.000000</td>\n      <td>288028.000000</td>\n      <td>288028.000000</td>\n      <td>287522.000000</td>\n      <td>2.880280e+05</td>\n      <td>287255.000000</td>\n      <td>288028.000000</td>\n      <td>287522.000000</td>\n      <td>288028.000000</td>\n      <td>288028.000000</td>\n      <td>2.880280e+05</td>\n      <td>288028.000000</td>\n      <td>288028.000000</td>\n      <td>288028.000000</td>\n      <td>288028.000000</td>\n      <td>288028.000000</td>\n      <td>288028.000000</td>\n      <td>288028.000000</td>\n      <td>288028.000000</td>\n      <td>288028.000000</td>\n      <td>288028.000000</td>\n      <td>2.880280e+05</td>\n      <td>287522.000000</td>\n      <td>288028.000000</td>\n      <td>288028.000000</td>\n      <td>288028.000000</td>\n      <td>288028.000000</td>\n      <td>288028.000000</td>\n      <td>288028.000000</td>\n      <td>288028.000000</td>\n      <td>287522.000000</td>\n      <td>2.880280e+05</td>\n      <td>288028.000000</td>\n      <td>288028.000000</td>\n      <td>288028.000000</td>\n      <td>288028.000000</td>\n      <td>288028.000000</td>\n      <td>288028.000000</td>\n      <td>288028.000000</td>\n      <td>288028.000000</td>\n      <td>288028.000000</td>\n      <td>288028.000000</td>\n      <td>288028.000000</td>\n      <td>288028.000000</td>\n      <td>288028.000000</td>\n      <td>288028.000000</td>\n      <td>288028.000000</td>\n      <td>288028.000000</td>\n      <td>287522.000000</td>\n      <td>288028.000000</td>\n      <td>288028.000000</td>\n      <td>288028.000000</td>\n      <td>288028.000000</td>\n      <td>288028.000000</td>\n      <td>288028.000000</td>\n      <td>288028.000000</td>\n      <td>2.880280e+05</td>\n      <td>288028.000000</td>\n      <td>288028.000000</td>\n      <td>288028.000000</td>\n      <td>2.874930e+05</td>\n      <td>288028.000000</td>\n      <td>287522.000000</td>\n      <td>288028.000000</td>\n      <td>288028.000000</td>\n      <td>288028.000000</td>\n      <td>288028.000000</td>\n      <td>288028.000000</td>\n      <td>288028.000000</td>\n      <td>288028.000000</td>\n      <td>288028.000000</td>\n      <td>288028.000000</td>\n      <td>288028.000000</td>\n      <td>288028.000000</td>\n      <td>288028.000000</td>\n      <td>287522.000000</td>\n      <td>288028.000000</td>\n      <td>288028.000000</td>\n      <td>288028.000000</td>\n      <td>288028.000000</td>\n      <td>288028.000000</td>\n      <td>288028.000000</td>\n      <td>288028.000000</td>\n      <td>288028.000000</td>\n      <td>288028.000000</td>\n      <td>288028.000000</td>\n      <td>288028.000000</td>\n      <td>288028.000000</td>\n      <td>288028.000000</td>\n      <td>288028.000000</td>\n      <td>288028.000000</td>\n      <td>288028.000000</td>\n      <td>288028.000000</td>\n      <td>288028.000000</td>\n      <td>288028.000000</td>\n      <td>287917.000000</td>\n      <td>288028.000000</td>\n      <td>288028.000000</td>\n      <td>288028.000000</td>\n      <td>288028.000000</td>\n      <td>288028.000000</td>\n      <td>288028.000000</td>\n      <td>288028.000000</td>\n      <td>288028.000000</td>\n      <td>288028.000000</td>\n      <td>288028.000000</td>\n      <td>288028.000000</td>\n      <td>288028.000000</td>\n      <td>288028.000000</td>\n      <td>288028.000000</td>\n      <td>288028.000000</td>\n      <td>288028.000000</td>\n      <td>288028.000000</td>\n      <td>288028.000000</td>\n      <td>288028.000000</td>\n      <td>288028.000000</td>\n      <td>288028.000000</td>\n      <td>288028.000000</td>\n      <td>288028.000000</td>\n      <td>288028.000000</td>\n      <td>288028.000000</td>\n      <td>288028.000000</td>\n      <td>288028.000000</td>\n      <td>288028.000000</td>\n      <td>288028.000000</td>\n      <td>288028.000000</td>\n      <td>288028.000000</td>\n      <td>287522.000000</td>\n      <td>288028.000000</td>\n      <td>288023.000000</td>\n      <td>288028.000000</td>\n      <td>288028.000000</td>\n      <td>288028.000000</td>\n    </tr>\n    <tr>\n      <th>mean</th>\n      <td>5.128406e-01</td>\n      <td>2.902180e+05</td>\n      <td>-16053.658998</td>\n      <td>5.910758e+05</td>\n      <td>27002.870169</td>\n      <td>64221.121794</td>\n      <td>-2994.515401</td>\n      <td>14.589654</td>\n      <td>5.759821</td>\n      <td>0.662595</td>\n      <td>-4995.141938</td>\n      <td>-999.214542</td>\n      <td>0.109721</td>\n      <td>-313.441641</td>\n      <td>15.071271</td>\n      <td>0.020642</td>\n      <td>15.126467</td>\n      <td>2.080551</td>\n      <td>1.418295</td>\n      <td>1.374010e+05</td>\n      <td>2.019800e+04</td>\n      <td>0.184592</td>\n      <td>2.522722e+05</td>\n      <td>7.024787e+03</td>\n      <td>9.753370e+02</td>\n      <td>0.053489</td>\n      <td>0.239508</td>\n      <td>24.208935</td>\n      <td>-921.697301</td>\n      <td>97248.445729</td>\n      <td>0.233061</td>\n      <td>-387.022802</td>\n      <td>1.670714e+05</td>\n      <td>20.479649</td>\n      <td>61.451064</td>\n      <td>0.640406</td>\n      <td>1.216539e+04</td>\n      <td>-26.026582</td>\n      <td>18.941895</td>\n      <td>1.455883</td>\n      <td>-1328.449364</td>\n      <td>6.835042e+05</td>\n      <td>-4914.632949</td>\n      <td>0.068914</td>\n      <td>12.660901</td>\n      <td>0.751378</td>\n      <td>-4306.705786</td>\n      <td>14561.094307</td>\n      <td>-479.456161</td>\n      <td>2.059991</td>\n      <td>-178.529115</td>\n      <td>0.908596</td>\n      <td>9.237188e+04</td>\n      <td>-1308.244173</td>\n      <td>1.852660e+04</td>\n      <td>-605.576500</td>\n      <td>6.149565e+04</td>\n      <td>0.027887</td>\n      <td>1.699417e+02</td>\n      <td>3.099868e+06</td>\n      <td>0.905412</td>\n      <td>2.956870e+04</td>\n      <td>0.211489</td>\n      <td>0.077264</td>\n      <td>-56730.443127</td>\n      <td>0.101185</td>\n      <td>7854.939571</td>\n      <td>1.031675e+04</td>\n      <td>9.383899</td>\n      <td>1.530039e+07</td>\n      <td>12.794459</td>\n      <td>-247.501172</td>\n      <td>4.592630e+04</td>\n      <td>7.875867e+04</td>\n      <td>12.113848</td>\n      <td>763.497382</td>\n      <td>23814.461723</td>\n      <td>2.247279e+05</td>\n      <td>4.088875e+05</td>\n      <td>0.719989</td>\n      <td>0.099342</td>\n      <td>66.098185</td>\n      <td>12.614190</td>\n      <td>0.082369</td>\n      <td>12.015887</td>\n      <td>0.717475</td>\n      <td>0.284972</td>\n      <td>0.568112</td>\n      <td>25007.974517</td>\n      <td>3.761707e+05</td>\n      <td>0.144847</td>\n      <td>0.013975</td>\n      <td>11035.058714</td>\n      <td>94.633796</td>\n      <td>0.087309</td>\n      <td>4.836586e+04</td>\n      <td>532.584995</td>\n      <td>0.523414</td>\n      <td>445.190836</td>\n      <td>0.077951</td>\n      <td>0.256702</td>\n      <td>0.004434</td>\n      <td>0.059065</td>\n      <td>0.348953</td>\n      <td>0.720301</td>\n      <td>0.003084</td>\n      <td>3.938793e+04</td>\n      <td>28150.601412</td>\n      <td>0.046639</td>\n      <td>14.781330</td>\n      <td>18.675125</td>\n      <td>0.127366</td>\n      <td>33.081721</td>\n      <td>-823.377345</td>\n      <td>0.307390</td>\n      <td>187488.746378</td>\n      <td>6.061784e+04</td>\n      <td>0.063037</td>\n      <td>0.144996</td>\n      <td>0.198644</td>\n      <td>0.113612</td>\n      <td>0.018736</td>\n      <td>510.034615</td>\n      <td>0.294388</td>\n      <td>0.060900</td>\n      <td>0.124098</td>\n      <td>0.145444</td>\n      <td>10.715555</td>\n      <td>0.028932</td>\n      <td>0.880746</td>\n      <td>0.071139</td>\n      <td>34.226280</td>\n      <td>0.021835</td>\n      <td>0.279634</td>\n      <td>0.079177</td>\n      <td>0.150298</td>\n      <td>0.036102</td>\n      <td>0.209353</td>\n      <td>0.208183</td>\n      <td>0.223386</td>\n      <td>0.205261</td>\n      <td>3.893470e+05</td>\n      <td>0.154397</td>\n      <td>6.864020</td>\n      <td>42.039892</td>\n      <td>1.937723e+05</td>\n      <td>0.098263</td>\n      <td>85247.799034</td>\n      <td>0.016344</td>\n      <td>0.032262</td>\n      <td>0.085832</td>\n      <td>0.370708</td>\n      <td>2.884292</td>\n      <td>13.409422</td>\n      <td>0.181232</td>\n      <td>0.010947</td>\n      <td>0.088096</td>\n      <td>4.022336</td>\n      <td>0.021525</td>\n      <td>0.219333</td>\n      <td>345307.644503</td>\n      <td>0.806685</td>\n      <td>0.005861</td>\n      <td>0.097979</td>\n      <td>0.001986</td>\n      <td>0.008635</td>\n      <td>0.135695</td>\n      <td>1.199208</td>\n      <td>0.003975</td>\n      <td>0.147696</td>\n      <td>0.175979</td>\n      <td>0.303516</td>\n      <td>0.854218</td>\n      <td>0.317272</td>\n      <td>3.056873</td>\n      <td>0.010551</td>\n      <td>28.394132</td>\n      <td>0.014803</td>\n      <td>0.149044</td>\n      <td>0.038974</td>\n      <td>6.802460</td>\n      <td>0.147239</td>\n      <td>0.030208</td>\n      <td>0.146911</td>\n      <td>0.026431</td>\n      <td>0.049857</td>\n      <td>0.824271</td>\n      <td>0.017534</td>\n      <td>1.060515</td>\n      <td>0.169564</td>\n      <td>0.011469</td>\n      <td>0.208442</td>\n      <td>0.029341</td>\n      <td>0.011418</td>\n      <td>0.282136</td>\n      <td>0.109089</td>\n      <td>2.160995</td>\n      <td>0.825796</td>\n      <td>0.211757</td>\n      <td>0.007610</td>\n      <td>0.066680</td>\n      <td>1.519918</td>\n      <td>0.147400</td>\n      <td>0.744046</td>\n      <td>2.192214</td>\n      <td>3.592560</td>\n      <td>3.112829</td>\n      <td>0.175195</td>\n      <td>0.001471</td>\n      <td>0.046260</td>\n      <td>1.183385</td>\n      <td>0.021571</td>\n      <td>299653.027518</td>\n      <td>0.090470</td>\n      <td>7.768897</td>\n      <td>6.604986</td>\n      <td>0.024913</td>\n      <td>0.081534</td>\n    </tr>\n    <tr>\n      <th>std</th>\n      <td>1.912623e-01</td>\n      <td>3.956778e+05</td>\n      <td>4360.683398</td>\n      <td>3.915495e+05</td>\n      <td>14099.168768</td>\n      <td>141629.659302</td>\n      <td>1509.945327</td>\n      <td>8.342023</td>\n      <td>10.914781</td>\n      <td>0.472825</td>\n      <td>3518.776704</td>\n      <td>813.358582</td>\n      <td>0.181585</td>\n      <td>523.540652</td>\n      <td>1299.682147</td>\n      <td>0.013589</td>\n      <td>8.256137</td>\n      <td>4.340436</td>\n      <td>0.929286</td>\n      <td>2.466439e+05</td>\n      <td>6.243180e+04</td>\n      <td>0.236513</td>\n      <td>3.081883e+05</td>\n      <td>1.435389e+04</td>\n      <td>1.692721e+04</td>\n      <td>0.117999</td>\n      <td>0.293028</td>\n      <td>16.664370</td>\n      <td>573.887156</td>\n      <td>161558.708000</td>\n      <td>0.422781</td>\n      <td>367.408470</td>\n      <td>2.410665e+05</td>\n      <td>13.959060</td>\n      <td>74.381162</td>\n      <td>0.479882</td>\n      <td>1.622841e+04</td>\n      <td>19.845746</td>\n      <td>22.696401</td>\n      <td>1.180412</td>\n      <td>7961.735690</td>\n      <td>9.186214e+05</td>\n      <td>7146.008999</td>\n      <td>0.184589</td>\n      <td>2.772652</td>\n      <td>0.259351</td>\n      <td>4248.174934</td>\n      <td>9981.867653</td>\n      <td>535.889536</td>\n      <td>0.506929</td>\n      <td>250.053163</td>\n      <td>0.288184</td>\n      <td>1.559576e+05</td>\n      <td>915.382677</td>\n      <td>2.337045e+04</td>\n      <td>573.622462</td>\n      <td>1.065125e+05</td>\n      <td>0.089560</td>\n      <td>1.060700e+04</td>\n      <td>6.617260e+06</td>\n      <td>0.071659</td>\n      <td>8.525189e+04</td>\n      <td>0.275777</td>\n      <td>0.176496</td>\n      <td>88267.368214</td>\n      <td>0.364501</td>\n      <td>7455.119840</td>\n      <td>1.876896e+04</td>\n      <td>6.119314</td>\n      <td>3.407316e+07</td>\n      <td>15.239638</td>\n      <td>18233.393470</td>\n      <td>9.947199e+04</td>\n      <td>1.083851e+05</td>\n      <td>6.966541</td>\n      <td>10904.970990</td>\n      <td>19170.893583</td>\n      <td>2.699532e+05</td>\n      <td>5.211260e+05</td>\n      <td>0.449005</td>\n      <td>0.209001</td>\n      <td>149.671654</td>\n      <td>7.079913</td>\n      <td>0.060806</td>\n      <td>3.263713</td>\n      <td>0.283649</td>\n      <td>0.295979</td>\n      <td>0.345949</td>\n      <td>94601.790333</td>\n      <td>4.220413e+05</td>\n      <td>0.449359</td>\n      <td>0.074762</td>\n      <td>37528.490895</td>\n      <td>139.335385</td>\n      <td>0.216444</td>\n      <td>9.585964e+04</td>\n      <td>1030.562008</td>\n      <td>0.499452</td>\n      <td>692.957602</td>\n      <td>0.268095</td>\n      <td>0.293958</td>\n      <td>0.066438</td>\n      <td>0.131254</td>\n      <td>0.340075</td>\n      <td>0.448852</td>\n      <td>0.044419</td>\n      <td>1.206548e+05</td>\n      <td>54596.483673</td>\n      <td>0.159853</td>\n      <td>3.179048</td>\n      <td>24.443709</td>\n      <td>0.333383</td>\n      <td>225.348638</td>\n      <td>920.567320</td>\n      <td>0.294689</td>\n      <td>182833.996760</td>\n      <td>7.300910e+04</td>\n      <td>0.134085</td>\n      <td>0.234803</td>\n      <td>0.398980</td>\n      <td>0.224318</td>\n      <td>0.092546</td>\n      <td>592.316860</td>\n      <td>0.328434</td>\n      <td>0.239148</td>\n      <td>0.184870</td>\n      <td>0.235125</td>\n      <td>3.089000</td>\n      <td>0.120717</td>\n      <td>25.531169</td>\n      <td>0.257057</td>\n      <td>37.058096</td>\n      <td>0.146144</td>\n      <td>0.317678</td>\n      <td>0.191651</td>\n      <td>0.131617</td>\n      <td>0.109901</td>\n      <td>0.303150</td>\n      <td>0.254972</td>\n      <td>0.236287</td>\n      <td>0.242386</td>\n      <td>4.665681e+05</td>\n      <td>0.250246</td>\n      <td>5.150512</td>\n      <td>134.114169</td>\n      <td>1.913972e+05</td>\n      <td>0.348851</td>\n      <td>108023.600508</td>\n      <td>0.069617</td>\n      <td>0.119121</td>\n      <td>0.203437</td>\n      <td>0.358618</td>\n      <td>16.843714</td>\n      <td>7.911249</td>\n      <td>0.385211</td>\n      <td>0.104053</td>\n      <td>0.283434</td>\n      <td>2.742099</td>\n      <td>0.112894</td>\n      <td>0.413795</td>\n      <td>48424.320254</td>\n      <td>290.146670</td>\n      <td>0.076330</td>\n      <td>0.213867</td>\n      <td>0.044519</td>\n      <td>0.092521</td>\n      <td>1.367152</td>\n      <td>1.487203</td>\n      <td>0.062925</td>\n      <td>0.248847</td>\n      <td>0.288443</td>\n      <td>0.337031</td>\n      <td>0.538664</td>\n      <td>0.319502</td>\n      <td>2.676756</td>\n      <td>0.031519</td>\n      <td>24.374699</td>\n      <td>0.066602</td>\n      <td>0.198270</td>\n      <td>0.092504</td>\n      <td>7.018615</td>\n      <td>0.235901</td>\n      <td>0.086742</td>\n      <td>0.235144</td>\n      <td>0.123989</td>\n      <td>0.166222</td>\n      <td>1.243196</td>\n      <td>0.085399</td>\n      <td>1.407571</td>\n      <td>0.273867</td>\n      <td>0.081418</td>\n      <td>0.293589</td>\n      <td>0.168761</td>\n      <td>0.069724</td>\n      <td>0.450040</td>\n      <td>0.172954</td>\n      <td>0.914241</td>\n      <td>0.154219</td>\n      <td>0.408554</td>\n      <td>0.086905</td>\n      <td>0.181362</td>\n      <td>2.401421</td>\n      <td>0.235957</td>\n      <td>1.238639</td>\n      <td>3.087254</td>\n      <td>4.179634</td>\n      <td>2.601644</td>\n      <td>0.276499</td>\n      <td>0.019346</td>\n      <td>0.064273</td>\n      <td>1.458776</td>\n      <td>0.099633</td>\n      <td>140442.931677</td>\n      <td>0.219782</td>\n      <td>5.641055</td>\n      <td>9.650847</td>\n      <td>0.090935</td>\n      <td>0.273654</td>\n    </tr>\n    <tr>\n      <th>min</th>\n      <td>8.173617e-08</td>\n      <td>0.000000e+00</td>\n      <td>-25201.000000</td>\n      <td>4.500000e+04</td>\n      <td>1615.500000</td>\n      <td>-17912.000000</td>\n      <td>-7197.000000</td>\n      <td>0.000000</td>\n      <td>0.000000</td>\n      <td>0.000000</td>\n      <td>-24672.000000</td>\n      <td>-4292.000000</td>\n      <td>0.000000</td>\n      <td>-2922.000000</td>\n      <td>0.000000</td>\n      <td>0.000290</td>\n      <td>1.000000</td>\n      <td>0.000000</td>\n      <td>0.000000</td>\n      <td>0.000000e+00</td>\n      <td>4.500000e-02</td>\n      <td>-0.000015</td>\n      <td>0.000000e+00</td>\n      <td>0.000000e+00</td>\n      <td>-1.000000e+00</td>\n      <td>0.000000</td>\n      <td>0.000000</td>\n      <td>0.000000</td>\n      <td>-2922.000000</td>\n      <td>-2798.000000</td>\n      <td>0.000000</td>\n      <td>-4656.000000</td>\n      <td>2.565000e+04</td>\n      <td>1.000000</td>\n      <td>0.000000</td>\n      <td>0.000000</td>\n      <td>0.000000e+00</td>\n      <td>-96.000000</td>\n      <td>1.000000</td>\n      <td>0.000000</td>\n      <td>-2892.000000</td>\n      <td>0.000000e+00</td>\n      <td>-249117.000000</td>\n      <td>0.000000</td>\n      <td>0.000000</td>\n      <td>0.000000</td>\n      <td>-83976.000000</td>\n      <td>585.855000</td>\n      <td>-2922.000000</td>\n      <td>1.000000</td>\n      <td>-4656.000000</td>\n      <td>0.000000</td>\n      <td>0.000000e+00</td>\n      <td>-3071.000000</td>\n      <td>0.000000e+00</td>\n      <td>-2922.000000</td>\n      <td>3.132000e+01</td>\n      <td>0.000000</td>\n      <td>-1.000000e+00</td>\n      <td>0.000000e+00</td>\n      <td>0.000000</td>\n      <td>0.000000e+00</td>\n      <td>0.000000</td>\n      <td>0.000000</td>\n      <td>-884289.000000</td>\n      <td>0.000000</td>\n      <td>0.000000</td>\n      <td>0.000000e+00</td>\n      <td>1.000000</td>\n      <td>0.000000e+00</td>\n      <td>0.000000</td>\n      <td>-2801.000000</td>\n      <td>0.000000e+00</td>\n      <td>0.000000e+00</td>\n      <td>1.000000</td>\n      <td>0.000000</td>\n      <td>585.855000</td>\n      <td>-3.287600e+04</td>\n      <td>0.000000e+00</td>\n      <td>0.000000</td>\n      <td>0.000000</td>\n      <td>0.000000</td>\n      <td>1.000000</td>\n      <td>0.000000</td>\n      <td>0.000000</td>\n      <td>0.000000</td>\n      <td>0.000000</td>\n      <td>0.000000</td>\n      <td>-2874.000000</td>\n      <td>0.000000e+00</td>\n      <td>0.000000</td>\n      <td>0.000000</td>\n      <td>-2891.000000</td>\n      <td>0.000000</td>\n      <td>0.000000</td>\n      <td>0.000000e+00</td>\n      <td>0.000000</td>\n      <td>0.000000</td>\n      <td>1.000000</td>\n      <td>0.000000</td>\n      <td>0.000000</td>\n      <td>0.000000</td>\n      <td>0.000000</td>\n      <td>0.000000</td>\n      <td>0.000000</td>\n      <td>0.000000</td>\n      <td>-4.242300e+04</td>\n      <td>-2798.000000</td>\n      <td>0.000000</td>\n      <td>0.000000</td>\n      <td>0.000000</td>\n      <td>0.000000</td>\n      <td>0.000000</td>\n      <td>-11723.000000</td>\n      <td>0.000000</td>\n      <td>-2852.000000</td>\n      <td>0.000000e+00</td>\n      <td>0.000000</td>\n      <td>0.000000</td>\n      <td>0.000000</td>\n      <td>0.000000</td>\n      <td>0.000000</td>\n      <td>0.000000</td>\n      <td>0.000000</td>\n      <td>0.000000</td>\n      <td>0.000000</td>\n      <td>0.000000</td>\n      <td>0.000000</td>\n      <td>0.000000</td>\n      <td>0.000000</td>\n      <td>0.000000</td>\n      <td>0.000000</td>\n      <td>0.000000</td>\n      <td>0.000000</td>\n      <td>0.000000</td>\n      <td>0.000000</td>\n      <td>0.000000</td>\n      <td>0.000000</td>\n      <td>0.000000</td>\n      <td>0.000000</td>\n      <td>0.000000</td>\n      <td>0.000000e+00</td>\n      <td>0.000000</td>\n      <td>0.000000</td>\n      <td>1.000000</td>\n      <td>0.000000e+00</td>\n      <td>0.000000</td>\n      <td>-2852.000000</td>\n      <td>0.000000</td>\n      <td>0.000000</td>\n      <td>0.000000</td>\n      <td>0.000000</td>\n      <td>0.000000</td>\n      <td>0.000000</td>\n      <td>0.000000</td>\n      <td>0.000000</td>\n      <td>0.000000</td>\n      <td>1.000000</td>\n      <td>0.000000</td>\n      <td>0.000000</td>\n      <td>-2916.000000</td>\n      <td>0.000000</td>\n      <td>0.000000</td>\n      <td>0.000000</td>\n      <td>0.000000</td>\n      <td>0.000000</td>\n      <td>0.000000</td>\n      <td>1.000000</td>\n      <td>0.000000</td>\n      <td>0.000000</td>\n      <td>0.000000</td>\n      <td>0.000000</td>\n      <td>0.000000</td>\n      <td>0.000000</td>\n      <td>0.000000</td>\n      <td>0.000000</td>\n      <td>0.000000</td>\n      <td>0.000000</td>\n      <td>0.000000</td>\n      <td>0.000000</td>\n      <td>0.000000</td>\n      <td>0.000000</td>\n      <td>0.000000</td>\n      <td>0.000000</td>\n      <td>0.000000</td>\n      <td>0.000000</td>\n      <td>0.000000</td>\n      <td>0.000000</td>\n      <td>0.000000</td>\n      <td>0.000000</td>\n      <td>0.000000</td>\n      <td>0.000000</td>\n      <td>0.000000</td>\n      <td>0.000000</td>\n      <td>0.000000</td>\n      <td>0.000000</td>\n      <td>1.000000</td>\n      <td>0.000000</td>\n      <td>0.000000</td>\n      <td>0.000000</td>\n      <td>0.000000</td>\n      <td>1.000000</td>\n      <td>0.000000</td>\n      <td>0.000000</td>\n      <td>0.000000</td>\n      <td>0.000000</td>\n      <td>0.000000</td>\n      <td>0.000000</td>\n      <td>0.000000</td>\n      <td>0.000000</td>\n      <td>0.000000</td>\n      <td>0.000000</td>\n      <td>-2921.000000</td>\n      <td>0.000000</td>\n      <td>1.000000</td>\n      <td>0.000000</td>\n      <td>0.000000</td>\n      <td>0.000000</td>\n    </tr>\n    <tr>\n      <th>25%</th>\n      <td>3.900317e-01</td>\n      <td>6.426400e+04</td>\n      <td>-19695.000000</td>\n      <td>2.700000e+05</td>\n      <td>16573.500000</td>\n      <td>-2774.000000</td>\n      <td>-4298.000000</td>\n      <td>9.000000</td>\n      <td>0.000000</td>\n      <td>0.000000</td>\n      <td>-7486.000000</td>\n      <td>-1598.000000</td>\n      <td>0.000000</td>\n      <td>-371.000000</td>\n      <td>0.000000</td>\n      <td>0.010006</td>\n      <td>10.000000</td>\n      <td>0.000000</td>\n      <td>1.000000</td>\n      <td>1.415538e+04</td>\n      <td>4.964850e+03</td>\n      <td>0.000000</td>\n      <td>7.845000e+04</td>\n      <td>2.041470e+03</td>\n      <td>5.000000e+01</td>\n      <td>0.000000</td>\n      <td>0.000000</td>\n      <td>12.000000</td>\n      <td>-1248.250000</td>\n      <td>-220.000000</td>\n      <td>0.000000</td>\n      <td>-521.341501</td>\n      <td>1.125000e+05</td>\n      <td>12.000000</td>\n      <td>18.000000</td>\n      <td>0.000000</td>\n      <td>5.532655e+03</td>\n      <td>-37.926263</td>\n      <td>8.000000</td>\n      <td>1.000000</td>\n      <td>-2341.000000</td>\n      <td>1.324465e+05</td>\n      <td>-6011.000000</td>\n      <td>0.000000</td>\n      <td>11.000000</td>\n      <td>0.500000</td>\n      <td>-5892.000000</td>\n      <td>7869.015000</td>\n      <td>-595.000000</td>\n      <td>2.000000</td>\n      <td>-221.000000</td>\n      <td>1.000000</td>\n      <td>2.956260e+04</td>\n      <td>-2160.000000</td>\n      <td>7.904575e+03</td>\n      <td>-733.000000</td>\n      <td>1.099053e+04</td>\n      <td>0.000000</td>\n      <td>-1.000000e+00</td>\n      <td>1.851692e+05</td>\n      <td>0.875000</td>\n      <td>8.740283e+03</td>\n      <td>0.000000</td>\n      <td>0.000000</td>\n      <td>-59331.750000</td>\n      <td>0.000000</td>\n      <td>3505.455000</td>\n      <td>4.184410e+03</td>\n      <td>6.000000</td>\n      <td>1.169617e+06</td>\n      <td>6.600000</td>\n      <td>-2006.000000</td>\n      <td>1.065558e+04</td>\n      <td>2.915100e+04</td>\n      <td>8.181818</td>\n      <td>0.000000</td>\n      <td>10473.637500</td>\n      <td>-1.707000e+03</td>\n      <td>9.931728e+04</td>\n      <td>0.000000</td>\n      <td>0.000000</td>\n      <td>0.000000</td>\n      <td>8.000000</td>\n      <td>0.047619</td>\n      <td>10.000000</td>\n      <td>0.500000</td>\n      <td>0.000000</td>\n      <td>0.250000</td>\n      <td>-2005.000000</td>\n      <td>9.899550e+04</td>\n      <td>0.000000</td>\n      <td>0.000000</td>\n      <td>-1345.125000</td>\n      <td>30.000000</td>\n      <td>0.000000</td>\n      <td>0.000000e+00</td>\n      <td>100.000000</td>\n      <td>0.000000</td>\n      <td>121.000000</td>\n      <td>0.000000</td>\n      <td>0.000000</td>\n      <td>0.000000</td>\n      <td>0.000000</td>\n      <td>0.100000</td>\n      <td>0.000000</td>\n      <td>0.000000</td>\n      <td>-3.961000e+03</td>\n      <td>-802.000000</td>\n      <td>0.000000</td>\n      <td>13.000000</td>\n      <td>10.000000</td>\n      <td>0.000000</td>\n      <td>8.000000</td>\n      <td>-1155.000000</td>\n      <td>0.000000</td>\n      <td>-329.000000</td>\n      <td>1.613167e+04</td>\n      <td>0.000000</td>\n      <td>0.000000</td>\n      <td>0.000000</td>\n      <td>0.000000</td>\n      <td>0.000000</td>\n      <td>132.000000</td>\n      <td>0.000000</td>\n      <td>0.000000</td>\n      <td>0.000000</td>\n      <td>0.000000</td>\n      <td>9.000000</td>\n      <td>0.000000</td>\n      <td>0.000000</td>\n      <td>0.000000</td>\n      <td>12.000000</td>\n      <td>0.000000</td>\n      <td>0.000000</td>\n      <td>0.000000</td>\n      <td>0.076923</td>\n      <td>0.000000</td>\n      <td>0.000000</td>\n      <td>0.000000</td>\n      <td>0.000000</td>\n      <td>0.000000</td>\n      <td>1.005120e+05</td>\n      <td>0.000000</td>\n      <td>4.000000</td>\n      <td>10.000000</td>\n      <td>7.377750e+04</td>\n      <td>0.000000</td>\n      <td>-743.250000</td>\n      <td>0.000000</td>\n      <td>0.000000</td>\n      <td>0.000000</td>\n      <td>0.000000</td>\n      <td>0.000000</td>\n      <td>9.000000</td>\n      <td>0.000000</td>\n      <td>0.000000</td>\n      <td>0.000000</td>\n      <td>2.500000</td>\n      <td>0.000000</td>\n      <td>0.000000</td>\n      <td>365243.000000</td>\n      <td>0.000000</td>\n      <td>0.000000</td>\n      <td>0.000000</td>\n      <td>0.000000</td>\n      <td>0.000000</td>\n      <td>0.000000</td>\n      <td>1.000000</td>\n      <td>0.000000</td>\n      <td>0.000000</td>\n      <td>0.000000</td>\n      <td>0.000000</td>\n      <td>1.000000</td>\n      <td>0.000000</td>\n      <td>1.000000</td>\n      <td>0.000000</td>\n      <td>11.000000</td>\n      <td>0.000000</td>\n      <td>0.000000</td>\n      <td>0.000000</td>\n      <td>0.000000</td>\n      <td>0.000000</td>\n      <td>0.000000</td>\n      <td>0.000000</td>\n      <td>0.000000</td>\n      <td>0.000000</td>\n      <td>0.000000</td>\n      <td>0.000000</td>\n      <td>0.000000</td>\n      <td>0.000000</td>\n      <td>0.000000</td>\n      <td>0.000000</td>\n      <td>0.000000</td>\n      <td>0.000000</td>\n      <td>0.000000</td>\n      <td>0.000000</td>\n      <td>2.000000</td>\n      <td>0.800000</td>\n      <td>0.000000</td>\n      <td>0.000000</td>\n      <td>0.000000</td>\n      <td>1.000000</td>\n      <td>0.000000</td>\n      <td>0.000000</td>\n      <td>1.000000</td>\n      <td>1.000000</td>\n      <td>1.000000</td>\n      <td>0.000000</td>\n      <td>0.000000</td>\n      <td>0.000000</td>\n      <td>0.000000</td>\n      <td>0.000000</td>\n      <td>365243.000000</td>\n      <td>0.000000</td>\n      <td>4.000000</td>\n      <td>2.000000</td>\n      <td>0.000000</td>\n      <td>0.000000</td>\n    </tr>\n    <tr>\n      <th>50%</th>\n      <td>5.643761e-01</td>\n      <td>1.536761e+05</td>\n      <td>-15765.000000</td>\n      <td>5.085000e+05</td>\n      <td>24939.000000</td>\n      <td>-1232.000000</td>\n      <td>-3255.000000</td>\n      <td>12.000000</td>\n      <td>0.000000</td>\n      <td>1.000000</td>\n      <td>-4512.000000</td>\n      <td>-816.000000</td>\n      <td>0.000000</td>\n      <td>-50.000000</td>\n      <td>0.000000</td>\n      <td>0.018850</td>\n      <td>12.000000</td>\n      <td>0.000000</td>\n      <td>1.125000</td>\n      <td>3.557752e+04</td>\n      <td>8.557785e+03</td>\n      <td>0.108909</td>\n      <td>1.447186e+05</td>\n      <td>4.894470e+03</td>\n      <td>1.600000e+02</td>\n      <td>0.000000</td>\n      <td>0.142857</td>\n      <td>18.000000</td>\n      <td>-792.571429</td>\n      <td>150.000000</td>\n      <td>0.000000</td>\n      <td>-322.000000</td>\n      <td>1.440000e+05</td>\n      <td>12.000000</td>\n      <td>36.000000</td>\n      <td>1.000000</td>\n      <td>9.239047e+03</td>\n      <td>-22.250000</td>\n      <td>11.000000</td>\n      <td>1.166667</td>\n      <td>-1459.000000</td>\n      <td>3.219969e+05</td>\n      <td>-2495.000000</td>\n      <td>0.000000</td>\n      <td>12.750000</td>\n      <td>0.800000</td>\n      <td>-3021.000000</td>\n      <td>12021.124500</td>\n      <td>-300.000000</td>\n      <td>2.000000</td>\n      <td>-96.000000</td>\n      <td>1.000000</td>\n      <td>5.326202e+04</td>\n      <td>-1227.000000</td>\n      <td>1.268043e+04</td>\n      <td>-428.000000</td>\n      <td>2.261434e+04</td>\n      <td>0.000000</td>\n      <td>-1.000000e+00</td>\n      <td>5.525277e+05</td>\n      <td>0.916667</td>\n      <td>1.468276e+04</td>\n      <td>0.125000</td>\n      <td>0.000000</td>\n      <td>-25510.000000</td>\n      <td>0.000000</td>\n      <td>5719.365000</td>\n      <td>6.681870e+03</td>\n      <td>8.000000</td>\n      <td>3.660405e+06</td>\n      <td>10.133333</td>\n      <td>-1104.000000</td>\n      <td>1.906842e+04</td>\n      <td>4.553550e+04</td>\n      <td>10.937500</td>\n      <td>0.000000</td>\n      <td>18000.000000</td>\n      <td>-6.000000e+01</td>\n      <td>2.201945e+05</td>\n      <td>1.000000</td>\n      <td>0.000000</td>\n      <td>0.000000</td>\n      <td>10.863636</td>\n      <td>0.076923</td>\n      <td>12.000000</td>\n      <td>0.750000</td>\n      <td>0.250000</td>\n      <td>0.500000</td>\n      <td>-1126.000000</td>\n      <td>2.031570e+05</td>\n      <td>0.000000</td>\n      <td>0.000000</td>\n      <td>-835.333333</td>\n      <td>48.000000</td>\n      <td>0.000000</td>\n      <td>2.375550e+04</td>\n      <td>244.000000</td>\n      <td>1.000000</td>\n      <td>242.000000</td>\n      <td>0.000000</td>\n      <td>0.200000</td>\n      <td>0.000000</td>\n      <td>0.000000</td>\n      <td>0.250000</td>\n      <td>1.000000</td>\n      <td>0.000000</td>\n      <td>-1.852000e+03</td>\n      <td>-215.500000</td>\n      <td>0.000000</td>\n      <td>15.000000</td>\n      <td>12.000000</td>\n      <td>0.000000</td>\n      <td>16.000000</td>\n      <td>-544.000000</td>\n      <td>0.285714</td>\n      <td>365243.000000</td>\n      <td>3.666476e+04</td>\n      <td>0.000000</td>\n      <td>0.000000</td>\n      <td>0.000000</td>\n      <td>0.000000</td>\n      <td>0.000000</td>\n      <td>294.000000</td>\n      <td>0.181818</td>\n      <td>0.000000</td>\n      <td>0.000000</td>\n      <td>0.000000</td>\n      <td>10.000000</td>\n      <td>0.000000</td>\n      <td>0.000000</td>\n      <td>0.000000</td>\n      <td>23.000000</td>\n      <td>0.000000</td>\n      <td>0.200000</td>\n      <td>0.000000</td>\n      <td>0.125000</td>\n      <td>0.000000</td>\n      <td>0.000000</td>\n      <td>0.111111</td>\n      <td>0.200000</td>\n      <td>0.125000</td>\n      <td>2.002738e+05</td>\n      <td>0.000000</td>\n      <td>6.000000</td>\n      <td>21.000000</td>\n      <td>1.286561e+05</td>\n      <td>0.000000</td>\n      <td>45072.875000</td>\n      <td>0.000000</td>\n      <td>0.000000</td>\n      <td>0.000000</td>\n      <td>0.285714</td>\n      <td>0.000000</td>\n      <td>12.000000</td>\n      <td>0.000000</td>\n      <td>0.000000</td>\n      <td>0.000000</td>\n      <td>3.500000</td>\n      <td>0.000000</td>\n      <td>0.000000</td>\n      <td>365243.000000</td>\n      <td>0.000000</td>\n      <td>0.000000</td>\n      <td>0.000000</td>\n      <td>0.000000</td>\n      <td>0.000000</td>\n      <td>0.000000</td>\n      <td>1.000000</td>\n      <td>0.000000</td>\n      <td>0.000000</td>\n      <td>0.000000</td>\n      <td>0.200000</td>\n      <td>1.000000</td>\n      <td>0.254724</td>\n      <td>2.000000</td>\n      <td>0.000000</td>\n      <td>21.000000</td>\n      <td>0.000000</td>\n      <td>0.000000</td>\n      <td>0.000000</td>\n      <td>6.000000</td>\n      <td>0.000000</td>\n      <td>0.000000</td>\n      <td>0.000000</td>\n      <td>0.000000</td>\n      <td>0.000000</td>\n      <td>0.000000</td>\n      <td>0.000000</td>\n      <td>1.000000</td>\n      <td>0.000000</td>\n      <td>0.000000</td>\n      <td>0.000000</td>\n      <td>0.000000</td>\n      <td>0.000000</td>\n      <td>0.000000</td>\n      <td>0.000000</td>\n      <td>2.000000</td>\n      <td>0.857143</td>\n      <td>0.000000</td>\n      <td>0.000000</td>\n      <td>0.000000</td>\n      <td>1.000000</td>\n      <td>0.000000</td>\n      <td>0.000000</td>\n      <td>2.000000</td>\n      <td>2.000000</td>\n      <td>2.000000</td>\n      <td>0.000000</td>\n      <td>0.000000</td>\n      <td>0.000000</td>\n      <td>1.000000</td>\n      <td>0.000000</td>\n      <td>365243.000000</td>\n      <td>0.000000</td>\n      <td>6.000000</td>\n      <td>6.000000</td>\n      <td>0.000000</td>\n      <td>0.000000</td>\n    </tr>\n    <tr>\n      <th>75%</th>\n      <td>6.624054e-01</td>\n      <td>3.493543e+05</td>\n      <td>-12438.000000</td>\n      <td>8.086500e+05</td>\n      <td>34587.000000</td>\n      <td>-298.000000</td>\n      <td>-1719.000000</td>\n      <td>18.000000</td>\n      <td>7.000000</td>\n      <td>1.000000</td>\n      <td>-2032.000000</td>\n      <td>-327.000000</td>\n      <td>0.200000</td>\n      <td>-18.000000</td>\n      <td>0.000000</td>\n      <td>0.028663</td>\n      <td>19.200000</td>\n      <td>2.000000</td>\n      <td>1.333333</td>\n      <td>1.315082e+05</td>\n      <td>1.595124e+04</td>\n      <td>0.250843</td>\n      <td>3.072626e+05</td>\n      <td>8.990347e+03</td>\n      <td>1.183000e+03</td>\n      <td>0.000000</td>\n      <td>0.400000</td>\n      <td>36.000000</td>\n      <td>-471.000000</td>\n      <td>365243.000000</td>\n      <td>0.000000</td>\n      <td>-152.000000</td>\n      <td>2.025000e+05</td>\n      <td>24.000000</td>\n      <td>78.000000</td>\n      <td>1.000000</td>\n      <td>1.484379e+04</td>\n      <td>-10.000000</td>\n      <td>17.818182</td>\n      <td>1.858428</td>\n      <td>-693.000000</td>\n      <td>8.410684e+05</td>\n      <td>-965.000000</td>\n      <td>0.000000</td>\n      <td>14.500000</td>\n      <td>1.000000</td>\n      <td>-1312.000000</td>\n      <td>18357.130286</td>\n      <td>-148.000000</td>\n      <td>2.000000</td>\n      <td>-40.000000</td>\n      <td>1.000000</td>\n      <td>1.024683e+05</td>\n      <td>-452.000000</td>\n      <td>2.152265e+04</td>\n      <td>-234.000000</td>\n      <td>6.349953e+04</td>\n      <td>0.000000</td>\n      <td>3.000000e+01</td>\n      <td>2.402196e+06</td>\n      <td>0.945946</td>\n      <td>2.605250e+04</td>\n      <td>0.333333</td>\n      <td>0.000000</td>\n      <td>-8986.000000</td>\n      <td>0.000000</td>\n      <td>9476.212500</td>\n      <td>1.139207e+04</td>\n      <td>11.636364</td>\n      <td>1.416491e+07</td>\n      <td>15.000000</td>\n      <td>-323.000000</td>\n      <td>4.119803e+04</td>\n      <td>9.000000e+04</td>\n      <td>14.000000</td>\n      <td>0.000000</td>\n      <td>31576.860000</td>\n      <td>3.645010e+05</td>\n      <td>5.007032e+05</td>\n      <td>1.000000</td>\n      <td>0.090909</td>\n      <td>42.000000</td>\n      <td>15.685714</td>\n      <td>0.107143</td>\n      <td>14.000000</td>\n      <td>1.000000</td>\n      <td>0.500000</td>\n      <td>1.000000</td>\n      <td>-403.000000</td>\n      <td>4.545000e+05</td>\n      <td>0.000000</td>\n      <td>0.000000</td>\n      <td>-409.500000</td>\n      <td>110.000000</td>\n      <td>0.000000</td>\n      <td>5.857200e+04</td>\n      <td>613.000000</td>\n      <td>1.000000</td>\n      <td>543.000000</td>\n      <td>0.000000</td>\n      <td>0.400000</td>\n      <td>0.000000</td>\n      <td>0.000000</td>\n      <td>0.500000</td>\n      <td>1.000000</td>\n      <td>0.000000</td>\n      <td>-5.530000e+02</td>\n      <td>45242.093750</td>\n      <td>0.000000</td>\n      <td>17.000000</td>\n      <td>21.000000</td>\n      <td>0.000000</td>\n      <td>30.000000</td>\n      <td>-144.000000</td>\n      <td>0.500000</td>\n      <td>365243.000000</td>\n      <td>7.739784e+04</td>\n      <td>0.000000</td>\n      <td>0.250000</td>\n      <td>0.000000</td>\n      <td>0.142857</td>\n      <td>0.000000</td>\n      <td>672.000000</td>\n      <td>0.571429</td>\n      <td>0.000000</td>\n      <td>0.250000</td>\n      <td>0.250000</td>\n      <td>12.000000</td>\n      <td>0.000000</td>\n      <td>0.000000</td>\n      <td>0.000000</td>\n      <td>44.000000</td>\n      <td>0.000000</td>\n      <td>0.500000</td>\n      <td>0.000000</td>\n      <td>0.200000</td>\n      <td>0.000000</td>\n      <td>0.333333</td>\n      <td>0.357143</td>\n      <td>0.400000</td>\n      <td>0.363636</td>\n      <td>5.006250e+05</td>\n      <td>0.250000</td>\n      <td>9.000000</td>\n      <td>52.000000</td>\n      <td>2.452050e+05</td>\n      <td>0.000000</td>\n      <td>145570.575000</td>\n      <td>0.000000</td>\n      <td>0.000000</td>\n      <td>0.000000</td>\n      <td>0.600000</td>\n      <td>0.000000</td>\n      <td>17.000000</td>\n      <td>0.000000</td>\n      <td>0.000000</td>\n      <td>0.000000</td>\n      <td>5.400000</td>\n      <td>0.000000</td>\n      <td>0.000000</td>\n      <td>365243.000000</td>\n      <td>0.000000</td>\n      <td>0.000000</td>\n      <td>0.100000</td>\n      <td>0.000000</td>\n      <td>0.000000</td>\n      <td>0.000000</td>\n      <td>1.000000</td>\n      <td>0.000000</td>\n      <td>0.230769</td>\n      <td>0.250000</td>\n      <td>0.500000</td>\n      <td>1.000000</td>\n      <td>0.571429</td>\n      <td>4.000000</td>\n      <td>0.000000</td>\n      <td>38.000000</td>\n      <td>0.000000</td>\n      <td>0.285714</td>\n      <td>0.000000</td>\n      <td>10.000000</td>\n      <td>0.250000</td>\n      <td>0.000000</td>\n      <td>0.250000</td>\n      <td>0.000000</td>\n      <td>0.000000</td>\n      <td>1.000000</td>\n      <td>0.000000</td>\n      <td>2.000000</td>\n      <td>0.250000</td>\n      <td>0.000000</td>\n      <td>0.333333</td>\n      <td>0.000000</td>\n      <td>0.000000</td>\n      <td>1.000000</td>\n      <td>0.200000</td>\n      <td>3.000000</td>\n      <td>0.916667</td>\n      <td>0.000000</td>\n      <td>0.000000</td>\n      <td>0.000000</td>\n      <td>1.000000</td>\n      <td>0.250000</td>\n      <td>1.000000</td>\n      <td>3.000000</td>\n      <td>5.000000</td>\n      <td>4.000000</td>\n      <td>0.250000</td>\n      <td>0.000000</td>\n      <td>0.083333</td>\n      <td>2.000000</td>\n      <td>0.000000</td>\n      <td>365243.000000</td>\n      <td>0.000000</td>\n      <td>10.000000</td>\n      <td>9.000000</td>\n      <td>0.000000</td>\n      <td>0.000000</td>\n    </tr>\n    <tr>\n      <th>max</th>\n      <td>8.549997e-01</td>\n      <td>6.829794e+06</td>\n      <td>-7489.000000</td>\n      <td>3.956274e+06</td>\n      <td>225000.000000</td>\n      <td>365243.000000</td>\n      <td>0.000000</td>\n      <td>72.000000</td>\n      <td>80.000000</td>\n      <td>1.000000</td>\n      <td>0.000000</td>\n      <td>0.000000</td>\n      <td>1.000000</td>\n      <td>-1.000000</td>\n      <td>184970.000000</td>\n      <td>0.072508</td>\n      <td>72.000000</td>\n      <td>60.000000</td>\n      <td>89.500000</td>\n      <td>3.771488e+06</td>\n      <td>3.771488e+06</td>\n      <td>4.476351</td>\n      <td>1.535908e+07</td>\n      <td>2.504590e+06</td>\n      <td>4.000000e+06</td>\n      <td>1.000000</td>\n      <td>1.000000</td>\n      <td>84.000000</td>\n      <td>-3.000000</td>\n      <td>365243.000000</td>\n      <td>1.000000</td>\n      <td>-1.000000</td>\n      <td>1.170000e+08</td>\n      <td>84.000000</td>\n      <td>1788.000000</td>\n      <td>1.000000</td>\n      <td>2.504590e+06</td>\n      <td>-1.000000</td>\n      <td>244.094340</td>\n      <td>44.000000</td>\n      <td>365243.000000</td>\n      <td>2.553705e+07</td>\n      <td>0.000000</td>\n      <td>1.000000</td>\n      <td>23.000000</td>\n      <td>1.000000</td>\n      <td>-3.000000</td>\n      <td>300425.445000</td>\n      <td>-1.000000</td>\n      <td>3.000000</td>\n      <td>-1.000000</td>\n      <td>1.000000</td>\n      <td>6.508483e+06</td>\n      <td>-2.000000</td>\n      <td>2.504590e+06</td>\n      <td>-2.000000</td>\n      <td>3.771488e+06</td>\n      <td>1.000000</td>\n      <td>4.000000e+06</td>\n      <td>2.351041e+08</td>\n      <td>1.000000</td>\n      <td>3.202062e+06</td>\n      <td>1.000000</td>\n      <td>1.000000</td>\n      <td>0.000000</td>\n      <td>24.000000</td>\n      <td>300425.445000</td>\n      <td>2.504590e+06</td>\n      <td>72.000000</td>\n      <td>3.923054e+09</td>\n      <td>1128.000000</td>\n      <td>365243.000000</td>\n      <td>3.202062e+06</td>\n      <td>4.050000e+06</td>\n      <td>96.000000</td>\n      <td>406176.000000</td>\n      <td>418058.145000</td>\n      <td>1.825476e+06</td>\n      <td>8.280314e+06</td>\n      <td>1.000000</td>\n      <td>1.000000</td>\n      <td>2265.000000</td>\n      <td>72.000000</td>\n      <td>1.000000</td>\n      <td>23.000000</td>\n      <td>1.000000</td>\n      <td>1.000000</td>\n      <td>1.000000</td>\n      <td>365243.000000</td>\n      <td>5.850000e+06</td>\n      <td>34.000000</td>\n      <td>1.000000</td>\n      <td>365243.000000</td>\n      <td>5256.000000</td>\n      <td>1.000000</td>\n      <td>4.050000e+06</td>\n      <td>73935.000000</td>\n      <td>1.000000</td>\n      <td>19061.000000</td>\n      <td>1.000000</td>\n      <td>1.000000</td>\n      <td>1.000000</td>\n      <td>1.000000</td>\n      <td>1.000000</td>\n      <td>1.000000</td>\n      <td>1.000000</td>\n      <td>1.459730e+06</td>\n      <td>365243.000000</td>\n      <td>1.000000</td>\n      <td>23.000000</td>\n      <td>1395.000000</td>\n      <td>1.000000</td>\n      <td>7257.000000</td>\n      <td>-1.000000</td>\n      <td>1.000000</td>\n      <td>365243.000000</td>\n      <td>2.051103e+06</td>\n      <td>1.000000</td>\n      <td>1.000000</td>\n      <td>1.000000</td>\n      <td>1.000000</td>\n      <td>1.000000</td>\n      <td>7885.000000</td>\n      <td>1.000000</td>\n      <td>1.000000</td>\n      <td>1.000000</td>\n      <td>1.000000</td>\n      <td>23.000000</td>\n      <td>1.000000</td>\n      <td>1781.958333</td>\n      <td>1.000000</td>\n      <td>1419.000000</td>\n      <td>1.000000</td>\n      <td>1.000000</td>\n      <td>1.000000</td>\n      <td>1.000000</td>\n      <td>1.000000</td>\n      <td>1.000000</td>\n      <td>1.000000</td>\n      <td>1.000000</td>\n      <td>1.000000</td>\n      <td>1.934759e+07</td>\n      <td>1.000000</td>\n      <td>96.000000</td>\n      <td>13565.000000</td>\n      <td>4.050000e+06</td>\n      <td>35.738255</td>\n      <td>365243.000000</td>\n      <td>1.000000</td>\n      <td>1.000000</td>\n      <td>1.000000</td>\n      <td>1.000000</td>\n      <td>5325.000000</td>\n      <td>96.000000</td>\n      <td>1.000000</td>\n      <td>1.000000</td>\n      <td>1.000000</td>\n      <td>91.233871</td>\n      <td>1.000000</td>\n      <td>1.000000</td>\n      <td>365243.000000</td>\n      <td>155702.000000</td>\n      <td>1.000000</td>\n      <td>1.000000</td>\n      <td>1.000000</td>\n      <td>1.000000</td>\n      <td>109.000000</td>\n      <td>67.000000</td>\n      <td>1.000000</td>\n      <td>1.000000</td>\n      <td>1.000000</td>\n      <td>1.000000</td>\n      <td>39.000000</td>\n      <td>1.000000</td>\n      <td>58.000000</td>\n      <td>1.000000</td>\n      <td>624.000000</td>\n      <td>1.000000</td>\n      <td>1.000000</td>\n      <td>1.000000</td>\n      <td>72.000000</td>\n      <td>1.000000</td>\n      <td>1.000000</td>\n      <td>1.000000</td>\n      <td>1.000000</td>\n      <td>1.000000</td>\n      <td>53.000000</td>\n      <td>1.000000</td>\n      <td>38.000000</td>\n      <td>1.000000</td>\n      <td>1.000000</td>\n      <td>1.000000</td>\n      <td>1.000000</td>\n      <td>1.000000</td>\n      <td>1.000000</td>\n      <td>1.000000</td>\n      <td>20.000000</td>\n      <td>1.000000</td>\n      <td>1.000000</td>\n      <td>1.000000</td>\n      <td>1.000000</td>\n      <td>132.000000</td>\n      <td>1.000000</td>\n      <td>26.000000</td>\n      <td>85.000000</td>\n      <td>71.000000</td>\n      <td>61.000000</td>\n      <td>1.000000</td>\n      <td>1.000000</td>\n      <td>1.000000</td>\n      <td>48.000000</td>\n      <td>1.000000</td>\n      <td>365243.000000</td>\n      <td>1.000000</td>\n      <td>72.000000</td>\n      <td>1128.000000</td>\n      <td>1.000000</td>\n      <td>1.000000</td>\n    </tr>\n  </tbody>\n</table>\n</div>"
     },
     "metadata": {},
     "execution_count": 15
    }
   ],
   "source": [
    "train.describe()"
   ]
  },
  {
   "cell_type": "code",
   "execution_count": 16,
   "metadata": {
    "Collapsed": "false",
    "scrolled": true
   },
   "outputs": [
    {
     "output_type": "execute_result",
     "data": {
      "text/plain": [
       "EXT_SOURCE_2                                                                    float64\n",
       "client_installments_AMT_PAYMENT_min_sum                                         float64\n",
       "DAYS_BIRTH                                                                        int64\n",
       "AMT_CREDIT                                                                      float64\n",
       "AMT_ANNUITY                                                                     float64\n",
       "DAYS_EMPLOYED                                                                     int64\n",
       "DAYS_ID_PUBLISH                                                                   int64\n",
       "previous_loans_CNT_PAYMENT_mean                                                 float64\n",
       "client_cash_CNT_INSTALMENT_FUTURE_min_max                                       float64\n",
       "CODE_GENDER_F                                                                     int64\n",
       "DAYS_REGISTRATION                                                               float64\n",
       "DAYS_LAST_PHONE_CHANGE                                                          float64\n",
       "previous_loans_NAME_CONTRACT_STATUS_Refused_count_norm                          float64\n",
       "client_installments_DAYS_INSTALMENT_max_max                                     float64\n",
       "client_cash_SK_DPD_DEF_sum_max                                                  float64\n",
       "REGION_POPULATION_RELATIVE                                                      float64\n",
       "client_cash_CNT_INSTALMENT_max_mean                                             float64\n",
       "client_cash_CNT_INSTALMENT_FUTURE_min_mean                                      float64\n",
       "client_installments_NUM_INSTALMENT_VERSION_mean_max                             float64\n",
       "client_installments_AMT_INSTALMENT_max_max                                      float64\n",
       "client_installments_AMT_PAYMENT_max_min                                         float64\n",
       "previous_loans_RATE_DOWN_PAYMENT_sum                                            float64\n",
       "client_installments_AMT_PAYMENT_sum_mean                                        float64\n",
       "client_installments_AMT_INSTALMENT_min_min                                      float64\n",
       "previous_loans_SELLERPLACE_AREA_max                                             float64\n",
       "previous_loans_PRODUCT_COMBINATION_Cash X-Sell: low_count_norm                  float64\n",
       "previous_loans_NAME_YIELD_GROUP_high_count_norm                                 float64\n",
       "previous_loans_CNT_PAYMENT_max                                                  float64\n",
       "previous_loans_DAYS_DECISION_mean                                               float64\n",
       "previous_loans_DAYS_LAST_DUE_1ST_VERSION_max                                    float64\n",
       "NAME_EDUCATION_TYPE_Higher education                                              int64\n",
       "client_cash_MONTHS_BALANCE_sum_mean                                             float64\n",
       "AMT_INCOME_TOTAL                                                                float64\n",
       "client_cash_CNT_INSTALMENT_max_max                                              float64\n",
       "previous_loans_CNT_PAYMENT_sum                                                  float64\n",
       "NAME_FAMILY_STATUS_Married                                                        int64\n",
       "client_installments_AMT_INSTALMENT_min_mean                                     float64\n",
       "client_cash_MONTHS_BALANCE_max_mean                                             float64\n",
       "client_installments_NUM_INSTALMENT_NUMBER_max_mean                              float64\n",
       "client_installments_NUM_INSTALMENT_VERSION_max_mean                             float64\n",
       "previous_loans_DAYS_FIRST_DUE_min                                               float64\n",
       "client_installments_AMT_PAYMENT_mean_sum                                        float64\n",
       "client_installments_DAYS_ENTRY_PAYMENT_sum_max                                  float64\n",
       "previous_loans_NAME_YIELD_GROUP_low_action_count_norm                           float64\n",
       "previous_loans_HOUR_APPR_PROCESS_START_mean                                     float64\n",
       "previous_loans_NAME_CONTRACT_STATUS_Approved_count_norm                         float64\n",
       "previous_loans_DAYS_DECISION_sum                                                float64\n",
       "previous_loans_AMT_ANNUITY_mean                                                 float64\n",
       "previous_loans_DAYS_DECISION_max                                                float64\n",
       "REGION_RATING_CLIENT                                                              int64\n",
       "client_cash_MONTHS_BALANCE_sum_max                                              float64\n",
       "NAME_CONTRACT_TYPE_Cash loans                                                     int64\n",
       "client_installments_AMT_PAYMENT_sum_min                                         float64\n",
       "client_installments_DAYS_ENTRY_PAYMENT_max_min                                  float64\n",
       "client_installments_AMT_INSTALMENT_mean_mean                                    float64\n",
       "client_installments_DAYS_INSTALMENT_min_max                                     float64\n",
       "client_installments_AMT_PAYMENT_max_mean                                        float64\n",
       "previous_loans_PRODUCT_COMBINATION_Cash X-Sell: high_count_norm                 float64\n",
       "previous_loans_SELLERPLACE_AREA_min                                             float64\n",
       "client_installments_AMT_PAYMENT_max_sum                                         float64\n",
       "client_cash_NAME_CONTRACT_STATUS_Active_count_norm_mean                         float64\n",
       "client_installments_AMT_INSTALMENT_min_max                                      float64\n",
       "previous_loans_NAME_YIELD_GROUP_low_normal_count_norm                           float64\n",
       "previous_loans_NAME_PRODUCT_TYPE_walk-in_count_norm                             float64\n",
       "client_installments_DAYS_ENTRY_PAYMENT_min_sum                                  float64\n",
       "DEF_60_CNT_SOCIAL_CIRCLE                                                        float64\n",
       "previous_loans_AMT_ANNUITY_min                                                  float64\n",
       "client_installments_AMT_INSTALMENT_mean_min                                     float64\n",
       "client_cash_CNT_INSTALMENT_mean_min                                             float64\n",
       "client_installments_AMT_INSTALMENT_sum_sum                                      float64\n",
       "client_installments_NUM_INSTALMENT_VERSION_sum_mean                             float64\n",
       "previous_loans_DAYS_LAST_DUE_1ST_VERSION_min                                    float64\n",
       "client_installments_AMT_INSTALMENT_mean_max                                     float64\n",
       "previous_loans_AMT_GOODS_PRICE_min                                              float64\n",
       "client_cash_counts_mean                                                         float64\n",
       "client_cash_SK_DPD_max_sum                                                      float64\n",
       "previous_loans_AMT_ANNUITY_max                                                  float64\n",
       "previous_loans_DAYS_LAST_DUE_sum                                                float64\n",
       "client_installments_AMT_INSTALMENT_min_sum                                      float64\n",
       "FLAG_DOCUMENT_3                                                                   int64\n",
       "previous_loans_NAME_CLIENT_TYPE_Refreshed_count_norm                            float64\n",
       "client_cash_CNT_INSTALMENT_FUTURE_min_sum                                       float64\n",
       "client_cash_CNT_INSTALMENT_min_mean                                             float64\n",
       "client_cash_NAME_CONTRACT_STATUS_Completed_count_norm_mean                      float64\n",
       "HOUR_APPR_PROCESS_START                                                           int64\n",
       "previous_loans_NAME_PRODUCT_TYPE_XNA_count_norm                                 float64\n",
       "previous_loans_NAME_TYPE_SUITE_Unaccompanied_count_norm                         float64\n",
       "previous_loans_NAME_PORTFOLIO_POS_count_norm                                    float64\n",
       "previous_loans_DAYS_TERMINATION_min                                             float64\n",
       "previous_loans_AMT_APPLICATION_max                                              float64\n",
       "DEF_30_CNT_SOCIAL_CIRCLE                                                        float64\n",
       "previous_loans_PRODUCT_COMBINATION_Cash Street: low_count_norm                  float64\n",
       "previous_loans_DAYS_FIRST_DUE_mean                                              float64\n",
       "client_cash_CNT_INSTALMENT_sum_min                                              float64\n",
       "previous_loans_PRODUCT_COMBINATION_POS industry with interest_count_norm        float64\n",
       "previous_loans_AMT_CREDIT_min                                                   float64\n",
       "client_installments_NUM_INSTALMENT_VERSION_sum_sum                              float64\n",
       "NAME_INCOME_TYPE_Working                                                          int64\n",
       "client_cash_counts_sum                                                          float64\n",
       "REG_CITY_NOT_LIVE_CITY                                                            int64\n",
       "previous_loans_NAME_YIELD_GROUP_middle_count_norm                               float64\n",
       "FLAG_DOCUMENT_18                                                                  int64\n",
       "previous_loans_CODE_REJECT_REASON_HC_count_norm                                 float64\n",
       "previous_loans_NAME_CLIENT_TYPE_New_count_norm                                  float64\n",
       "NAME_EDUCATION_TYPE_Secondary / secondary special                                 int64\n",
       "previous_loans_CHANNEL_TYPE_Channel of corporate sales_count_norm               float64\n",
       "previous_loans_DAYS_FIRST_DUE_sum                                               float64\n",
       "previous_loans_DAYS_LAST_DUE_1ST_VERSION_mean                                   float64\n",
       "previous_loans_NAME_GOODS_CATEGORY_Furniture_count_norm                         float64\n",
       "previous_loans_HOUR_APPR_PROCESS_START_max                                      float64\n",
       "client_installments_NUM_INSTALMENT_VERSION_sum_max                              float64\n",
       "ORGANIZATION_TYPE_Self-employed                                                   int64\n",
       "client_cash_NAME_CONTRACT_STATUS_Completed_count_sum                            float64\n",
       "client_cash_MONTHS_BALANCE_max_sum                                              float64\n",
       "previous_loans_NAME_PAYMENT_TYPE_XNA_count_norm                                 float64\n",
       "previous_loans_DAYS_TERMINATION_max                                             float64\n",
       "previous_loans_AMT_ANNUITY_sum                                                  float64\n",
       "previous_loans_PRODUCT_COMBINATION_Cash X-Sell: middle_count_norm               float64\n",
       "previous_loans_WEEKDAY_APPR_PROCESS_START_THURSDAY_count_norm                   float64\n",
       "FLAG_WORK_PHONE                                                                   int64\n",
       "previous_loans_WEEKDAY_APPR_PROCESS_START_SUNDAY_count_norm                     float64\n",
       "previous_loans_NAME_GOODS_CATEGORY_Photo / Cinema Equipment_count_norm          float64\n",
       "client_cash_CNT_INSTALMENT_FUTURE_max_sum                                       float64\n",
       "previous_loans_CHANNEL_TYPE_Credit and cash offices_count_norm                  float64\n",
       "OCCUPATION_TYPE_Drivers                                                           int64\n",
       "previous_loans_NAME_CONTRACT_STATUS_Canceled_count_norm                         float64\n",
       "previous_loans_WEEKDAY_APPR_PROCESS_START_MONDAY_count_norm                     float64\n",
       "previous_loans_HOUR_APPR_PROCESS_START_min                                      float64\n",
       "previous_loans_CHANNEL_TYPE_AP+ (Cash loan)_count_norm                          float64\n",
       "client_cash_SK_DPD_mean_min                                                     float64\n",
       "NAME_INCOME_TYPE_State servant                                                    int64\n",
       "client_installments_NUM_INSTALMENT_VERSION_mean_sum                             float64\n",
       "ORGANIZATION_TYPE_Construction                                                    int64\n",
       "previous_loans_NFLAG_INSURED_ON_APPROVAL_mean                                   float64\n",
       "previous_loans_NAME_GOODS_CATEGORY_Audio/Video_count_norm                       float64\n",
       "client_cash_NAME_CONTRACT_STATUS_Completed_count_norm_max                       float64\n",
       "previous_loans_CHANNEL_TYPE_Contact center_count_norm                           float64\n",
       "previous_loans_NAME_SELLER_INDUSTRY_Connectivity_count_norm                     float64\n",
       "previous_loans_NAME_PORTFOLIO_Cash_count_norm                                   float64\n",
       "previous_loans_NAME_YIELD_GROUP_XNA_count_norm                                  float64\n",
       "previous_loans_NAME_PRODUCT_TYPE_x-sell_count_norm                              float64\n",
       "client_installments_AMT_INSTALMENT_sum_max                                      float64\n",
       "previous_loans_WEEKDAY_APPR_PROCESS_START_SATURDAY_count_norm                   float64\n",
       "client_cash_NAME_CONTRACT_STATUS_Active_count_min                               float64\n",
       "client_installments_NUM_INSTALMENT_NUMBER_sum_min                               float64\n",
       "previous_loans_AMT_GOODS_PRICE_mean                                             float64\n",
       "client_cash_NAME_CONTRACT_STATUS_Signed_count_mean                              float64\n",
       "previous_loans_DAYS_TERMINATION_mean                                            float64\n",
       "previous_loans_CODE_REJECT_REASON_SCO_count_norm                                float64\n",
       "previous_loans_PRODUCT_COMBINATION_Cash Street: high_count_norm                 float64\n",
       "previous_loans_NAME_GOODS_CATEGORY_Computers_count_norm                         float64\n",
       "previous_loans_CHANNEL_TYPE_Country-wide_count_norm                             float64\n",
       "client_cash_NAME_CONTRACT_STATUS_Signed_count_sum                               float64\n",
       "client_cash_NAME_CONTRACT_STATUS_Active_count_max                               float64\n",
       "OCCUPATION_TYPE_Laborers                                                          int64\n",
       "ORGANIZATION_TYPE_Industry: type 9                                                int64\n",
       "OCCUPATION_TYPE_Core staff                                                        int64\n",
       "client_installments_NUM_INSTALMENT_NUMBER_mean_min                              float64\n",
       "previous_loans_NAME_GOODS_CATEGORY_Clothing and Accessories_count_norm          float64\n",
       "ORGANIZATION_TYPE_Business Entity Type 3                                          int64\n",
       "previous_loans_DAYS_FIRST_DRAWING_mean                                          float64\n",
       "client_cash_SK_DPD_DEF_sum_min                                                  float64\n",
       "FLAG_DOCUMENT_16                                                                  int64\n",
       "previous_loans_NAME_GOODS_CATEGORY_Consumer Electronics_count_norm              float64\n",
       "FLAG_DOCUMENT_13                                                                  int64\n",
       "ORGANIZATION_TYPE_Military                                                        int64\n",
       "client_cash_NAME_CONTRACT_STATUS_Returned to the store_count_sum                float64\n",
       "client_installments_NUM_INSTALMENT_NUMBER_min_mean                              float64\n",
       "ORGANIZATION_TYPE_Transport: type 3                                               int64\n",
       "previous_loans_NAME_TYPE_SUITE_Family_count_norm                                float64\n",
       "previous_loans_CHANNEL_TYPE_Stone_count_norm                                    float64\n",
       "previous_loans_NAME_SELLER_INDUSTRY_Consumer electronics_count_norm             float64\n",
       "client_installments_NUM_INSTALMENT_VERSION_mean_min                             float64\n",
       "previous_loans_NAME_CONTRACT_TYPE_Cash loans_count_norm                         float64\n",
       "previous_loans_NAME_PAYMENT_TYPE_Cash through the bank_count                    float64\n",
       "client_cash_NAME_CONTRACT_STATUS_Signed_count_norm_mean                         float64\n",
       "client_installments_NUM_INSTALMENT_VERSION_min_sum                              float64\n",
       "previous_loans_CODE_REJECT_REASON_CLIENT_count_norm                             float64\n",
       "previous_loans_NAME_PORTFOLIO_XNA_count_norm                                    float64\n",
       "previous_loans_PRODUCT_COMBINATION_Card X-Sell_count_norm                       float64\n",
       "previous_loans_CNT_PAYMENT_min                                                  float64\n",
       "previous_loans_WEEKDAY_APPR_PROCESS_START_FRIDAY_count_norm                     float64\n",
       "client_cash_NAME_CONTRACT_STATUS_Signed_count_norm_max                          float64\n",
       "previous_loans_WEEKDAY_APPR_PROCESS_START_TUESDAY_count_norm                    float64\n",
       "previous_loans_NAME_SELLER_INDUSTRY_Construction_count_norm                     float64\n",
       "previous_loans_NAME_SELLER_INDUSTRY_Furniture_count_norm                        float64\n",
       "previous_loans_NAME_SELLER_INDUSTRY_Connectivity_count                          float64\n",
       "previous_loans_PRODUCT_COMBINATION_Cash Street: middle_count_norm               float64\n",
       "previous_loans_NAME_YIELD_GROUP_high_count                                      float64\n",
       "previous_loans_PRODUCT_COMBINATION_POS mobile with interest_count_norm          float64\n",
       "previous_loans_PRODUCT_COMBINATION_POS industry without interest_count_norm     float64\n",
       "previous_loans_PRODUCT_COMBINATION_POS household with interest_count_norm       float64\n",
       "ORGANIZATION_TYPE_School                                                          int64\n",
       "previous_loans_NAME_CASH_LOAN_PURPOSE_Repairs_count_norm                        float64\n",
       "FLAG_PHONE                                                                        int64\n",
       "previous_loans_PRODUCT_COMBINATION_Cash_count_norm                              float64\n",
       "CNT_FAM_MEMBERS                                                                 float64\n",
       "client_cash_NAME_CONTRACT_STATUS_Active_count_norm_min                          float64\n",
       "WALLSMATERIAL_MODE_Panel                                                          int64\n",
       "ORGANIZATION_TYPE_Bank                                                            int64\n",
       "previous_loans_PRODUCT_COMBINATION_POS household without interest_count_norm    float64\n",
       "client_installments_NUM_INSTALMENT_NUMBER_min_max                               float64\n",
       "previous_loans_WEEKDAY_APPR_PROCESS_START_WEDNESDAY_count_norm                  float64\n",
       "previous_loans_WEEKDAY_APPR_PROCESS_START_WEDNESDAY_count                       float64\n",
       "client_cash_NAME_CONTRACT_STATUS_Completed_count_norm_sum                       float64\n",
       "previous_loans_NAME_CLIENT_TYPE_Repeater_count                                  float64\n",
       "previous_loans_NAME_PRODUCT_TYPE_XNA_count                                      float64\n",
       "previous_loans_NAME_GOODS_CATEGORY_Mobile_count_norm                            float64\n",
       "previous_loans_CODE_REJECT_REASON_VERIF_count_norm                              float64\n",
       "client_cash_NAME_CONTRACT_STATUS_Completed_count_norm_min                       float64\n",
       "previous_loans_NAME_SELLER_INDUSTRY_Consumer electronics_count                  float64\n",
       "previous_loans_NAME_TYPE_SUITE_Children_count_norm                              float64\n",
       "previous_loans_DAYS_FIRST_DRAWING_min                                           float64\n",
       "previous_loans_CHANNEL_TYPE_Regional / Local_count_norm                         float64\n",
       "client_cash_CNT_INSTALMENT_min_min                                              float64\n",
       "client_installments_NUM_INSTALMENT_VERSION_sum_min                              float64\n",
       "previous_loans_CODE_REJECT_REASON_LIMIT_count_norm                              float64\n",
       "TARGET                                                                            int64\n",
       "dtype: object"
      ]
     },
     "metadata": {},
     "execution_count": 16
    }
   ],
   "source": [
    "train.dtypes"
   ]
  },
  {
   "cell_type": "markdown",
   "metadata": {
    "Collapsed": "false"
   },
   "source": [
    "## Équilibre des classes"
   ]
  },
  {
   "cell_type": "code",
   "execution_count": 17,
   "metadata": {
    "Collapsed": "false"
   },
   "outputs": [],
   "source": [
    "def categorical_distribution(dataframe, feature, ordinal=False):\n",
    "    \"\"\"Function plotting the bar-plot and pie-plot (as subplots) for \n",
    "    a distribution of categorical features.\"\"\"\n",
    "    \n",
    "    # importing libraries\n",
    "    import matplotlib.pyplot as plt\n",
    "\n",
    "    # filtering non-null data for the feature\n",
    "    mask = dataframe[feature].notnull()\n",
    "    data_view = dataframe[mask]\n",
    "    \n",
    "    # Setting the data to plot\n",
    "    x=data_view[feature]\n",
    "    \n",
    "    # Set frequencies and labels, sorting by index\n",
    "    if ordinal==True:\n",
    "        labels = list(x.value_counts().sort_index().index.astype(str))\n",
    "        frequencies = x.value_counts().sort_index()\n",
    "    else:\n",
    "        labels = list(x.value_counts().sort_values(ascending=False).index.astype(str))\n",
    "        frequencies = x.value_counts().sort_values(ascending=False)\n",
    "    \n",
    "    # Graphical properties of the main figure\n",
    "    fig = plt.figure(figsize=(14, 6))\n",
    "    \n",
    "    plt.suptitle(\"Empiric statistical distribution: \" + feature, fontsize=25)\n",
    "    \n",
    "    # Main graphical properties of the first subplot (histogram)\n",
    "    ax1 = plt.subplot(121)\n",
    "    ax1.set_xlabel(\"Values\", fontsize=20)\n",
    "    ax1.set_ylabel(\"Frequencies\", fontsize=20)\n",
    "    ax1.set_xticklabels(labels, rotation='45', horizontalalignment=\"right\")\n",
    "\n",
    "    # Main graphical properties of the second subplot (pieplot)\n",
    "    ax2 = plt.subplot(122)\n",
    "    ax2.set_xlabel(\"Relative frequencies\", fontsize=20)\n",
    "    \n",
    "    # plotting the plots\n",
    "    ax1.bar(labels, frequencies)\n",
    "    ax2.pie(frequencies,\n",
    "            autopct='%1.2f%%',\n",
    "            shadow=True,\n",
    "              )\n",
    "    \n",
    "    ax2.legend(labels)\n",
    "    plt.show()\n",
    "    return fig"
   ]
  },
  {
   "cell_type": "code",
   "execution_count": 18,
   "metadata": {
    "Collapsed": "false"
   },
   "outputs": [
    {
     "output_type": "display_data",
     "data": {
      "text/plain": "<Figure size 1008x432 with 2 Axes>",
      "image/svg+xml": "<?xml version=\"1.0\" encoding=\"utf-8\" standalone=\"no\"?>\r\n<!DOCTYPE svg PUBLIC \"-//W3C//DTD SVG 1.1//EN\"\r\n  \"http://www.w3.org/Graphics/SVG/1.1/DTD/svg11.dtd\">\r\n<!-- Created with matplotlib (https://matplotlib.org/) -->\r\n<svg height=\"425.458685pt\" version=\"1.1\" viewBox=\"0 0 849.665795 425.458685\" width=\"849.665795pt\" xmlns=\"http://www.w3.org/2000/svg\" xmlns:xlink=\"http://www.w3.org/1999/xlink\">\r\n <defs>\r\n  <style type=\"text/css\">\r\n*{stroke-linecap:butt;stroke-linejoin:round;}\r\n  </style>\r\n </defs>\r\n <g id=\"figure_1\">\r\n  <g id=\"patch_1\">\r\n   <path d=\"M 0 425.458685 \r\nL 849.665795 425.458685 \r\nL 849.665795 0 \r\nL 0 0 \r\nz\r\n\" style=\"fill:none;\"/>\r\n  </g>\r\n  <g id=\"axes_1\">\r\n   <g id=\"patch_2\">\r\n    <path d=\"M 75.73125 376.56 \r\nL 430.822159 376.56 \r\nL 430.822159 50.4 \r\nL 75.73125 50.4 \r\nz\r\n\" style=\"fill:#ffffff;\"/>\r\n   </g>\r\n   <g id=\"patch_3\">\r\n    <path clip-path=\"url(#p702ca57638)\" d=\"M 91.871746 376.56 \r\nL 235.34282 376.56 \r\nL 235.34282 65.931429 \r\nL 91.871746 65.931429 \r\nz\r\n\" style=\"fill:#1f77b4;\"/>\r\n   </g>\r\n   <g id=\"patch_4\">\r\n    <path clip-path=\"url(#p702ca57638)\" d=\"M 271.210589 376.56 \r\nL 414.681663 376.56 \r\nL 414.681663 348.984998 \r\nL 271.210589 348.984998 \r\nz\r\n\" style=\"fill:#1f77b4;\"/>\r\n   </g>\r\n   <g id=\"matplotlib.axis_1\">\r\n    <g id=\"xtick_1\">\r\n     <g id=\"line2d_1\">\r\n      <defs>\r\n       <path d=\"M 0 0 \r\nL 0 3.5 \r\n\" id=\"mbdc72d0836\" style=\"stroke:#000000;stroke-width:0.8;\"/>\r\n      </defs>\r\n      <g>\r\n       <use style=\"stroke:#000000;stroke-width:0.8;\" x=\"163.607283\" xlink:href=\"#mbdc72d0836\" y=\"376.56\"/>\r\n      </g>\r\n     </g>\r\n     <g id=\"text_1\">\r\n      <!-- 0 -->\r\n      <defs>\r\n       <path d=\"M 31.78125 66.40625 \r\nQ 24.171875 66.40625 20.328125 58.90625 \r\nQ 16.5 51.421875 16.5 36.375 \r\nQ 16.5 21.390625 20.328125 13.890625 \r\nQ 24.171875 6.390625 31.78125 6.390625 \r\nQ 39.453125 6.390625 43.28125 13.890625 \r\nQ 47.125 21.390625 47.125 36.375 \r\nQ 47.125 51.421875 43.28125 58.90625 \r\nQ 39.453125 66.40625 31.78125 66.40625 \r\nz\r\nM 31.78125 74.21875 \r\nQ 44.046875 74.21875 50.515625 64.515625 \r\nQ 56.984375 54.828125 56.984375 36.375 \r\nQ 56.984375 17.96875 50.515625 8.265625 \r\nQ 44.046875 -1.421875 31.78125 -1.421875 \r\nQ 19.53125 -1.421875 13.0625 8.265625 \r\nQ 6.59375 17.96875 6.59375 36.375 \r\nQ 6.59375 54.828125 13.0625 64.515625 \r\nQ 19.53125 74.21875 31.78125 74.21875 \r\nz\r\n\" id=\"DejaVuSans-48\"/>\r\n      </defs>\r\n      <g transform=\"translate(157.637755 393.431874)rotate(-45)scale(0.1 -0.1)\">\r\n       <use xlink:href=\"#DejaVuSans-48\"/>\r\n      </g>\r\n     </g>\r\n    </g>\r\n    <g id=\"xtick_2\">\r\n     <g id=\"line2d_2\">\r\n      <g>\r\n       <use style=\"stroke:#000000;stroke-width:0.8;\" x=\"342.946126\" xlink:href=\"#mbdc72d0836\" y=\"376.56\"/>\r\n      </g>\r\n     </g>\r\n     <g id=\"text_2\">\r\n      <!-- 1 -->\r\n      <defs>\r\n       <path d=\"M 12.40625 8.296875 \r\nL 28.515625 8.296875 \r\nL 28.515625 63.921875 \r\nL 10.984375 60.40625 \r\nL 10.984375 69.390625 \r\nL 28.421875 72.90625 \r\nL 38.28125 72.90625 \r\nL 38.28125 8.296875 \r\nL 54.390625 8.296875 \r\nL 54.390625 0 \r\nL 12.40625 0 \r\nz\r\n\" id=\"DejaVuSans-49\"/>\r\n      </defs>\r\n      <g transform=\"translate(336.976598 393.431874)rotate(-45)scale(0.1 -0.1)\">\r\n       <use xlink:href=\"#DejaVuSans-49\"/>\r\n      </g>\r\n     </g>\r\n    </g>\r\n    <g id=\"text_3\">\r\n     <!-- Values -->\r\n     <defs>\r\n      <path d=\"M 28.609375 0 \r\nL 0.78125 72.90625 \r\nL 11.078125 72.90625 \r\nL 34.1875 11.53125 \r\nL 57.328125 72.90625 \r\nL 67.578125 72.90625 \r\nL 39.796875 0 \r\nz\r\n\" id=\"DejaVuSans-86\"/>\r\n      <path d=\"M 34.28125 27.484375 \r\nQ 23.390625 27.484375 19.1875 25 \r\nQ 14.984375 22.515625 14.984375 16.5 \r\nQ 14.984375 11.71875 18.140625 8.90625 \r\nQ 21.296875 6.109375 26.703125 6.109375 \r\nQ 34.1875 6.109375 38.703125 11.40625 \r\nQ 43.21875 16.703125 43.21875 25.484375 \r\nL 43.21875 27.484375 \r\nz\r\nM 52.203125 31.203125 \r\nL 52.203125 0 \r\nL 43.21875 0 \r\nL 43.21875 8.296875 \r\nQ 40.140625 3.328125 35.546875 0.953125 \r\nQ 30.953125 -1.421875 24.3125 -1.421875 \r\nQ 15.921875 -1.421875 10.953125 3.296875 \r\nQ 6 8.015625 6 15.921875 \r\nQ 6 25.140625 12.171875 29.828125 \r\nQ 18.359375 34.515625 30.609375 34.515625 \r\nL 43.21875 34.515625 \r\nL 43.21875 35.40625 \r\nQ 43.21875 41.609375 39.140625 45 \r\nQ 35.0625 48.390625 27.6875 48.390625 \r\nQ 23 48.390625 18.546875 47.265625 \r\nQ 14.109375 46.140625 10.015625 43.890625 \r\nL 10.015625 52.203125 \r\nQ 14.9375 54.109375 19.578125 55.046875 \r\nQ 24.21875 56 28.609375 56 \r\nQ 40.484375 56 46.34375 49.84375 \r\nQ 52.203125 43.703125 52.203125 31.203125 \r\nz\r\n\" id=\"DejaVuSans-97\"/>\r\n      <path d=\"M 9.421875 75.984375 \r\nL 18.40625 75.984375 \r\nL 18.40625 0 \r\nL 9.421875 0 \r\nz\r\n\" id=\"DejaVuSans-108\"/>\r\n      <path d=\"M 8.5 21.578125 \r\nL 8.5 54.6875 \r\nL 17.484375 54.6875 \r\nL 17.484375 21.921875 \r\nQ 17.484375 14.15625 20.5 10.265625 \r\nQ 23.53125 6.390625 29.59375 6.390625 \r\nQ 36.859375 6.390625 41.078125 11.03125 \r\nQ 45.3125 15.671875 45.3125 23.6875 \r\nL 45.3125 54.6875 \r\nL 54.296875 54.6875 \r\nL 54.296875 0 \r\nL 45.3125 0 \r\nL 45.3125 8.40625 \r\nQ 42.046875 3.421875 37.71875 1 \r\nQ 33.40625 -1.421875 27.6875 -1.421875 \r\nQ 18.265625 -1.421875 13.375 4.4375 \r\nQ 8.5 10.296875 8.5 21.578125 \r\nz\r\nM 31.109375 56 \r\nz\r\n\" id=\"DejaVuSans-117\"/>\r\n      <path d=\"M 56.203125 29.59375 \r\nL 56.203125 25.203125 \r\nL 14.890625 25.203125 \r\nQ 15.484375 15.921875 20.484375 11.0625 \r\nQ 25.484375 6.203125 34.421875 6.203125 \r\nQ 39.59375 6.203125 44.453125 7.46875 \r\nQ 49.3125 8.734375 54.109375 11.28125 \r\nL 54.109375 2.78125 \r\nQ 49.265625 0.734375 44.1875 -0.34375 \r\nQ 39.109375 -1.421875 33.890625 -1.421875 \r\nQ 20.796875 -1.421875 13.15625 6.1875 \r\nQ 5.515625 13.8125 5.515625 26.8125 \r\nQ 5.515625 40.234375 12.765625 48.109375 \r\nQ 20.015625 56 32.328125 56 \r\nQ 43.359375 56 49.78125 48.890625 \r\nQ 56.203125 41.796875 56.203125 29.59375 \r\nz\r\nM 47.21875 32.234375 \r\nQ 47.125 39.59375 43.09375 43.984375 \r\nQ 39.0625 48.390625 32.421875 48.390625 \r\nQ 24.90625 48.390625 20.390625 44.140625 \r\nQ 15.875 39.890625 15.1875 32.171875 \r\nz\r\n\" id=\"DejaVuSans-101\"/>\r\n      <path d=\"M 44.28125 53.078125 \r\nL 44.28125 44.578125 \r\nQ 40.484375 46.53125 36.375 47.5 \r\nQ 32.28125 48.484375 27.875 48.484375 \r\nQ 21.1875 48.484375 17.84375 46.4375 \r\nQ 14.5 44.390625 14.5 40.28125 \r\nQ 14.5 37.15625 16.890625 35.375 \r\nQ 19.28125 33.59375 26.515625 31.984375 \r\nL 29.59375 31.296875 \r\nQ 39.15625 29.25 43.1875 25.515625 \r\nQ 47.21875 21.78125 47.21875 15.09375 \r\nQ 47.21875 7.46875 41.1875 3.015625 \r\nQ 35.15625 -1.421875 24.609375 -1.421875 \r\nQ 20.21875 -1.421875 15.453125 -0.5625 \r\nQ 10.6875 0.296875 5.421875 2 \r\nL 5.421875 11.28125 \r\nQ 10.40625 8.6875 15.234375 7.390625 \r\nQ 20.0625 6.109375 24.8125 6.109375 \r\nQ 31.15625 6.109375 34.5625 8.28125 \r\nQ 37.984375 10.453125 37.984375 14.40625 \r\nQ 37.984375 18.0625 35.515625 20.015625 \r\nQ 33.0625 21.96875 24.703125 23.78125 \r\nL 21.578125 24.515625 \r\nQ 13.234375 26.265625 9.515625 29.90625 \r\nQ 5.8125 33.546875 5.8125 39.890625 \r\nQ 5.8125 47.609375 11.28125 51.796875 \r\nQ 16.75 56 26.8125 56 \r\nQ 31.78125 56 36.171875 55.265625 \r\nQ 40.578125 54.546875 44.28125 53.078125 \r\nz\r\n\" id=\"DejaVuSans-115\"/>\r\n     </defs>\r\n     <g transform=\"translate(219.840767 414.09931)scale(0.2 -0.2)\">\r\n      <use xlink:href=\"#DejaVuSans-86\"/>\r\n      <use x=\"68.298828\" xlink:href=\"#DejaVuSans-97\"/>\r\n      <use x=\"129.578125\" xlink:href=\"#DejaVuSans-108\"/>\r\n      <use x=\"157.361328\" xlink:href=\"#DejaVuSans-117\"/>\r\n      <use x=\"220.740234\" xlink:href=\"#DejaVuSans-101\"/>\r\n      <use x=\"282.263672\" xlink:href=\"#DejaVuSans-115\"/>\r\n     </g>\r\n    </g>\r\n   </g>\r\n   <g id=\"matplotlib.axis_2\">\r\n    <g id=\"ytick_1\">\r\n     <g id=\"line2d_3\">\r\n      <defs>\r\n       <path d=\"M 0 0 \r\nL -3.5 0 \r\n\" id=\"m7c51cda1e6\" style=\"stroke:#000000;stroke-width:0.8;\"/>\r\n      </defs>\r\n      <g>\r\n       <use style=\"stroke:#000000;stroke-width:0.8;\" x=\"75.73125\" xlink:href=\"#m7c51cda1e6\" y=\"376.56\"/>\r\n      </g>\r\n     </g>\r\n     <g id=\"text_4\">\r\n      <!-- 0 -->\r\n      <g transform=\"translate(62.36875 380.359219)scale(0.1 -0.1)\">\r\n       <use xlink:href=\"#DejaVuSans-48\"/>\r\n      </g>\r\n     </g>\r\n    </g>\r\n    <g id=\"ytick_2\">\r\n     <g id=\"line2d_4\">\r\n      <g>\r\n       <use style=\"stroke:#000000;stroke-width:0.8;\" x=\"75.73125\" xlink:href=\"#m7c51cda1e6\" y=\"317.84981\"/>\r\n      </g>\r\n     </g>\r\n     <g id=\"text_5\">\r\n      <!-- 50000 -->\r\n      <defs>\r\n       <path d=\"M 10.796875 72.90625 \r\nL 49.515625 72.90625 \r\nL 49.515625 64.59375 \r\nL 19.828125 64.59375 \r\nL 19.828125 46.734375 \r\nQ 21.96875 47.46875 24.109375 47.828125 \r\nQ 26.265625 48.1875 28.421875 48.1875 \r\nQ 40.625 48.1875 47.75 41.5 \r\nQ 54.890625 34.8125 54.890625 23.390625 \r\nQ 54.890625 11.625 47.5625 5.09375 \r\nQ 40.234375 -1.421875 26.90625 -1.421875 \r\nQ 22.3125 -1.421875 17.546875 -0.640625 \r\nQ 12.796875 0.140625 7.71875 1.703125 \r\nL 7.71875 11.625 \r\nQ 12.109375 9.234375 16.796875 8.0625 \r\nQ 21.484375 6.890625 26.703125 6.890625 \r\nQ 35.15625 6.890625 40.078125 11.328125 \r\nQ 45.015625 15.765625 45.015625 23.390625 \r\nQ 45.015625 31 40.078125 35.4375 \r\nQ 35.15625 39.890625 26.703125 39.890625 \r\nQ 22.75 39.890625 18.8125 39.015625 \r\nQ 14.890625 38.140625 10.796875 36.28125 \r\nz\r\n\" id=\"DejaVuSans-53\"/>\r\n      </defs>\r\n      <g transform=\"translate(36.91875 321.649028)scale(0.1 -0.1)\">\r\n       <use xlink:href=\"#DejaVuSans-53\"/>\r\n       <use x=\"63.623047\" xlink:href=\"#DejaVuSans-48\"/>\r\n       <use x=\"127.246094\" xlink:href=\"#DejaVuSans-48\"/>\r\n       <use x=\"190.869141\" xlink:href=\"#DejaVuSans-48\"/>\r\n       <use x=\"254.492188\" xlink:href=\"#DejaVuSans-48\"/>\r\n      </g>\r\n     </g>\r\n    </g>\r\n    <g id=\"ytick_3\">\r\n     <g id=\"line2d_5\">\r\n      <g>\r\n       <use style=\"stroke:#000000;stroke-width:0.8;\" x=\"75.73125\" xlink:href=\"#m7c51cda1e6\" y=\"259.139619\"/>\r\n      </g>\r\n     </g>\r\n     <g id=\"text_6\">\r\n      <!-- 100000 -->\r\n      <g transform=\"translate(30.55625 262.938838)scale(0.1 -0.1)\">\r\n       <use xlink:href=\"#DejaVuSans-49\"/>\r\n       <use x=\"63.623047\" xlink:href=\"#DejaVuSans-48\"/>\r\n       <use x=\"127.246094\" xlink:href=\"#DejaVuSans-48\"/>\r\n       <use x=\"190.869141\" xlink:href=\"#DejaVuSans-48\"/>\r\n       <use x=\"254.492188\" xlink:href=\"#DejaVuSans-48\"/>\r\n       <use x=\"318.115234\" xlink:href=\"#DejaVuSans-48\"/>\r\n      </g>\r\n     </g>\r\n    </g>\r\n    <g id=\"ytick_4\">\r\n     <g id=\"line2d_6\">\r\n      <g>\r\n       <use style=\"stroke:#000000;stroke-width:0.8;\" x=\"75.73125\" xlink:href=\"#m7c51cda1e6\" y=\"200.429429\"/>\r\n      </g>\r\n     </g>\r\n     <g id=\"text_7\">\r\n      <!-- 150000 -->\r\n      <g transform=\"translate(30.55625 204.228648)scale(0.1 -0.1)\">\r\n       <use xlink:href=\"#DejaVuSans-49\"/>\r\n       <use x=\"63.623047\" xlink:href=\"#DejaVuSans-53\"/>\r\n       <use x=\"127.246094\" xlink:href=\"#DejaVuSans-48\"/>\r\n       <use x=\"190.869141\" xlink:href=\"#DejaVuSans-48\"/>\r\n       <use x=\"254.492188\" xlink:href=\"#DejaVuSans-48\"/>\r\n       <use x=\"318.115234\" xlink:href=\"#DejaVuSans-48\"/>\r\n      </g>\r\n     </g>\r\n    </g>\r\n    <g id=\"ytick_5\">\r\n     <g id=\"line2d_7\">\r\n      <g>\r\n       <use style=\"stroke:#000000;stroke-width:0.8;\" x=\"75.73125\" xlink:href=\"#m7c51cda1e6\" y=\"141.719239\"/>\r\n      </g>\r\n     </g>\r\n     <g id=\"text_8\">\r\n      <!-- 200000 -->\r\n      <defs>\r\n       <path d=\"M 19.1875 8.296875 \r\nL 53.609375 8.296875 \r\nL 53.609375 0 \r\nL 7.328125 0 \r\nL 7.328125 8.296875 \r\nQ 12.9375 14.109375 22.625 23.890625 \r\nQ 32.328125 33.6875 34.8125 36.53125 \r\nQ 39.546875 41.84375 41.421875 45.53125 \r\nQ 43.3125 49.21875 43.3125 52.78125 \r\nQ 43.3125 58.59375 39.234375 62.25 \r\nQ 35.15625 65.921875 28.609375 65.921875 \r\nQ 23.96875 65.921875 18.8125 64.3125 \r\nQ 13.671875 62.703125 7.8125 59.421875 \r\nL 7.8125 69.390625 \r\nQ 13.765625 71.78125 18.9375 73 \r\nQ 24.125 74.21875 28.421875 74.21875 \r\nQ 39.75 74.21875 46.484375 68.546875 \r\nQ 53.21875 62.890625 53.21875 53.421875 \r\nQ 53.21875 48.921875 51.53125 44.890625 \r\nQ 49.859375 40.875 45.40625 35.40625 \r\nQ 44.1875 33.984375 37.640625 27.21875 \r\nQ 31.109375 20.453125 19.1875 8.296875 \r\nz\r\n\" id=\"DejaVuSans-50\"/>\r\n      </defs>\r\n      <g transform=\"translate(30.55625 145.518458)scale(0.1 -0.1)\">\r\n       <use xlink:href=\"#DejaVuSans-50\"/>\r\n       <use x=\"63.623047\" xlink:href=\"#DejaVuSans-48\"/>\r\n       <use x=\"127.246094\" xlink:href=\"#DejaVuSans-48\"/>\r\n       <use x=\"190.869141\" xlink:href=\"#DejaVuSans-48\"/>\r\n       <use x=\"254.492188\" xlink:href=\"#DejaVuSans-48\"/>\r\n       <use x=\"318.115234\" xlink:href=\"#DejaVuSans-48\"/>\r\n      </g>\r\n     </g>\r\n    </g>\r\n    <g id=\"ytick_6\">\r\n     <g id=\"line2d_8\">\r\n      <g>\r\n       <use style=\"stroke:#000000;stroke-width:0.8;\" x=\"75.73125\" xlink:href=\"#m7c51cda1e6\" y=\"83.009049\"/>\r\n      </g>\r\n     </g>\r\n     <g id=\"text_9\">\r\n      <!-- 250000 -->\r\n      <g transform=\"translate(30.55625 86.808267)scale(0.1 -0.1)\">\r\n       <use xlink:href=\"#DejaVuSans-50\"/>\r\n       <use x=\"63.623047\" xlink:href=\"#DejaVuSans-53\"/>\r\n       <use x=\"127.246094\" xlink:href=\"#DejaVuSans-48\"/>\r\n       <use x=\"190.869141\" xlink:href=\"#DejaVuSans-48\"/>\r\n       <use x=\"254.492188\" xlink:href=\"#DejaVuSans-48\"/>\r\n       <use x=\"318.115234\" xlink:href=\"#DejaVuSans-48\"/>\r\n      </g>\r\n     </g>\r\n    </g>\r\n    <g id=\"text_10\">\r\n     <!-- Frequencies -->\r\n     <defs>\r\n      <path d=\"M 9.8125 72.90625 \r\nL 51.703125 72.90625 \r\nL 51.703125 64.59375 \r\nL 19.671875 64.59375 \r\nL 19.671875 43.109375 \r\nL 48.578125 43.109375 \r\nL 48.578125 34.8125 \r\nL 19.671875 34.8125 \r\nL 19.671875 0 \r\nL 9.8125 0 \r\nz\r\n\" id=\"DejaVuSans-70\"/>\r\n      <path d=\"M 41.109375 46.296875 \r\nQ 39.59375 47.171875 37.8125 47.578125 \r\nQ 36.03125 48 33.890625 48 \r\nQ 26.265625 48 22.1875 43.046875 \r\nQ 18.109375 38.09375 18.109375 28.8125 \r\nL 18.109375 0 \r\nL 9.078125 0 \r\nL 9.078125 54.6875 \r\nL 18.109375 54.6875 \r\nL 18.109375 46.1875 \r\nQ 20.953125 51.171875 25.484375 53.578125 \r\nQ 30.03125 56 36.53125 56 \r\nQ 37.453125 56 38.578125 55.875 \r\nQ 39.703125 55.765625 41.0625 55.515625 \r\nz\r\n\" id=\"DejaVuSans-114\"/>\r\n      <path d=\"M 14.796875 27.296875 \r\nQ 14.796875 17.390625 18.875 11.75 \r\nQ 22.953125 6.109375 30.078125 6.109375 \r\nQ 37.203125 6.109375 41.296875 11.75 \r\nQ 45.40625 17.390625 45.40625 27.296875 \r\nQ 45.40625 37.203125 41.296875 42.84375 \r\nQ 37.203125 48.484375 30.078125 48.484375 \r\nQ 22.953125 48.484375 18.875 42.84375 \r\nQ 14.796875 37.203125 14.796875 27.296875 \r\nz\r\nM 45.40625 8.203125 \r\nQ 42.578125 3.328125 38.25 0.953125 \r\nQ 33.9375 -1.421875 27.875 -1.421875 \r\nQ 17.96875 -1.421875 11.734375 6.484375 \r\nQ 5.515625 14.40625 5.515625 27.296875 \r\nQ 5.515625 40.1875 11.734375 48.09375 \r\nQ 17.96875 56 27.875 56 \r\nQ 33.9375 56 38.25 53.625 \r\nQ 42.578125 51.265625 45.40625 46.390625 \r\nL 45.40625 54.6875 \r\nL 54.390625 54.6875 \r\nL 54.390625 -20.796875 \r\nL 45.40625 -20.796875 \r\nz\r\n\" id=\"DejaVuSans-113\"/>\r\n      <path d=\"M 54.890625 33.015625 \r\nL 54.890625 0 \r\nL 45.90625 0 \r\nL 45.90625 32.71875 \r\nQ 45.90625 40.484375 42.875 44.328125 \r\nQ 39.84375 48.1875 33.796875 48.1875 \r\nQ 26.515625 48.1875 22.3125 43.546875 \r\nQ 18.109375 38.921875 18.109375 30.90625 \r\nL 18.109375 0 \r\nL 9.078125 0 \r\nL 9.078125 54.6875 \r\nL 18.109375 54.6875 \r\nL 18.109375 46.1875 \r\nQ 21.34375 51.125 25.703125 53.5625 \r\nQ 30.078125 56 35.796875 56 \r\nQ 45.21875 56 50.046875 50.171875 \r\nQ 54.890625 44.34375 54.890625 33.015625 \r\nz\r\n\" id=\"DejaVuSans-110\"/>\r\n      <path d=\"M 48.78125 52.59375 \r\nL 48.78125 44.1875 \r\nQ 44.96875 46.296875 41.140625 47.34375 \r\nQ 37.3125 48.390625 33.40625 48.390625 \r\nQ 24.65625 48.390625 19.8125 42.84375 \r\nQ 14.984375 37.3125 14.984375 27.296875 \r\nQ 14.984375 17.28125 19.8125 11.734375 \r\nQ 24.65625 6.203125 33.40625 6.203125 \r\nQ 37.3125 6.203125 41.140625 7.25 \r\nQ 44.96875 8.296875 48.78125 10.40625 \r\nL 48.78125 2.09375 \r\nQ 45.015625 0.34375 40.984375 -0.53125 \r\nQ 36.96875 -1.421875 32.421875 -1.421875 \r\nQ 20.0625 -1.421875 12.78125 6.34375 \r\nQ 5.515625 14.109375 5.515625 27.296875 \r\nQ 5.515625 40.671875 12.859375 48.328125 \r\nQ 20.21875 56 33.015625 56 \r\nQ 37.15625 56 41.109375 55.140625 \r\nQ 45.0625 54.296875 48.78125 52.59375 \r\nz\r\n\" id=\"DejaVuSans-99\"/>\r\n      <path d=\"M 9.421875 54.6875 \r\nL 18.40625 54.6875 \r\nL 18.40625 0 \r\nL 9.421875 0 \r\nz\r\nM 9.421875 75.984375 \r\nL 18.40625 75.984375 \r\nL 18.40625 64.59375 \r\nL 9.421875 64.59375 \r\nz\r\n\" id=\"DejaVuSans-105\"/>\r\n     </defs>\r\n     <g transform=\"translate(22.396875 274.297188)rotate(-90)scale(0.2 -0.2)\">\r\n      <use xlink:href=\"#DejaVuSans-70\"/>\r\n      <use x=\"57.410156\" xlink:href=\"#DejaVuSans-114\"/>\r\n      <use x=\"98.492188\" xlink:href=\"#DejaVuSans-101\"/>\r\n      <use x=\"160.015625\" xlink:href=\"#DejaVuSans-113\"/>\r\n      <use x=\"223.492188\" xlink:href=\"#DejaVuSans-117\"/>\r\n      <use x=\"286.871094\" xlink:href=\"#DejaVuSans-101\"/>\r\n      <use x=\"348.394531\" xlink:href=\"#DejaVuSans-110\"/>\r\n      <use x=\"411.773438\" xlink:href=\"#DejaVuSans-99\"/>\r\n      <use x=\"466.753906\" xlink:href=\"#DejaVuSans-105\"/>\r\n      <use x=\"494.537109\" xlink:href=\"#DejaVuSans-101\"/>\r\n      <use x=\"556.060547\" xlink:href=\"#DejaVuSans-115\"/>\r\n     </g>\r\n    </g>\r\n   </g>\r\n   <g id=\"patch_5\">\r\n    <path d=\"M 75.73125 376.56 \r\nL 75.73125 50.4 \r\n\" style=\"fill:none;stroke:#000000;stroke-linecap:square;stroke-linejoin:miter;stroke-width:0.8;\"/>\r\n   </g>\r\n   <g id=\"patch_6\">\r\n    <path d=\"M 430.822159 376.56 \r\nL 430.822159 50.4 \r\n\" style=\"fill:none;stroke:#000000;stroke-linecap:square;stroke-linejoin:miter;stroke-width:0.8;\"/>\r\n   </g>\r\n   <g id=\"patch_7\">\r\n    <path d=\"M 75.73125 376.56 \r\nL 430.822159 376.56 \r\n\" style=\"fill:none;stroke:#000000;stroke-linecap:square;stroke-linejoin:miter;stroke-width:0.8;\"/>\r\n   </g>\r\n   <g id=\"patch_8\">\r\n    <path d=\"M 75.73125 50.4 \r\nL 430.822159 50.4 \r\n\" style=\"fill:none;stroke:#000000;stroke-linecap:square;stroke-linejoin:miter;stroke-width:0.8;\"/>\r\n   </g>\r\n  </g>\r\n  <g id=\"axes_2\">\r\n   <g id=\"patch_9\">\r\n    <path d=\"M 807.240515 216.08928 \r\nC 807.240515 200.361603 804.396515 184.762759 798.846039 170.047051 \r\nC 793.295563 155.331344 785.129544 141.73986 774.742864 129.929835 \r\nC 764.356183 118.119811 751.919004 108.284727 738.032744 100.900176 \r\nC 724.146484 93.515624 709.03864 88.702584 693.439775 86.693797 \r\nC 677.84091 84.68501 662.006578 85.513386 646.70247 89.138868 \r\nC 631.398363 92.76435 616.875206 99.127542 603.835288 107.920742 \r\nC 590.795371 116.713942 579.452324 127.793092 570.354657 140.622444 \r\nC 561.25699 153.451797 554.553749 167.821169 550.56908 183.035709 \r\nC 546.584411 198.250249 545.383593 214.060699 547.024695 229.702521 \r\nC 548.665796 245.344344 553.121931 260.56128 560.177615 274.617494 \r\nC 567.2333 288.673707 576.772942 301.338916 588.335239 312.000676 \r\nC 599.897535 322.662436 613.293062 331.146076 627.874059 337.041358 \r\nC 642.455056 342.936639 657.982644 346.146981 673.705965 346.517141 \r\nC 689.429285 346.887302 705.090744 344.411217 719.933009 339.208622 \r\nC 734.775274 334.006027 748.555185 326.162155 760.606395 316.056307 \r\nC 772.657606 305.95046 782.782681 293.7482 790.492009 280.039587 \r\nL 676.776515 216.08928 \r\nL 807.240515 216.08928 \r\nz\r\n\" style=\"fill:#092436;opacity:0.5;stroke:#092436;stroke-linejoin:miter;\"/>\r\n   </g>\r\n   <g id=\"patch_10\">\r\n    <path d=\"M 790.492009 280.039587 \r\nC 795.959663 270.317086 800.157922 259.933391 802.983952 249.142848 \r\nC 805.809981 238.352305 807.240516 227.243746 807.240515 216.089274 \r\nL 676.776515 216.08928 \r\nL 790.492009 280.039587 \r\nz\r\n\" style=\"fill:#4c2604;opacity:0.5;stroke:#4c2604;stroke-linejoin:miter;\"/>\r\n   </g>\r\n   <g id=\"patch_11\">\r\n    <path d=\"M 809.849795 213.48 \r\nC 809.849795 197.752323 807.005795 182.153479 801.455319 167.437771 \r\nC 795.904843 152.722064 787.738824 139.13058 777.352144 127.320555 \r\nC 766.965463 115.510531 754.528284 105.675447 740.642024 98.290896 \r\nC 726.755764 90.906344 711.64792 86.093304 696.049055 84.084517 \r\nC 680.45019 82.07573 664.615858 82.904106 649.31175 86.529588 \r\nC 634.007643 90.15507 619.484486 96.518262 606.444568 105.311462 \r\nC 593.404651 114.104662 582.061604 125.183812 572.963937 138.013164 \r\nC 563.86627 150.842517 557.163029 165.211889 553.17836 180.426429 \r\nC 549.193691 195.640969 547.992873 211.451419 549.633975 227.093241 \r\nC 551.275076 242.735064 555.731211 257.952 562.786895 272.008214 \r\nC 569.84258 286.064427 579.382222 298.729636 590.944519 309.391396 \r\nC 602.506815 320.053156 615.902342 328.536796 630.483339 334.432078 \r\nC 645.064336 340.327359 660.591924 343.537701 676.315245 343.907861 \r\nC 692.038565 344.278022 707.700024 341.801937 722.542289 336.599342 \r\nC 737.384554 331.396747 751.164465 323.552875 763.215675 313.447027 \r\nC 775.266886 303.34118 785.391961 291.13892 793.101289 277.430307 \r\nL 679.385795 213.48 \r\nL 809.849795 213.48 \r\nz\r\n\" style=\"fill:#1f77b4;\"/>\r\n   </g>\r\n   <g id=\"patch_12\">\r\n    <path d=\"M 793.101289 277.430307 \r\nC 798.568943 267.707806 802.767202 257.324111 805.593232 246.533568 \r\nC 808.419261 235.743025 809.849796 224.634466 809.849795 213.479994 \r\nL 679.385795 213.48 \r\nL 793.101289 277.430307 \r\nz\r\n\" style=\"fill:#ff7f0e;\"/>\r\n   </g>\r\n   <g id=\"matplotlib.axis_3\">\r\n    <g id=\"text_11\">\r\n     <!-- Relative frequencies -->\r\n     <defs>\r\n      <path d=\"M 44.390625 34.1875 \r\nQ 47.5625 33.109375 50.5625 29.59375 \r\nQ 53.5625 26.078125 56.59375 19.921875 \r\nL 66.609375 0 \r\nL 56 0 \r\nL 46.6875 18.703125 \r\nQ 43.0625 26.03125 39.671875 28.421875 \r\nQ 36.28125 30.8125 30.421875 30.8125 \r\nL 19.671875 30.8125 \r\nL 19.671875 0 \r\nL 9.8125 0 \r\nL 9.8125 72.90625 \r\nL 32.078125 72.90625 \r\nQ 44.578125 72.90625 50.734375 67.671875 \r\nQ 56.890625 62.453125 56.890625 51.90625 \r\nQ 56.890625 45.015625 53.6875 40.46875 \r\nQ 50.484375 35.9375 44.390625 34.1875 \r\nz\r\nM 19.671875 64.796875 \r\nL 19.671875 38.921875 \r\nL 32.078125 38.921875 \r\nQ 39.203125 38.921875 42.84375 42.21875 \r\nQ 46.484375 45.515625 46.484375 51.90625 \r\nQ 46.484375 58.296875 42.84375 61.546875 \r\nQ 39.203125 64.796875 32.078125 64.796875 \r\nz\r\n\" id=\"DejaVuSans-82\"/>\r\n      <path d=\"M 18.3125 70.21875 \r\nL 18.3125 54.6875 \r\nL 36.8125 54.6875 \r\nL 36.8125 47.703125 \r\nL 18.3125 47.703125 \r\nL 18.3125 18.015625 \r\nQ 18.3125 11.328125 20.140625 9.421875 \r\nQ 21.96875 7.515625 27.59375 7.515625 \r\nL 36.8125 7.515625 \r\nL 36.8125 0 \r\nL 27.59375 0 \r\nQ 17.1875 0 13.234375 3.875 \r\nQ 9.28125 7.765625 9.28125 18.015625 \r\nL 9.28125 47.703125 \r\nL 2.6875 47.703125 \r\nL 2.6875 54.6875 \r\nL 9.28125 54.6875 \r\nL 9.28125 70.21875 \r\nz\r\n\" id=\"DejaVuSans-116\"/>\r\n      <path d=\"M 2.984375 54.6875 \r\nL 12.5 54.6875 \r\nL 29.59375 8.796875 \r\nL 46.6875 54.6875 \r\nL 56.203125 54.6875 \r\nL 35.6875 0 \r\nL 23.484375 0 \r\nz\r\n\" id=\"DejaVuSans-118\"/>\r\n      <path id=\"DejaVuSans-32\"/>\r\n      <path d=\"M 37.109375 75.984375 \r\nL 37.109375 68.5 \r\nL 28.515625 68.5 \r\nQ 23.6875 68.5 21.796875 66.546875 \r\nQ 19.921875 64.59375 19.921875 59.515625 \r\nL 19.921875 54.6875 \r\nL 34.71875 54.6875 \r\nL 34.71875 47.703125 \r\nL 19.921875 47.703125 \r\nL 19.921875 0 \r\nL 10.890625 0 \r\nL 10.890625 47.703125 \r\nL 2.296875 47.703125 \r\nL 2.296875 54.6875 \r\nL 10.890625 54.6875 \r\nL 10.890625 58.5 \r\nQ 10.890625 67.625 15.140625 71.796875 \r\nQ 19.390625 75.984375 28.609375 75.984375 \r\nz\r\n\" id=\"DejaVuSans-102\"/>\r\n     </defs>\r\n     <g transform=\"translate(576.83892 395.756875)scale(0.2 -0.2)\">\r\n      <use xlink:href=\"#DejaVuSans-82\"/>\r\n      <use x=\"69.419922\" xlink:href=\"#DejaVuSans-101\"/>\r\n      <use x=\"130.943359\" xlink:href=\"#DejaVuSans-108\"/>\r\n      <use x=\"158.726562\" xlink:href=\"#DejaVuSans-97\"/>\r\n      <use x=\"220.005859\" xlink:href=\"#DejaVuSans-116\"/>\r\n      <use x=\"259.214844\" xlink:href=\"#DejaVuSans-105\"/>\r\n      <use x=\"286.998047\" xlink:href=\"#DejaVuSans-118\"/>\r\n      <use x=\"346.177734\" xlink:href=\"#DejaVuSans-101\"/>\r\n      <use x=\"407.701172\" xlink:href=\"#DejaVuSans-32\"/>\r\n      <use x=\"439.488281\" xlink:href=\"#DejaVuSans-102\"/>\r\n      <use x=\"474.693359\" xlink:href=\"#DejaVuSans-114\"/>\r\n      <use x=\"515.775391\" xlink:href=\"#DejaVuSans-101\"/>\r\n      <use x=\"577.298828\" xlink:href=\"#DejaVuSans-113\"/>\r\n      <use x=\"640.775391\" xlink:href=\"#DejaVuSans-117\"/>\r\n      <use x=\"704.154297\" xlink:href=\"#DejaVuSans-101\"/>\r\n      <use x=\"765.677734\" xlink:href=\"#DejaVuSans-110\"/>\r\n      <use x=\"829.056641\" xlink:href=\"#DejaVuSans-99\"/>\r\n      <use x=\"884.037109\" xlink:href=\"#DejaVuSans-105\"/>\r\n      <use x=\"911.820312\" xlink:href=\"#DejaVuSans-101\"/>\r\n      <use x=\"973.34375\" xlink:href=\"#DejaVuSans-115\"/>\r\n     </g>\r\n    </g>\r\n   </g>\r\n   <g id=\"matplotlib.axis_4\"/>\r\n   <g id=\"text_12\">\r\n    <!-- 91.85% -->\r\n    <defs>\r\n     <path d=\"M 10.984375 1.515625 \r\nL 10.984375 10.5 \r\nQ 14.703125 8.734375 18.5 7.8125 \r\nQ 22.3125 6.890625 25.984375 6.890625 \r\nQ 35.75 6.890625 40.890625 13.453125 \r\nQ 46.046875 20.015625 46.78125 33.40625 \r\nQ 43.953125 29.203125 39.59375 26.953125 \r\nQ 35.25 24.703125 29.984375 24.703125 \r\nQ 19.046875 24.703125 12.671875 31.3125 \r\nQ 6.296875 37.9375 6.296875 49.421875 \r\nQ 6.296875 60.640625 12.9375 67.421875 \r\nQ 19.578125 74.21875 30.609375 74.21875 \r\nQ 43.265625 74.21875 49.921875 64.515625 \r\nQ 56.59375 54.828125 56.59375 36.375 \r\nQ 56.59375 19.140625 48.40625 8.859375 \r\nQ 40.234375 -1.421875 26.421875 -1.421875 \r\nQ 22.703125 -1.421875 18.890625 -0.6875 \r\nQ 15.09375 0.046875 10.984375 1.515625 \r\nz\r\nM 30.609375 32.421875 \r\nQ 37.25 32.421875 41.125 36.953125 \r\nQ 45.015625 41.5 45.015625 49.421875 \r\nQ 45.015625 57.28125 41.125 61.84375 \r\nQ 37.25 66.40625 30.609375 66.40625 \r\nQ 23.96875 66.40625 20.09375 61.84375 \r\nQ 16.21875 57.28125 16.21875 49.421875 \r\nQ 16.21875 41.5 20.09375 36.953125 \r\nQ 23.96875 32.421875 30.609375 32.421875 \r\nz\r\n\" id=\"DejaVuSans-57\"/>\r\n     <path d=\"M 10.6875 12.40625 \r\nL 21 12.40625 \r\nL 21 0 \r\nL 10.6875 0 \r\nz\r\n\" id=\"DejaVuSans-46\"/>\r\n     <path d=\"M 31.78125 34.625 \r\nQ 24.75 34.625 20.71875 30.859375 \r\nQ 16.703125 27.09375 16.703125 20.515625 \r\nQ 16.703125 13.921875 20.71875 10.15625 \r\nQ 24.75 6.390625 31.78125 6.390625 \r\nQ 38.8125 6.390625 42.859375 10.171875 \r\nQ 46.921875 13.96875 46.921875 20.515625 \r\nQ 46.921875 27.09375 42.890625 30.859375 \r\nQ 38.875 34.625 31.78125 34.625 \r\nz\r\nM 21.921875 38.8125 \r\nQ 15.578125 40.375 12.03125 44.71875 \r\nQ 8.5 49.078125 8.5 55.328125 \r\nQ 8.5 64.0625 14.71875 69.140625 \r\nQ 20.953125 74.21875 31.78125 74.21875 \r\nQ 42.671875 74.21875 48.875 69.140625 \r\nQ 55.078125 64.0625 55.078125 55.328125 \r\nQ 55.078125 49.078125 51.53125 44.71875 \r\nQ 48 40.375 41.703125 38.8125 \r\nQ 48.828125 37.15625 52.796875 32.3125 \r\nQ 56.78125 27.484375 56.78125 20.515625 \r\nQ 56.78125 9.90625 50.3125 4.234375 \r\nQ 43.84375 -1.421875 31.78125 -1.421875 \r\nQ 19.734375 -1.421875 13.25 4.234375 \r\nQ 6.78125 9.90625 6.78125 20.515625 \r\nQ 6.78125 27.484375 10.78125 32.3125 \r\nQ 14.796875 37.15625 21.921875 38.8125 \r\nz\r\nM 18.3125 54.390625 \r\nQ 18.3125 48.734375 21.84375 45.5625 \r\nQ 25.390625 42.390625 31.78125 42.390625 \r\nQ 38.140625 42.390625 41.71875 45.5625 \r\nQ 45.3125 48.734375 45.3125 54.390625 \r\nQ 45.3125 60.0625 41.71875 63.234375 \r\nQ 38.140625 66.40625 31.78125 66.40625 \r\nQ 25.390625 66.40625 21.84375 63.234375 \r\nQ 18.3125 60.0625 18.3125 54.390625 \r\nz\r\n\" id=\"DejaVuSans-56\"/>\r\n     <path d=\"M 72.703125 32.078125 \r\nQ 68.453125 32.078125 66.03125 28.46875 \r\nQ 63.625 24.859375 63.625 18.40625 \r\nQ 63.625 12.0625 66.03125 8.421875 \r\nQ 68.453125 4.78125 72.703125 4.78125 \r\nQ 76.859375 4.78125 79.265625 8.421875 \r\nQ 81.6875 12.0625 81.6875 18.40625 \r\nQ 81.6875 24.8125 79.265625 28.4375 \r\nQ 76.859375 32.078125 72.703125 32.078125 \r\nz\r\nM 72.703125 38.28125 \r\nQ 80.421875 38.28125 84.953125 32.90625 \r\nQ 89.5 27.546875 89.5 18.40625 \r\nQ 89.5 9.28125 84.9375 3.921875 \r\nQ 80.375 -1.421875 72.703125 -1.421875 \r\nQ 64.890625 -1.421875 60.34375 3.921875 \r\nQ 55.8125 9.28125 55.8125 18.40625 \r\nQ 55.8125 27.59375 60.375 32.9375 \r\nQ 64.9375 38.28125 72.703125 38.28125 \r\nz\r\nM 22.3125 68.015625 \r\nQ 18.109375 68.015625 15.6875 64.375 \r\nQ 13.28125 60.75 13.28125 54.390625 \r\nQ 13.28125 47.953125 15.671875 44.328125 \r\nQ 18.0625 40.71875 22.3125 40.71875 \r\nQ 26.5625 40.71875 28.96875 44.328125 \r\nQ 31.390625 47.953125 31.390625 54.390625 \r\nQ 31.390625 60.6875 28.953125 64.34375 \r\nQ 26.515625 68.015625 22.3125 68.015625 \r\nz\r\nM 66.40625 74.21875 \r\nL 74.21875 74.21875 \r\nL 28.609375 -1.421875 \r\nL 20.796875 -1.421875 \r\nz\r\nM 22.3125 74.21875 \r\nQ 30.03125 74.21875 34.609375 68.875 \r\nQ 39.203125 63.53125 39.203125 54.390625 \r\nQ 39.203125 45.171875 34.640625 39.84375 \r\nQ 30.078125 34.515625 22.3125 34.515625 \r\nQ 14.546875 34.515625 10.03125 39.859375 \r\nQ 5.515625 45.21875 5.515625 54.390625 \r\nQ 5.515625 63.484375 10.046875 68.84375 \r\nQ 14.59375 74.21875 22.3125 74.21875 \r\nz\r\n\" id=\"DejaVuSans-37\"/>\r\n    </defs>\r\n    <g transform=\"translate(584.59649 196.407232)scale(0.1 -0.1)\">\r\n     <use xlink:href=\"#DejaVuSans-57\"/>\r\n     <use x=\"63.623047\" xlink:href=\"#DejaVuSans-49\"/>\r\n     <use x=\"127.246094\" xlink:href=\"#DejaVuSans-46\"/>\r\n     <use x=\"159.033203\" xlink:href=\"#DejaVuSans-56\"/>\r\n     <use x=\"222.65625\" xlink:href=\"#DejaVuSans-53\"/>\r\n     <use x=\"286.279297\" xlink:href=\"#DejaVuSans-37\"/>\r\n    </g>\r\n   </g>\r\n   <g id=\"text_13\">\r\n    <!-- 8.15% -->\r\n    <g transform=\"translate(739.226663 236.071516)scale(0.1 -0.1)\">\r\n     <use xlink:href=\"#DejaVuSans-56\"/>\r\n     <use x=\"63.623047\" xlink:href=\"#DejaVuSans-46\"/>\r\n     <use x=\"95.410156\" xlink:href=\"#DejaVuSans-49\"/>\r\n     <use x=\"159.033203\" xlink:href=\"#DejaVuSans-53\"/>\r\n     <use x=\"222.65625\" xlink:href=\"#DejaVuSans-37\"/>\r\n    </g>\r\n   </g>\r\n   <g id=\"legend_1\">\r\n    <g id=\"patch_13\">\r\n     <path d=\"M 797.103295 87.75625 \r\nL 835.465795 87.75625 \r\nQ 837.465795 87.75625 837.465795 85.75625 \r\nL 837.465795 57.4 \r\nQ 837.465795 55.4 835.465795 55.4 \r\nL 797.103295 55.4 \r\nQ 795.103295 55.4 795.103295 57.4 \r\nL 795.103295 85.75625 \r\nQ 795.103295 87.75625 797.103295 87.75625 \r\nz\r\n\" style=\"fill:#ffffff;opacity:0.8;stroke:#cccccc;stroke-linejoin:miter;\"/>\r\n    </g>\r\n    <g id=\"patch_14\">\r\n     <path d=\"M 799.103295 66.998437 \r\nL 819.103295 66.998437 \r\nL 819.103295 59.998437 \r\nL 799.103295 59.998437 \r\nz\r\n\" style=\"fill:#1f77b4;\"/>\r\n    </g>\r\n    <g id=\"text_14\">\r\n     <!-- 0 -->\r\n     <g transform=\"translate(827.103295 66.998437)scale(0.1 -0.1)\">\r\n      <use xlink:href=\"#DejaVuSans-48\"/>\r\n     </g>\r\n    </g>\r\n    <g id=\"patch_15\">\r\n     <path d=\"M 799.103295 81.676562 \r\nL 819.103295 81.676562 \r\nL 819.103295 74.676562 \r\nL 799.103295 74.676562 \r\nz\r\n\" style=\"fill:#ff7f0e;\"/>\r\n    </g>\r\n    <g id=\"text_15\">\r\n     <!-- 1 -->\r\n     <g transform=\"translate(827.103295 81.676562)scale(0.1 -0.1)\">\r\n      <use xlink:href=\"#DejaVuSans-49\"/>\r\n     </g>\r\n    </g>\r\n   </g>\r\n  </g>\r\n  <g id=\"text_16\">\r\n   <!-- Empiric statistical distribution: TARGET -->\r\n   <defs>\r\n    <path d=\"M 9.8125 72.90625 \r\nL 55.90625 72.90625 \r\nL 55.90625 64.59375 \r\nL 19.671875 64.59375 \r\nL 19.671875 43.015625 \r\nL 54.390625 43.015625 \r\nL 54.390625 34.71875 \r\nL 19.671875 34.71875 \r\nL 19.671875 8.296875 \r\nL 56.78125 8.296875 \r\nL 56.78125 0 \r\nL 9.8125 0 \r\nz\r\n\" id=\"DejaVuSans-69\"/>\r\n    <path d=\"M 52 44.1875 \r\nQ 55.375 50.25 60.0625 53.125 \r\nQ 64.75 56 71.09375 56 \r\nQ 79.640625 56 84.28125 50.015625 \r\nQ 88.921875 44.046875 88.921875 33.015625 \r\nL 88.921875 0 \r\nL 79.890625 0 \r\nL 79.890625 32.71875 \r\nQ 79.890625 40.578125 77.09375 44.375 \r\nQ 74.3125 48.1875 68.609375 48.1875 \r\nQ 61.625 48.1875 57.5625 43.546875 \r\nQ 53.515625 38.921875 53.515625 30.90625 \r\nL 53.515625 0 \r\nL 44.484375 0 \r\nL 44.484375 32.71875 \r\nQ 44.484375 40.625 41.703125 44.40625 \r\nQ 38.921875 48.1875 33.109375 48.1875 \r\nQ 26.21875 48.1875 22.15625 43.53125 \r\nQ 18.109375 38.875 18.109375 30.90625 \r\nL 18.109375 0 \r\nL 9.078125 0 \r\nL 9.078125 54.6875 \r\nL 18.109375 54.6875 \r\nL 18.109375 46.1875 \r\nQ 21.1875 51.21875 25.484375 53.609375 \r\nQ 29.78125 56 35.6875 56 \r\nQ 41.65625 56 45.828125 52.96875 \r\nQ 50 49.953125 52 44.1875 \r\nz\r\n\" id=\"DejaVuSans-109\"/>\r\n    <path d=\"M 18.109375 8.203125 \r\nL 18.109375 -20.796875 \r\nL 9.078125 -20.796875 \r\nL 9.078125 54.6875 \r\nL 18.109375 54.6875 \r\nL 18.109375 46.390625 \r\nQ 20.953125 51.265625 25.265625 53.625 \r\nQ 29.59375 56 35.59375 56 \r\nQ 45.5625 56 51.78125 48.09375 \r\nQ 58.015625 40.1875 58.015625 27.296875 \r\nQ 58.015625 14.40625 51.78125 6.484375 \r\nQ 45.5625 -1.421875 35.59375 -1.421875 \r\nQ 29.59375 -1.421875 25.265625 0.953125 \r\nQ 20.953125 3.328125 18.109375 8.203125 \r\nz\r\nM 48.6875 27.296875 \r\nQ 48.6875 37.203125 44.609375 42.84375 \r\nQ 40.53125 48.484375 33.40625 48.484375 \r\nQ 26.265625 48.484375 22.1875 42.84375 \r\nQ 18.109375 37.203125 18.109375 27.296875 \r\nQ 18.109375 17.390625 22.1875 11.75 \r\nQ 26.265625 6.109375 33.40625 6.109375 \r\nQ 40.53125 6.109375 44.609375 11.75 \r\nQ 48.6875 17.390625 48.6875 27.296875 \r\nz\r\n\" id=\"DejaVuSans-112\"/>\r\n    <path d=\"M 45.40625 46.390625 \r\nL 45.40625 75.984375 \r\nL 54.390625 75.984375 \r\nL 54.390625 0 \r\nL 45.40625 0 \r\nL 45.40625 8.203125 \r\nQ 42.578125 3.328125 38.25 0.953125 \r\nQ 33.9375 -1.421875 27.875 -1.421875 \r\nQ 17.96875 -1.421875 11.734375 6.484375 \r\nQ 5.515625 14.40625 5.515625 27.296875 \r\nQ 5.515625 40.1875 11.734375 48.09375 \r\nQ 17.96875 56 27.875 56 \r\nQ 33.9375 56 38.25 53.625 \r\nQ 42.578125 51.265625 45.40625 46.390625 \r\nz\r\nM 14.796875 27.296875 \r\nQ 14.796875 17.390625 18.875 11.75 \r\nQ 22.953125 6.109375 30.078125 6.109375 \r\nQ 37.203125 6.109375 41.296875 11.75 \r\nQ 45.40625 17.390625 45.40625 27.296875 \r\nQ 45.40625 37.203125 41.296875 42.84375 \r\nQ 37.203125 48.484375 30.078125 48.484375 \r\nQ 22.953125 48.484375 18.875 42.84375 \r\nQ 14.796875 37.203125 14.796875 27.296875 \r\nz\r\n\" id=\"DejaVuSans-100\"/>\r\n    <path d=\"M 48.6875 27.296875 \r\nQ 48.6875 37.203125 44.609375 42.84375 \r\nQ 40.53125 48.484375 33.40625 48.484375 \r\nQ 26.265625 48.484375 22.1875 42.84375 \r\nQ 18.109375 37.203125 18.109375 27.296875 \r\nQ 18.109375 17.390625 22.1875 11.75 \r\nQ 26.265625 6.109375 33.40625 6.109375 \r\nQ 40.53125 6.109375 44.609375 11.75 \r\nQ 48.6875 17.390625 48.6875 27.296875 \r\nz\r\nM 18.109375 46.390625 \r\nQ 20.953125 51.265625 25.265625 53.625 \r\nQ 29.59375 56 35.59375 56 \r\nQ 45.5625 56 51.78125 48.09375 \r\nQ 58.015625 40.1875 58.015625 27.296875 \r\nQ 58.015625 14.40625 51.78125 6.484375 \r\nQ 45.5625 -1.421875 35.59375 -1.421875 \r\nQ 29.59375 -1.421875 25.265625 0.953125 \r\nQ 20.953125 3.328125 18.109375 8.203125 \r\nL 18.109375 0 \r\nL 9.078125 0 \r\nL 9.078125 75.984375 \r\nL 18.109375 75.984375 \r\nz\r\n\" id=\"DejaVuSans-98\"/>\r\n    <path d=\"M 30.609375 48.390625 \r\nQ 23.390625 48.390625 19.1875 42.75 \r\nQ 14.984375 37.109375 14.984375 27.296875 \r\nQ 14.984375 17.484375 19.15625 11.84375 \r\nQ 23.34375 6.203125 30.609375 6.203125 \r\nQ 37.796875 6.203125 41.984375 11.859375 \r\nQ 46.1875 17.53125 46.1875 27.296875 \r\nQ 46.1875 37.015625 41.984375 42.703125 \r\nQ 37.796875 48.390625 30.609375 48.390625 \r\nz\r\nM 30.609375 56 \r\nQ 42.328125 56 49.015625 48.375 \r\nQ 55.71875 40.765625 55.71875 27.296875 \r\nQ 55.71875 13.875 49.015625 6.21875 \r\nQ 42.328125 -1.421875 30.609375 -1.421875 \r\nQ 18.84375 -1.421875 12.171875 6.21875 \r\nQ 5.515625 13.875 5.515625 27.296875 \r\nQ 5.515625 40.765625 12.171875 48.375 \r\nQ 18.84375 56 30.609375 56 \r\nz\r\n\" id=\"DejaVuSans-111\"/>\r\n    <path d=\"M 11.71875 12.40625 \r\nL 22.015625 12.40625 \r\nL 22.015625 0 \r\nL 11.71875 0 \r\nz\r\nM 11.71875 51.703125 \r\nL 22.015625 51.703125 \r\nL 22.015625 39.3125 \r\nL 11.71875 39.3125 \r\nz\r\n\" id=\"DejaVuSans-58\"/>\r\n    <path d=\"M -0.296875 72.90625 \r\nL 61.375 72.90625 \r\nL 61.375 64.59375 \r\nL 35.5 64.59375 \r\nL 35.5 0 \r\nL 25.59375 0 \r\nL 25.59375 64.59375 \r\nL -0.296875 64.59375 \r\nz\r\n\" id=\"DejaVuSans-84\"/>\r\n    <path d=\"M 34.1875 63.1875 \r\nL 20.796875 26.90625 \r\nL 47.609375 26.90625 \r\nz\r\nM 28.609375 72.90625 \r\nL 39.796875 72.90625 \r\nL 67.578125 0 \r\nL 57.328125 0 \r\nL 50.6875 18.703125 \r\nL 17.828125 18.703125 \r\nL 11.1875 0 \r\nL 0.78125 0 \r\nz\r\n\" id=\"DejaVuSans-65\"/>\r\n    <path d=\"M 59.515625 10.40625 \r\nL 59.515625 29.984375 \r\nL 43.40625 29.984375 \r\nL 43.40625 38.09375 \r\nL 69.28125 38.09375 \r\nL 69.28125 6.78125 \r\nQ 63.578125 2.734375 56.6875 0.65625 \r\nQ 49.8125 -1.421875 42 -1.421875 \r\nQ 24.90625 -1.421875 15.25 8.5625 \r\nQ 5.609375 18.5625 5.609375 36.375 \r\nQ 5.609375 54.25 15.25 64.234375 \r\nQ 24.90625 74.21875 42 74.21875 \r\nQ 49.125 74.21875 55.546875 72.453125 \r\nQ 61.96875 70.703125 67.390625 67.28125 \r\nL 67.390625 56.78125 \r\nQ 61.921875 61.421875 55.765625 63.765625 \r\nQ 49.609375 66.109375 42.828125 66.109375 \r\nQ 29.4375 66.109375 22.71875 58.640625 \r\nQ 16.015625 51.171875 16.015625 36.375 \r\nQ 16.015625 21.625 22.71875 14.15625 \r\nQ 29.4375 6.6875 42.828125 6.6875 \r\nQ 48.046875 6.6875 52.140625 7.59375 \r\nQ 56.25 8.5 59.515625 10.40625 \r\nz\r\n\" id=\"DejaVuSans-71\"/>\r\n   </defs>\r\n   <g transform=\"translate(208.991016 26.196094)scale(0.25 -0.25)\">\r\n    <use xlink:href=\"#DejaVuSans-69\"/>\r\n    <use x=\"63.183594\" xlink:href=\"#DejaVuSans-109\"/>\r\n    <use x=\"160.595703\" xlink:href=\"#DejaVuSans-112\"/>\r\n    <use x=\"224.072266\" xlink:href=\"#DejaVuSans-105\"/>\r\n    <use x=\"251.855469\" xlink:href=\"#DejaVuSans-114\"/>\r\n    <use x=\"292.96875\" xlink:href=\"#DejaVuSans-105\"/>\r\n    <use x=\"320.751953\" xlink:href=\"#DejaVuSans-99\"/>\r\n    <use x=\"375.732422\" xlink:href=\"#DejaVuSans-32\"/>\r\n    <use x=\"407.519531\" xlink:href=\"#DejaVuSans-115\"/>\r\n    <use x=\"459.619141\" xlink:href=\"#DejaVuSans-116\"/>\r\n    <use x=\"498.828125\" xlink:href=\"#DejaVuSans-97\"/>\r\n    <use x=\"560.107422\" xlink:href=\"#DejaVuSans-116\"/>\r\n    <use x=\"599.316406\" xlink:href=\"#DejaVuSans-105\"/>\r\n    <use x=\"627.099609\" xlink:href=\"#DejaVuSans-115\"/>\r\n    <use x=\"679.199219\" xlink:href=\"#DejaVuSans-116\"/>\r\n    <use x=\"718.408203\" xlink:href=\"#DejaVuSans-105\"/>\r\n    <use x=\"746.191406\" xlink:href=\"#DejaVuSans-99\"/>\r\n    <use x=\"801.171875\" xlink:href=\"#DejaVuSans-97\"/>\r\n    <use x=\"862.451172\" xlink:href=\"#DejaVuSans-108\"/>\r\n    <use x=\"890.234375\" xlink:href=\"#DejaVuSans-32\"/>\r\n    <use x=\"922.021484\" xlink:href=\"#DejaVuSans-100\"/>\r\n    <use x=\"985.498047\" xlink:href=\"#DejaVuSans-105\"/>\r\n    <use x=\"1013.28125\" xlink:href=\"#DejaVuSans-115\"/>\r\n    <use x=\"1065.380859\" xlink:href=\"#DejaVuSans-116\"/>\r\n    <use x=\"1104.589844\" xlink:href=\"#DejaVuSans-114\"/>\r\n    <use x=\"1145.703125\" xlink:href=\"#DejaVuSans-105\"/>\r\n    <use x=\"1173.486328\" xlink:href=\"#DejaVuSans-98\"/>\r\n    <use x=\"1236.962891\" xlink:href=\"#DejaVuSans-117\"/>\r\n    <use x=\"1300.341797\" xlink:href=\"#DejaVuSans-116\"/>\r\n    <use x=\"1339.550781\" xlink:href=\"#DejaVuSans-105\"/>\r\n    <use x=\"1367.333984\" xlink:href=\"#DejaVuSans-111\"/>\r\n    <use x=\"1428.515625\" xlink:href=\"#DejaVuSans-110\"/>\r\n    <use x=\"1491.894531\" xlink:href=\"#DejaVuSans-58\"/>\r\n    <use x=\"1525.585938\" xlink:href=\"#DejaVuSans-32\"/>\r\n    <use x=\"1557.373047\" xlink:href=\"#DejaVuSans-84\"/>\r\n    <use x=\"1618.347656\" xlink:href=\"#DejaVuSans-65\"/>\r\n    <use x=\"1686.755859\" xlink:href=\"#DejaVuSans-82\"/>\r\n    <use x=\"1756.238281\" xlink:href=\"#DejaVuSans-71\"/>\r\n    <use x=\"1833.728516\" xlink:href=\"#DejaVuSans-69\"/>\r\n    <use x=\"1896.912109\" xlink:href=\"#DejaVuSans-84\"/>\r\n   </g>\r\n  </g>\r\n </g>\r\n <defs>\r\n  <clipPath id=\"p702ca57638\">\r\n   <rect height=\"326.16\" width=\"355.090909\" x=\"75.73125\" y=\"50.4\"/>\r\n  </clipPath>\r\n </defs>\r\n</svg>\r\n",
      "image/png": "[encoded data removed]"
     },
     "metadata": {
      "needs_background": "light"
     }
    }
   ],
   "source": [
    "fig = categorical_distribution(\n",
    "    train,\n",
    "    'TARGET'\n",
    ")\n",
    "\n",
    "fig.savefig('plots/imba_classes.png')"
   ]
  },
  {
   "cell_type": "markdown",
   "metadata": {
    "Collapsed": "false"
   },
   "source": [
    "## Enregistrer les données prétraitées"
   ]
  },
  {
   "cell_type": "code",
   "execution_count": 1,
   "metadata": {
    "Collapsed": "false"
   },
   "outputs": [
    {
     "output_type": "error",
     "ename": "NameError",
     "evalue": "name 'train' is not defined",
     "traceback": [
      "\u001b[1;31m---------------------------------------------------------------------------\u001b[0m",
      "\u001b[1;31mNameError\u001b[0m                                 Traceback (most recent call last)",
      "\u001b[1;32m<ipython-input-1-d3533890ab25>\u001b[0m in \u001b[0;36m<module>\u001b[1;34m\u001b[0m\n\u001b[1;32m----> 1\u001b[1;33m \u001b[0mtrain\u001b[0m\u001b[1;33m.\u001b[0m\u001b[0mto_csv\u001b[0m\u001b[1;33m(\u001b[0m\u001b[1;34m'data/cleaned/data_train_featured.csv'\u001b[0m\u001b[1;33m)\u001b[0m\u001b[1;33m\u001b[0m\u001b[1;33m\u001b[0m\u001b[0m\n\u001b[0m",
      "\u001b[1;31mNameError\u001b[0m: name 'train' is not defined"
     ]
    }
   ],
   "source": [
    "train.to_csv('data/cleaned/data_train_featured.csv')"
   ]
  },
  {
   "cell_type": "markdown",
   "metadata": {
    "Collapsed": "false",
    "toc-hr-collapsed": true
   },
   "source": [
    "# **PRÉPARATION**"
   ]
  },
  {
   "cell_type": "code",
   "execution_count": 2,
   "metadata": {
    "Collapsed": "false"
   },
   "outputs": [],
   "source": [
    "import pandas as pd\n",
    "\n",
    "train = pd.read_csv('data/cleaned/data_train_featured.csv', index_col='SK_ID_CURR')"
   ]
  },
  {
   "cell_type": "code",
   "execution_count": 3,
   "metadata": {
    "Collapsed": "false"
   },
   "outputs": [
    {
     "output_type": "stream",
     "name": "stdout",
     "text": [
      "Seed value:  125\n"
     ]
    }
   ],
   "source": [
    "# Set random integer (seed) - 891\n",
    "from random import randrange\n",
    "seed = randrange(1000)\n",
    "print(\"Seed value: \", seed)"
   ]
  },
  {
   "cell_type": "markdown",
   "metadata": {
    "Collapsed": "false"
   },
   "source": [
    "## **Séparation** des jeux d'apprentissage (X_fit) et d'évaluation (X_eval)"
   ]
  },
  {
   "cell_type": "code",
   "execution_count": 4,
   "metadata": {
    "Collapsed": "false"
   },
   "outputs": [],
   "source": [
    "from sklearn.model_selection import train_test_split\n",
    "\n",
    "# Splitting features and targets\n",
    "X = train.drop(columns='TARGET')\n",
    "y = train['TARGET']\n",
    "\n",
    "# Splitting into fitting set and evaluation set\n",
    "(X_fit, X_eval, y_fit, y_eval) = train_test_split(\n",
    "        X,\n",
    "        y,\n",
    "        train_size=0.8,\n",
    "        test_size=0.2,\n",
    "        random_state=seed,\n",
    "        stratify=y, # because classes are imbalanced\n",
    "    )"
   ]
  },
  {
   "cell_type": "markdown",
   "metadata": {
    "Collapsed": "false"
   },
   "source": [
    "## **Imputations**"
   ]
  },
  {
   "cell_type": "code",
   "execution_count": 5,
   "metadata": {
    "Collapsed": "false"
   },
   "outputs": [],
   "source": [
    "from sklearn.impute import SimpleImputer\n",
    "\n",
    "imp_mean = SimpleImputer(strategy='mean')\n",
    "imp_mean.fit(X_fit)\n",
    "\n",
    "feature_names = X_fit.columns\n",
    "index_X_fit = X_fit.index\n",
    "index_X_eval = X_eval.index\n",
    "\n",
    "X_fit = pd.DataFrame(imp_mean.transform(X_fit), columns=feature_names, index=index_X_fit)\n",
    "X_eval = pd.DataFrame(imp_mean.transform(X_eval), columns=feature_names, index=index_X_eval)"
   ]
  },
  {
   "cell_type": "raw",
   "metadata": {
    "Collapsed": "false"
   },
   "source": [
    "# DO NOT support missing data\n",
    "# ValueError: Input contains NaN, infinity or a value too large for dtype('float64').\n",
    "\n",
    "from collections import Counter\n",
    "from sklearn.datasets import make_classification\n",
    "\n",
    "X, y = make_classification(n_samples=5000, n_features=2, n_informative=2,\n",
    "                           n_redundant=0, n_repeated=0, n_classes=3,\n",
    "                           n_clusters_per_class=1,\n",
    "                           weights=[0.01, 0.05, 0.94],\n",
    "                           class_sep=0.8, random_state=0)\n",
    "\n",
    "# X = train.drop(columns='TARGET')\n",
    "# y = train['TARGET']\n",
    "\n",
    "print(sorted(Counter(y).items()))\n",
    "\n",
    "# SMOTE (oversampling) and Edited Nearest Neighbours (downsampling)\n",
    "from imblearn.combine import SMOTEENN\n",
    "\n",
    "smote_enn = SMOTEENN(random_state=seed)\n",
    "X_resampled, y_resampled = smote_enn.fit_resample(X, y)\n",
    "print(sorted(Counter(y_resampled).items()))\n",
    "\n",
    "\n",
    "\n",
    "# SMOTE (oversampling) and Tomek’s links (downsampling)\n",
    "from imblearn.combine import SMOTETomek\n",
    "\n",
    "smote_tomek = SMOTETomek(random_state=seed)\n",
    "X_resampled, y_resampled = smote_tomek.fit_resample(X, y)\n",
    "print(sorted(Counter(y_resampled).items()))"
   ]
  },
  {
   "cell_type": "markdown",
   "metadata": {
    "Collapsed": "false"
   },
   "source": [
    "## **Équilibrage des classes** du jeu d'entraînement"
   ]
  },
  {
   "cell_type": "markdown",
   "metadata": {
    "Collapsed": "false"
   },
   "source": [
    "### **Sous-échantillonnage** (*downsampling*) de la classe majoritaire"
   ]
  },
  {
   "cell_type": "code",
   "execution_count": 6,
   "metadata": {
    "Collapsed": "false"
   },
   "outputs": [
    {
     "output_type": "execute_result",
     "data": {
      "text/plain": [
       "1    18787\n",
       "0    18787\n",
       "Name: TARGET, dtype: int64"
      ]
     },
     "metadata": {},
     "execution_count": 6
    }
   ],
   "source": [
    "def downsampling(features_matrix, target_vector):\n",
    "\n",
    "    from sklearn.utils import resample\n",
    "    \n",
    "    # Getting the majority class\n",
    "    majority_class = target_vector.value_counts(sort=True).index[0]\n",
    "    \n",
    "    # Create a mask for the majority class\n",
    "    mask = (target_vector == majority_class)\n",
    "    \n",
    "    # Get the subset of the majority and minority classes\n",
    "    maj_df = features_matrix[mask]\n",
    "    min_df = features_matrix[~mask]\n",
    "    \n",
    "    # Downsampling the majority class\n",
    "    features_matrix_maj_downsampled = resample(\n",
    "        maj_df,\n",
    "        replace=False,\n",
    "        n_samples=len(min_df),\n",
    "        random_state=seed,\n",
    "    )\n",
    "    \n",
    "    # Get the index of the downsampled rows\n",
    "    list_index = features_matrix_maj_downsampled.index\n",
    "    mask2 = (target_vector.index.isin(list_index))\n",
    "    target_vector_maj_downsampled = target_vector[mask2]\n",
    "    \n",
    "    \n",
    "    # Concatenation of the DataFrames for the 2 classes\n",
    "    features_matrix_downsampled = pd.concat([min_df, features_matrix_maj_downsampled])\n",
    "    target_vector_downsampled = pd.concat([target_vector[~mask], target_vector_maj_downsampled])\n",
    "\n",
    "    return (features_matrix_downsampled, target_vector_downsampled)\n",
    "\n",
    "(X_fit_balanced, y_fit_balanced) = downsampling(\n",
    "    features_matrix=X_fit,\n",
    "    target_vector=y_fit,\n",
    ")\n",
    "\n",
    "y_fit_balanced.value_counts()"
   ]
  },
  {
   "cell_type": "markdown",
   "metadata": {
    "Collapsed": "false"
   },
   "source": [
    "## **Échantillonnage** pour la sélection du modèle"
   ]
  },
  {
   "cell_type": "code",
   "execution_count": 7,
   "metadata": {
    "Collapsed": "false"
   },
   "outputs": [
    {
     "output_type": "execute_result",
     "data": {
      "text/plain": [
       "1000"
      ]
     },
     "metadata": {},
     "execution_count": 7
    }
   ],
   "source": [
    "# Sampling the features_matrix\n",
    "X_fit_sample = X_fit_balanced.sample(n=1000, random_state=seed)\n",
    "    \n",
    "# Get the indexes to sample target_vector\n",
    "list_index = X_fit_sample.index\n",
    "mask = (y_fit_balanced.index.isin(list_index))\n",
    "y_fit_sample = y_fit_balanced[mask]\n",
    "\n",
    "# print results\n",
    "len(y_fit_sample)"
   ]
  },
  {
   "cell_type": "markdown",
   "metadata": {
    "Collapsed": "false",
    "toc-hr-collapsed": true
   },
   "source": [
    "# **SÉLECTION DU PIPE-LINE** (*hyperopt*)"
   ]
  },
  {
   "cell_type": "markdown",
   "metadata": {
    "Collapsed": "false"
   },
   "source": [
    "$EI(x) =  \\frac{l(x)}{g(x)}$\n",
    "* EI(x): Expected Improvement\n",
    "* l(x): probability of being in the 1st group (eg best 20%)\n",
    "* g(x): probability of being in the 2nd group (others)"
   ]
  },
  {
   "cell_type": "code",
   "execution_count": 8,
   "metadata": {},
   "outputs": [
    {
     "output_type": "stream",
     "name": "stdout",
     "text": [
      "Requirement already satisfied: hyperopt in c:\\users\\pau\\anaconda3\\lib\\site-packages (0.2.5)\nRequirement already satisfied: scipy in c:\\users\\pau\\appdata\\roaming\\python\\python37\\site-packages (from hyperopt) (1.5.4)\nRequirement already satisfied: future in c:\\users\\pau\\anaconda3\\lib\\site-packages (from hyperopt) (0.18.2)\nRequirement already satisfied: numpy in c:\\users\\pau\\anaconda3\\lib\\site-packages (from hyperopt) (1.19.4)\nRequirement already satisfied: tqdm in c:\\users\\pau\\anaconda3\\lib\\site-packages (from hyperopt) (4.48.2)\nRequirement already satisfied: cloudpickle in c:\\users\\pau\\anaconda3\\lib\\site-packages (from hyperopt) (1.3.0)\nRequirement already satisfied: networkx>=2.2 in c:\\users\\pau\\anaconda3\\lib\\site-packages (from hyperopt) (2.4)\nRequirement already satisfied: six in c:\\users\\pau\\anaconda3\\lib\\site-packages (from hyperopt) (1.14.0)\nRequirement already satisfied: decorator>=4.3.0 in c:\\users\\pau\\anaconda3\\lib\\site-packages (from networkx>=2.2->hyperopt) (4.4.1)\n"
     ]
    }
   ],
   "source": [
    "!pip install hyperopt"
   ]
  },
  {
   "cell_type": "code",
   "execution_count": 241,
   "metadata": {
    "Collapsed": "false"
   },
   "outputs": [],
   "source": [
    "from hyperopt import hp\n",
    "\n",
    "# Initializing the search space\n",
    "space = {}"
   ]
  },
  {
   "cell_type": "markdown",
   "metadata": {
    "Collapsed": "false"
   },
   "source": [
    "## Définition de l'espace des **pré-traitements**"
   ]
  },
  {
   "cell_type": "code",
   "execution_count": 242,
   "metadata": {
    "Collapsed": "false"
   },
   "outputs": [],
   "source": [
    "# Initializing the search space for preprocessing steps\n",
    "space['preprocessing_steps'] = {\n",
    "    'scale':       hp.choice('scale', [True, False]),\n",
    "    'normalize':       hp.choice('normalize', [True, False]),\n",
    "}"
   ]
  },
  {
   "cell_type": "code",
   "execution_count": 243,
   "metadata": {
    "Collapsed": "false"
   },
   "outputs": [],
   "source": [
    "# Define the preprocessing steps\n",
    "def preprocess_steps(params, X_):\n",
    "    from sklearn.preprocessing import Normalizer\n",
    "    from sklearn.preprocessing import StandardScaler\n",
    "    \n",
    "    # Display some information…\n",
    "    print('Preprocessing in progress…')\n",
    "    \n",
    "    if 'normalize' in params['preprocessing_steps']:\n",
    "        if params['preprocessing_steps']['normalize'] == True:\n",
    "            X_ = Normalizer().fit_transform(X_)\n",
    "        \n",
    "    if 'scale' in params['preprocessing_steps']:\n",
    "        if params['preprocessing_steps']['scale'] == True:\n",
    "            X_ = StandardScaler().fit_transform(X_)\n",
    "\n",
    "    return X_"
   ]
  },
  {
   "cell_type": "markdown",
   "metadata": {
    "Collapsed": "false"
   },
   "source": [
    "## Définition de l'espace des **modèles**\n"
   ]
  },
  {
   "source": [
    "Nous allons dans cette partie chercher a améliorer le score obtenue sur les modéles Pycaret en ajoutant certain modéles non disponible."
   ],
   "cell_type": "markdown",
   "metadata": {}
  },
  {
   "cell_type": "code",
   "execution_count": 244,
   "metadata": {
    "Collapsed": "false"
   },
   "outputs": [],
   "source": [
    "# Loading libraries\n",
    "from hyperopt import hp\n",
    "\n",
    "# Initalisation of the spaces of research for models\n",
    "models_spaces = {}"
   ]
  },
  {
   "cell_type": "code",
   "execution_count": 245,
   "metadata": {},
   "outputs": [
    {
     "output_type": "stream",
     "name": "stdout",
     "text": [
      "Requirement already satisfied: lightgbm in c:\\users\\pau\\anaconda3\\lib\\site-packages (3.1.0)\nRequirement already satisfied: scikit-learn!=0.22.0 in c:\\users\\pau\\anaconda3\\lib\\site-packages (from lightgbm) (0.23.2)\nRequirement already satisfied: numpy in c:\\users\\pau\\anaconda3\\lib\\site-packages (from lightgbm) (1.19.4)\nRequirement already satisfied: scipy in c:\\users\\pau\\appdata\\roaming\\python\\python37\\site-packages (from lightgbm) (1.5.4)\nRequirement already satisfied: threadpoolctl>=2.0.0 in c:\\users\\pau\\anaconda3\\lib\\site-packages (from scikit-learn!=0.22.0->lightgbm) (2.1.0)\nRequirement already satisfied: joblib>=0.11 in c:\\users\\pau\\anaconda3\\lib\\site-packages (from scikit-learn!=0.22.0->lightgbm) (0.14.1)\n"
     ]
    }
   ],
   "source": [
    "!pip install lightgbm"
   ]
  },
  {
   "cell_type": "raw",
   "metadata": {
    "Collapsed": "false"
   },
   "source": [
    "from sklearn.svm import SVC\n",
    "\n",
    "### SVM\n",
    "models_spaces['svm'] = {\n",
    "    'model':     SVC,\n",
    "    'C':         hp.uniform('svm_C', 0, 20),\n",
    "    'kernel':    hp.choice('svm_kernel', ['linear', 'sigmoid', 'poly', 'rbf']),\n",
    "    'gamma':     hp.uniform('svm_gamma', 0, 20),\n",
    "    'probability': True,\n",
    "}"
   ]
  },
  {
   "cell_type": "code",
   "execution_count": 246,
   "metadata": {},
   "outputs": [],
   "source": [
    "from sklearn.naive_bayes import GaussianNB\n",
    "\n",
    "### NAIVE BAYES\n",
    "models_spaces['naive_bayes'] = {\n",
    "    'model': GaussianNB,\n",
    "}"
   ]
  },
  {
   "cell_type": "code",
   "execution_count": 247,
   "metadata": {},
   "outputs": [],
   "source": [
    "from lightgbm import LGBMClassifier \n",
    "\n",
    "### lightgbm\n",
    "models_spaces['liggbm'] = {\n",
    "    'model': LGBMClassifier,\n",
    "    'n_estimators': hp.choice('liggbm_n_estimators', np.arange(10, 810, 50, dtype=int)),\n",
    "    'class_weight': hp.choice('liggbm_class_weight', ['balanced']),\n",
    "    'max_depth': hp.choice('liggbm_max_depth', np.arange(1, 30, dtype=int)),\n",
    "    'num_leaves': hp.choice('liggbm_num_leaves', np.arange(4, 101, 4, dtype=int)),\n",
    "    'boosting_type': hp.choice('liggbm_boosting_type', ['gbdt', 'dart', 'goss']),\n",
    "    'learning_rate': hp.loguniform('liggbm_learning_rate', np.log(0.01), np.log(0.2))\n",
    "}"
   ]
  },
  {
   "cell_type": "code",
   "execution_count": 248,
   "metadata": {},
   "outputs": [
    {
     "output_type": "execute_result",
     "data": {
      "text/plain": [
       "\"\\n\\n### Ridge\\nmodels_spaces['ridge'] = { \\n    'model':        Ridge,\\n    'alpha': hp.uniform('alpha', 0.0, 1.0),\\n    'fit_intercept' : hp.choice('ridge_fit_intercept', [True, False]),\\n    'max_iter' :      hp.choice('ridge_max_iter', range(100,1000)),\\n    'tol' :           hp.uniform('ridge_tol', 0.00001, 0.0001),\\n    'solver' :        hp.choice('ridge_solver', ['saga']),\\n}\""
      ]
     },
     "metadata": {},
     "execution_count": 248
    }
   ],
   "source": [
    "from sklearn.linear_model import Ridge\n",
    "\"\"\"\n",
    "Does not have a predict proba method because its a linear model, can't be use with hyperopt\n",
    "### Ridge\n",
    "models_spaces['ridge'] = { \n",
    "    'model':        Ridge,\n",
    "    'alpha': hp.uniform('alpha', 0.0, 1.0),\n",
    "    'fit_intercept' : hp.choice('ridge_fit_intercept', [True, False]),\n",
    "    'max_iter' :      hp.choice('ridge_max_iter', range(100,1000)),\n",
    "    'tol' :           hp.uniform('ridge_tol', 0.00001, 0.0001),\n",
    "    'solver' :        hp.choice('ridge_solver', ['saga']),\n",
    "}\"\"\""
   ]
  },
  {
   "cell_type": "code",
   "execution_count": 249,
   "metadata": {},
   "outputs": [
    {
     "output_type": "execute_result",
     "data": {
      "text/plain": [
       "sklearn.linear_model._ridge.Ridge"
      ]
     },
     "metadata": {},
     "execution_count": 249
    }
   ],
   "source": [
    "Ridge"
   ]
  },
  {
   "cell_type": "code",
   "execution_count": 250,
   "metadata": {},
   "outputs": [],
   "source": [
    "from sklearn.discriminant_analysis import LinearDiscriminantAnalysis as LDA\n",
    "\n",
    "### LDA\n",
    "models_spaces['LDA'] = { \n",
    "    'model':        LDA,\n",
    "    'solver': hp.choice('lda_solver', ['svd', 'lsqr', 'eigen']),\n",
    "}"
   ]
  },
  {
   "cell_type": "code",
   "execution_count": 251,
   "metadata": {
    "Collapsed": "false"
   },
   "outputs": [
    {
     "output_type": "execute_result",
     "data": {
      "text/plain": [
       "'from sklearn.ensemble.forest import RandomForestClassifier\\n\\n### RANDOM FOREST\\nmodels_spaces[\\'rf\\'] = { \\n    \\'model\\':        RandomForestClassifier,\\n    \\'max_depth\\':    hp.choice(\\'rf_max_depth\\', range(1,20)),\\n    \\'max_features\\': hp.choice(\\'rf_max_features\\', range(1,3)),\\n    \\'n_estimators\\': hp.choice(\\'rf_n_estimators\\', range(10,50)),\\n    \\'criterion\\':    hp.choice(\\'rf_criterion\\', [\"gini\", \"entropy\"]),\\n}'"
      ]
     },
     "metadata": {},
     "execution_count": 251
    }
   ],
   "source": [
    "\"\"\"from sklearn.ensemble.forest import RandomForestClassifier\n",
    "\n",
    "### RANDOM FOREST\n",
    "models_spaces['rf'] = { \n",
    "    'model':        RandomForestClassifier,\n",
    "    'max_depth':    hp.choice('rf_max_depth', range(1,20)),\n",
    "    'max_features': hp.choice('rf_max_features', range(1,3)),\n",
    "    'n_estimators': hp.choice('rf_n_estimators', range(10,50)),\n",
    "    'criterion':    hp.choice('rf_criterion', [\"gini\", \"entropy\"]),\n",
    "}\"\"\""
   ]
  },
  {
   "cell_type": "code",
   "execution_count": 252,
   "metadata": {
    "Collapsed": "false"
   },
   "outputs": [
    {
     "output_type": "execute_result",
     "data": {
      "text/plain": [
       "\"from sklearn.linear_model import LogisticRegression\\n\\n### LOGISTIC REGRESSION\\nmodels_spaces['logit'] = { \\n    'model':          LogisticRegression,\\n    'warm_start' :    hp.choice('logit_warm_start', [True, False]),\\n    'fit_intercept' : hp.choice('logit_fit_intercept', [True, False]),\\n    'tol' :           hp.uniform('logit_tol', 0.00001, 0.0001),\\n    'C' :             hp.uniform('logit_C', 0.05, 3),\\n    'solver' :        hp.choice('logit_solver', ['newton-cg', 'lbfgs', 'liblinear']),\\n    'max_iter' :      hp.choice('logit_max_iter', range(100,1000)),\\n    'multi_class' :   'auto',\\n    'class_weight' :  'balanced',\\n}\""
      ]
     },
     "metadata": {},
     "execution_count": 252
    }
   ],
   "source": [
    "\"\"\"from sklearn.linear_model import LogisticRegression\n",
    "\n",
    "### LOGISTIC REGRESSION\n",
    "models_spaces['logit'] = { \n",
    "    'model':          LogisticRegression,\n",
    "    'warm_start' :    hp.choice('logit_warm_start', [True, False]),\n",
    "    'fit_intercept' : hp.choice('logit_fit_intercept', [True, False]),\n",
    "    'tol' :           hp.uniform('logit_tol', 0.00001, 0.0001),\n",
    "    'C' :             hp.uniform('logit_C', 0.05, 3),\n",
    "    'solver' :        hp.choice('logit_solver', ['newton-cg', 'lbfgs', 'liblinear']),\n",
    "    'max_iter' :      hp.choice('logit_max_iter', range(100,1000)),\n",
    "    'multi_class' :   'auto',\n",
    "    'class_weight' :  'balanced',\n",
    "}\"\"\""
   ]
  },
  {
   "cell_type": "raw",
   "metadata": {
    "Collapsed": "false"
   },
   "source": [
    "from sklearn.neighbors import KNeighborsClassifier\n",
    "\n",
    "### k-NEAREST NEIGHBORS\n",
    "models_spaces['knn'] = {\n",
    "    'model': KNeighborsClassifier,\n",
    "    'n_neighbors': hp.choice('knn_n_neighbors', range(1,100)),\n",
    "}"
   ]
  },
  {
   "cell_type": "code",
   "execution_count": 253,
   "metadata": {
    "Collapsed": "false"
   },
   "outputs": [],
   "source": [
    "# Creating the whole space from all the model-specific spaces\n",
    "space['models_spaces'] = hp.choice(\n",
    "        'models_spaces',\n",
    "        [ models_spaces[key] for key in models_spaces ]\n",
    "    )"
   ]
  },
  {
   "cell_type": "markdown",
   "metadata": {
    "Collapsed": "false",
    "toc-hr-collapsed": true
   },
   "source": [
    "## Définition de la **métrique de sélection**\n"
   ]
  },
  {
   "cell_type": "markdown",
   "metadata": {
    "Collapsed": "false"
   },
   "source": [
    "### **Métrique** personnalisée\n",
    "\n",
    "* $gain = TP·TP\\_value + TN·TN\\_value + FP·FP\\_value + FN·FN\\_value$\n",
    "* $best = (TN+FP)·TN\\_value + (TP+FN)·TP\\_value$\n",
    "* $baseline = (TN+FP)·TN\\_value + (TP+FN)·FN\\_value$\n",
    "\n",
    "=> $score = \\frac{gain - baseline}{best - baseline} ∈ [0 ; 1]$\n",
    "\n",
    "=> $model\\_score = \\underset{threshold \\in [0;1]}{\\text{max}} [score] ∈ [0 ; 1]$"
   ]
  },
  {
   "cell_type": "code",
   "execution_count": 254,
   "metadata": {
    "Collapsed": "false"
   },
   "outputs": [],
   "source": [
    "import numpy as np\n",
    "from sklearn.metrics import confusion_matrix\n",
    "\n",
    "def custom_score(y_true, y_pred):\n",
    "    # Relative loss and gains for each case\n",
    "    TP_value = 0       # expected default\n",
    "    FP_value = 0       # unexpected not-default (real: not-default, predicted: default)\n",
    "    FN_value = -10     # unexpected default (real: default(P), predicted: not-default(N))\n",
    "    TN_value = 1       # expected not-default\n",
    "\n",
    "    # Confusion matrix\n",
    "    (TN, FP, FN, TP) = confusion_matrix(y_true, y_pred).ravel()\n",
    "\n",
    "    # Full negative and positive cases\n",
    "    N = TN + FP # total true not-default\n",
    "    P = TP + FN # total true default\n",
    "\n",
    "    gain = TP*TP_value + TN*TN_value + FP*FP_value + FN*FN_value\n",
    "    best = N*TN_value + P*TP_value\n",
    "    # worst = P*FN_value + N*FP_value\n",
    "    # baseline : strategy : “most_frequent” (N)\n",
    "    baseline = N*TN_value + P*FN_value\n",
    "    \n",
    "    # normalize to get score between 0 (baseline) and 1\n",
    "    score = (gain - baseline) / (best - baseline)\n",
    "    return score\n",
    "\n",
    "\n",
    "def predict_threshold(model, X, threshold=0.5):\n",
    "    predictions = model.predict_proba(X)\n",
    "    mask = (predictions[:, 1] > threshold)\n",
    "    return mask.astype(int)\n",
    "\n",
    "\n",
    "def custom_scorer(model, X, y_true):\n",
    "    scores = []\n",
    "    for threshold in np.linspace(0, 1, num=101):\n",
    "    #threshold = 0.5\n",
    "        y_pred = predict_threshold(model, X, threshold=threshold)\n",
    "        score = custom_score(y_true, y_pred)\n",
    "        scores.append(score)\n",
    "    # print(max(scores))\n",
    "    return max(scores)\n",
    "    # return score"
   ]
  },
  {
   "cell_type": "markdown",
   "metadata": {
    "Collapsed": "false"
   },
   "source": [
    "### **Générateur de plis**"
   ]
  },
  {
   "cell_type": "code",
   "execution_count": 255,
   "metadata": {
    "Collapsed": "false"
   },
   "outputs": [],
   "source": [
    "from sklearn.model_selection import KFold\n",
    "\n",
    "# Define the cross-validation generator\n",
    "cv_inner = KFold(\n",
    "    n_splits=5, # number of folds (default=5)\n",
    "    shuffle=True, # shuffle the data before splitting into batche\n",
    "    random_state=seed, # seeding the random number generator for shuffling\n",
    ")"
   ]
  },
  {
   "cell_type": "markdown",
   "metadata": {
    "Collapsed": "false"
   },
   "source": [
    "### **Validation croisée**"
   ]
  },
  {
   "cell_type": "code",
   "execution_count": 256,
   "metadata": {
    "Collapsed": "false"
   },
   "outputs": [],
   "source": [
    "from sklearn.model_selection import cross_validate\n",
    "from sklearn.metrics import make_scorer\n",
    "\n",
    "# Define the loss metric for the model\n",
    "def get_acc_status(clf, X_, y):\n",
    "    \n",
    "    # Display some information…\n",
    "    print('Cross-validation in progress…')\n",
    "    \n",
    "    # Proceed to the cross-validation\n",
    "    # cv_result is a dict : test_score, train_score, fit_time, score_time, estimator\n",
    "    cv_results = cross_validate(\n",
    "        clf,\n",
    "        X_,\n",
    "        y,\n",
    "        cv=cv_inner,\n",
    "        scoring=custom_scorer,\n",
    "    )\n",
    "    \n",
    "    loss = -cv_results['test_score'].mean()\n",
    "    \n",
    "    # displays results\n",
    "    print(\"Loss of the model:\", loss)\n",
    "    \n",
    "    return {\n",
    "        'loss': loss,\n",
    "        'loss_std': cv_results['test_score'].std(),\n",
    "        'status': STATUS_OK,\n",
    "    }"
   ]
  },
  {
   "cell_type": "markdown",
   "metadata": {
    "Collapsed": "false"
   },
   "source": [
    "## Définition de la \"**fonction objectif**\" d'*Hyperopt*"
   ]
  },
  {
   "cell_type": "code",
   "execution_count": 257,
   "metadata": {
    "Collapsed": "false"
   },
   "outputs": [],
   "source": [
    "# Define th objective function\n",
    "def obj_fnc(params):\n",
    "        # Display the set of parameters currently evaluated\n",
    "        print('Parameters tested:', params)\n",
    "        \n",
    "        # proceed to preprocessing\n",
    "        X_fit_ = preprocess_steps(params, X_fit[:])\n",
    "        \n",
    "        # get all parameters, except the model\n",
    "        parameters = params['models_spaces'].copy()\n",
    "        del parameters['model']\n",
    "        \n",
    "        # instanciation of the classifier model with parameters\n",
    "        clf = params['models_spaces']['model'](**parameters)\n",
    "        \n",
    "        # return loss and status\n",
    "        return(get_acc_status(clf, X_fit_, y_fit))"
   ]
  },
  {
   "cell_type": "markdown",
   "metadata": {
    "Collapsed": "false"
   },
   "source": [
    "## Définition de la **recherche**"
   ]
  },
  {
   "cell_type": "code",
   "execution_count": 258,
   "metadata": {
    "Collapsed": "false",
    "scrolled": true
   },
   "outputs": [],
   "source": [
    "# load libraries\n",
    "from hyperopt import hp, tpe, fmin, Trials, STATUS_OK, space_eval\n",
    "import pickle\n",
    "\n",
    "def run_trials():\n",
    "\n",
    "    trials_step = 1  # how many additional trials to do after loading saved trials. 1 = save after iteration\n",
    "    initial_evals = 1  # initial max_trials. put something small to not have to wait\n",
    "\n",
    "    try:  # try to load an already saved trials object, and increase the max\n",
    "        hypopt_trials = pickle.load(open(\"hp_trials/trials.hyperopt\", \"rb\"))\n",
    "        print(\"Found saved Trials! Loading...\")\n",
    "        max_evals = len(hypopt_trials.trials) + trials_step\n",
    "        print(\"Rerunning from {} trials.\".format(len(hypopt_trials.trials)))\n",
    "        \n",
    "    except:  # create a new trials object and start searching\n",
    "        print(\"Unable to load previous trials...\")\n",
    "        hypopt_trials = Trials()\n",
    "        max_evals = initial_evals\n",
    "\n",
    "    # Optimisation accross the search space\n",
    "    global best_params\n",
    "    best_params = fmin(\n",
    "        obj_fnc,\n",
    "        space=space,\n",
    "        algo=tpe.suggest,\n",
    "        max_evals=max_evals,\n",
    "        trials=hypopt_trials\n",
    "    )\n",
    "\n",
    "    # save the trials object\n",
    "    with open(\"hp_trials/trials.hyperopt\", mode=\"wb\") as f:\n",
    "        pickle.dump(hypopt_trials, f)\n",
    "        \n",
    "    # get the best_params and save them\n",
    "    best_params = space_eval(space, best_params)\n",
    "    with open(\"hp_trials/best_params.hyperopt\", mode=\"wb\") as f:\n",
    "        pickle.dump(best_params, f)\n",
    "    \n",
    "    # print the main results\n",
    "    print(\n",
    "        #\"\\nAlgo:\", best_params['models_spaces']['model'],\n",
    "        \"\\nBest loss:\", hypopt_trials.best_trial['result']['loss'],\n",
    "        #\"\\nPreprocessing:\", best_params['preprocessing_steps'],\n",
    "        #\"\\nModel params:\", best_params['models_spaces'],\n",
    "        \"\\n----------------------\",\n",
    "    )"
   ]
  },
  {
   "cell_type": "markdown",
   "metadata": {
    "Collapsed": "false"
   },
   "source": [
    "## Exécution de la **recherche** (persistante)"
   ]
  },
  {
   "cell_type": "code",
   "execution_count": 240,
   "metadata": {
    "Collapsed": "false",
    "scrolled": true
   },
   "outputs": [
    {
     "output_type": "stream",
     "name": "stdout",
     "text": [
      "Requirement already satisfied: keyboard in c:\\users\\pau\\anaconda3\\lib\\site-packages (0.13.5)\n",
      "\n",
      "RUNNING... Press 'ESC' key to interrupt.\n",
      "Found saved Trials! Loading...\n",
      "Rerunning from 2 trials.\n",
      "Parameters tested:\n",
      "{'models_spaces': {'model': <class 'sklearn.discriminant_analysis.LinearDiscriminantAnalysis'>, 'solver': 'eigen'}, 'preprocessing_steps': {'normalize': True, 'scale': False}}\n",
      "Preprocessing in progress…\n",
      "Cross-validation in progress…\n",
      "Loss of the model:\n",
      "nan\n",
      "100%|██████████| 3/3 [00:23<00:00,  7.83s/trial, best loss: -0.31372761576837743]\n"
     ]
    },
    {
     "output_type": "error",
     "ename": "IndexError",
     "evalue": "list index out of range",
     "traceback": [
      "\u001b[1;31m---------------------------------------------------------------------------\u001b[0m",
      "\u001b[1;31mIndexError\u001b[0m                                Traceback (most recent call last)",
      "\u001b[1;32m<ipython-input-240-52de5fbb3228>\u001b[0m in \u001b[0;36m<module>\u001b[1;34m\u001b[0m\n\u001b[0;32m     21\u001b[0m     \u001b[0mprint\u001b[0m\u001b[1;33m(\u001b[0m\u001b[1;34m'\\nINTERRUPTED!'\u001b[0m\u001b[1;33m)\u001b[0m\u001b[1;33m\u001b[0m\u001b[1;33m\u001b[0m\u001b[0m\n\u001b[0;32m     22\u001b[0m \u001b[1;33m\u001b[0m\u001b[0m\n\u001b[1;32m---> 23\u001b[1;33m \u001b[0mtrials_loop\u001b[0m\u001b[1;33m(\u001b[0m\u001b[1;33m)\u001b[0m\u001b[1;33m\u001b[0m\u001b[1;33m\u001b[0m\u001b[0m\n\u001b[0m",
      "\u001b[1;32m<ipython-input-240-52de5fbb3228>\u001b[0m in \u001b[0;36mtrials_loop\u001b[1;34m()\u001b[0m\n\u001b[0;32m     17\u001b[0m     \u001b[1;32mwhile\u001b[0m \u001b[0mkeep_going\u001b[0m\u001b[1;33m:\u001b[0m\u001b[1;33m\u001b[0m\u001b[1;33m\u001b[0m\u001b[0m\n\u001b[0;32m     18\u001b[0m         \u001b[0mprint\u001b[0m\u001b[1;33m(\u001b[0m\u001b[1;34m\"\\nRUNNING... Press 'ESC' key to interrupt.\"\u001b[0m\u001b[1;33m)\u001b[0m\u001b[1;33m\u001b[0m\u001b[1;33m\u001b[0m\u001b[0m\n\u001b[1;32m---> 19\u001b[1;33m         \u001b[0mrun_trials\u001b[0m\u001b[1;33m(\u001b[0m\u001b[1;33m)\u001b[0m\u001b[1;33m\u001b[0m\u001b[1;33m\u001b[0m\u001b[0m\n\u001b[0m\u001b[0;32m     20\u001b[0m \u001b[1;33m\u001b[0m\u001b[0m\n\u001b[0;32m     21\u001b[0m     \u001b[0mprint\u001b[0m\u001b[1;33m(\u001b[0m\u001b[1;34m'\\nINTERRUPTED!'\u001b[0m\u001b[1;33m)\u001b[0m\u001b[1;33m\u001b[0m\u001b[1;33m\u001b[0m\u001b[0m\n",
      "\u001b[1;32m<ipython-input-239-c42ddab6362c>\u001b[0m in \u001b[0;36mrun_trials\u001b[1;34m()\u001b[0m\n\u001b[0;32m     34\u001b[0m \u001b[1;33m\u001b[0m\u001b[0m\n\u001b[0;32m     35\u001b[0m     \u001b[1;31m# get the best_params and save them\u001b[0m\u001b[1;33m\u001b[0m\u001b[1;33m\u001b[0m\u001b[1;33m\u001b[0m\u001b[0m\n\u001b[1;32m---> 36\u001b[1;33m     \u001b[0mbest_params\u001b[0m \u001b[1;33m=\u001b[0m \u001b[0mspace_eval\u001b[0m\u001b[1;33m(\u001b[0m\u001b[0mspace\u001b[0m\u001b[1;33m,\u001b[0m \u001b[0mbest_params\u001b[0m\u001b[1;33m)\u001b[0m\u001b[1;33m\u001b[0m\u001b[1;33m\u001b[0m\u001b[0m\n\u001b[0m\u001b[0;32m     37\u001b[0m     \u001b[1;32mwith\u001b[0m \u001b[0mopen\u001b[0m\u001b[1;33m(\u001b[0m\u001b[1;34m\"hp_trials/best_params.hyperopt\"\u001b[0m\u001b[1;33m,\u001b[0m \u001b[0mmode\u001b[0m\u001b[1;33m=\u001b[0m\u001b[1;34m\"wb\"\u001b[0m\u001b[1;33m)\u001b[0m \u001b[1;32mas\u001b[0m \u001b[0mf\u001b[0m\u001b[1;33m:\u001b[0m\u001b[1;33m\u001b[0m\u001b[1;33m\u001b[0m\u001b[0m\n\u001b[0;32m     38\u001b[0m         \u001b[0mpickle\u001b[0m\u001b[1;33m.\u001b[0m\u001b[0mdump\u001b[0m\u001b[1;33m(\u001b[0m\u001b[0mbest_params\u001b[0m\u001b[1;33m,\u001b[0m \u001b[0mf\u001b[0m\u001b[1;33m)\u001b[0m\u001b[1;33m\u001b[0m\u001b[1;33m\u001b[0m\u001b[0m\n",
      "\u001b[1;32m~\\anaconda3\\lib\\site-packages\\hyperopt\\fmin.py\u001b[0m in \u001b[0;36mspace_eval\u001b[1;34m(space, hp_assignment)\u001b[0m\n\u001b[0;32m    583\u001b[0m             \u001b[1;32mif\u001b[0m \u001b[0mlabel\u001b[0m \u001b[1;32min\u001b[0m \u001b[0mhp_assignment\u001b[0m\u001b[1;33m:\u001b[0m\u001b[1;33m\u001b[0m\u001b[1;33m\u001b[0m\u001b[0m\n\u001b[0;32m    584\u001b[0m                 \u001b[0mmemo\u001b[0m\u001b[1;33m[\u001b[0m\u001b[0mnode\u001b[0m\u001b[1;33m]\u001b[0m \u001b[1;33m=\u001b[0m \u001b[0mhp_assignment\u001b[0m\u001b[1;33m[\u001b[0m\u001b[0mlabel\u001b[0m\u001b[1;33m]\u001b[0m\u001b[1;33m\u001b[0m\u001b[1;33m\u001b[0m\u001b[0m\n\u001b[1;32m--> 585\u001b[1;33m     \u001b[0mrval\u001b[0m \u001b[1;33m=\u001b[0m \u001b[0mpyll\u001b[0m\u001b[1;33m.\u001b[0m\u001b[0mrec_eval\u001b[0m\u001b[1;33m(\u001b[0m\u001b[0mspace\u001b[0m\u001b[1;33m,\u001b[0m \u001b[0mmemo\u001b[0m\u001b[1;33m=\u001b[0m\u001b[0mmemo\u001b[0m\u001b[1;33m)\u001b[0m\u001b[1;33m\u001b[0m\u001b[1;33m\u001b[0m\u001b[0m\n\u001b[0m\u001b[0;32m    586\u001b[0m     \u001b[1;32mreturn\u001b[0m \u001b[0mrval\u001b[0m\u001b[1;33m\u001b[0m\u001b[1;33m\u001b[0m\u001b[0m\n\u001b[0;32m    587\u001b[0m \u001b[1;33m\u001b[0m\u001b[0m\n",
      "\u001b[1;32m~\\anaconda3\\lib\\site-packages\\hyperopt\\pyll\\base.py\u001b[0m in \u001b[0;36mrec_eval\u001b[1;34m(expr, deepcopy_inputs, memo, max_program_len, memo_gc, print_trace, print_node_on_error)\u001b[0m\n\u001b[0;32m    872\u001b[0m                 \u001b[1;32mif\u001b[0m \u001b[0mswitch_i\u001b[0m \u001b[1;33m!=\u001b[0m \u001b[0mint\u001b[0m\u001b[1;33m(\u001b[0m\u001b[0mswitch_i\u001b[0m\u001b[1;33m)\u001b[0m \u001b[1;32mor\u001b[0m \u001b[0mswitch_i\u001b[0m \u001b[1;33m<\u001b[0m \u001b[1;36m0\u001b[0m\u001b[1;33m:\u001b[0m\u001b[1;33m\u001b[0m\u001b[1;33m\u001b[0m\u001b[0m\n\u001b[0;32m    873\u001b[0m                     \u001b[1;32mraise\u001b[0m \u001b[0mValueError\u001b[0m\u001b[1;33m(\u001b[0m\u001b[1;34m\"switch pos must be positive int\"\u001b[0m\u001b[1;33m,\u001b[0m \u001b[0mswitch_i\u001b[0m\u001b[1;33m)\u001b[0m\u001b[1;33m\u001b[0m\u001b[1;33m\u001b[0m\u001b[0m\n\u001b[1;32m--> 874\u001b[1;33m                 \u001b[0mrval_var\u001b[0m \u001b[1;33m=\u001b[0m \u001b[0mnode\u001b[0m\u001b[1;33m.\u001b[0m\u001b[0mpos_args\u001b[0m\u001b[1;33m[\u001b[0m\u001b[0mint\u001b[0m\u001b[1;33m(\u001b[0m\u001b[0mswitch_i\u001b[0m\u001b[1;33m)\u001b[0m \u001b[1;33m+\u001b[0m \u001b[1;36m1\u001b[0m\u001b[1;33m]\u001b[0m\u001b[1;33m\u001b[0m\u001b[1;33m\u001b[0m\u001b[0m\n\u001b[0m\u001b[0;32m    875\u001b[0m                 \u001b[1;32mif\u001b[0m \u001b[0mrval_var\u001b[0m \u001b[1;32min\u001b[0m \u001b[0mmemo\u001b[0m\u001b[1;33m:\u001b[0m\u001b[1;33m\u001b[0m\u001b[1;33m\u001b[0m\u001b[0m\n\u001b[0;32m    876\u001b[0m                     \u001b[0mset_memo\u001b[0m\u001b[1;33m(\u001b[0m\u001b[0mnode\u001b[0m\u001b[1;33m,\u001b[0m \u001b[0mmemo\u001b[0m\u001b[1;33m[\u001b[0m\u001b[0mrval_var\u001b[0m\u001b[1;33m]\u001b[0m\u001b[1;33m)\u001b[0m\u001b[1;33m\u001b[0m\u001b[1;33m\u001b[0m\u001b[0m\n",
      "\u001b[1;31mIndexError\u001b[0m: list index out of range"
     ]
    }
   ],
   "source": [
    "!pip install keyboard\n",
    "\n",
    "import threading as th\n",
    "import keyboard\n",
    "\n",
    "# loop indefinitely and stop whenever you like (pressing ENTER)\n",
    "keep_going = True\n",
    "def key_capture_thread():\n",
    "    global keep_going\n",
    "    # Blocks until you press 'ESC'.\n",
    "    keyboard.wait('esc')\n",
    "    keep_going = False\n",
    "    print('\\nINTERRUPTING… Please wait until shut down.')\n",
    "\n",
    "def trials_loop():\n",
    "    th.Thread(target=key_capture_thread, args=(), name='key_capture_thread', daemon=True).start()\n",
    "    while keep_going:\n",
    "        print(\"\\nRUNNING... Press 'ESC' key to interrupt.\")\n",
    "        run_trials()\n",
    "\n",
    "    print('\\nINTERRUPTED!')\n",
    "\n",
    "trials_loop()"
   ]
  },
  {
   "source": [
    "# test OPTUNA"
   ],
   "cell_type": "markdown",
   "metadata": {}
  },
  {
   "cell_type": "code",
   "execution_count": 150,
   "metadata": {},
   "outputs": [
    {
     "output_type": "stream",
     "name": "stdout",
     "text": [
      "Collecting optuna\n",
      "  Downloading optuna-2.3.0.tar.gz (258 kB)\n",
      "  Installing build dependencies: started\n",
      "  Installing build dependencies: finished with status 'done'\n",
      "  Getting requirements to build wheel: started\n",
      "  Getting requirements to build wheel: finished with status 'done'\n",
      "    Preparing wheel metadata: started\n",
      "    Preparing wheel metadata: finished with status 'done'\n",
      "Collecting cliff\n",
      "  Downloading cliff-3.5.0-py3-none-any.whl (81 kB)\n",
      "Requirement already satisfied: tqdm in c:\\users\\pau\\anaconda3\\lib\\site-packages (from optuna) (4.48.2)\n",
      "Requirement already satisfied: alembic in c:\\users\\pau\\anaconda3\\lib\\site-packages (from optuna) (1.4.1)\n",
      "Requirement already satisfied: numpy in c:\\users\\pau\\anaconda3\\lib\\site-packages (from optuna) (1.19.4)\n",
      "Requirement already satisfied: sqlalchemy>=1.1.0 in c:\\users\\pau\\anaconda3\\lib\\site-packages (from optuna) (1.3.13)\n",
      "Requirement already satisfied: joblib in c:\\users\\pau\\anaconda3\\lib\\site-packages (from optuna) (0.14.1)\n",
      "Collecting cmaes>=0.6.0\n",
      "  Downloading cmaes-0.7.0-py3-none-any.whl (13 kB)\n",
      "Requirement already satisfied: packaging>=20.0 in c:\\users\\pau\\anaconda3\\lib\\site-packages (from optuna) (20.1)\n",
      "Collecting colorlog\n",
      "  Downloading colorlog-4.6.2-py2.py3-none-any.whl (10.0 kB)\n",
      "Requirement already satisfied: scipy!=1.4.0 in c:\\users\\pau\\appdata\\roaming\\python\\python37\\site-packages (from optuna) (1.5.4)\n",
      "Collecting cmd2!=0.8.3,>=0.8.0\n",
      "  Downloading cmd2-1.4.0-py3-none-any.whl (133 kB)\n",
      "Requirement already satisfied: PyYAML>=3.12 in c:\\users\\pau\\anaconda3\\lib\\site-packages (from cliff->optuna) (5.3)\n",
      "Collecting PrettyTable<0.8,>=0.7.2\n",
      "  Downloading prettytable-0.7.2.tar.bz2 (21 kB)\n",
      "Collecting pbr!=2.1.0,>=2.0.0\n",
      "  Downloading pbr-5.5.1-py2.py3-none-any.whl (106 kB)\n",
      "Requirement already satisfied: six>=1.10.0 in c:\\users\\pau\\anaconda3\\lib\\site-packages (from cliff->optuna) (1.14.0)\n",
      "Collecting stevedore>=2.0.1\n",
      "  Downloading stevedore-3.3.0-py3-none-any.whl (49 kB)\n",
      "Requirement already satisfied: pyparsing>=2.1.0 in c:\\users\\pau\\anaconda3\\lib\\site-packages (from cliff->optuna) (2.4.6)\n",
      "Requirement already satisfied: Mako in c:\\users\\pau\\anaconda3\\lib\\site-packages (from alembic->optuna) (1.1.3)\n",
      "Requirement already satisfied: python-dateutil in c:\\users\\pau\\anaconda3\\lib\\site-packages (from alembic->optuna) (2.8.1)\n",
      "Requirement already satisfied: python-editor>=0.3 in c:\\users\\pau\\anaconda3\\lib\\site-packages (from alembic->optuna) (1.0.4)\n",
      "Requirement already satisfied: colorama; sys_platform == \"win32\" in c:\\users\\pau\\anaconda3\\lib\\site-packages (from colorlog->optuna) (0.4.3)\n",
      "Requirement already satisfied: wcwidth>=0.1.7 in c:\\users\\pau\\anaconda3\\lib\\site-packages (from cmd2!=0.8.3,>=0.8.0->cliff->optuna) (0.1.8)\n",
      "Requirement already satisfied: attrs>=16.3.0 in c:\\users\\pau\\anaconda3\\lib\\site-packages (from cmd2!=0.8.3,>=0.8.0->cliff->optuna) (19.3.0)\n",
      "Requirement already satisfied: pyreadline; sys_platform == \"win32\" in c:\\users\\pau\\anaconda3\\lib\\site-packages (from cmd2!=0.8.3,>=0.8.0->cliff->optuna) (2.1)\n",
      "Collecting pyperclip>=1.6\n",
      "  Downloading pyperclip-1.8.1.tar.gz (20 kB)\n",
      "Collecting importlib-metadata>=1.6.0; python_version < \"3.8\"\n",
      "  Downloading importlib_metadata-3.3.0-py3-none-any.whl (10 kB)\n",
      "Requirement already satisfied: MarkupSafe>=0.9.2 in c:\\users\\pau\\anaconda3\\lib\\site-packages (from Mako->alembic->optuna) (1.1.1)\n",
      "Requirement already satisfied: zipp>=0.5 in c:\\users\\pau\\anaconda3\\lib\\site-packages (from importlib-metadata>=1.6.0; python_version < \"3.8\"->cmd2!=0.8.3,>=0.8.0->cliff->optuna) (2.2.0)\n",
      "Requirement already satisfied: typing-extensions>=3.6.4; python_version < \"3.8\" in c:\\users\\pau\\anaconda3\\lib\\site-packages (from importlib-metadata>=1.6.0; python_version < \"3.8\"->cmd2!=0.8.3,>=0.8.0->cliff->optuna) (3.7.4.3)\n",
      "Building wheels for collected packages: optuna, PrettyTable, pyperclip\n",
      "  Building wheel for optuna (PEP 517): started\n",
      "  Building wheel for optuna (PEP 517): finished with status 'done'\n",
      "  Created wheel for optuna: filename=optuna-2.3.0-py3-none-any.whl size=359761 sha256=e87e741ffc6024c24409ad3180a6d02fcb73bb09f8f60ebb5ca5281463a25cca\n",
      "  Stored in directory: c:\\users\\pau\\appdata\\local\\pip\\cache\\wheels\\38\\61\\9e\\955ab1890f6cab231b1d756db63f36c711968a324296e0b649\n",
      "  Building wheel for PrettyTable (setup.py): started\n",
      "  Building wheel for PrettyTable (setup.py): finished with status 'done'\n",
      "  Created wheel for PrettyTable: filename=prettytable-0.7.2-py3-none-any.whl size=13704 sha256=a5727af431377466996deaca86f0cc8b4a49788612119da4dec52e08eb8747ae\n",
      "  Stored in directory: c:\\users\\pau\\appdata\\local\\pip\\cache\\wheels\\8c\\76\\0b\\eb9eb3da7e2335e3577e3f96a0ae9f74f206e26457bd1a2bc8\n",
      "  Building wheel for pyperclip (setup.py): started\n",
      "  Building wheel for pyperclip (setup.py): finished with status 'done'\n",
      "  Created wheel for pyperclip: filename=pyperclip-1.8.1-py3-none-any.whl size=11124 sha256=0f113105c0268b977c1f03b4100bf365ae05ec71cc0ba4a34fb11ffaae2aefdb\n",
      "  Stored in directory: c:\\users\\pau\\appdata\\local\\pip\\cache\\wheels\\67\\3f\\92\\2fae5a6ebb97a26aea363c444dcfa7c7b479feff12fcac6d0c\n",
      "Successfully built optuna PrettyTable pyperclip\n",
      "Installing collected packages: pyperclip, importlib-metadata, cmd2, PrettyTable, pbr, stevedore, cliff, cmaes, colorlog, optuna\n",
      "  Attempting uninstall: importlib-metadata\n",
      "    Found existing installation: importlib-metadata 1.5.0\n",
      "    Uninstalling importlib-metadata-1.5.0:\n",
      "      Successfully uninstalled importlib-metadata-1.5.0\n",
      "Successfully installed PrettyTable-0.7.2 cliff-3.5.0 cmaes-0.7.0 cmd2-1.4.0 colorlog-4.6.2 importlib-metadata-3.3.0 optuna-2.3.0 pbr-5.5.1 pyperclip-1.8.1 stevedore-3.3.0\n",
      "ERROR: pytest-astropy 0.8.0 requires pytest-cov>=2.0, which is not installed.\n",
      "ERROR: pytest-astropy 0.8.0 requires pytest-filter-subpackage>=0.1, which is not installed.\n"
     ]
    }
   ],
   "source": [
    "!pip install optuna"
   ]
  },
  {
   "cell_type": "code",
   "execution_count": 151,
   "metadata": {},
   "outputs": [],
   "source": [
    "import optuna"
   ]
  },
  {
   "cell_type": "markdown",
   "metadata": {
    "Collapsed": "false",
    "toc-hr-collapsed": true
   },
   "source": [
    "# **RECONSTRUCTION** (du pipe-line optimisé)"
   ]
  },
  {
   "cell_type": "markdown",
   "metadata": {
    "Collapsed": "false"
   },
   "source": [
    "## **Récupération** des meilleurs hyper-paramètres"
   ]
  },
  {
   "cell_type": "code",
   "execution_count": 93,
   "metadata": {
    "Collapsed": "false"
   },
   "outputs": [
    {
     "output_type": "execute_result",
     "data": {
      "text/plain": [
       "{'models_spaces': {'model': lightgbm.sklearn.LGBMClassifier},\n",
       " 'preprocessing_steps': {'normalize': False, 'scale': True}}"
      ]
     },
     "metadata": {},
     "execution_count": 93
    }
   ],
   "source": [
    "import pickle\n",
    "\n",
    "# Load the best_params\n",
    "best_params = pickle.load(open(\"hp_trials/best_params.hyperopt\", \"rb\"))\n",
    "\n",
    "# print current best_params\n",
    "best_params"
   ]
  },
  {
   "cell_type": "raw",
   "metadata": {
    "Collapsed": "false"
   },
   "source": [
    "# Snippet to get the params from Trial() object\n",
    "\n",
    "import pickle\n",
    "from hyperopt import space_eval\n",
    "\n",
    "hypopt_trials = pickle.load(open(\"hp_trials/trials.hyperopt\", \"rb\"))\n",
    "\n",
    "best_trial = {}\n",
    "for key, val in hypopt_trials.best_trial['misc']['vals'].items():\n",
    "    try:\n",
    "        best_trial[key] = val[0]\n",
    "    except:\n",
    "        best_trial[key] = None        \n",
    "    \n",
    "best_params = space_eval(space, best_trial)\n",
    "\n",
    "print(best_params)"
   ]
  },
  {
   "cell_type": "markdown",
   "metadata": {
    "Collapsed": "false"
   },
   "source": [
    "## **Reconstruction** du pipeline de pré-traitement"
   ]
  },
  {
   "cell_type": "code",
   "execution_count": 94,
   "metadata": {
    "Collapsed": "false"
   },
   "outputs": [],
   "source": [
    "def define_preprocess_pipeline():\n",
    "\n",
    "    # Load libraries\n",
    "    from sklearn.pipeline import Pipeline\n",
    "    from sklearn.preprocessing import Normalizer\n",
    "    from sklearn.preprocessing import StandardScaler\n",
    "    \n",
    "    # Initializing the list of preprocessing steps\n",
    "    preprocessing_steps = []\n",
    "    \n",
    "    if 'normalize' in best_params['preprocessing_steps']:\n",
    "        if best_params['preprocessing_steps']['normalize'] == True:\n",
    "            # add the normalisation step to the preprocessing steps\n",
    "            preprocessing_steps.append(('normalize', Normalizer()))\n",
    "    \n",
    "    if 'scale' in best_params['preprocessing_steps']:\n",
    "        if best_params['preprocessing_steps']['scale'] == True:\n",
    "            # add the scaling step to the preprocessing steps\n",
    "            preprocessing_steps.append(('scale', StandardScaler()))\n",
    "    \n",
    "    # Creating the preprocessing pipeline\n",
    "    if len(preprocessing_steps) != 0:\n",
    "        # if some processing\n",
    "        preprocessor = Pipeline(\n",
    "            steps=preprocessing_steps\n",
    "        )\n",
    "    else:\n",
    "        # if no processing step\n",
    "        preprocessor = Pipeline(\n",
    "            steps=[('passthrough', None)]\n",
    "        )\n",
    "        return None\n",
    "\n",
    "    return preprocessor\n",
    "\n",
    "preprocessor = define_preprocess_pipeline()"
   ]
  },
  {
   "cell_type": "markdown",
   "metadata": {
    "Collapsed": "false"
   },
   "source": [
    "## **Reconstruction** du pipeline complet"
   ]
  },
  {
   "cell_type": "code",
   "execution_count": 95,
   "metadata": {
    "Collapsed": "false"
   },
   "outputs": [],
   "source": [
    "def define_model(params):\n",
    "    # Get the model from parameters\n",
    "    model = params['models_spaces'].pop('model')\n",
    "    \n",
    "    # Instanciate model with best parameters \n",
    "    model_instance = model(**params['models_spaces'])\n",
    "    \n",
    "    # Return instanciated model\n",
    "    return model_instance\n",
    "\n",
    "\n",
    "def define_pipeline(preprocessor, model):\n",
    "\n",
    "    # Load libraries\n",
    "    from sklearn.pipeline import Pipeline\n",
    "    \n",
    "    # Create a pipeline\n",
    "    if preprocessor is not None:\n",
    "        pipe = Pipeline([\n",
    "            (\"preprocess\", preprocessor), # preprocessing steps\n",
    "            (\"model\", model), # modelisation\n",
    "            ])\n",
    "    else:\n",
    "        pipe = classifier\n",
    "    \n",
    "    # Return pipeline\n",
    "    return pipe"
   ]
  },
  {
   "cell_type": "code",
   "execution_count": 96,
   "metadata": {
    "Collapsed": "false"
   },
   "outputs": [
    {
     "output_type": "execute_result",
     "data": {
      "text/plain": [
       "Pipeline(steps=[('preprocess', Pipeline(steps=[('scale', StandardScaler())])),\n",
       "                ('model', LGBMClassifier())])"
      ]
     },
     "metadata": {},
     "execution_count": 96
    }
   ],
   "source": [
    "model_instance = define_model(best_params)\n",
    "\n",
    "pipe = define_pipeline(preprocessor, model_instance)\n",
    "pipe.fit(X_fit, y_fit)"
   ]
  },
  {
   "cell_type": "markdown",
   "metadata": {
    "Collapsed": "false",
    "toc-hr-collapsed": true
   },
   "source": [
    "# **ÉVALUATION FINALE** du modèle"
   ]
  },
  {
   "cell_type": "markdown",
   "metadata": {
    "Collapsed": "false"
   },
   "source": [
    "## **Métriques classiques**\n"
   ]
  },
  {
   "cell_type": "code",
   "execution_count": 98,
   "metadata": {
    "Collapsed": "false"
   },
   "outputs": [
    {
     "output_type": "execute_result",
     "data": {
      "text/plain": [
       "DummyClassifier(constant=0, strategy='constant')"
      ]
     },
     "metadata": {},
     "execution_count": 98
    }
   ],
   "source": [
    "from sklearn.dummy import DummyClassifier\n",
    "\n",
    "# Creating a naïve baseline model predicting non-defaut\n",
    "baseline = DummyClassifier(strategy='constant', constant=0)\n",
    "baseline.fit(X_fit, y_fit)"
   ]
  },
  {
   "cell_type": "markdown",
   "metadata": {
    "Collapsed": "false"
   },
   "source": [
    "### *Accuracy* (pertinence)"
   ]
  },
  {
   "cell_type": "code",
   "execution_count": 100,
   "metadata": {
    "Collapsed": "false"
   },
   "outputs": [
    {
     "output_type": "stream",
     "name": "stdout",
     "text": [
      "Score of the naïve model: accuracy = 0.9185\n",
      "Score of the best model on the train set: accuracy = 0.9200\n",
      "Score of the best model on the test set: accuracy = 0.9188\n"
     ]
    }
   ],
   "source": [
    "score = baseline.score(X_eval, y_eval)\n",
    "print(\"Score of the naïve model: accuracy = {:.4f}\".format(score))\n",
    "\n",
    "score_fit = pipe.score(X_fit, y_fit)\n",
    "print(\"Score of the best model on the train set: accuracy = {:.4f}\".format(score_fit))\n",
    "\n",
    "score_eval = pipe.score(X_eval, y_eval)\n",
    "print(\"Score of the best model on the test set: accuracy = {:.4f}\".format(score_eval))"
   ]
  },
  {
   "cell_type": "markdown",
   "metadata": {
    "Collapsed": "false"
   },
   "source": [
    "### *AUC*"
   ]
  },
  {
   "cell_type": "code",
   "execution_count": 102,
   "metadata": {
    "Collapsed": "false"
   },
   "outputs": [
    {
     "output_type": "stream",
     "name": "stdout",
     "text": [
      "Score of the naïve model: AUC = 0.5000\n",
      "Score of the best model on the train set: AUC = 0.807\n",
      "Score of the best model on the test set: AUC = 0.757\n"
     ]
    }
   ],
   "source": [
    "from sklearn.metrics import roc_auc_score\n",
    "\n",
    "# Dummy model\n",
    "score = roc_auc_score(y_eval, baseline.predict(X_eval))\n",
    "print(\"Score of the naïve model: AUC = {:.4f}\".format(score))\n",
    "\n",
    "# Get predicted probas for positive label\n",
    "y_fit_probas = pipe.predict_proba(X_fit)[:,1]\n",
    "score_fit = roc_auc_score(y_fit, y_fit_probas)\n",
    "print(\"Score of the best model on the train set: AUC = {:.3f}\".format(score_fit))\n",
    "\n",
    "y_eval_probas = pipe.predict_proba(X_eval)[:,1]\n",
    "score_eval = roc_auc_score(y_eval, y_eval_probas)\n",
    "print(\"Score of the best model on the test set: AUC = {:.3f}\".format(score_eval))"
   ]
  },
  {
   "cell_type": "markdown",
   "metadata": {
    "Collapsed": "false"
   },
   "source": [
    "### Matrice de confusion"
   ]
  },
  {
   "cell_type": "code",
   "execution_count": 104,
   "metadata": {},
   "outputs": [
    {
     "output_type": "stream",
     "name": "stderr",
     "text": [
      "ERROR: Invalid requirement: \"'yellowbrick'\"\n"
     ]
    }
   ],
   "source": [
    "!pip install 'yellowbrick'"
   ]
  },
  {
   "cell_type": "code",
   "execution_count": 106,
   "metadata": {
    "Collapsed": "false"
   },
   "outputs": [
    {
     "output_type": "display_data",
     "data": {
      "text/plain": "<Figure size 432x432 with 1 Axes>",
      "image/svg+xml": "<?xml version=\"1.0\" encoding=\"utf-8\" standalone=\"no\"?>\r\n<!DOCTYPE svg PUBLIC \"-//W3C//DTD SVG 1.1//EN\"\r\n  \"http://www.w3.org/Graphics/SVG/1.1/DTD/svg11.dtd\">\r\n<!-- Created with matplotlib (https://matplotlib.org/) -->\r\n<svg height=\"421.163594pt\" version=\"1.1\" viewBox=\"0 0 420.574219 421.163594\" width=\"420.574219pt\" xmlns=\"http://www.w3.org/2000/svg\" xmlns:xlink=\"http://www.w3.org/1999/xlink\">\r\n <metadata>\r\n  <rdf:RDF xmlns:cc=\"http://creativecommons.org/ns#\" xmlns:dc=\"http://purl.org/dc/elements/1.1/\" xmlns:rdf=\"http://www.w3.org/1999/02/22-rdf-syntax-ns#\">\r\n   <cc:Work>\r\n    <dc:type rdf:resource=\"http://purl.org/dc/dcmitype/StillImage\"/>\r\n    <dc:date>2021-01-08T16:29:05.759017</dc:date>\r\n    <dc:format>image/svg+xml</dc:format>\r\n    <dc:creator>\r\n     <cc:Agent>\r\n      <dc:title>Matplotlib v3.3.3, https://matplotlib.org/</dc:title>\r\n     </cc:Agent>\r\n    </dc:creator>\r\n   </cc:Work>\r\n  </rdf:RDF>\r\n </metadata>\r\n <defs>\r\n  <style type=\"text/css\">*{stroke-linecap:butt;stroke-linejoin:round;}</style>\r\n </defs>\r\n <g id=\"figure_1\">\r\n  <g id=\"patch_1\">\r\n   <path d=\"M 0 421.163594 \r\nL 420.574219 421.163594 \r\nL 420.574219 0 \r\nL 0 0 \r\nz\r\n\" style=\"fill:#ffffff;\"/>\r\n  </g>\r\n  <g id=\"axes_1\">\r\n   <g id=\"patch_2\">\r\n    <path d=\"M 90.294219 330.869375 \r\nL 413.374219 330.869375 \r\nL 413.374219 21.789375 \r\nL 90.294219 21.789375 \r\nz\r\n\" style=\"fill:#ffffff;\"/>\r\n   </g>\r\n   <g id=\"matplotlib.axis_1\">\r\n    <g id=\"xtick_1\">\r\n     <g id=\"line2d_1\"/>\r\n     <g id=\"text_1\">\r\n      <!-- Non-default -->\r\n      <g style=\"fill:#262626;\" transform=\"translate(174.166406 399.90375)rotate(-90)scale(0.12 -0.12)\">\r\n       <defs>\r\n        <path d=\"M 7.625 0 \r\nL 7.625 71.578125 \r\nL 17.328125 71.578125 \r\nL 54.9375 15.375 \r\nL 54.9375 71.578125 \r\nL 64.015625 71.578125 \r\nL 64.015625 0 \r\nL 54.296875 0 \r\nL 16.703125 56.25 \r\nL 16.703125 0 \r\nz\r\n\" id=\"ArialMT-78\"/>\r\n        <path d=\"M 3.328125 25.921875 \r\nQ 3.328125 40.328125 11.328125 47.265625 \r\nQ 18.015625 53.03125 27.640625 53.03125 \r\nQ 38.328125 53.03125 45.109375 46.015625 \r\nQ 51.90625 39.015625 51.90625 26.65625 \r\nQ 51.90625 16.65625 48.90625 10.90625 \r\nQ 45.90625 5.171875 40.15625 2 \r\nQ 34.421875 -1.171875 27.640625 -1.171875 \r\nQ 16.75 -1.171875 10.03125 5.8125 \r\nQ 3.328125 12.796875 3.328125 25.921875 \r\nz\r\nM 12.359375 25.921875 \r\nQ 12.359375 15.96875 16.703125 11.015625 \r\nQ 21.046875 6.0625 27.640625 6.0625 \r\nQ 34.1875 6.0625 38.53125 11.03125 \r\nQ 42.875 16.015625 42.875 26.21875 \r\nQ 42.875 35.84375 38.5 40.796875 \r\nQ 34.125 45.75 27.640625 45.75 \r\nQ 21.046875 45.75 16.703125 40.8125 \r\nQ 12.359375 35.890625 12.359375 25.921875 \r\nz\r\n\" id=\"ArialMT-111\"/>\r\n        <path d=\"M 6.59375 0 \r\nL 6.59375 51.859375 \r\nL 14.5 51.859375 \r\nL 14.5 44.484375 \r\nQ 20.21875 53.03125 31 53.03125 \r\nQ 35.6875 53.03125 39.625 51.34375 \r\nQ 43.5625 49.65625 45.515625 46.921875 \r\nQ 47.46875 44.1875 48.25 40.4375 \r\nQ 48.734375 37.984375 48.734375 31.890625 \r\nL 48.734375 0 \r\nL 39.9375 0 \r\nL 39.9375 31.546875 \r\nQ 39.9375 36.921875 38.90625 39.578125 \r\nQ 37.890625 42.234375 35.28125 43.8125 \r\nQ 32.671875 45.40625 29.15625 45.40625 \r\nQ 23.53125 45.40625 19.453125 41.84375 \r\nQ 15.375 38.28125 15.375 28.328125 \r\nL 15.375 0 \r\nz\r\n\" id=\"ArialMT-110\"/>\r\n        <path d=\"M 3.171875 21.484375 \r\nL 3.171875 30.328125 \r\nL 30.171875 30.328125 \r\nL 30.171875 21.484375 \r\nz\r\n\" id=\"ArialMT-45\"/>\r\n        <path d=\"M 40.234375 0 \r\nL 40.234375 6.546875 \r\nQ 35.296875 -1.171875 25.734375 -1.171875 \r\nQ 19.53125 -1.171875 14.328125 2.25 \r\nQ 9.125 5.671875 6.265625 11.796875 \r\nQ 3.421875 17.921875 3.421875 25.875 \r\nQ 3.421875 33.640625 6 39.96875 \r\nQ 8.59375 46.296875 13.765625 49.65625 \r\nQ 18.953125 53.03125 25.34375 53.03125 \r\nQ 30.03125 53.03125 33.6875 51.046875 \r\nQ 37.359375 49.078125 39.65625 45.90625 \r\nL 39.65625 71.578125 \r\nL 48.390625 71.578125 \r\nL 48.390625 0 \r\nz\r\nM 12.453125 25.875 \r\nQ 12.453125 15.921875 16.640625 10.984375 \r\nQ 20.84375 6.0625 26.5625 6.0625 \r\nQ 32.328125 6.0625 36.34375 10.765625 \r\nQ 40.375 15.484375 40.375 25.140625 \r\nQ 40.375 35.796875 36.265625 40.765625 \r\nQ 32.171875 45.75 26.171875 45.75 \r\nQ 20.3125 45.75 16.375 40.96875 \r\nQ 12.453125 36.1875 12.453125 25.875 \r\nz\r\n\" id=\"ArialMT-100\"/>\r\n        <path d=\"M 42.09375 16.703125 \r\nL 51.171875 15.578125 \r\nQ 49.03125 7.625 43.21875 3.21875 \r\nQ 37.40625 -1.171875 28.375 -1.171875 \r\nQ 17 -1.171875 10.328125 5.828125 \r\nQ 3.65625 12.84375 3.65625 25.484375 \r\nQ 3.65625 38.578125 10.390625 45.796875 \r\nQ 17.140625 53.03125 27.875 53.03125 \r\nQ 38.28125 53.03125 44.875 45.953125 \r\nQ 51.46875 38.875 51.46875 26.03125 \r\nQ 51.46875 25.25 51.421875 23.6875 \r\nL 12.75 23.6875 \r\nQ 13.234375 15.140625 17.578125 10.59375 \r\nQ 21.921875 6.0625 28.421875 6.0625 \r\nQ 33.25 6.0625 36.671875 8.59375 \r\nQ 40.09375 11.140625 42.09375 16.703125 \r\nz\r\nM 13.234375 30.90625 \r\nL 42.1875 30.90625 \r\nQ 41.609375 37.453125 38.875 40.71875 \r\nQ 34.671875 45.796875 27.984375 45.796875 \r\nQ 21.921875 45.796875 17.796875 41.75 \r\nQ 13.671875 37.703125 13.234375 30.90625 \r\nz\r\n\" id=\"ArialMT-101\"/>\r\n        <path d=\"M 8.6875 0 \r\nL 8.6875 45.015625 \r\nL 0.921875 45.015625 \r\nL 0.921875 51.859375 \r\nL 8.6875 51.859375 \r\nL 8.6875 57.375 \r\nQ 8.6875 62.59375 9.625 65.140625 \r\nQ 10.890625 68.5625 14.078125 70.671875 \r\nQ 17.28125 72.796875 23.046875 72.796875 \r\nQ 26.765625 72.796875 31.25 71.921875 \r\nL 29.9375 64.265625 \r\nQ 27.203125 64.75 24.75 64.75 \r\nQ 20.75 64.75 19.09375 63.03125 \r\nQ 17.4375 61.328125 17.4375 56.640625 \r\nL 17.4375 51.859375 \r\nL 27.546875 51.859375 \r\nL 27.546875 45.015625 \r\nL 17.4375 45.015625 \r\nL 17.4375 0 \r\nz\r\n\" id=\"ArialMT-102\"/>\r\n        <path d=\"M 40.4375 6.390625 \r\nQ 35.546875 2.25 31.03125 0.53125 \r\nQ 26.515625 -1.171875 21.34375 -1.171875 \r\nQ 12.796875 -1.171875 8.203125 3 \r\nQ 3.609375 7.171875 3.609375 13.671875 \r\nQ 3.609375 17.484375 5.34375 20.625 \r\nQ 7.078125 23.78125 9.890625 25.6875 \r\nQ 12.703125 27.59375 16.21875 28.5625 \r\nQ 18.796875 29.25 24.03125 29.890625 \r\nQ 34.671875 31.15625 39.703125 32.90625 \r\nQ 39.75 34.71875 39.75 35.203125 \r\nQ 39.75 40.578125 37.25 42.78125 \r\nQ 33.890625 45.75 27.25 45.75 \r\nQ 21.046875 45.75 18.09375 43.578125 \r\nQ 15.140625 41.40625 13.71875 35.890625 \r\nL 5.125 37.0625 \r\nQ 6.296875 42.578125 8.984375 45.96875 \r\nQ 11.671875 49.359375 16.75 51.1875 \r\nQ 21.828125 53.03125 28.515625 53.03125 \r\nQ 35.15625 53.03125 39.296875 51.46875 \r\nQ 43.453125 49.90625 45.40625 47.53125 \r\nQ 47.359375 45.171875 48.140625 41.546875 \r\nQ 48.578125 39.3125 48.578125 33.453125 \r\nL 48.578125 21.734375 \r\nQ 48.578125 9.46875 49.140625 6.21875 \r\nQ 49.703125 2.984375 51.375 0 \r\nL 42.1875 0 \r\nQ 40.828125 2.734375 40.4375 6.390625 \r\nz\r\nM 39.703125 26.03125 \r\nQ 34.90625 24.078125 25.34375 22.703125 \r\nQ 19.921875 21.921875 17.671875 20.9375 \r\nQ 15.4375 19.96875 14.203125 18.09375 \r\nQ 12.984375 16.21875 12.984375 13.921875 \r\nQ 12.984375 10.40625 15.640625 8.0625 \r\nQ 18.3125 5.71875 23.4375 5.71875 \r\nQ 28.515625 5.71875 32.46875 7.9375 \r\nQ 36.421875 10.15625 38.28125 14.015625 \r\nQ 39.703125 17 39.703125 22.796875 \r\nz\r\n\" id=\"ArialMT-97\"/>\r\n        <path d=\"M 40.578125 0 \r\nL 40.578125 7.625 \r\nQ 34.515625 -1.171875 24.125 -1.171875 \r\nQ 19.53125 -1.171875 15.546875 0.578125 \r\nQ 11.578125 2.34375 9.640625 5 \r\nQ 7.71875 7.671875 6.9375 11.53125 \r\nQ 6.390625 14.109375 6.390625 19.734375 \r\nL 6.390625 51.859375 \r\nL 15.1875 51.859375 \r\nL 15.1875 23.09375 \r\nQ 15.1875 16.21875 15.71875 13.8125 \r\nQ 16.546875 10.359375 19.234375 8.375 \r\nQ 21.921875 6.390625 25.875 6.390625 \r\nQ 29.828125 6.390625 33.296875 8.421875 \r\nQ 36.765625 10.453125 38.203125 13.9375 \r\nQ 39.65625 17.4375 39.65625 24.078125 \r\nL 39.65625 51.859375 \r\nL 48.4375 51.859375 \r\nL 48.4375 0 \r\nz\r\n\" id=\"ArialMT-117\"/>\r\n        <path d=\"M 6.390625 0 \r\nL 6.390625 71.578125 \r\nL 15.1875 71.578125 \r\nL 15.1875 0 \r\nz\r\n\" id=\"ArialMT-108\"/>\r\n        <path d=\"M 25.78125 7.859375 \r\nL 27.046875 0.09375 \r\nQ 23.34375 -0.6875 20.40625 -0.6875 \r\nQ 15.625 -0.6875 12.984375 0.828125 \r\nQ 10.359375 2.34375 9.28125 4.8125 \r\nQ 8.203125 7.28125 8.203125 15.1875 \r\nL 8.203125 45.015625 \r\nL 1.765625 45.015625 \r\nL 1.765625 51.859375 \r\nL 8.203125 51.859375 \r\nL 8.203125 64.703125 \r\nL 16.9375 69.96875 \r\nL 16.9375 51.859375 \r\nL 25.78125 51.859375 \r\nL 25.78125 45.015625 \r\nL 16.9375 45.015625 \r\nL 16.9375 14.703125 \r\nQ 16.9375 10.9375 17.40625 9.859375 \r\nQ 17.875 8.796875 18.921875 8.15625 \r\nQ 19.96875 7.515625 21.921875 7.515625 \r\nQ 23.390625 7.515625 25.78125 7.859375 \r\nz\r\n\" id=\"ArialMT-116\"/>\r\n       </defs>\r\n       <use xlink:href=\"#ArialMT-78\"/>\r\n       <use x=\"72.216797\" xlink:href=\"#ArialMT-111\"/>\r\n       <use x=\"127.832031\" xlink:href=\"#ArialMT-110\"/>\r\n       <use x=\"183.447266\" xlink:href=\"#ArialMT-45\"/>\r\n       <use x=\"216.748047\" xlink:href=\"#ArialMT-100\"/>\r\n       <use x=\"272.363281\" xlink:href=\"#ArialMT-101\"/>\r\n       <use x=\"327.978516\" xlink:href=\"#ArialMT-102\"/>\r\n       <use x=\"355.761719\" xlink:href=\"#ArialMT-97\"/>\r\n       <use x=\"411.376953\" xlink:href=\"#ArialMT-117\"/>\r\n       <use x=\"466.992188\" xlink:href=\"#ArialMT-108\"/>\r\n       <use x=\"489.208984\" xlink:href=\"#ArialMT-116\"/>\r\n      </g>\r\n     </g>\r\n    </g>\r\n    <g id=\"xtick_2\">\r\n     <g id=\"line2d_2\"/>\r\n     <g id=\"text_2\">\r\n      <!-- Default -->\r\n      <g style=\"fill:#262626;\" transform=\"translate(335.706406 375.88875)rotate(-90)scale(0.12 -0.12)\">\r\n       <defs>\r\n        <path d=\"M 7.71875 0 \r\nL 7.71875 71.578125 \r\nL 32.375 71.578125 \r\nQ 40.71875 71.578125 45.125 70.5625 \r\nQ 51.265625 69.140625 55.609375 65.4375 \r\nQ 61.28125 60.640625 64.078125 53.1875 \r\nQ 66.890625 45.75 66.890625 36.1875 \r\nQ 66.890625 28.03125 64.984375 21.734375 \r\nQ 63.09375 15.4375 60.109375 11.296875 \r\nQ 57.125 7.171875 53.578125 4.796875 \r\nQ 50.046875 2.4375 45.046875 1.21875 \r\nQ 40.046875 0 33.546875 0 \r\nz\r\nM 17.1875 8.453125 \r\nL 32.46875 8.453125 \r\nQ 39.546875 8.453125 43.578125 9.765625 \r\nQ 47.609375 11.078125 50 13.484375 \r\nQ 53.375 16.84375 55.25 22.53125 \r\nQ 57.125 28.21875 57.125 36.328125 \r\nQ 57.125 47.5625 53.4375 53.59375 \r\nQ 49.75 59.625 44.484375 61.671875 \r\nQ 40.671875 63.140625 32.234375 63.140625 \r\nL 17.1875 63.140625 \r\nz\r\n\" id=\"ArialMT-68\"/>\r\n       </defs>\r\n       <use xlink:href=\"#ArialMT-68\"/>\r\n       <use x=\"72.216797\" xlink:href=\"#ArialMT-101\"/>\r\n       <use x=\"127.832031\" xlink:href=\"#ArialMT-102\"/>\r\n       <use x=\"155.615234\" xlink:href=\"#ArialMT-97\"/>\r\n       <use x=\"211.230469\" xlink:href=\"#ArialMT-117\"/>\r\n       <use x=\"266.845703\" xlink:href=\"#ArialMT-108\"/>\r\n       <use x=\"289.0625\" xlink:href=\"#ArialMT-116\"/>\r\n      </g>\r\n     </g>\r\n    </g>\r\n    <g id=\"text_3\">\r\n     <!-- Predicted Class -->\r\n     <g style=\"fill:#262626;\" transform=\"translate(213.319609 411.777344)scale(0.11 -0.11)\">\r\n      <defs>\r\n       <path d=\"M 7.71875 0 \r\nL 7.71875 71.578125 \r\nL 34.71875 71.578125 \r\nQ 41.84375 71.578125 45.609375 70.90625 \r\nQ 50.875 70.015625 54.4375 67.546875 \r\nQ 58.015625 65.09375 60.1875 60.640625 \r\nQ 62.359375 56.203125 62.359375 50.875 \r\nQ 62.359375 41.75 56.546875 35.421875 \r\nQ 50.734375 29.109375 35.546875 29.109375 \r\nL 17.1875 29.109375 \r\nL 17.1875 0 \r\nz\r\nM 17.1875 37.546875 \r\nL 35.6875 37.546875 \r\nQ 44.875 37.546875 48.734375 40.96875 \r\nQ 52.59375 44.390625 52.59375 50.59375 \r\nQ 52.59375 55.078125 50.3125 58.265625 \r\nQ 48.046875 61.46875 44.34375 62.5 \r\nQ 41.9375 63.140625 35.5 63.140625 \r\nL 17.1875 63.140625 \r\nz\r\n\" id=\"ArialMT-80\"/>\r\n       <path d=\"M 6.5 0 \r\nL 6.5 51.859375 \r\nL 14.40625 51.859375 \r\nL 14.40625 44 \r\nQ 17.4375 49.515625 20 51.265625 \r\nQ 22.5625 53.03125 25.640625 53.03125 \r\nQ 30.078125 53.03125 34.671875 50.203125 \r\nL 31.640625 42.046875 \r\nQ 28.421875 43.953125 25.203125 43.953125 \r\nQ 22.3125 43.953125 20.015625 42.21875 \r\nQ 17.71875 40.484375 16.75 37.40625 \r\nQ 15.28125 32.71875 15.28125 27.15625 \r\nL 15.28125 0 \r\nz\r\n\" id=\"ArialMT-114\"/>\r\n       <path d=\"M 6.640625 61.46875 \r\nL 6.640625 71.578125 \r\nL 15.4375 71.578125 \r\nL 15.4375 61.46875 \r\nz\r\nM 6.640625 0 \r\nL 6.640625 51.859375 \r\nL 15.4375 51.859375 \r\nL 15.4375 0 \r\nz\r\n\" id=\"ArialMT-105\"/>\r\n       <path d=\"M 40.4375 19 \r\nL 49.078125 17.875 \r\nQ 47.65625 8.9375 41.8125 3.875 \r\nQ 35.984375 -1.171875 27.484375 -1.171875 \r\nQ 16.84375 -1.171875 10.375 5.78125 \r\nQ 3.90625 12.75 3.90625 25.734375 \r\nQ 3.90625 34.125 6.6875 40.421875 \r\nQ 9.46875 46.734375 15.15625 49.875 \r\nQ 20.84375 53.03125 27.546875 53.03125 \r\nQ 35.984375 53.03125 41.359375 48.75 \r\nQ 46.734375 44.484375 48.25 36.625 \r\nL 39.703125 35.296875 \r\nQ 38.484375 40.53125 35.375 43.15625 \r\nQ 32.28125 45.796875 27.875 45.796875 \r\nQ 21.234375 45.796875 17.078125 41.03125 \r\nQ 12.9375 36.28125 12.9375 25.984375 \r\nQ 12.9375 15.53125 16.9375 10.796875 \r\nQ 20.953125 6.0625 27.390625 6.0625 \r\nQ 32.5625 6.0625 36.03125 9.234375 \r\nQ 39.5 12.40625 40.4375 19 \r\nz\r\n\" id=\"ArialMT-99\"/>\r\n       <path id=\"ArialMT-32\"/>\r\n       <path d=\"M 58.796875 25.09375 \r\nL 68.265625 22.703125 \r\nQ 65.28125 11.03125 57.546875 4.90625 \r\nQ 49.8125 -1.21875 38.625 -1.21875 \r\nQ 27.046875 -1.21875 19.796875 3.484375 \r\nQ 12.546875 8.203125 8.765625 17.140625 \r\nQ 4.984375 26.078125 4.984375 36.328125 \r\nQ 4.984375 47.515625 9.25 55.828125 \r\nQ 13.53125 64.15625 21.40625 68.46875 \r\nQ 29.296875 72.796875 38.765625 72.796875 \r\nQ 49.515625 72.796875 56.828125 67.328125 \r\nQ 64.15625 61.859375 67.046875 51.953125 \r\nL 57.71875 49.75 \r\nQ 55.21875 57.5625 50.484375 61.125 \r\nQ 45.75 64.703125 38.578125 64.703125 \r\nQ 30.328125 64.703125 24.78125 60.734375 \r\nQ 19.234375 56.78125 16.984375 50.109375 \r\nQ 14.75 43.453125 14.75 36.375 \r\nQ 14.75 27.25 17.40625 20.4375 \r\nQ 20.0625 13.625 25.671875 10.25 \r\nQ 31.296875 6.890625 37.84375 6.890625 \r\nQ 45.796875 6.890625 51.3125 11.46875 \r\nQ 56.84375 16.0625 58.796875 25.09375 \r\nz\r\n\" id=\"ArialMT-67\"/>\r\n       <path d=\"M 3.078125 15.484375 \r\nL 11.765625 16.84375 \r\nQ 12.5 11.625 15.84375 8.84375 \r\nQ 19.1875 6.0625 25.203125 6.0625 \r\nQ 31.25 6.0625 34.171875 8.515625 \r\nQ 37.109375 10.984375 37.109375 14.3125 \r\nQ 37.109375 17.28125 34.515625 19 \r\nQ 32.71875 20.171875 25.53125 21.96875 \r\nQ 15.875 24.421875 12.140625 26.203125 \r\nQ 8.40625 27.984375 6.46875 31.125 \r\nQ 4.546875 34.28125 4.546875 38.09375 \r\nQ 4.546875 41.546875 6.125 44.5 \r\nQ 7.71875 47.46875 10.453125 49.421875 \r\nQ 12.5 50.921875 16.03125 51.96875 \r\nQ 19.578125 53.03125 23.640625 53.03125 \r\nQ 29.734375 53.03125 34.34375 51.265625 \r\nQ 38.96875 49.515625 41.15625 46.5 \r\nQ 43.359375 43.5 44.1875 38.484375 \r\nL 35.59375 37.3125 \r\nQ 35.015625 41.3125 32.203125 43.546875 \r\nQ 29.390625 45.796875 24.265625 45.796875 \r\nQ 18.21875 45.796875 15.625 43.796875 \r\nQ 13.03125 41.796875 13.03125 39.109375 \r\nQ 13.03125 37.40625 14.109375 36.03125 \r\nQ 15.1875 34.625 17.484375 33.6875 \r\nQ 18.796875 33.203125 25.25 31.453125 \r\nQ 34.578125 28.953125 38.25 27.359375 \r\nQ 41.9375 25.78125 44.03125 22.75 \r\nQ 46.140625 19.734375 46.140625 15.234375 \r\nQ 46.140625 10.84375 43.578125 6.953125 \r\nQ 41.015625 3.078125 36.171875 0.953125 \r\nQ 31.34375 -1.171875 25.25 -1.171875 \r\nQ 15.140625 -1.171875 9.84375 3.03125 \r\nQ 4.546875 7.234375 3.078125 15.484375 \r\nz\r\n\" id=\"ArialMT-115\"/>\r\n      </defs>\r\n      <use xlink:href=\"#ArialMT-80\"/>\r\n      <use x=\"66.699219\" xlink:href=\"#ArialMT-114\"/>\r\n      <use x=\"100\" xlink:href=\"#ArialMT-101\"/>\r\n      <use x=\"155.615234\" xlink:href=\"#ArialMT-100\"/>\r\n      <use x=\"211.230469\" xlink:href=\"#ArialMT-105\"/>\r\n      <use x=\"233.447266\" xlink:href=\"#ArialMT-99\"/>\r\n      <use x=\"283.447266\" xlink:href=\"#ArialMT-116\"/>\r\n      <use x=\"311.230469\" xlink:href=\"#ArialMT-101\"/>\r\n      <use x=\"366.845703\" xlink:href=\"#ArialMT-100\"/>\r\n      <use x=\"422.460938\" xlink:href=\"#ArialMT-32\"/>\r\n      <use x=\"450.244141\" xlink:href=\"#ArialMT-67\"/>\r\n      <use x=\"522.460938\" xlink:href=\"#ArialMT-108\"/>\r\n      <use x=\"544.677734\" xlink:href=\"#ArialMT-97\"/>\r\n      <use x=\"600.292969\" xlink:href=\"#ArialMT-115\"/>\r\n      <use x=\"650.292969\" xlink:href=\"#ArialMT-115\"/>\r\n     </g>\r\n    </g>\r\n   </g>\r\n   <g id=\"matplotlib.axis_2\">\r\n    <g id=\"ytick_1\">\r\n     <g id=\"line2d_3\"/>\r\n     <g id=\"text_4\">\r\n      <!-- Default -->\r\n      <g style=\"fill:#262626;\" transform=\"translate(45.274844 257.894063)scale(0.12 -0.12)\">\r\n       <use xlink:href=\"#ArialMT-68\"/>\r\n       <use x=\"72.216797\" xlink:href=\"#ArialMT-101\"/>\r\n       <use x=\"127.832031\" xlink:href=\"#ArialMT-102\"/>\r\n       <use x=\"155.615234\" xlink:href=\"#ArialMT-97\"/>\r\n       <use x=\"211.230469\" xlink:href=\"#ArialMT-117\"/>\r\n       <use x=\"266.845703\" xlink:href=\"#ArialMT-108\"/>\r\n       <use x=\"289.0625\" xlink:href=\"#ArialMT-116\"/>\r\n      </g>\r\n     </g>\r\n    </g>\r\n    <g id=\"ytick_2\">\r\n     <g id=\"line2d_4\"/>\r\n     <g id=\"text_5\">\r\n      <!-- Non-default -->\r\n      <g style=\"fill:#262626;\" transform=\"translate(21.259844 103.354062)scale(0.12 -0.12)\">\r\n       <use xlink:href=\"#ArialMT-78\"/>\r\n       <use x=\"72.216797\" xlink:href=\"#ArialMT-111\"/>\r\n       <use x=\"127.832031\" xlink:href=\"#ArialMT-110\"/>\r\n       <use x=\"183.447266\" xlink:href=\"#ArialMT-45\"/>\r\n       <use x=\"216.748047\" xlink:href=\"#ArialMT-100\"/>\r\n       <use x=\"272.363281\" xlink:href=\"#ArialMT-101\"/>\r\n       <use x=\"327.978516\" xlink:href=\"#ArialMT-102\"/>\r\n       <use x=\"355.761719\" xlink:href=\"#ArialMT-97\"/>\r\n       <use x=\"411.376953\" xlink:href=\"#ArialMT-117\"/>\r\n       <use x=\"466.992188\" xlink:href=\"#ArialMT-108\"/>\r\n       <use x=\"489.208984\" xlink:href=\"#ArialMT-116\"/>\r\n      </g>\r\n     </g>\r\n    </g>\r\n    <g id=\"text_6\">\r\n     <!-- True Class -->\r\n     <g style=\"fill:#262626;\" transform=\"translate(15.073594 202.711328)rotate(-90)scale(0.11 -0.11)\">\r\n      <defs>\r\n       <path d=\"M 25.921875 0 \r\nL 25.921875 63.140625 \r\nL 2.34375 63.140625 \r\nL 2.34375 71.578125 \r\nL 59.078125 71.578125 \r\nL 59.078125 63.140625 \r\nL 35.40625 63.140625 \r\nL 35.40625 0 \r\nz\r\n\" id=\"ArialMT-84\"/>\r\n      </defs>\r\n      <use xlink:href=\"#ArialMT-84\"/>\r\n      <use x=\"57.333984\" xlink:href=\"#ArialMT-114\"/>\r\n      <use x=\"90.634766\" xlink:href=\"#ArialMT-117\"/>\r\n      <use x=\"146.25\" xlink:href=\"#ArialMT-101\"/>\r\n      <use x=\"201.865234\" xlink:href=\"#ArialMT-32\"/>\r\n      <use x=\"229.648438\" xlink:href=\"#ArialMT-67\"/>\r\n      <use x=\"301.865234\" xlink:href=\"#ArialMT-108\"/>\r\n      <use x=\"324.082031\" xlink:href=\"#ArialMT-97\"/>\r\n      <use x=\"379.697266\" xlink:href=\"#ArialMT-115\"/>\r\n      <use x=\"429.697266\" xlink:href=\"#ArialMT-115\"/>\r\n     </g>\r\n    </g>\r\n   </g>\r\n   <g id=\"QuadMesh_1\">\r\n    <path clip-path=\"url(#p6ad484411d)\" d=\"M 90.294219 330.869375 \r\nL 251.834219 330.869375 \r\nL 251.834219 176.329375 \r\nL 90.294219 176.329375 \r\nL 90.294219 330.869375 \r\n\" style=\"fill:#ffffcc;stroke:#ffffff;stroke-width:0.01;\"/>\r\n    <path clip-path=\"url(#p6ad484411d)\" d=\"M 251.834219 330.869375 \r\nL 413.374219 330.869375 \r\nL 413.374219 176.329375 \r\nL 251.834219 176.329375 \r\nL 251.834219 330.869375 \r\n\" style=\"fill:#ffffcc;stroke:#111111;stroke-width:0.01;\"/>\r\n    <path clip-path=\"url(#p6ad484411d)\" d=\"M 90.294219 176.329375 \r\nL 251.834219 176.329375 \r\nL 251.834219 21.789375 \r\nL 90.294219 21.789375 \r\nL 90.294219 176.329375 \r\n\" style=\"fill:#800026;stroke:#111111;stroke-width:0.01;\"/>\r\n    <path clip-path=\"url(#p6ad484411d)\" d=\"M 251.834219 176.329375 \r\nL 413.374219 176.329375 \r\nL 413.374219 21.789375 \r\nL 251.834219 21.789375 \r\nL 251.834219 176.329375 \r\n\" style=\"fill:#ffffcc;stroke:#ffffff;stroke-width:0.01;\"/>\r\n   </g>\r\n   <g id=\"patch_3\">\r\n    <path d=\"M 90.294219 330.869375 \r\nL 90.294219 21.789375 \r\n\" style=\"fill:none;stroke:#cccccc;stroke-linecap:square;stroke-linejoin:miter;stroke-width:1.25;\"/>\r\n   </g>\r\n   <g id=\"patch_4\">\r\n    <path d=\"M 413.374219 330.869375 \r\nL 413.374219 21.789375 \r\n\" style=\"fill:none;stroke:#cccccc;stroke-linecap:square;stroke-linejoin:miter;stroke-width:1.25;\"/>\r\n   </g>\r\n   <g id=\"patch_5\">\r\n    <path d=\"M 90.294219 330.869375 \r\nL 413.374219 330.869375 \r\n\" style=\"fill:none;stroke:#cccccc;stroke-linecap:square;stroke-linejoin:miter;stroke-width:1.25;\"/>\r\n   </g>\r\n   <g id=\"patch_6\">\r\n    <path d=\"M 90.294219 21.789375 \r\nL 413.374219 21.789375 \r\n\" style=\"fill:none;stroke:#cccccc;stroke-linecap:square;stroke-linejoin:miter;stroke-width:1.25;\"/>\r\n   </g>\r\n   <g id=\"text_7\">\r\n    <!-- 4609 -->\r\n    <g transform=\"translate(157.717969 256.701563)scale(0.12 -0.12)\">\r\n     <defs>\r\n      <path d=\"M 32.328125 0 \r\nL 32.328125 17.140625 \r\nL 1.265625 17.140625 \r\nL 1.265625 25.203125 \r\nL 33.9375 71.578125 \r\nL 41.109375 71.578125 \r\nL 41.109375 25.203125 \r\nL 50.78125 25.203125 \r\nL 50.78125 17.140625 \r\nL 41.109375 17.140625 \r\nL 41.109375 0 \r\nz\r\nM 32.328125 25.203125 \r\nL 32.328125 57.46875 \r\nL 9.90625 25.203125 \r\nz\r\n\" id=\"ArialMT-52\"/>\r\n      <path d=\"M 49.75 54.046875 \r\nL 41.015625 53.375 \r\nQ 39.84375 58.546875 37.703125 60.890625 \r\nQ 34.125 64.65625 28.90625 64.65625 \r\nQ 24.703125 64.65625 21.53125 62.3125 \r\nQ 17.390625 59.28125 14.984375 53.46875 \r\nQ 12.59375 47.65625 12.5 36.921875 \r\nQ 15.671875 41.75 20.265625 44.09375 \r\nQ 24.859375 46.4375 29.890625 46.4375 \r\nQ 38.671875 46.4375 44.84375 39.96875 \r\nQ 51.03125 33.5 51.03125 23.25 \r\nQ 51.03125 16.5 48.125 10.71875 \r\nQ 45.21875 4.9375 40.140625 1.859375 \r\nQ 35.0625 -1.21875 28.609375 -1.21875 \r\nQ 17.625 -1.21875 10.6875 6.859375 \r\nQ 3.765625 14.9375 3.765625 33.5 \r\nQ 3.765625 54.25 11.421875 63.671875 \r\nQ 18.109375 71.875 29.4375 71.875 \r\nQ 37.890625 71.875 43.28125 67.140625 \r\nQ 48.6875 62.40625 49.75 54.046875 \r\nz\r\nM 13.875 23.1875 \r\nQ 13.875 18.65625 15.796875 14.5 \r\nQ 17.71875 10.359375 21.1875 8.171875 \r\nQ 24.65625 6 28.46875 6 \r\nQ 34.03125 6 38.03125 10.484375 \r\nQ 42.046875 14.984375 42.046875 22.703125 \r\nQ 42.046875 30.125 38.078125 34.390625 \r\nQ 34.125 38.671875 28.125 38.671875 \r\nQ 22.171875 38.671875 18.015625 34.390625 \r\nQ 13.875 30.125 13.875 23.1875 \r\nz\r\n\" id=\"ArialMT-54\"/>\r\n      <path d=\"M 4.15625 35.296875 \r\nQ 4.15625 48 6.765625 55.734375 \r\nQ 9.375 63.484375 14.515625 67.671875 \r\nQ 19.671875 71.875 27.484375 71.875 \r\nQ 33.25 71.875 37.59375 69.546875 \r\nQ 41.9375 67.234375 44.765625 62.859375 \r\nQ 47.609375 58.5 49.21875 52.21875 \r\nQ 50.828125 45.953125 50.828125 35.296875 \r\nQ 50.828125 22.703125 48.234375 14.96875 \r\nQ 45.65625 7.234375 40.5 3 \r\nQ 35.359375 -1.21875 27.484375 -1.21875 \r\nQ 17.140625 -1.21875 11.234375 6.203125 \r\nQ 4.15625 15.140625 4.15625 35.296875 \r\nz\r\nM 13.1875 35.296875 \r\nQ 13.1875 17.671875 17.3125 11.828125 \r\nQ 21.4375 6 27.484375 6 \r\nQ 33.546875 6 37.671875 11.859375 \r\nQ 41.796875 17.71875 41.796875 35.296875 \r\nQ 41.796875 52.984375 37.671875 58.78125 \r\nQ 33.546875 64.59375 27.390625 64.59375 \r\nQ 21.34375 64.59375 17.71875 59.46875 \r\nQ 13.1875 52.9375 13.1875 35.296875 \r\nz\r\n\" id=\"ArialMT-48\"/>\r\n      <path d=\"M 5.46875 16.546875 \r\nL 13.921875 17.328125 \r\nQ 14.984375 11.375 18.015625 8.6875 \r\nQ 21.046875 6 25.78125 6 \r\nQ 29.828125 6 32.875 7.859375 \r\nQ 35.9375 9.71875 37.890625 12.8125 \r\nQ 39.84375 15.921875 41.15625 21.1875 \r\nQ 42.484375 26.46875 42.484375 31.9375 \r\nQ 42.484375 32.515625 42.4375 33.6875 \r\nQ 39.796875 29.5 35.234375 26.875 \r\nQ 30.671875 24.265625 25.34375 24.265625 \r\nQ 16.453125 24.265625 10.296875 30.703125 \r\nQ 4.15625 37.15625 4.15625 47.703125 \r\nQ 4.15625 58.59375 10.578125 65.234375 \r\nQ 17 71.875 26.65625 71.875 \r\nQ 33.640625 71.875 39.421875 68.109375 \r\nQ 45.21875 64.359375 48.21875 57.390625 \r\nQ 51.21875 50.4375 51.21875 37.25 \r\nQ 51.21875 23.53125 48.234375 15.40625 \r\nQ 45.265625 7.28125 39.375 3.03125 \r\nQ 33.5 -1.21875 25.59375 -1.21875 \r\nQ 17.1875 -1.21875 11.859375 3.4375 \r\nQ 6.546875 8.109375 5.46875 16.546875 \r\nz\r\nM 41.453125 48.140625 \r\nQ 41.453125 55.71875 37.421875 60.15625 \r\nQ 33.40625 64.59375 27.734375 64.59375 \r\nQ 21.875 64.59375 17.53125 59.8125 \r\nQ 13.1875 55.03125 13.1875 47.40625 \r\nQ 13.1875 40.578125 17.3125 36.296875 \r\nQ 21.4375 32.03125 27.484375 32.03125 \r\nQ 33.59375 32.03125 37.515625 36.296875 \r\nQ 41.453125 40.578125 41.453125 48.140625 \r\nz\r\n\" id=\"ArialMT-57\"/>\r\n     </defs>\r\n     <use xlink:href=\"#ArialMT-52\"/>\r\n     <use x=\"55.615234\" xlink:href=\"#ArialMT-54\"/>\r\n     <use x=\"111.230469\" xlink:href=\"#ArialMT-48\"/>\r\n     <use x=\"166.845703\" xlink:href=\"#ArialMT-57\"/>\r\n    </g>\r\n   </g>\r\n   <g id=\"text_8\">\r\n    <!-- 88 -->\r\n    <g transform=\"translate(325.931094 256.701563)scale(0.12 -0.12)\">\r\n     <defs>\r\n      <path d=\"M 17.671875 38.8125 \r\nQ 12.203125 40.828125 9.5625 44.53125 \r\nQ 6.9375 48.25 6.9375 53.421875 \r\nQ 6.9375 61.234375 12.546875 66.546875 \r\nQ 18.171875 71.875 27.484375 71.875 \r\nQ 36.859375 71.875 42.578125 66.421875 \r\nQ 48.296875 60.984375 48.296875 53.171875 \r\nQ 48.296875 48.1875 45.671875 44.5 \r\nQ 43.0625 40.828125 37.75 38.8125 \r\nQ 44.34375 36.671875 47.78125 31.875 \r\nQ 51.21875 27.09375 51.21875 20.453125 \r\nQ 51.21875 11.28125 44.71875 5.03125 \r\nQ 38.234375 -1.21875 27.640625 -1.21875 \r\nQ 17.046875 -1.21875 10.546875 5.046875 \r\nQ 4.046875 11.328125 4.046875 20.703125 \r\nQ 4.046875 27.6875 7.59375 32.390625 \r\nQ 11.140625 37.109375 17.671875 38.8125 \r\nz\r\nM 15.921875 53.71875 \r\nQ 15.921875 48.640625 19.1875 45.40625 \r\nQ 22.46875 42.1875 27.6875 42.1875 \r\nQ 32.765625 42.1875 36.015625 45.375 \r\nQ 39.265625 48.578125 39.265625 53.21875 \r\nQ 39.265625 58.0625 35.90625 61.359375 \r\nQ 32.5625 64.65625 27.59375 64.65625 \r\nQ 22.5625 64.65625 19.234375 61.421875 \r\nQ 15.921875 58.203125 15.921875 53.71875 \r\nz\r\nM 13.09375 20.65625 \r\nQ 13.09375 16.890625 14.875 13.375 \r\nQ 16.65625 9.859375 20.171875 7.921875 \r\nQ 23.6875 6 27.734375 6 \r\nQ 34.03125 6 38.125 10.046875 \r\nQ 42.234375 14.109375 42.234375 20.359375 \r\nQ 42.234375 26.703125 38.015625 30.859375 \r\nQ 33.796875 35.015625 27.4375 35.015625 \r\nQ 21.234375 35.015625 17.15625 30.90625 \r\nQ 13.09375 26.8125 13.09375 20.65625 \r\nz\r\n\" id=\"ArialMT-56\"/>\r\n     </defs>\r\n     <use xlink:href=\"#ArialMT-56\"/>\r\n     <use x=\"55.615234\" xlink:href=\"#ArialMT-56\"/>\r\n    </g>\r\n   </g>\r\n   <g id=\"text_9\">\r\n    <!-- 52838 -->\r\n    <g style=\"fill:#ffffff;\" transform=\"translate(154.381406 102.161563)scale(0.12 -0.12)\">\r\n     <defs>\r\n      <path d=\"M 4.15625 18.75 \r\nL 13.375 19.53125 \r\nQ 14.40625 12.796875 18.140625 9.390625 \r\nQ 21.875 6 27.15625 6 \r\nQ 33.5 6 37.890625 10.78125 \r\nQ 42.28125 15.578125 42.28125 23.484375 \r\nQ 42.28125 31 38.0625 35.34375 \r\nQ 33.84375 39.703125 27 39.703125 \r\nQ 22.75 39.703125 19.328125 37.765625 \r\nQ 15.921875 35.84375 13.96875 32.765625 \r\nL 5.71875 33.84375 \r\nL 12.640625 70.609375 \r\nL 48.25 70.609375 \r\nL 48.25 62.203125 \r\nL 19.671875 62.203125 \r\nL 15.828125 42.96875 \r\nQ 22.265625 47.46875 29.34375 47.46875 \r\nQ 38.71875 47.46875 45.15625 40.96875 \r\nQ 51.609375 34.46875 51.609375 24.265625 \r\nQ 51.609375 14.546875 45.953125 7.46875 \r\nQ 39.0625 -1.21875 27.15625 -1.21875 \r\nQ 17.390625 -1.21875 11.203125 4.25 \r\nQ 5.03125 9.71875 4.15625 18.75 \r\nz\r\n\" id=\"ArialMT-53\"/>\r\n      <path d=\"M 50.34375 8.453125 \r\nL 50.34375 0 \r\nL 3.03125 0 \r\nQ 2.9375 3.171875 4.046875 6.109375 \r\nQ 5.859375 10.9375 9.828125 15.625 \r\nQ 13.8125 20.3125 21.34375 26.46875 \r\nQ 33.015625 36.03125 37.109375 41.625 \r\nQ 41.21875 47.21875 41.21875 52.203125 \r\nQ 41.21875 57.421875 37.46875 61 \r\nQ 33.734375 64.59375 27.734375 64.59375 \r\nQ 21.390625 64.59375 17.578125 60.78125 \r\nQ 13.765625 56.984375 13.71875 50.25 \r\nL 4.6875 51.171875 \r\nQ 5.609375 61.28125 11.65625 66.578125 \r\nQ 17.71875 71.875 27.9375 71.875 \r\nQ 38.234375 71.875 44.234375 66.15625 \r\nQ 50.25 60.453125 50.25 52 \r\nQ 50.25 47.703125 48.484375 43.546875 \r\nQ 46.734375 39.40625 42.65625 34.8125 \r\nQ 38.578125 30.21875 29.109375 22.21875 \r\nQ 21.1875 15.578125 18.9375 13.203125 \r\nQ 16.703125 10.84375 15.234375 8.453125 \r\nz\r\n\" id=\"ArialMT-50\"/>\r\n      <path d=\"M 4.203125 18.890625 \r\nL 12.984375 20.0625 \r\nQ 14.5 12.59375 18.140625 9.296875 \r\nQ 21.78125 6 27 6 \r\nQ 33.203125 6 37.46875 10.296875 \r\nQ 41.75 14.59375 41.75 20.953125 \r\nQ 41.75 27 37.796875 30.921875 \r\nQ 33.84375 34.859375 27.734375 34.859375 \r\nQ 25.25 34.859375 21.53125 33.890625 \r\nL 22.515625 41.609375 \r\nQ 23.390625 41.5 23.921875 41.5 \r\nQ 29.546875 41.5 34.03125 44.421875 \r\nQ 38.53125 47.359375 38.53125 53.46875 \r\nQ 38.53125 58.296875 35.25 61.46875 \r\nQ 31.984375 64.65625 26.8125 64.65625 \r\nQ 21.6875 64.65625 18.265625 61.421875 \r\nQ 14.84375 58.203125 13.875 51.765625 \r\nL 5.078125 53.328125 \r\nQ 6.6875 62.15625 12.390625 67.015625 \r\nQ 18.109375 71.875 26.609375 71.875 \r\nQ 32.46875 71.875 37.390625 69.359375 \r\nQ 42.328125 66.84375 44.9375 62.5 \r\nQ 47.5625 58.15625 47.5625 53.265625 \r\nQ 47.5625 48.640625 45.0625 44.828125 \r\nQ 42.578125 41.015625 37.703125 38.765625 \r\nQ 44.046875 37.3125 47.5625 32.6875 \r\nQ 51.078125 28.078125 51.078125 21.140625 \r\nQ 51.078125 11.765625 44.234375 5.25 \r\nQ 37.40625 -1.265625 26.953125 -1.265625 \r\nQ 17.53125 -1.265625 11.296875 4.34375 \r\nQ 5.078125 9.96875 4.203125 18.890625 \r\nz\r\n\" id=\"ArialMT-51\"/>\r\n     </defs>\r\n     <use xlink:href=\"#ArialMT-53\"/>\r\n     <use x=\"55.615234\" xlink:href=\"#ArialMT-50\"/>\r\n     <use x=\"111.230469\" xlink:href=\"#ArialMT-56\"/>\r\n     <use x=\"166.845703\" xlink:href=\"#ArialMT-51\"/>\r\n     <use x=\"222.460938\" xlink:href=\"#ArialMT-56\"/>\r\n    </g>\r\n   </g>\r\n   <g id=\"text_10\">\r\n    <!-- 71 -->\r\n    <g transform=\"translate(325.931094 102.161563)scale(0.12 -0.12)\">\r\n     <defs>\r\n      <path d=\"M 4.734375 62.203125 \r\nL 4.734375 70.65625 \r\nL 51.078125 70.65625 \r\nL 51.078125 63.8125 \r\nQ 44.234375 56.546875 37.515625 44.484375 \r\nQ 30.8125 32.421875 27.15625 19.671875 \r\nQ 24.515625 10.6875 23.78125 0 \r\nL 14.75 0 \r\nQ 14.890625 8.453125 18.0625 20.40625 \r\nQ 21.234375 32.375 27.171875 43.484375 \r\nQ 33.109375 54.59375 39.796875 62.203125 \r\nz\r\n\" id=\"ArialMT-55\"/>\r\n      <path d=\"M 37.25 0 \r\nL 28.46875 0 \r\nL 28.46875 56 \r\nQ 25.296875 52.984375 20.140625 49.953125 \r\nQ 14.984375 46.921875 10.890625 45.40625 \r\nL 10.890625 53.90625 \r\nQ 18.265625 57.375 23.78125 62.296875 \r\nQ 29.296875 67.234375 31.59375 71.875 \r\nL 37.25 71.875 \r\nz\r\n\" id=\"ArialMT-49\"/>\r\n     </defs>\r\n     <use xlink:href=\"#ArialMT-55\"/>\r\n     <use x=\"55.615234\" xlink:href=\"#ArialMT-49\"/>\r\n    </g>\r\n   </g>\r\n   <g id=\"text_11\">\r\n    <!-- LGBMClassifier Confusion Matrix -->\r\n    <g style=\"fill:#262626;\" transform=\"translate(163.478594 15.789375)scale(0.12 -0.12)\">\r\n     <defs>\r\n      <path d=\"M 7.328125 0 \r\nL 7.328125 71.578125 \r\nL 16.796875 71.578125 \r\nL 16.796875 8.453125 \r\nL 52.046875 8.453125 \r\nL 52.046875 0 \r\nz\r\n\" id=\"ArialMT-76\"/>\r\n      <path d=\"M 41.21875 28.078125 \r\nL 41.21875 36.46875 \r\nL 71.53125 36.53125 \r\nL 71.53125 9.96875 \r\nQ 64.546875 4.390625 57.125 1.578125 \r\nQ 49.703125 -1.21875 41.890625 -1.21875 \r\nQ 31.34375 -1.21875 22.71875 3.296875 \r\nQ 14.109375 7.8125 9.71875 16.359375 \r\nQ 5.328125 24.90625 5.328125 35.453125 \r\nQ 5.328125 45.90625 9.6875 54.953125 \r\nQ 14.0625 64.015625 22.265625 68.40625 \r\nQ 30.46875 72.796875 41.15625 72.796875 \r\nQ 48.921875 72.796875 55.1875 70.28125 \r\nQ 61.46875 67.78125 65.03125 63.28125 \r\nQ 68.609375 58.796875 70.453125 51.5625 \r\nL 61.921875 49.21875 \r\nQ 60.296875 54.6875 57.90625 57.8125 \r\nQ 55.515625 60.9375 51.0625 62.8125 \r\nQ 46.625 64.703125 41.21875 64.703125 \r\nQ 34.71875 64.703125 29.984375 62.71875 \r\nQ 25.25 60.75 22.34375 57.515625 \r\nQ 19.4375 54.296875 17.828125 50.4375 \r\nQ 15.09375 43.796875 15.09375 36.03125 \r\nQ 15.09375 26.46875 18.390625 20.015625 \r\nQ 21.6875 13.578125 27.984375 10.453125 \r\nQ 34.28125 7.328125 41.359375 7.328125 \r\nQ 47.515625 7.328125 53.375 9.6875 \r\nQ 59.234375 12.0625 62.25 14.75 \r\nL 62.25 28.078125 \r\nz\r\n\" id=\"ArialMT-71\"/>\r\n      <path d=\"M 7.328125 0 \r\nL 7.328125 71.578125 \r\nL 34.1875 71.578125 \r\nQ 42.390625 71.578125 47.34375 69.40625 \r\nQ 52.296875 67.234375 55.09375 62.71875 \r\nQ 57.90625 58.203125 57.90625 53.265625 \r\nQ 57.90625 48.6875 55.421875 44.625 \r\nQ 52.9375 40.578125 47.90625 38.09375 \r\nQ 54.390625 36.1875 57.875 31.59375 \r\nQ 61.375 27 61.375 20.75 \r\nQ 61.375 15.71875 59.25 11.390625 \r\nQ 57.125 7.078125 54 4.734375 \r\nQ 50.875 2.390625 46.15625 1.1875 \r\nQ 41.453125 0 34.625 0 \r\nz\r\nM 16.796875 41.5 \r\nL 32.28125 41.5 \r\nQ 38.578125 41.5 41.3125 42.328125 \r\nQ 44.921875 43.40625 46.75 45.890625 \r\nQ 48.578125 48.390625 48.578125 52.15625 \r\nQ 48.578125 55.71875 46.875 58.421875 \r\nQ 45.171875 61.140625 41.984375 62.140625 \r\nQ 38.8125 63.140625 31.109375 63.140625 \r\nL 16.796875 63.140625 \r\nz\r\nM 16.796875 8.453125 \r\nL 34.625 8.453125 \r\nQ 39.203125 8.453125 41.0625 8.796875 \r\nQ 44.34375 9.375 46.53125 10.734375 \r\nQ 48.734375 12.109375 50.140625 14.71875 \r\nQ 51.5625 17.328125 51.5625 20.75 \r\nQ 51.5625 24.75 49.515625 27.703125 \r\nQ 47.46875 30.671875 43.828125 31.859375 \r\nQ 40.1875 33.0625 33.34375 33.0625 \r\nL 16.796875 33.0625 \r\nz\r\n\" id=\"ArialMT-66\"/>\r\n      <path d=\"M 7.421875 0 \r\nL 7.421875 71.578125 \r\nL 21.6875 71.578125 \r\nL 38.625 20.90625 \r\nQ 40.96875 13.8125 42.046875 10.296875 \r\nQ 43.265625 14.203125 45.84375 21.78125 \r\nL 62.984375 71.578125 \r\nL 75.734375 71.578125 \r\nL 75.734375 0 \r\nL 66.609375 0 \r\nL 66.609375 59.90625 \r\nL 45.796875 0 \r\nL 37.25 0 \r\nL 16.546875 60.9375 \r\nL 16.546875 0 \r\nz\r\n\" id=\"ArialMT-77\"/>\r\n      <path d=\"M 0.734375 0 \r\nL 19.671875 26.953125 \r\nL 2.15625 51.859375 \r\nL 13.140625 51.859375 \r\nL 21.09375 39.703125 \r\nQ 23.34375 36.234375 24.703125 33.890625 \r\nQ 26.859375 37.109375 28.65625 39.59375 \r\nL 37.40625 51.859375 \r\nL 47.90625 51.859375 \r\nL 29.984375 27.4375 \r\nL 49.265625 0 \r\nL 38.484375 0 \r\nL 27.828125 16.109375 \r\nL 25 20.453125 \r\nL 11.375 0 \r\nz\r\n\" id=\"ArialMT-120\"/>\r\n     </defs>\r\n     <use xlink:href=\"#ArialMT-76\"/>\r\n     <use x=\"55.615234\" xlink:href=\"#ArialMT-71\"/>\r\n     <use x=\"133.398438\" xlink:href=\"#ArialMT-66\"/>\r\n     <use x=\"200.097656\" xlink:href=\"#ArialMT-77\"/>\r\n     <use x=\"283.398438\" xlink:href=\"#ArialMT-67\"/>\r\n     <use x=\"355.615234\" xlink:href=\"#ArialMT-108\"/>\r\n     <use x=\"377.832031\" xlink:href=\"#ArialMT-97\"/>\r\n     <use x=\"433.447266\" xlink:href=\"#ArialMT-115\"/>\r\n     <use x=\"483.447266\" xlink:href=\"#ArialMT-115\"/>\r\n     <use x=\"533.447266\" xlink:href=\"#ArialMT-105\"/>\r\n     <use x=\"555.664062\" xlink:href=\"#ArialMT-102\"/>\r\n     <use x=\"583.447266\" xlink:href=\"#ArialMT-105\"/>\r\n     <use x=\"605.664062\" xlink:href=\"#ArialMT-101\"/>\r\n     <use x=\"661.279297\" xlink:href=\"#ArialMT-114\"/>\r\n     <use x=\"694.580078\" xlink:href=\"#ArialMT-32\"/>\r\n     <use x=\"722.363281\" xlink:href=\"#ArialMT-67\"/>\r\n     <use x=\"794.580078\" xlink:href=\"#ArialMT-111\"/>\r\n     <use x=\"850.195312\" xlink:href=\"#ArialMT-110\"/>\r\n     <use x=\"905.810547\" xlink:href=\"#ArialMT-102\"/>\r\n     <use x=\"933.59375\" xlink:href=\"#ArialMT-117\"/>\r\n     <use x=\"989.208984\" xlink:href=\"#ArialMT-115\"/>\r\n     <use x=\"1039.208984\" xlink:href=\"#ArialMT-105\"/>\r\n     <use x=\"1061.425781\" xlink:href=\"#ArialMT-111\"/>\r\n     <use x=\"1117.041016\" xlink:href=\"#ArialMT-110\"/>\r\n     <use x=\"1172.65625\" xlink:href=\"#ArialMT-32\"/>\r\n     <use x=\"1200.439453\" xlink:href=\"#ArialMT-77\"/>\r\n     <use x=\"1283.740234\" xlink:href=\"#ArialMT-97\"/>\r\n     <use x=\"1339.355469\" xlink:href=\"#ArialMT-116\"/>\r\n     <use x=\"1367.138672\" xlink:href=\"#ArialMT-114\"/>\r\n     <use x=\"1400.439453\" xlink:href=\"#ArialMT-105\"/>\r\n     <use x=\"1422.65625\" xlink:href=\"#ArialMT-120\"/>\r\n    </g>\r\n   </g>\r\n  </g>\r\n </g>\r\n <defs>\r\n  <clipPath id=\"p6ad484411d\">\r\n   <rect height=\"309.08\" width=\"323.08\" x=\"90.294219\" y=\"21.789375\"/>\r\n  </clipPath>\r\n </defs>\r\n</svg>\r\n",
      "image/png": "[encoded data removed]"
     },
     "metadata": {}
    }
   ],
   "source": [
    "from yellowbrick.classifier import ConfusionMatrix\n",
    "import matplotlib.pyplot as plt\n",
    "\n",
    "mapping = {0:\"Non-default\", 1:\"Default\"}\n",
    "\n",
    "fig, ax = plt.subplots(figsize=(6, 6))\n",
    "\n",
    "cm_viz = ConfusionMatrix(\n",
    "    pipe,\n",
    "    classes=[\"Non-default\", \"Default\"],\n",
    "    label_encoder=mapping,\n",
    ")\n",
    "cm_viz.score(X_eval, y_eval)\n",
    "cm_viz.poof()\n",
    "\n",
    "fig.savefig(\"plots/confusion_matrix.png\", dpi=300)"
   ]
  },
  {
   "cell_type": "raw",
   "metadata": {
    "Collapsed": "false"
   },
   "source": [
    "%%capture --no-display\n",
    "from yellowbrick.classifier import DiscriminationThreshold\n",
    "\n",
    "fig, ax = plt.subplots(figsize=(6, 5))\n",
    "dt_viz = DiscriminationThreshold(pipe)\n",
    "dt_viz.fit(X_fit, y_fit)\n",
    "dt_viz.poof()\n",
    "\n",
    "fig.savefig(\"plots/discr_threshold.png\", dpi=300)"
   ]
  },
  {
   "cell_type": "markdown",
   "metadata": {
    "Collapsed": "false"
   },
   "source": [
    "## **Métrique \"métier\"**"
   ]
  },
  {
   "cell_type": "code",
   "execution_count": 108,
   "metadata": {
    "Collapsed": "false"
   },
   "outputs": [
    {
     "output_type": "stream",
     "name": "stdout",
     "text": [
      "Score of the naïve model: Custom_metric = 0.0000\n",
      "Score of the selected model (on X_fit): Custom_metric = 0.4306\n",
      "Score of the selected model (on X_eval): Custom_metric = 0.3461\n"
     ]
    }
   ],
   "source": [
    "# Scoring the the naïve baseline model\n",
    "score = custom_scorer(baseline, X_eval, y_eval)\n",
    "print(\"Score of the naïve model: Custom_metric = {:.4f}\".format(score))\n",
    "\n",
    "# Scoring the the selected model on training set\n",
    "score_fit = custom_scorer(pipe, X_fit, y_fit)\n",
    "print(\"Score of the selected model (on X_fit): Custom_metric = {:.4f}\".format(score_fit))\n",
    "\n",
    "# Scoring the the selected model on training set\n",
    "score_eval = custom_scorer(pipe, X_eval, y_eval)\n",
    "print(\"Score of the selected model (on X_eval): Custom_metric = {:.4f}\".format(score_eval))"
   ]
  },
  {
   "cell_type": "markdown",
   "metadata": {
    "Collapsed": "false"
   },
   "source": [
    "### **Sélection du seuil** (threshold)"
   ]
  },
  {
   "cell_type": "code",
   "execution_count": null,
   "metadata": {
    "Collapsed": "false"
   },
   "outputs": [],
   "source": [
    "import numpy as np\n",
    "\n",
    "scores = []\n",
    "for threshold in np.linspace(0, 1, num=101):\n",
    "    y_pred = predict_threshold(pipe, X_eval, threshold=threshold)\n",
    "    score = custom_score(y_eval, y_pred)\n",
    "    scores.append(score)"
   ]
  },
  {
   "cell_type": "code",
   "execution_count": 67,
   "metadata": {
    "Collapsed": "false"
   },
   "outputs": [
    {
     "output_type": "stream",
     "name": "stdout",
     "text": [
      "Max score: 0.31701085799446455\nOptimal threshold: 0.58\n"
     ]
    },
    {
     "output_type": "display_data",
     "data": {
      "text/plain": "<Figure size 432x360 with 1 Axes>",
      "image/svg+xml": "<?xml version=\"1.0\" encoding=\"utf-8\" standalone=\"no\"?>\r\n<!DOCTYPE svg PUBLIC \"-//W3C//DTD SVG 1.1//EN\"\r\n  \"http://www.w3.org/Graphics/SVG/1.1/DTD/svg11.dtd\">\r\n<!-- Created with matplotlib (https://matplotlib.org/) -->\r\n<svg height=\"342.592187pt\" version=\"1.1\" viewBox=\"0 0 431.495313 342.592187\" width=\"431.495313pt\" xmlns=\"http://www.w3.org/2000/svg\" xmlns:xlink=\"http://www.w3.org/1999/xlink\">\r\n <defs>\r\n  <style type=\"text/css\">\r\n*{stroke-linecap:butt;stroke-linejoin:round;}\r\n  </style>\r\n </defs>\r\n <g id=\"figure_1\">\r\n  <g id=\"patch_1\">\r\n   <path d=\"M 0 342.592187 \r\nL 431.495313 342.592187 \r\nL 431.495313 0 \r\nL 0 0 \r\nz\r\n\" style=\"fill:none;\"/>\r\n  </g>\r\n  <g id=\"axes_1\">\r\n   <g id=\"patch_2\">\r\n    <path d=\"M 57 300.196875 \r\nL 391.8 300.196875 \r\nL 391.8 28.396875 \r\nL 57 28.396875 \r\nz\r\n\" style=\"fill:#ffffff;\"/>\r\n   </g>\r\n   <g id=\"matplotlib.axis_1\">\r\n    <g id=\"xtick_1\">\r\n     <g id=\"line2d_1\">\r\n      <defs>\r\n       <path d=\"M 0 0 \r\nL 0 3.5 \r\n\" id=\"m34a9281ac5\" style=\"stroke:#000000;stroke-width:0.8;\"/>\r\n      </defs>\r\n      <g>\r\n       <use style=\"stroke:#000000;stroke-width:0.8;\" x=\"72.218182\" xlink:href=\"#m34a9281ac5\" y=\"300.196875\"/>\r\n      </g>\r\n     </g>\r\n     <g id=\"text_1\">\r\n      <!-- 0.0 -->\r\n      <defs>\r\n       <path d=\"M 31.78125 66.40625 \r\nQ 24.171875 66.40625 20.328125 58.90625 \r\nQ 16.5 51.421875 16.5 36.375 \r\nQ 16.5 21.390625 20.328125 13.890625 \r\nQ 24.171875 6.390625 31.78125 6.390625 \r\nQ 39.453125 6.390625 43.28125 13.890625 \r\nQ 47.125 21.390625 47.125 36.375 \r\nQ 47.125 51.421875 43.28125 58.90625 \r\nQ 39.453125 66.40625 31.78125 66.40625 \r\nz\r\nM 31.78125 74.21875 \r\nQ 44.046875 74.21875 50.515625 64.515625 \r\nQ 56.984375 54.828125 56.984375 36.375 \r\nQ 56.984375 17.96875 50.515625 8.265625 \r\nQ 44.046875 -1.421875 31.78125 -1.421875 \r\nQ 19.53125 -1.421875 13.0625 8.265625 \r\nQ 6.59375 17.96875 6.59375 36.375 \r\nQ 6.59375 54.828125 13.0625 64.515625 \r\nQ 19.53125 74.21875 31.78125 74.21875 \r\nz\r\n\" id=\"DejaVuSans-48\"/>\r\n       <path d=\"M 10.6875 12.40625 \r\nL 21 12.40625 \r\nL 21 0 \r\nL 10.6875 0 \r\nz\r\n\" id=\"DejaVuSans-46\"/>\r\n      </defs>\r\n      <g transform=\"translate(64.266619 314.795312)scale(0.1 -0.1)\">\r\n       <use xlink:href=\"#DejaVuSans-48\"/>\r\n       <use x=\"63.623047\" xlink:href=\"#DejaVuSans-46\"/>\r\n       <use x=\"95.410156\" xlink:href=\"#DejaVuSans-48\"/>\r\n      </g>\r\n     </g>\r\n    </g>\r\n    <g id=\"xtick_2\">\r\n     <g id=\"line2d_2\">\r\n      <g>\r\n       <use style=\"stroke:#000000;stroke-width:0.8;\" x=\"133.090909\" xlink:href=\"#m34a9281ac5\" y=\"300.196875\"/>\r\n      </g>\r\n     </g>\r\n     <g id=\"text_2\">\r\n      <!-- 0.2 -->\r\n      <defs>\r\n       <path d=\"M 19.1875 8.296875 \r\nL 53.609375 8.296875 \r\nL 53.609375 0 \r\nL 7.328125 0 \r\nL 7.328125 8.296875 \r\nQ 12.9375 14.109375 22.625 23.890625 \r\nQ 32.328125 33.6875 34.8125 36.53125 \r\nQ 39.546875 41.84375 41.421875 45.53125 \r\nQ 43.3125 49.21875 43.3125 52.78125 \r\nQ 43.3125 58.59375 39.234375 62.25 \r\nQ 35.15625 65.921875 28.609375 65.921875 \r\nQ 23.96875 65.921875 18.8125 64.3125 \r\nQ 13.671875 62.703125 7.8125 59.421875 \r\nL 7.8125 69.390625 \r\nQ 13.765625 71.78125 18.9375 73 \r\nQ 24.125 74.21875 28.421875 74.21875 \r\nQ 39.75 74.21875 46.484375 68.546875 \r\nQ 53.21875 62.890625 53.21875 53.421875 \r\nQ 53.21875 48.921875 51.53125 44.890625 \r\nQ 49.859375 40.875 45.40625 35.40625 \r\nQ 44.1875 33.984375 37.640625 27.21875 \r\nQ 31.109375 20.453125 19.1875 8.296875 \r\nz\r\n\" id=\"DejaVuSans-50\"/>\r\n      </defs>\r\n      <g transform=\"translate(125.139347 314.795312)scale(0.1 -0.1)\">\r\n       <use xlink:href=\"#DejaVuSans-48\"/>\r\n       <use x=\"63.623047\" xlink:href=\"#DejaVuSans-46\"/>\r\n       <use x=\"95.410156\" xlink:href=\"#DejaVuSans-50\"/>\r\n      </g>\r\n     </g>\r\n    </g>\r\n    <g id=\"xtick_3\">\r\n     <g id=\"line2d_3\">\r\n      <g>\r\n       <use style=\"stroke:#000000;stroke-width:0.8;\" x=\"193.963636\" xlink:href=\"#m34a9281ac5\" y=\"300.196875\"/>\r\n      </g>\r\n     </g>\r\n     <g id=\"text_3\">\r\n      <!-- 0.4 -->\r\n      <defs>\r\n       <path d=\"M 37.796875 64.3125 \r\nL 12.890625 25.390625 \r\nL 37.796875 25.390625 \r\nz\r\nM 35.203125 72.90625 \r\nL 47.609375 72.90625 \r\nL 47.609375 25.390625 \r\nL 58.015625 25.390625 \r\nL 58.015625 17.1875 \r\nL 47.609375 17.1875 \r\nL 47.609375 0 \r\nL 37.796875 0 \r\nL 37.796875 17.1875 \r\nL 4.890625 17.1875 \r\nL 4.890625 26.703125 \r\nz\r\n\" id=\"DejaVuSans-52\"/>\r\n      </defs>\r\n      <g transform=\"translate(186.012074 314.795312)scale(0.1 -0.1)\">\r\n       <use xlink:href=\"#DejaVuSans-48\"/>\r\n       <use x=\"63.623047\" xlink:href=\"#DejaVuSans-46\"/>\r\n       <use x=\"95.410156\" xlink:href=\"#DejaVuSans-52\"/>\r\n      </g>\r\n     </g>\r\n    </g>\r\n    <g id=\"xtick_4\">\r\n     <g id=\"line2d_4\">\r\n      <g>\r\n       <use style=\"stroke:#000000;stroke-width:0.8;\" x=\"254.836364\" xlink:href=\"#m34a9281ac5\" y=\"300.196875\"/>\r\n      </g>\r\n     </g>\r\n     <g id=\"text_4\">\r\n      <!-- 0.6 -->\r\n      <defs>\r\n       <path d=\"M 33.015625 40.375 \r\nQ 26.375 40.375 22.484375 35.828125 \r\nQ 18.609375 31.296875 18.609375 23.390625 \r\nQ 18.609375 15.53125 22.484375 10.953125 \r\nQ 26.375 6.390625 33.015625 6.390625 \r\nQ 39.65625 6.390625 43.53125 10.953125 \r\nQ 47.40625 15.53125 47.40625 23.390625 \r\nQ 47.40625 31.296875 43.53125 35.828125 \r\nQ 39.65625 40.375 33.015625 40.375 \r\nz\r\nM 52.59375 71.296875 \r\nL 52.59375 62.3125 \r\nQ 48.875 64.0625 45.09375 64.984375 \r\nQ 41.3125 65.921875 37.59375 65.921875 \r\nQ 27.828125 65.921875 22.671875 59.328125 \r\nQ 17.53125 52.734375 16.796875 39.40625 \r\nQ 19.671875 43.65625 24.015625 45.921875 \r\nQ 28.375 48.1875 33.59375 48.1875 \r\nQ 44.578125 48.1875 50.953125 41.515625 \r\nQ 57.328125 34.859375 57.328125 23.390625 \r\nQ 57.328125 12.15625 50.6875 5.359375 \r\nQ 44.046875 -1.421875 33.015625 -1.421875 \r\nQ 20.359375 -1.421875 13.671875 8.265625 \r\nQ 6.984375 17.96875 6.984375 36.375 \r\nQ 6.984375 53.65625 15.1875 63.9375 \r\nQ 23.390625 74.21875 37.203125 74.21875 \r\nQ 40.921875 74.21875 44.703125 73.484375 \r\nQ 48.484375 72.75 52.59375 71.296875 \r\nz\r\n\" id=\"DejaVuSans-54\"/>\r\n      </defs>\r\n      <g transform=\"translate(246.884801 314.795312)scale(0.1 -0.1)\">\r\n       <use xlink:href=\"#DejaVuSans-48\"/>\r\n       <use x=\"63.623047\" xlink:href=\"#DejaVuSans-46\"/>\r\n       <use x=\"95.410156\" xlink:href=\"#DejaVuSans-54\"/>\r\n      </g>\r\n     </g>\r\n    </g>\r\n    <g id=\"xtick_5\">\r\n     <g id=\"line2d_5\">\r\n      <g>\r\n       <use style=\"stroke:#000000;stroke-width:0.8;\" x=\"315.709091\" xlink:href=\"#m34a9281ac5\" y=\"300.196875\"/>\r\n      </g>\r\n     </g>\r\n     <g id=\"text_5\">\r\n      <!-- 0.8 -->\r\n      <defs>\r\n       <path d=\"M 31.78125 34.625 \r\nQ 24.75 34.625 20.71875 30.859375 \r\nQ 16.703125 27.09375 16.703125 20.515625 \r\nQ 16.703125 13.921875 20.71875 10.15625 \r\nQ 24.75 6.390625 31.78125 6.390625 \r\nQ 38.8125 6.390625 42.859375 10.171875 \r\nQ 46.921875 13.96875 46.921875 20.515625 \r\nQ 46.921875 27.09375 42.890625 30.859375 \r\nQ 38.875 34.625 31.78125 34.625 \r\nz\r\nM 21.921875 38.8125 \r\nQ 15.578125 40.375 12.03125 44.71875 \r\nQ 8.5 49.078125 8.5 55.328125 \r\nQ 8.5 64.0625 14.71875 69.140625 \r\nQ 20.953125 74.21875 31.78125 74.21875 \r\nQ 42.671875 74.21875 48.875 69.140625 \r\nQ 55.078125 64.0625 55.078125 55.328125 \r\nQ 55.078125 49.078125 51.53125 44.71875 \r\nQ 48 40.375 41.703125 38.8125 \r\nQ 48.828125 37.15625 52.796875 32.3125 \r\nQ 56.78125 27.484375 56.78125 20.515625 \r\nQ 56.78125 9.90625 50.3125 4.234375 \r\nQ 43.84375 -1.421875 31.78125 -1.421875 \r\nQ 19.734375 -1.421875 13.25 4.234375 \r\nQ 6.78125 9.90625 6.78125 20.515625 \r\nQ 6.78125 27.484375 10.78125 32.3125 \r\nQ 14.796875 37.15625 21.921875 38.8125 \r\nz\r\nM 18.3125 54.390625 \r\nQ 18.3125 48.734375 21.84375 45.5625 \r\nQ 25.390625 42.390625 31.78125 42.390625 \r\nQ 38.140625 42.390625 41.71875 45.5625 \r\nQ 45.3125 48.734375 45.3125 54.390625 \r\nQ 45.3125 60.0625 41.71875 63.234375 \r\nQ 38.140625 66.40625 31.78125 66.40625 \r\nQ 25.390625 66.40625 21.84375 63.234375 \r\nQ 18.3125 60.0625 18.3125 54.390625 \r\nz\r\n\" id=\"DejaVuSans-56\"/>\r\n      </defs>\r\n      <g transform=\"translate(307.757528 314.795312)scale(0.1 -0.1)\">\r\n       <use xlink:href=\"#DejaVuSans-48\"/>\r\n       <use x=\"63.623047\" xlink:href=\"#DejaVuSans-46\"/>\r\n       <use x=\"95.410156\" xlink:href=\"#DejaVuSans-56\"/>\r\n      </g>\r\n     </g>\r\n    </g>\r\n    <g id=\"xtick_6\">\r\n     <g id=\"line2d_6\">\r\n      <g>\r\n       <use style=\"stroke:#000000;stroke-width:0.8;\" x=\"376.581818\" xlink:href=\"#m34a9281ac5\" y=\"300.196875\"/>\r\n      </g>\r\n     </g>\r\n     <g id=\"text_6\">\r\n      <!-- 1.0 -->\r\n      <defs>\r\n       <path d=\"M 12.40625 8.296875 \r\nL 28.515625 8.296875 \r\nL 28.515625 63.921875 \r\nL 10.984375 60.40625 \r\nL 10.984375 69.390625 \r\nL 28.421875 72.90625 \r\nL 38.28125 72.90625 \r\nL 38.28125 8.296875 \r\nL 54.390625 8.296875 \r\nL 54.390625 0 \r\nL 12.40625 0 \r\nz\r\n\" id=\"DejaVuSans-49\"/>\r\n      </defs>\r\n      <g transform=\"translate(368.630256 314.795312)scale(0.1 -0.1)\">\r\n       <use xlink:href=\"#DejaVuSans-49\"/>\r\n       <use x=\"63.623047\" xlink:href=\"#DejaVuSans-46\"/>\r\n       <use x=\"95.410156\" xlink:href=\"#DejaVuSans-48\"/>\r\n      </g>\r\n     </g>\r\n    </g>\r\n    <g id=\"text_7\">\r\n     <!-- Probability thresholds -->\r\n     <defs>\r\n      <path d=\"M 19.671875 64.796875 \r\nL 19.671875 37.40625 \r\nL 32.078125 37.40625 \r\nQ 38.96875 37.40625 42.71875 40.96875 \r\nQ 46.484375 44.53125 46.484375 51.125 \r\nQ 46.484375 57.671875 42.71875 61.234375 \r\nQ 38.96875 64.796875 32.078125 64.796875 \r\nz\r\nM 9.8125 72.90625 \r\nL 32.078125 72.90625 \r\nQ 44.34375 72.90625 50.609375 67.359375 \r\nQ 56.890625 61.8125 56.890625 51.125 \r\nQ 56.890625 40.328125 50.609375 34.8125 \r\nQ 44.34375 29.296875 32.078125 29.296875 \r\nL 19.671875 29.296875 \r\nL 19.671875 0 \r\nL 9.8125 0 \r\nz\r\n\" id=\"DejaVuSans-80\"/>\r\n      <path d=\"M 41.109375 46.296875 \r\nQ 39.59375 47.171875 37.8125 47.578125 \r\nQ 36.03125 48 33.890625 48 \r\nQ 26.265625 48 22.1875 43.046875 \r\nQ 18.109375 38.09375 18.109375 28.8125 \r\nL 18.109375 0 \r\nL 9.078125 0 \r\nL 9.078125 54.6875 \r\nL 18.109375 54.6875 \r\nL 18.109375 46.1875 \r\nQ 20.953125 51.171875 25.484375 53.578125 \r\nQ 30.03125 56 36.53125 56 \r\nQ 37.453125 56 38.578125 55.875 \r\nQ 39.703125 55.765625 41.0625 55.515625 \r\nz\r\n\" id=\"DejaVuSans-114\"/>\r\n      <path d=\"M 30.609375 48.390625 \r\nQ 23.390625 48.390625 19.1875 42.75 \r\nQ 14.984375 37.109375 14.984375 27.296875 \r\nQ 14.984375 17.484375 19.15625 11.84375 \r\nQ 23.34375 6.203125 30.609375 6.203125 \r\nQ 37.796875 6.203125 41.984375 11.859375 \r\nQ 46.1875 17.53125 46.1875 27.296875 \r\nQ 46.1875 37.015625 41.984375 42.703125 \r\nQ 37.796875 48.390625 30.609375 48.390625 \r\nz\r\nM 30.609375 56 \r\nQ 42.328125 56 49.015625 48.375 \r\nQ 55.71875 40.765625 55.71875 27.296875 \r\nQ 55.71875 13.875 49.015625 6.21875 \r\nQ 42.328125 -1.421875 30.609375 -1.421875 \r\nQ 18.84375 -1.421875 12.171875 6.21875 \r\nQ 5.515625 13.875 5.515625 27.296875 \r\nQ 5.515625 40.765625 12.171875 48.375 \r\nQ 18.84375 56 30.609375 56 \r\nz\r\n\" id=\"DejaVuSans-111\"/>\r\n      <path d=\"M 48.6875 27.296875 \r\nQ 48.6875 37.203125 44.609375 42.84375 \r\nQ 40.53125 48.484375 33.40625 48.484375 \r\nQ 26.265625 48.484375 22.1875 42.84375 \r\nQ 18.109375 37.203125 18.109375 27.296875 \r\nQ 18.109375 17.390625 22.1875 11.75 \r\nQ 26.265625 6.109375 33.40625 6.109375 \r\nQ 40.53125 6.109375 44.609375 11.75 \r\nQ 48.6875 17.390625 48.6875 27.296875 \r\nz\r\nM 18.109375 46.390625 \r\nQ 20.953125 51.265625 25.265625 53.625 \r\nQ 29.59375 56 35.59375 56 \r\nQ 45.5625 56 51.78125 48.09375 \r\nQ 58.015625 40.1875 58.015625 27.296875 \r\nQ 58.015625 14.40625 51.78125 6.484375 \r\nQ 45.5625 -1.421875 35.59375 -1.421875 \r\nQ 29.59375 -1.421875 25.265625 0.953125 \r\nQ 20.953125 3.328125 18.109375 8.203125 \r\nL 18.109375 0 \r\nL 9.078125 0 \r\nL 9.078125 75.984375 \r\nL 18.109375 75.984375 \r\nz\r\n\" id=\"DejaVuSans-98\"/>\r\n      <path d=\"M 34.28125 27.484375 \r\nQ 23.390625 27.484375 19.1875 25 \r\nQ 14.984375 22.515625 14.984375 16.5 \r\nQ 14.984375 11.71875 18.140625 8.90625 \r\nQ 21.296875 6.109375 26.703125 6.109375 \r\nQ 34.1875 6.109375 38.703125 11.40625 \r\nQ 43.21875 16.703125 43.21875 25.484375 \r\nL 43.21875 27.484375 \r\nz\r\nM 52.203125 31.203125 \r\nL 52.203125 0 \r\nL 43.21875 0 \r\nL 43.21875 8.296875 \r\nQ 40.140625 3.328125 35.546875 0.953125 \r\nQ 30.953125 -1.421875 24.3125 -1.421875 \r\nQ 15.921875 -1.421875 10.953125 3.296875 \r\nQ 6 8.015625 6 15.921875 \r\nQ 6 25.140625 12.171875 29.828125 \r\nQ 18.359375 34.515625 30.609375 34.515625 \r\nL 43.21875 34.515625 \r\nL 43.21875 35.40625 \r\nQ 43.21875 41.609375 39.140625 45 \r\nQ 35.0625 48.390625 27.6875 48.390625 \r\nQ 23 48.390625 18.546875 47.265625 \r\nQ 14.109375 46.140625 10.015625 43.890625 \r\nL 10.015625 52.203125 \r\nQ 14.9375 54.109375 19.578125 55.046875 \r\nQ 24.21875 56 28.609375 56 \r\nQ 40.484375 56 46.34375 49.84375 \r\nQ 52.203125 43.703125 52.203125 31.203125 \r\nz\r\n\" id=\"DejaVuSans-97\"/>\r\n      <path d=\"M 9.421875 54.6875 \r\nL 18.40625 54.6875 \r\nL 18.40625 0 \r\nL 9.421875 0 \r\nz\r\nM 9.421875 75.984375 \r\nL 18.40625 75.984375 \r\nL 18.40625 64.59375 \r\nL 9.421875 64.59375 \r\nz\r\n\" id=\"DejaVuSans-105\"/>\r\n      <path d=\"M 9.421875 75.984375 \r\nL 18.40625 75.984375 \r\nL 18.40625 0 \r\nL 9.421875 0 \r\nz\r\n\" id=\"DejaVuSans-108\"/>\r\n      <path d=\"M 18.3125 70.21875 \r\nL 18.3125 54.6875 \r\nL 36.8125 54.6875 \r\nL 36.8125 47.703125 \r\nL 18.3125 47.703125 \r\nL 18.3125 18.015625 \r\nQ 18.3125 11.328125 20.140625 9.421875 \r\nQ 21.96875 7.515625 27.59375 7.515625 \r\nL 36.8125 7.515625 \r\nL 36.8125 0 \r\nL 27.59375 0 \r\nQ 17.1875 0 13.234375 3.875 \r\nQ 9.28125 7.765625 9.28125 18.015625 \r\nL 9.28125 47.703125 \r\nL 2.6875 47.703125 \r\nL 2.6875 54.6875 \r\nL 9.28125 54.6875 \r\nL 9.28125 70.21875 \r\nz\r\n\" id=\"DejaVuSans-116\"/>\r\n      <path d=\"M 32.171875 -5.078125 \r\nQ 28.375 -14.84375 24.75 -17.8125 \r\nQ 21.140625 -20.796875 15.09375 -20.796875 \r\nL 7.90625 -20.796875 \r\nL 7.90625 -13.28125 \r\nL 13.1875 -13.28125 \r\nQ 16.890625 -13.28125 18.9375 -11.515625 \r\nQ 21 -9.765625 23.484375 -3.21875 \r\nL 25.09375 0.875 \r\nL 2.984375 54.6875 \r\nL 12.5 54.6875 \r\nL 29.59375 11.921875 \r\nL 46.6875 54.6875 \r\nL 56.203125 54.6875 \r\nz\r\n\" id=\"DejaVuSans-121\"/>\r\n      <path id=\"DejaVuSans-32\"/>\r\n      <path d=\"M 54.890625 33.015625 \r\nL 54.890625 0 \r\nL 45.90625 0 \r\nL 45.90625 32.71875 \r\nQ 45.90625 40.484375 42.875 44.328125 \r\nQ 39.84375 48.1875 33.796875 48.1875 \r\nQ 26.515625 48.1875 22.3125 43.546875 \r\nQ 18.109375 38.921875 18.109375 30.90625 \r\nL 18.109375 0 \r\nL 9.078125 0 \r\nL 9.078125 75.984375 \r\nL 18.109375 75.984375 \r\nL 18.109375 46.1875 \r\nQ 21.34375 51.125 25.703125 53.5625 \r\nQ 30.078125 56 35.796875 56 \r\nQ 45.21875 56 50.046875 50.171875 \r\nQ 54.890625 44.34375 54.890625 33.015625 \r\nz\r\n\" id=\"DejaVuSans-104\"/>\r\n      <path d=\"M 56.203125 29.59375 \r\nL 56.203125 25.203125 \r\nL 14.890625 25.203125 \r\nQ 15.484375 15.921875 20.484375 11.0625 \r\nQ 25.484375 6.203125 34.421875 6.203125 \r\nQ 39.59375 6.203125 44.453125 7.46875 \r\nQ 49.3125 8.734375 54.109375 11.28125 \r\nL 54.109375 2.78125 \r\nQ 49.265625 0.734375 44.1875 -0.34375 \r\nQ 39.109375 -1.421875 33.890625 -1.421875 \r\nQ 20.796875 -1.421875 13.15625 6.1875 \r\nQ 5.515625 13.8125 5.515625 26.8125 \r\nQ 5.515625 40.234375 12.765625 48.109375 \r\nQ 20.015625 56 32.328125 56 \r\nQ 43.359375 56 49.78125 48.890625 \r\nQ 56.203125 41.796875 56.203125 29.59375 \r\nz\r\nM 47.21875 32.234375 \r\nQ 47.125 39.59375 43.09375 43.984375 \r\nQ 39.0625 48.390625 32.421875 48.390625 \r\nQ 24.90625 48.390625 20.390625 44.140625 \r\nQ 15.875 39.890625 15.1875 32.171875 \r\nz\r\n\" id=\"DejaVuSans-101\"/>\r\n      <path d=\"M 44.28125 53.078125 \r\nL 44.28125 44.578125 \r\nQ 40.484375 46.53125 36.375 47.5 \r\nQ 32.28125 48.484375 27.875 48.484375 \r\nQ 21.1875 48.484375 17.84375 46.4375 \r\nQ 14.5 44.390625 14.5 40.28125 \r\nQ 14.5 37.15625 16.890625 35.375 \r\nQ 19.28125 33.59375 26.515625 31.984375 \r\nL 29.59375 31.296875 \r\nQ 39.15625 29.25 43.1875 25.515625 \r\nQ 47.21875 21.78125 47.21875 15.09375 \r\nQ 47.21875 7.46875 41.1875 3.015625 \r\nQ 35.15625 -1.421875 24.609375 -1.421875 \r\nQ 20.21875 -1.421875 15.453125 -0.5625 \r\nQ 10.6875 0.296875 5.421875 2 \r\nL 5.421875 11.28125 \r\nQ 10.40625 8.6875 15.234375 7.390625 \r\nQ 20.0625 6.109375 24.8125 6.109375 \r\nQ 31.15625 6.109375 34.5625 8.28125 \r\nQ 37.984375 10.453125 37.984375 14.40625 \r\nQ 37.984375 18.0625 35.515625 20.015625 \r\nQ 33.0625 21.96875 24.703125 23.78125 \r\nL 21.578125 24.515625 \r\nQ 13.234375 26.265625 9.515625 29.90625 \r\nQ 5.8125 33.546875 5.8125 39.890625 \r\nQ 5.8125 47.609375 11.28125 51.796875 \r\nQ 16.75 56 26.8125 56 \r\nQ 31.78125 56 36.171875 55.265625 \r\nQ 40.578125 54.546875 44.28125 53.078125 \r\nz\r\n\" id=\"DejaVuSans-115\"/>\r\n      <path d=\"M 45.40625 46.390625 \r\nL 45.40625 75.984375 \r\nL 54.390625 75.984375 \r\nL 54.390625 0 \r\nL 45.40625 0 \r\nL 45.40625 8.203125 \r\nQ 42.578125 3.328125 38.25 0.953125 \r\nQ 33.9375 -1.421875 27.875 -1.421875 \r\nQ 17.96875 -1.421875 11.734375 6.484375 \r\nQ 5.515625 14.40625 5.515625 27.296875 \r\nQ 5.515625 40.1875 11.734375 48.09375 \r\nQ 17.96875 56 27.875 56 \r\nQ 33.9375 56 38.25 53.625 \r\nQ 42.578125 51.265625 45.40625 46.390625 \r\nz\r\nM 14.796875 27.296875 \r\nQ 14.796875 17.390625 18.875 11.75 \r\nQ 22.953125 6.109375 30.078125 6.109375 \r\nQ 37.203125 6.109375 41.296875 11.75 \r\nQ 45.40625 17.390625 45.40625 27.296875 \r\nQ 45.40625 37.203125 41.296875 42.84375 \r\nQ 37.203125 48.484375 30.078125 48.484375 \r\nQ 22.953125 48.484375 18.875 42.84375 \r\nQ 14.796875 37.203125 14.796875 27.296875 \r\nz\r\n\" id=\"DejaVuSans-100\"/>\r\n     </defs>\r\n     <g transform=\"translate(142.686328 332.272656)scale(0.15 -0.15)\">\r\n      <use xlink:href=\"#DejaVuSans-80\"/>\r\n      <use x=\"60.287109\" xlink:href=\"#DejaVuSans-114\"/>\r\n      <use x=\"101.369141\" xlink:href=\"#DejaVuSans-111\"/>\r\n      <use x=\"162.550781\" xlink:href=\"#DejaVuSans-98\"/>\r\n      <use x=\"226.027344\" xlink:href=\"#DejaVuSans-97\"/>\r\n      <use x=\"287.306641\" xlink:href=\"#DejaVuSans-98\"/>\r\n      <use x=\"350.783203\" xlink:href=\"#DejaVuSans-105\"/>\r\n      <use x=\"378.566406\" xlink:href=\"#DejaVuSans-108\"/>\r\n      <use x=\"406.349609\" xlink:href=\"#DejaVuSans-105\"/>\r\n      <use x=\"434.132812\" xlink:href=\"#DejaVuSans-116\"/>\r\n      <use x=\"473.341797\" xlink:href=\"#DejaVuSans-121\"/>\r\n      <use x=\"532.521484\" xlink:href=\"#DejaVuSans-32\"/>\r\n      <use x=\"564.308594\" xlink:href=\"#DejaVuSans-116\"/>\r\n      <use x=\"603.517578\" xlink:href=\"#DejaVuSans-104\"/>\r\n      <use x=\"666.896484\" xlink:href=\"#DejaVuSans-114\"/>\r\n      <use x=\"707.978516\" xlink:href=\"#DejaVuSans-101\"/>\r\n      <use x=\"769.501953\" xlink:href=\"#DejaVuSans-115\"/>\r\n      <use x=\"821.601562\" xlink:href=\"#DejaVuSans-104\"/>\r\n      <use x=\"884.980469\" xlink:href=\"#DejaVuSans-111\"/>\r\n      <use x=\"946.162109\" xlink:href=\"#DejaVuSans-108\"/>\r\n      <use x=\"973.945312\" xlink:href=\"#DejaVuSans-100\"/>\r\n      <use x=\"1037.421875\" xlink:href=\"#DejaVuSans-115\"/>\r\n     </g>\r\n    </g>\r\n   </g>\r\n   <g id=\"matplotlib.axis_2\">\r\n    <g id=\"ytick_1\">\r\n     <g id=\"line2d_7\">\r\n      <defs>\r\n       <path d=\"M 0 0 \r\nL -3.5 0 \r\n\" id=\"m617ff15b41\" style=\"stroke:#000000;stroke-width:0.8;\"/>\r\n      </defs>\r\n      <g>\r\n       <use style=\"stroke:#000000;stroke-width:0.8;\" x=\"57\" xlink:href=\"#m617ff15b41\" y=\"273.108693\"/>\r\n      </g>\r\n     </g>\r\n     <g id=\"text_8\">\r\n      <!-- −0.1 -->\r\n      <defs>\r\n       <path d=\"M 10.59375 35.5 \r\nL 73.1875 35.5 \r\nL 73.1875 27.203125 \r\nL 10.59375 27.203125 \r\nz\r\n\" id=\"DejaVuSans-8722\"/>\r\n      </defs>\r\n      <g transform=\"translate(25.717188 276.907912)scale(0.1 -0.1)\">\r\n       <use xlink:href=\"#DejaVuSans-8722\"/>\r\n       <use x=\"83.789062\" xlink:href=\"#DejaVuSans-48\"/>\r\n       <use x=\"147.412109\" xlink:href=\"#DejaVuSans-46\"/>\r\n       <use x=\"179.199219\" xlink:href=\"#DejaVuSans-49\"/>\r\n      </g>\r\n     </g>\r\n    </g>\r\n    <g id=\"ytick_2\">\r\n     <g id=\"line2d_8\">\r\n      <g>\r\n       <use style=\"stroke:#000000;stroke-width:0.8;\" x=\"57\" xlink:href=\"#m617ff15b41\" y=\"217.388976\"/>\r\n      </g>\r\n     </g>\r\n     <g id=\"text_9\">\r\n      <!-- 0.0 -->\r\n      <g transform=\"translate(34.096875 221.188194)scale(0.1 -0.1)\">\r\n       <use xlink:href=\"#DejaVuSans-48\"/>\r\n       <use x=\"63.623047\" xlink:href=\"#DejaVuSans-46\"/>\r\n       <use x=\"95.410156\" xlink:href=\"#DejaVuSans-48\"/>\r\n      </g>\r\n     </g>\r\n    </g>\r\n    <g id=\"ytick_3\">\r\n     <g id=\"line2d_9\">\r\n      <g>\r\n       <use style=\"stroke:#000000;stroke-width:0.8;\" x=\"57\" xlink:href=\"#m617ff15b41\" y=\"161.669258\"/>\r\n      </g>\r\n     </g>\r\n     <g id=\"text_10\">\r\n      <!-- 0.1 -->\r\n      <g transform=\"translate(34.096875 165.468477)scale(0.1 -0.1)\">\r\n       <use xlink:href=\"#DejaVuSans-48\"/>\r\n       <use x=\"63.623047\" xlink:href=\"#DejaVuSans-46\"/>\r\n       <use x=\"95.410156\" xlink:href=\"#DejaVuSans-49\"/>\r\n      </g>\r\n     </g>\r\n    </g>\r\n    <g id=\"ytick_4\">\r\n     <g id=\"line2d_10\">\r\n      <g>\r\n       <use style=\"stroke:#000000;stroke-width:0.8;\" x=\"57\" xlink:href=\"#m617ff15b41\" y=\"105.94954\"/>\r\n      </g>\r\n     </g>\r\n     <g id=\"text_11\">\r\n      <!-- 0.2 -->\r\n      <g transform=\"translate(34.096875 109.748759)scale(0.1 -0.1)\">\r\n       <use xlink:href=\"#DejaVuSans-48\"/>\r\n       <use x=\"63.623047\" xlink:href=\"#DejaVuSans-46\"/>\r\n       <use x=\"95.410156\" xlink:href=\"#DejaVuSans-50\"/>\r\n      </g>\r\n     </g>\r\n    </g>\r\n    <g id=\"ytick_5\">\r\n     <g id=\"line2d_11\">\r\n      <g>\r\n       <use style=\"stroke:#000000;stroke-width:0.8;\" x=\"57\" xlink:href=\"#m617ff15b41\" y=\"50.229823\"/>\r\n      </g>\r\n     </g>\r\n     <g id=\"text_12\">\r\n      <!-- 0.3 -->\r\n      <defs>\r\n       <path d=\"M 40.578125 39.3125 \r\nQ 47.65625 37.796875 51.625 33 \r\nQ 55.609375 28.21875 55.609375 21.1875 \r\nQ 55.609375 10.40625 48.1875 4.484375 \r\nQ 40.765625 -1.421875 27.09375 -1.421875 \r\nQ 22.515625 -1.421875 17.65625 -0.515625 \r\nQ 12.796875 0.390625 7.625 2.203125 \r\nL 7.625 11.71875 \r\nQ 11.71875 9.328125 16.59375 8.109375 \r\nQ 21.484375 6.890625 26.8125 6.890625 \r\nQ 36.078125 6.890625 40.9375 10.546875 \r\nQ 45.796875 14.203125 45.796875 21.1875 \r\nQ 45.796875 27.640625 41.28125 31.265625 \r\nQ 36.765625 34.90625 28.71875 34.90625 \r\nL 20.21875 34.90625 \r\nL 20.21875 43.015625 \r\nL 29.109375 43.015625 \r\nQ 36.375 43.015625 40.234375 45.921875 \r\nQ 44.09375 48.828125 44.09375 54.296875 \r\nQ 44.09375 59.90625 40.109375 62.90625 \r\nQ 36.140625 65.921875 28.71875 65.921875 \r\nQ 24.65625 65.921875 20.015625 65.03125 \r\nQ 15.375 64.15625 9.8125 62.3125 \r\nL 9.8125 71.09375 \r\nQ 15.4375 72.65625 20.34375 73.4375 \r\nQ 25.25 74.21875 29.59375 74.21875 \r\nQ 40.828125 74.21875 47.359375 69.109375 \r\nQ 53.90625 64.015625 53.90625 55.328125 \r\nQ 53.90625 49.265625 50.4375 45.09375 \r\nQ 46.96875 40.921875 40.578125 39.3125 \r\nz\r\n\" id=\"DejaVuSans-51\"/>\r\n      </defs>\r\n      <g transform=\"translate(34.096875 54.029041)scale(0.1 -0.1)\">\r\n       <use xlink:href=\"#DejaVuSans-48\"/>\r\n       <use x=\"63.623047\" xlink:href=\"#DejaVuSans-46\"/>\r\n       <use x=\"95.410156\" xlink:href=\"#DejaVuSans-51\"/>\r\n      </g>\r\n     </g>\r\n    </g>\r\n    <g id=\"text_13\">\r\n     <!-- Model's score -->\r\n     <defs>\r\n      <path d=\"M 9.8125 72.90625 \r\nL 24.515625 72.90625 \r\nL 43.109375 23.296875 \r\nL 61.8125 72.90625 \r\nL 76.515625 72.90625 \r\nL 76.515625 0 \r\nL 66.890625 0 \r\nL 66.890625 64.015625 \r\nL 48.09375 14.015625 \r\nL 38.1875 14.015625 \r\nL 19.390625 64.015625 \r\nL 19.390625 0 \r\nL 9.8125 0 \r\nz\r\n\" id=\"DejaVuSans-77\"/>\r\n      <path d=\"M 17.921875 72.90625 \r\nL 17.921875 45.796875 \r\nL 9.625 45.796875 \r\nL 9.625 72.90625 \r\nz\r\n\" id=\"DejaVuSans-39\"/>\r\n      <path d=\"M 48.78125 52.59375 \r\nL 48.78125 44.1875 \r\nQ 44.96875 46.296875 41.140625 47.34375 \r\nQ 37.3125 48.390625 33.40625 48.390625 \r\nQ 24.65625 48.390625 19.8125 42.84375 \r\nQ 14.984375 37.3125 14.984375 27.296875 \r\nQ 14.984375 17.28125 19.8125 11.734375 \r\nQ 24.65625 6.203125 33.40625 6.203125 \r\nQ 37.3125 6.203125 41.140625 7.25 \r\nQ 44.96875 8.296875 48.78125 10.40625 \r\nL 48.78125 2.09375 \r\nQ 45.015625 0.34375 40.984375 -0.53125 \r\nQ 36.96875 -1.421875 32.421875 -1.421875 \r\nQ 20.0625 -1.421875 12.78125 6.34375 \r\nQ 5.515625 14.109375 5.515625 27.296875 \r\nQ 5.515625 40.671875 12.859375 48.328125 \r\nQ 20.21875 56 33.015625 56 \r\nQ 37.15625 56 41.109375 55.140625 \r\nQ 45.0625 54.296875 48.78125 52.59375 \r\nz\r\n\" id=\"DejaVuSans-99\"/>\r\n     </defs>\r\n     <g transform=\"translate(18.597656 215.484375)rotate(-90)scale(0.15 -0.15)\">\r\n      <use xlink:href=\"#DejaVuSans-77\"/>\r\n      <use x=\"86.279297\" xlink:href=\"#DejaVuSans-111\"/>\r\n      <use x=\"147.460938\" xlink:href=\"#DejaVuSans-100\"/>\r\n      <use x=\"210.9375\" xlink:href=\"#DejaVuSans-101\"/>\r\n      <use x=\"272.460938\" xlink:href=\"#DejaVuSans-108\"/>\r\n      <use x=\"300.244141\" xlink:href=\"#DejaVuSans-39\"/>\r\n      <use x=\"327.734375\" xlink:href=\"#DejaVuSans-115\"/>\r\n      <use x=\"379.833984\" xlink:href=\"#DejaVuSans-32\"/>\r\n      <use x=\"411.621094\" xlink:href=\"#DejaVuSans-115\"/>\r\n      <use x=\"463.720703\" xlink:href=\"#DejaVuSans-99\"/>\r\n      <use x=\"518.701172\" xlink:href=\"#DejaVuSans-111\"/>\r\n      <use x=\"579.882812\" xlink:href=\"#DejaVuSans-114\"/>\r\n      <use x=\"620.964844\" xlink:href=\"#DejaVuSans-101\"/>\r\n     </g>\r\n    </g>\r\n   </g>\r\n   <g id=\"line2d_12\">\r\n    <path clip-path=\"url(#pb5f497a660)\" d=\"M 72.218182 287.84233 \r\nL 75.261818 287.830467 \r\nL 78.305455 287.771153 \r\nL 81.349091 287.735564 \r\nL 84.392727 287.616936 \r\nL 87.436364 287.498307 \r\nL 90.48 287.272914 \r\nL 93.523636 286.940754 \r\nL 96.567273 286.383201 \r\nL 99.610909 285.671431 \r\nL 102.654545 284.947799 \r\nL 105.698182 284.271617 \r\nL 108.741818 283.227688 \r\nL 111.785455 281.68552 \r\nL 114.829091 279.728153 \r\nL 117.872727 277.604706 \r\nL 120.916364 275.030472 \r\nL 123.96 272.052901 \r\nL 127.003636 269.300725 \r\nL 130.047273 265.967269 \r\nL 133.090909 261.625473 \r\nL 136.134545 256.109256 \r\nL 139.178182 252.218248 \r\nL 142.221818 247.876452 \r\nL 145.265455 242.277195 \r\nL 148.309091 236.167837 \r\nL 151.352727 228.836608 \r\nL 154.396364 222.620484 \r\nL 157.44 216.392498 \r\nL 160.483636 208.254596 \r\nL 163.527273 199.843848 \r\nL 166.570909 192.263499 \r\nL 169.614545 183.829026 \r\nL 172.658182 175.952107 \r\nL 175.701818 166.924492 \r\nL 178.745455 158.834041 \r\nL 181.789091 150.031821 \r\nL 184.832727 142.048135 \r\nL 187.876364 134.550826 \r\nL 190.92 127.682247 \r\nL 193.963636 121.205141 \r\nL 197.007273 114.111168 \r\nL 200.050909 107.230726 \r\nL 203.094545 101.311173 \r\nL 206.138182 94.051121 \r\nL 209.181818 88.39255 \r\nL 212.225455 82.876334 \r\nL 215.269091 78.392184 \r\nL 218.312727 72.650573 \r\nL 221.356364 66.849649 \r\nL 224.4 62.377362 \r\nL 227.443636 58.877826 \r\nL 230.487273 56.623888 \r\nL 233.530909 50.751787 \r\nL 236.574545 47.28784 \r\nL 239.618182 45.354199 \r\nL 242.661818 43.230752 \r\nL 245.705455 41.71231 \r\nL 248.749091 40.75142 \r\nL 251.792727 41.190345 \r\nL 254.836364 42.305451 \r\nL 257.88 42.163097 \r\nL 260.923636 43.776442 \r\nL 263.967273 44.06115 \r\nL 267.010909 45.366062 \r\nL 270.054545 51.119535 \r\nL 273.098182 55.129172 \r\nL 276.141818 57.976251 \r\nL 279.185455 61.902848 \r\nL 282.229091 66.375136 \r\nL 285.272727 71.54733 \r\nL 288.316364 77.561785 \r\nL 291.36 81.381617 \r\nL 294.403636 89.448342 \r\nL 297.447273 93.647784 \r\nL 300.490909 99.792731 \r\nL 303.534545 106.720624 \r\nL 306.578182 114.063717 \r\nL 309.621818 121.655929 \r\nL 312.665455 128.109309 \r\nL 315.709091 135.298184 \r\nL 318.752727 142.759905 \r\nL 321.796364 148.038865 \r\nL 324.84 155.548037 \r\nL 327.883636 165.382324 \r\nL 330.927273 172.369532 \r\nL 333.970909 179.712624 \r\nL 337.014545 185.240703 \r\nL 340.058182 191.93134 \r\nL 343.101818 195.40715 \r\nL 346.145455 200.448853 \r\nL 349.189091 204.577118 \r\nL 352.232727 207.507237 \r\nL 355.276364 209.595096 \r\nL 358.32 212.477764 \r\nL 361.363636 213.948755 \r\nL 364.407273 215.253666 \r\nL 367.450909 216.356909 \r\nL 370.494545 216.783971 \r\nL 373.538182 217.305936 \r\nL 376.581818 217.388976 \r\n\" style=\"fill:none;stroke:#1f77b4;stroke-linecap:square;stroke-width:1.5;\"/>\r\n   </g>\r\n   <g id=\"line2d_13\">\r\n    <path clip-path=\"url(#pb5f497a660)\" d=\"M 248.749091 300.196875 \r\nL 248.749091 28.396875 \r\n\" style=\"fill:none;stroke:#000000;stroke-dasharray:0.75,1.5;stroke-dashoffset:0;stroke-width:1.5;\"/>\r\n   </g>\r\n   <g id=\"patch_3\">\r\n    <path d=\"M 57 300.196875 \r\nL 57 28.396875 \r\n\" style=\"fill:none;stroke:#000000;stroke-linecap:square;stroke-linejoin:miter;stroke-width:0.8;\"/>\r\n   </g>\r\n   <g id=\"patch_4\">\r\n    <path d=\"M 391.8 300.196875 \r\nL 391.8 28.396875 \r\n\" style=\"fill:none;stroke:#000000;stroke-linecap:square;stroke-linejoin:miter;stroke-width:0.8;\"/>\r\n   </g>\r\n   <g id=\"patch_5\">\r\n    <path d=\"M 57 300.196875 \r\nL 391.8 300.196875 \r\n\" style=\"fill:none;stroke:#000000;stroke-linecap:square;stroke-linejoin:miter;stroke-width:0.8;\"/>\r\n   </g>\r\n   <g id=\"patch_6\">\r\n    <path d=\"M 57 28.396875 \r\nL 391.8 28.396875 \r\n\" style=\"fill:none;stroke:#000000;stroke-linecap:square;stroke-linejoin:miter;stroke-width:0.8;\"/>\r\n   </g>\r\n   <g id=\"text_14\">\r\n    <!-- Model's scores vs Probability thresholds -->\r\n    <defs>\r\n     <path d=\"M 2.984375 54.6875 \r\nL 12.5 54.6875 \r\nL 29.59375 8.796875 \r\nL 46.6875 54.6875 \r\nL 56.203125 54.6875 \r\nL 35.6875 0 \r\nL 23.484375 0 \r\nz\r\n\" id=\"DejaVuSans-118\"/>\r\n    </defs>\r\n    <g transform=\"translate(24.504687 22.396875)scale(0.2 -0.2)\">\r\n     <use xlink:href=\"#DejaVuSans-77\"/>\r\n     <use x=\"86.279297\" xlink:href=\"#DejaVuSans-111\"/>\r\n     <use x=\"147.460938\" xlink:href=\"#DejaVuSans-100\"/>\r\n     <use x=\"210.9375\" xlink:href=\"#DejaVuSans-101\"/>\r\n     <use x=\"272.460938\" xlink:href=\"#DejaVuSans-108\"/>\r\n     <use x=\"300.244141\" xlink:href=\"#DejaVuSans-39\"/>\r\n     <use x=\"327.734375\" xlink:href=\"#DejaVuSans-115\"/>\r\n     <use x=\"379.833984\" xlink:href=\"#DejaVuSans-32\"/>\r\n     <use x=\"411.621094\" xlink:href=\"#DejaVuSans-115\"/>\r\n     <use x=\"463.720703\" xlink:href=\"#DejaVuSans-99\"/>\r\n     <use x=\"518.701172\" xlink:href=\"#DejaVuSans-111\"/>\r\n     <use x=\"579.882812\" xlink:href=\"#DejaVuSans-114\"/>\r\n     <use x=\"620.964844\" xlink:href=\"#DejaVuSans-101\"/>\r\n     <use x=\"682.488281\" xlink:href=\"#DejaVuSans-115\"/>\r\n     <use x=\"734.587891\" xlink:href=\"#DejaVuSans-32\"/>\r\n     <use x=\"766.375\" xlink:href=\"#DejaVuSans-118\"/>\r\n     <use x=\"825.554688\" xlink:href=\"#DejaVuSans-115\"/>\r\n     <use x=\"877.654297\" xlink:href=\"#DejaVuSans-32\"/>\r\n     <use x=\"909.441406\" xlink:href=\"#DejaVuSans-80\"/>\r\n     <use x=\"969.728516\" xlink:href=\"#DejaVuSans-114\"/>\r\n     <use x=\"1010.810547\" xlink:href=\"#DejaVuSans-111\"/>\r\n     <use x=\"1071.992188\" xlink:href=\"#DejaVuSans-98\"/>\r\n     <use x=\"1135.46875\" xlink:href=\"#DejaVuSans-97\"/>\r\n     <use x=\"1196.748047\" xlink:href=\"#DejaVuSans-98\"/>\r\n     <use x=\"1260.224609\" xlink:href=\"#DejaVuSans-105\"/>\r\n     <use x=\"1288.007812\" xlink:href=\"#DejaVuSans-108\"/>\r\n     <use x=\"1315.791016\" xlink:href=\"#DejaVuSans-105\"/>\r\n     <use x=\"1343.574219\" xlink:href=\"#DejaVuSans-116\"/>\r\n     <use x=\"1382.783203\" xlink:href=\"#DejaVuSans-121\"/>\r\n     <use x=\"1441.962891\" xlink:href=\"#DejaVuSans-32\"/>\r\n     <use x=\"1473.75\" xlink:href=\"#DejaVuSans-116\"/>\r\n     <use x=\"1512.958984\" xlink:href=\"#DejaVuSans-104\"/>\r\n     <use x=\"1576.337891\" xlink:href=\"#DejaVuSans-114\"/>\r\n     <use x=\"1617.419922\" xlink:href=\"#DejaVuSans-101\"/>\r\n     <use x=\"1678.943359\" xlink:href=\"#DejaVuSans-115\"/>\r\n     <use x=\"1731.042969\" xlink:href=\"#DejaVuSans-104\"/>\r\n     <use x=\"1794.421875\" xlink:href=\"#DejaVuSans-111\"/>\r\n     <use x=\"1855.603516\" xlink:href=\"#DejaVuSans-108\"/>\r\n     <use x=\"1883.386719\" xlink:href=\"#DejaVuSans-100\"/>\r\n     <use x=\"1946.863281\" xlink:href=\"#DejaVuSans-115\"/>\r\n    </g>\r\n   </g>\r\n   <g id=\"legend_1\">\r\n    <g id=\"patch_7\">\r\n     <path d=\"M 64 65.753125 \r\nL 213.114062 65.753125 \r\nQ 215.114062 65.753125 215.114062 63.753125 \r\nL 215.114062 35.396875 \r\nQ 215.114062 33.396875 213.114062 33.396875 \r\nL 64 33.396875 \r\nQ 62 33.396875 62 35.396875 \r\nL 62 63.753125 \r\nQ 62 65.753125 64 65.753125 \r\nz\r\n\" style=\"fill:#ffffff;opacity:0.8;stroke:#cccccc;stroke-linejoin:miter;\"/>\r\n    </g>\r\n    <g id=\"line2d_14\">\r\n     <path d=\"M 66 41.495312 \r\nL 86 41.495312 \r\n\" style=\"fill:none;stroke:#1f77b4;stroke-linecap:square;stroke-width:1.5;\"/>\r\n    </g>\r\n    <g id=\"line2d_15\"/>\r\n    <g id=\"text_15\">\r\n     <!-- model score -->\r\n     <defs>\r\n      <path d=\"M 52 44.1875 \r\nQ 55.375 50.25 60.0625 53.125 \r\nQ 64.75 56 71.09375 56 \r\nQ 79.640625 56 84.28125 50.015625 \r\nQ 88.921875 44.046875 88.921875 33.015625 \r\nL 88.921875 0 \r\nL 79.890625 0 \r\nL 79.890625 32.71875 \r\nQ 79.890625 40.578125 77.09375 44.375 \r\nQ 74.3125 48.1875 68.609375 48.1875 \r\nQ 61.625 48.1875 57.5625 43.546875 \r\nQ 53.515625 38.921875 53.515625 30.90625 \r\nL 53.515625 0 \r\nL 44.484375 0 \r\nL 44.484375 32.71875 \r\nQ 44.484375 40.625 41.703125 44.40625 \r\nQ 38.921875 48.1875 33.109375 48.1875 \r\nQ 26.21875 48.1875 22.15625 43.53125 \r\nQ 18.109375 38.875 18.109375 30.90625 \r\nL 18.109375 0 \r\nL 9.078125 0 \r\nL 9.078125 54.6875 \r\nL 18.109375 54.6875 \r\nL 18.109375 46.1875 \r\nQ 21.1875 51.21875 25.484375 53.609375 \r\nQ 29.78125 56 35.6875 56 \r\nQ 41.65625 56 45.828125 52.96875 \r\nQ 50 49.953125 52 44.1875 \r\nz\r\n\" id=\"DejaVuSans-109\"/>\r\n     </defs>\r\n     <g transform=\"translate(94 44.995312)scale(0.1 -0.1)\">\r\n      <use xlink:href=\"#DejaVuSans-109\"/>\r\n      <use x=\"97.412109\" xlink:href=\"#DejaVuSans-111\"/>\r\n      <use x=\"158.59375\" xlink:href=\"#DejaVuSans-100\"/>\r\n      <use x=\"222.070312\" xlink:href=\"#DejaVuSans-101\"/>\r\n      <use x=\"283.59375\" xlink:href=\"#DejaVuSans-108\"/>\r\n      <use x=\"311.376953\" xlink:href=\"#DejaVuSans-32\"/>\r\n      <use x=\"343.164062\" xlink:href=\"#DejaVuSans-115\"/>\r\n      <use x=\"395.263672\" xlink:href=\"#DejaVuSans-99\"/>\r\n      <use x=\"450.244141\" xlink:href=\"#DejaVuSans-111\"/>\r\n      <use x=\"511.425781\" xlink:href=\"#DejaVuSans-114\"/>\r\n      <use x=\"552.507812\" xlink:href=\"#DejaVuSans-101\"/>\r\n     </g>\r\n    </g>\r\n    <g id=\"line2d_16\">\r\n     <path d=\"M 66 56.173437 \r\nL 86 56.173437 \r\n\" style=\"fill:none;stroke:#000000;stroke-dasharray:0.75,1.5;stroke-dashoffset:0;stroke-width:1.5;\"/>\r\n    </g>\r\n    <g id=\"line2d_17\"/>\r\n    <g id=\"text_16\">\r\n     <!-- optimal threshold: 0.58 -->\r\n     <defs>\r\n      <path d=\"M 18.109375 8.203125 \r\nL 18.109375 -20.796875 \r\nL 9.078125 -20.796875 \r\nL 9.078125 54.6875 \r\nL 18.109375 54.6875 \r\nL 18.109375 46.390625 \r\nQ 20.953125 51.265625 25.265625 53.625 \r\nQ 29.59375 56 35.59375 56 \r\nQ 45.5625 56 51.78125 48.09375 \r\nQ 58.015625 40.1875 58.015625 27.296875 \r\nQ 58.015625 14.40625 51.78125 6.484375 \r\nQ 45.5625 -1.421875 35.59375 -1.421875 \r\nQ 29.59375 -1.421875 25.265625 0.953125 \r\nQ 20.953125 3.328125 18.109375 8.203125 \r\nz\r\nM 48.6875 27.296875 \r\nQ 48.6875 37.203125 44.609375 42.84375 \r\nQ 40.53125 48.484375 33.40625 48.484375 \r\nQ 26.265625 48.484375 22.1875 42.84375 \r\nQ 18.109375 37.203125 18.109375 27.296875 \r\nQ 18.109375 17.390625 22.1875 11.75 \r\nQ 26.265625 6.109375 33.40625 6.109375 \r\nQ 40.53125 6.109375 44.609375 11.75 \r\nQ 48.6875 17.390625 48.6875 27.296875 \r\nz\r\n\" id=\"DejaVuSans-112\"/>\r\n      <path d=\"M 11.71875 12.40625 \r\nL 22.015625 12.40625 \r\nL 22.015625 0 \r\nL 11.71875 0 \r\nz\r\nM 11.71875 51.703125 \r\nL 22.015625 51.703125 \r\nL 22.015625 39.3125 \r\nL 11.71875 39.3125 \r\nz\r\n\" id=\"DejaVuSans-58\"/>\r\n      <path d=\"M 10.796875 72.90625 \r\nL 49.515625 72.90625 \r\nL 49.515625 64.59375 \r\nL 19.828125 64.59375 \r\nL 19.828125 46.734375 \r\nQ 21.96875 47.46875 24.109375 47.828125 \r\nQ 26.265625 48.1875 28.421875 48.1875 \r\nQ 40.625 48.1875 47.75 41.5 \r\nQ 54.890625 34.8125 54.890625 23.390625 \r\nQ 54.890625 11.625 47.5625 5.09375 \r\nQ 40.234375 -1.421875 26.90625 -1.421875 \r\nQ 22.3125 -1.421875 17.546875 -0.640625 \r\nQ 12.796875 0.140625 7.71875 1.703125 \r\nL 7.71875 11.625 \r\nQ 12.109375 9.234375 16.796875 8.0625 \r\nQ 21.484375 6.890625 26.703125 6.890625 \r\nQ 35.15625 6.890625 40.078125 11.328125 \r\nQ 45.015625 15.765625 45.015625 23.390625 \r\nQ 45.015625 31 40.078125 35.4375 \r\nQ 35.15625 39.890625 26.703125 39.890625 \r\nQ 22.75 39.890625 18.8125 39.015625 \r\nQ 14.890625 38.140625 10.796875 36.28125 \r\nz\r\n\" id=\"DejaVuSans-53\"/>\r\n     </defs>\r\n     <g transform=\"translate(94 59.673437)scale(0.1 -0.1)\">\r\n      <use xlink:href=\"#DejaVuSans-111\"/>\r\n      <use x=\"61.181641\" xlink:href=\"#DejaVuSans-112\"/>\r\n      <use x=\"124.658203\" xlink:href=\"#DejaVuSans-116\"/>\r\n      <use x=\"163.867188\" xlink:href=\"#DejaVuSans-105\"/>\r\n      <use x=\"191.650391\" xlink:href=\"#DejaVuSans-109\"/>\r\n      <use x=\"289.0625\" xlink:href=\"#DejaVuSans-97\"/>\r\n      <use x=\"350.341797\" xlink:href=\"#DejaVuSans-108\"/>\r\n      <use x=\"378.125\" xlink:href=\"#DejaVuSans-32\"/>\r\n      <use x=\"409.912109\" xlink:href=\"#DejaVuSans-116\"/>\r\n      <use x=\"449.121094\" xlink:href=\"#DejaVuSans-104\"/>\r\n      <use x=\"512.5\" xlink:href=\"#DejaVuSans-114\"/>\r\n      <use x=\"553.582031\" xlink:href=\"#DejaVuSans-101\"/>\r\n      <use x=\"615.105469\" xlink:href=\"#DejaVuSans-115\"/>\r\n      <use x=\"667.205078\" xlink:href=\"#DejaVuSans-104\"/>\r\n      <use x=\"730.583984\" xlink:href=\"#DejaVuSans-111\"/>\r\n      <use x=\"791.765625\" xlink:href=\"#DejaVuSans-108\"/>\r\n      <use x=\"819.548828\" xlink:href=\"#DejaVuSans-100\"/>\r\n      <use x=\"883.025391\" xlink:href=\"#DejaVuSans-58\"/>\r\n      <use x=\"916.716797\" xlink:href=\"#DejaVuSans-32\"/>\r\n      <use x=\"948.503906\" xlink:href=\"#DejaVuSans-48\"/>\r\n      <use x=\"1012.126953\" xlink:href=\"#DejaVuSans-46\"/>\r\n      <use x=\"1043.914062\" xlink:href=\"#DejaVuSans-53\"/>\r\n      <use x=\"1107.537109\" xlink:href=\"#DejaVuSans-56\"/>\r\n     </g>\r\n    </g>\r\n   </g>\r\n  </g>\r\n </g>\r\n <defs>\r\n  <clipPath id=\"pb5f497a660\">\r\n   <rect height=\"271.8\" width=\"334.8\" x=\"57\" y=\"28.396875\"/>\r\n  </clipPath>\r\n </defs>\r\n</svg>\r\n",
      "image/png": "[encoded data removed]"
     },
     "metadata": {
      "needs_background": "light"
     }
    }
   ],
   "source": [
    "fig, ax = plt.subplots(figsize=(6, 5))\n",
    "plt.plot(np.linspace(0, 1, num=101), scores, label=\"model score\")\n",
    "\n",
    "max_score = max(scores)\n",
    "opt_threshold = np.linspace(0, 1, num=101)[scores.index(max_score)]\n",
    "\n",
    "plt.axvline(x=opt_threshold, color='k', dashes=(0.5, 1), label=\"optimal threshold: {}\".format(opt_threshold))\n",
    "\n",
    "plt.title(\"Model's scores vs Probability thresholds\", fontsize=20)\n",
    "plt.xlabel(\"Probability thresholds\", fontsize=15)\n",
    "plt.ylabel(\"Model's score\", fontsize=15)\n",
    "plt.legend()\n",
    "\n",
    "print(\"Max score:\", max_score)\n",
    "print(\"Optimal threshold:\", opt_threshold)\n",
    "\n",
    "fig.savefig(\"plots/scores_vs_thresholds.png\", dpi=300)"
   ]
  },
  {
   "cell_type": "markdown",
   "metadata": {
    "Collapsed": "false",
    "toc-hr-collapsed": true
   },
   "source": [
    "# **SAUVEGARDE** du modèle\n",
    "Nous ré-entraînons le modèle avec les les hyperparamètres sélectionnés, sur l'ensemble du jeu de données pour lequel nous disposons des étiquettes cibles : le jeu de données d'entraînement et le jeu de données de test.\n",
    "\n",
    "Nous sauvegardons le modèle dans un fichier pickle pour usage ultérieur, en indiquant dans le nom du fichier la version de scikit-learn."
   ]
  },
  {
   "cell_type": "markdown",
   "metadata": {
    "Collapsed": "false"
   },
   "source": [
    "## Ré-entraînement final"
   ]
  },
  {
   "cell_type": "code",
   "execution_count": 68,
   "metadata": {
    "Collapsed": "false"
   },
   "outputs": [
    {
     "output_type": "execute_result",
     "data": {
      "text/plain": [
       "Pipeline(memory=None,\n",
       "         steps=[('preprocess',\n",
       "                 Pipeline(memory=None,\n",
       "                          steps=[('scale',\n",
       "                                  StandardScaler(copy=True, with_mean=True,\n",
       "                                                 with_std=True))],\n",
       "                          verbose=False)),\n",
       "                ('model',\n",
       "                 LogisticRegression(C=1.4558156014201493,\n",
       "                                    class_weight='balanced', dual=False,\n",
       "                                    fit_intercept=False, intercept_scaling=1,\n",
       "                                    l1_ratio=None, max_iter=893,\n",
       "                                    multi_class='auto', n_jobs=None,\n",
       "                                    penalty='l2', random_state=None,\n",
       "                                    solver='liblinear',\n",
       "                                    tol=1.9622032740150946e-05, verbose=0,\n",
       "                                    warm_start=True))],\n",
       "         verbose=False)"
      ]
     },
     "metadata": {},
     "execution_count": 68
    }
   ],
   "source": [
    "# Load libraries\n",
    "import sklearn\n",
    "import joblib\n",
    "from sklearn.impute import SimpleImputer\n",
    "\n",
    "# Split features and targets\n",
    "X = train.drop(columns='TARGET')\n",
    "y = train['TARGET']\n",
    "\n",
    "# Imputations\n",
    "imp_mean = SimpleImputer(strategy='mean')\n",
    "imp_mean.fit(X)\n",
    "X = pd.DataFrame(imp_mean.transform(X), columns=feature_names)\n",
    "\n",
    "# Re-training the final model on the whole set\n",
    "pipe.fit(X, y)"
   ]
  },
  {
   "cell_type": "markdown",
   "metadata": {
    "Collapsed": "false"
   },
   "source": [
    "## Sauvegarde du modèle"
   ]
  },
  {
   "cell_type": "code",
   "execution_count": 69,
   "metadata": {
    "Collapsed": "false"
   },
   "outputs": [
    {
     "output_type": "execute_result",
     "data": {
      "text/plain": [
       "['models/model_0.22.1.pkl']"
      ]
     },
     "metadata": {},
     "execution_count": 69
    }
   ],
   "source": [
    "# Get scikit-learn version\n",
    "scikit_version = sklearn.__version__\n",
    "\n",
    "# Save the models for GHG and SiteEnergyUse as pickle files\n",
    "joblib.dump(pipe, \"models/model_{version}.pkl\".format(version=scikit_version))"
   ]
  }
 ],
 "metadata": {
  "kernelspec": {
   "display_name": "Python 3",
   "language": "python",
   "name": "python3"
  },
  "language_info": {
   "codemirror_mode": {
    "name": "ipython",
    "version": 3
   },
   "file_extension": ".py",
   "mimetype": "text/x-python",
   "name": "python",
   "nbconvert_exporter": "python",
   "pygments_lexer": "ipython3",
   "version": "3.7.6-final"
  },
  "toc-autonumbering": true
 },
 "nbformat": 4,
 "nbformat_minor": 4
}